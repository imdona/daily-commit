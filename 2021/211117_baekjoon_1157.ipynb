{
  "cells": [
    {
      "cell_type": "markdown",
      "metadata": {
        "colab_type": "text",
        "id": "view-in-github"
      },
      "source": [
        "<a href=\"https://colab.research.google.com/github/imdona/daily-commit/blob/main/211117_baekjoon_1157_py.ipynb\" target=\"_parent\"><img src=\"https://colab.research.google.com/assets/colab-badge.svg\" alt=\"Open In Colab\"/></a>"
      ]
    },
    {
      "cell_type": "code",
      "execution_count": 6,
      "metadata": {
        "colab": {
          "base_uri": "https://localhost:8080/",
          "height": 154
        },
        "id": "ys9WXl5LeGAp",
        "outputId": "7468d631-fb74-4e9b-f88f-b0022d254753"
      },
      "outputs": [
        {
          "name": "stdout",
          "output_type": "stream",
          "text": [
            "baaa\n",
            "BAAA\n",
            "['B', 'A']\n",
            "[1, 3]\n",
            "3\n",
            "1\n",
            "A\n"
          ]
        },
        {
          "data": {
            "application/vnd.google.colaboratory.intrinsic+json": {
              "type": "string"
            },
            "text/plain": [
              "'\\ncount가 많이 된 수가 2개보다 크면 (여러개 존재하면) ? 출력,\\n아니면 count 최대인 수를 인덱스번호로 가지는 값 출력 \\n'"
            ]
          },
          "execution_count": 6,
          "metadata": {},
          "output_type": "execute_result"
        }
      ],
      "source": [
        "'''\n",
        "알파벳 대소문자로 된 단어가 주어지면, 이 단어에서 가장 많이 사용된 알파벳이 무엇인지 알아내는 프로그램을 작성하시오. \n",
        "단, 대문자와 소문자를 구분하지 않는다.\n",
        "'''\n",
        "word = input().upper() # 입력값 대문자로 통일(소문자로 해도 상관없고, 통일만 하면 됩니다)\n",
        "# print(word)\n",
        "unique_word = list(set(word)) #set으로 중복값을 없앤 후 list로 변환\n",
        "# print(unique_word)\n",
        "\n",
        "count_list = [] # 각 알파벳들의 횟수 세기\n",
        "for i in unique_word:\n",
        "    count = word.count(i)\n",
        "    count_list.append(count)\n",
        "'''\n",
        "unique_word 리스트(중복 없는 리스트)를 반복문으로 돌리고,\n",
        "word에 몇 번 들어있는지를 count로 새고,\n",
        "그 count를 count_list에 받아 추가\n",
        "'''\n",
        "# print(count_list)\n",
        "# print(max(count_list))\n",
        "# print(count_list.index(max(count_list)))\n",
        "# print(unique_word[(count_list.index(max(count_list)))])\n",
        "\n",
        "if count_list.count(max(count_list)) >= 2: \n",
        "    print('?')\n",
        "else:\n",
        "    print(unique_word[(count_list.index(max(count_list)))])\n",
        "'''\n",
        "count가 많이 된 수가 2개보다 크면 (여러개 존재하면) ? 출력,\n",
        "아니면 count 최대인 수를 인덱스번호로 가지는 값 출력 \n",
        "'''"
      ]
    }
  ],
  "metadata": {
    "colab": {
      "authorship_tag": "ABX9TyMozcu+WIni/tmko6dIN0eA",
      "collapsed_sections": [],
      "include_colab_link": true,
      "name": "211117_baekjoon_1157.py.ipynb",
      "provenance": []
    },
    "kernelspec": {
      "display_name": "Python 3",
      "name": "python3"
    },
    "language_info": {
      "name": "python"
    }
  },
  "nbformat": 4,
  "nbformat_minor": 0
}
