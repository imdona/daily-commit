{
 "cells": [
  {
   "cell_type": "markdown",
   "metadata": {},
   "source": [
    "# 백준 5622 [다이얼]\n",
    "* 구현\n",
    "* 문자열"
   ]
  },
  {
   "cell_type": "markdown",
   "metadata": {},
   "source": [
    "### ✔️ 문제\n",
    "상근이의 할머니는 아래 그림과 같이 오래된 다이얼 전화기를 사용한다.\n",
    "\n",
    "<img width=\"556\" alt=\"Screen Shot 2022-01-22 at 11 18 47 PM\" src=\"https://user-images.githubusercontent.com/89832134/150642080-c5cc396f-d014-43da-aa23-381a2f1ffc58.png\">\n",
    "\n",
    "전화를 걸고 싶은 번호가 있다면, 숫자를 하나를 누른 다음에 금속 핀이 있는 곳 까지 시계방향으로 돌려야 한다. 숫자를 하나 누르면 다이얼이 처음 위치로 돌아가고, 다음 숫자를 누르려면 다이얼을 처음 위치에서 다시 돌려야 한다.\n",
    "\n",
    "숫자 1을 걸려면 총 2초가 필요하다. 1보다 큰 수를 거는데 걸리는 시간은 이보다 더 걸리며, 한 칸 옆에 있는 숫자를 걸기 위해선 1초씩 더 걸린다.\n",
    "\n",
    "상근이의 할머니는 전화 번호를 각 숫자에 해당하는 문자로 외운다. 즉, 어떤 단어를 걸 때, 각 알파벳에 해당하는 숫자를 걸면 된다. 예를 들어, UNUCIC는 868242와 같다.\n",
    "\n",
    "할머니가 외운 단어가 주어졌을 때, 이 전화를 걸기 위해서 필요한 최소 시간을 구하는 프로그램을 작성하시오.\n",
    "\n",
    "### ✔️ 입력\n",
    "WA\n",
    "\n",
    "### ✔️ 출력\n",
    "13"
   ]
  },
  {
   "cell_type": "code",
   "execution_count": 11,
   "metadata": {},
   "outputs": [
    {
     "name": "stdout",
     "output_type": "stream",
     "text": [
      "13\n"
     ]
    }
   ],
   "source": [
    "## case 1\n",
    "import sys\n",
    "check = sys.stdin.readline()\n",
    "# check = list(input())\n",
    "\n",
    "# 2, 3, 4, 5, 6, 7, 8, 9, 0\n",
    "telephone = ['ABC', 'DEF', 'GHI', 'JKL', 'MNO', 'PQRS', 'TUV', 'WXYZ']\n",
    "\n",
    "min_time = 0\n",
    "\n",
    "# 전화기 리스트 반복문\n",
    "for st in telephone:\n",
    "    # 전화기 리스트의 원소인 스트링타입을 하나씩 쪼갬\n",
    "    for i in st:\n",
    "        for j in check:\n",
    "            # check 해야하는 리스트를 쪼개고 같은 수 확인\n",
    "            if i == j:\n",
    "                min_time += telephone.index(st) + 3\n",
    "\n",
    "print(min_time)\n"
   ]
  },
  {
   "cell_type": "code",
   "execution_count": 12,
   "metadata": {},
   "outputs": [
    {
     "name": "stdout",
     "output_type": "stream",
     "text": [
      "0\n"
     ]
    }
   ],
   "source": [
    "## case 2\n",
    "telephone = ['ABC','DEF','GHI','JKL','MNO','PQRS','TUV','WXYZ']\n",
    "\n",
    "import sys\n",
    "check = sys.stdin.readline()\n",
    "\n",
    "min_time = 0\n",
    "\n",
    "for i in range(len(check)):\n",
    "    for j in telephone:\n",
    "        if check[i] in j:\n",
    "            min_time += telephone.index(j)+3\n",
    "\n",
    "print(min_time)"
   ]
  }
 ],
 "metadata": {
  "interpreter": {
   "hash": "d473ce608692a3bf02c1de21d06d5afe9b45f4f9760cc575a6ec607da11a00f4"
  },
  "kernelspec": {
   "display_name": "Python 3.8.8 64-bit ('base': conda)",
   "language": "python",
   "name": "python3"
  },
  "language_info": {
   "codemirror_mode": {
    "name": "ipython",
    "version": 3
   },
   "file_extension": ".py",
   "mimetype": "text/x-python",
   "name": "python",
   "nbconvert_exporter": "python",
   "pygments_lexer": "ipython3",
   "version": "3.8.8"
  },
  "orig_nbformat": 4
 },
 "nbformat": 4,
 "nbformat_minor": 2
}
