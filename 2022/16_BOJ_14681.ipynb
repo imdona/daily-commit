{
 "cells": [
  {
   "cell_type": "markdown",
   "metadata": {},
   "source": [
    "# 백준 14681 [사분면 고르기]\n",
    "* 수학\n",
    "* 구현\n",
    "* 기하학"
   ]
  },
  {
   "cell_type": "markdown",
   "metadata": {},
   "source": [
    "### ✔️ 문제\n",
    "흔한 수학 문제 중 하나는 주어진 점이 어느 사분면에 속하는지 알아내는 것이다. 사분면은 아래 그림처럼 1부터 4까지 번호를 갖는다. \"Quadrant n\"은 \"제n사분면\"이라는 뜻이다.\n",
    "\n",
    "<img width=\"302\" alt=\"Screen Shot 2022-01-26 at 8 31 04 AM\" src=\"https://user-images.githubusercontent.com/89832134/151077246-d1189ce7-8ff2-4272-9cb2-9ea17db5733e.png\">\n",
    "\n",
    "\n",
    "예를 들어, 좌표가 (12, 5)인 점 A는 x좌표와 y좌표가 모두 양수이므로 제1사분면에 속한다. 점 B는 x좌표가 음수이고 y좌표가 양수이므로 제2사분면에 속한다.\n",
    "\n",
    "점의 좌표를 입력받아 그 점이 어느 사분면에 속하는지 알아내는 프로그램을 작성하시오. 단, x좌표와 y좌표는 모두 양수나 음수라고 가정한다"
   ]
  },
  {
   "cell_type": "markdown",
   "metadata": {},
   "source": [
    "### ✔️ 입력\n",
    "첫 줄에는 정수 x가 주어진다. (−1000 ≤ x ≤ 1000; x ≠ 0) 다음 줄에는 정수 y가 주어진다. (−1000 ≤ y ≤ 1000; y ≠ 0)"
   ]
  },
  {
   "cell_type": "markdown",
   "metadata": {},
   "source": [
    "### ✔️ 출력\n",
    "점 (x, y)의 사분면 번호(1, 2, 3, 4 중 하나)를 출력한다."
   ]
  },
  {
   "cell_type": "code",
   "execution_count": 1,
   "metadata": {},
   "outputs": [
    {
     "name": "stdout",
     "output_type": "stream",
     "text": [
      "1\n"
     ]
    }
   ],
   "source": [
    "# case 1\n",
    "# 사분면의 성질에 의해, x = 0 이거나 y = 0인 점들은 제외\n",
    "\n",
    "x = int(input())\n",
    "y = int(input())\n",
    "\n",
    "if x > 0 and y > 0: print(1)\n",
    "elif x < 0 and y > 0: print(2)\n",
    "elif x < 0 and y < 0: print(3)\n",
    "else: print(4)"
   ]
  },
  {
   "cell_type": "code",
   "execution_count": 2,
   "metadata": {},
   "outputs": [
    {
     "name": "stdout",
     "output_type": "stream",
     "text": [
      "1\n"
     ]
    }
   ],
   "source": [
    "# case 2 : inline if statement\n",
    "x = int(input())\n",
    "y = int(input())\n",
    "if x > 0:\n",
    "    print(1 if y > 0 else 4)\n",
    "elif x < 0:\n",
    "    print(2 if y > 0 else 3)"
   ]
  },
  {
   "cell_type": "markdown",
   "metadata": {},
   "source": [
    "## Note"
   ]
  },
  {
   "cell_type": "markdown",
   "metadata": {},
   "source": [
    "[위키백과 사분면](https://ko.wikipedia.org/wiki/%EC%82%AC%EB%B6%84%EB%A9%B4)\n",
    "\n",
    "사분면(四分面, 영어: quadrant)은 x축, y축으로 나뉜 직교좌표평면의 네 부분을 말한다.\n",
    "\n",
    "제1 사분면은 x,y의 부호가 모두 양수인 영역, 제2 사분면은 x의 부호가 음수이고, y의 부호가 양수인 영역, 제3 사분면은 x,y의 부호가 모두 음수인 영역, 제4 사분면은 x의 부호가 양수이고 y의 부호가 음수인 영역이다.\n",
    "\n",
    "일반적으로 좌표축은 이 사분면에서 제외하고 생각한다. (즉, 좌표축 위의 점은 어떠한 사분면 위에 있다고 말할 수 없다)\n",
    "\n",
    "[성질]\n",
    "* 임의의 직선은 두 개 이상의 사분면을 지난다. (단, x=0, y=0의 직선은 제외)\n"
   ]
  }
 ],
 "metadata": {
  "interpreter": {
   "hash": "d473ce608692a3bf02c1de21d06d5afe9b45f4f9760cc575a6ec607da11a00f4"
  },
  "kernelspec": {
   "display_name": "Python 3.8.8 64-bit ('base': conda)",
   "language": "python",
   "name": "python3"
  },
  "language_info": {
   "codemirror_mode": {
    "name": "ipython",
    "version": 3
   },
   "file_extension": ".py",
   "mimetype": "text/x-python",
   "name": "python",
   "nbconvert_exporter": "python",
   "pygments_lexer": "ipython3",
   "version": "3.8.8"
  },
  "orig_nbformat": 4
 },
 "nbformat": 4,
 "nbformat_minor": 2
}
