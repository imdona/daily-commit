{
 "cells": [
  {
   "cell_type": "markdown",
   "metadata": {},
   "source": [
    "### 백준 1654 [랜선 자르기]\n",
    "* 이분탐색\n",
    "* 매개변수 탐색"
   ]
  },
  {
   "cell_type": "markdown",
   "metadata": {},
   "source": [
    "##### ✔️ 문제\n",
    "집에서 시간을 보내던 오영식은 박성원의 부름을 받고 급히 달려왔다. 박성원이 캠프 때 쓸 N개의 랜선을 만들어야 하는데 너무 바빠서 영식이에게 도움을 청했다.\n",
    "\n",
    "이미 오영식은 자체적으로 K개의 랜선을 가지고 있다. 그러나 K개의 랜선은 길이가 제각각이다. 박성원은 랜선을 모두 N개의 같은 길이의 랜선으로 만들고 싶었기 때문에 K개의 랜선을 잘라서 만들어야 한다. 예를 들어 300cm 짜리 랜선에서 140cm 짜리 랜선을 두 개 잘라내면 20cm는 버려야 한다. (이미 자른 랜선은 붙일 수 없다.)\n",
    "\n",
    "편의를 위해 랜선을 자르거나 만들 때 손실되는 길이는 없다고 가정하며, 기존의 K개의 랜선으로 N개의 랜선을 만들 수 없는 경우는 없다고 가정하자. 그리고 자를 때는 항상 센티미터 단위로 정수길이만큼 자른다고 가정하자. N개보다 많이 만드는 것도 N개를 만드는 것에 포함된다. 이때 만들 수 있는 최대 랜선의 길이를 구하는 프로그램을 작성하시오.\n",
    "\n",
    "##### ✔️ 입력\n",
    "첫째 줄에는 오영식이 이미 가지고 있는 랜선의 개수 K, 그리고 필요한 랜선의 개수 N이 입력된다. K는 1이상 10,000이하의 정수이고, N은 1이상 1,000,000이하의 정수이다. 그리고 항상 K ≦ N 이다. 그 후 K줄에 걸쳐 이미 가지고 있는 각 랜선의 길이가 센티미터 단위의 정수로 입력된다. 랜선의 길이는 231-1보다 작거나 같은 자연수이다.\n",
    "\n",
    "##### ✔️ 출력\n",
    "첫째 줄에 N개를 만들 수 있는 랜선의 최대 길이를 센티미터 단위의 정수로 출력한다."
   ]
  },
  {
   "cell_type": "code",
   "execution_count": null,
   "metadata": {},
   "outputs": [],
   "source": [
    "# 예제 입력\n",
    "4 11\n",
    "802\n",
    "743\n",
    "457\n",
    "539"
   ]
  },
  {
   "cell_type": "code",
   "execution_count": null,
   "metadata": {},
   "outputs": [],
   "source": [
    "# 예제 출력\n",
    "200"
   ]
  },
  {
   "cell_type": "markdown",
   "metadata": {},
   "source": [
    "##### 🔍 이분 탐색 알고리즘"
   ]
  },
  {
   "cell_type": "markdown",
   "metadata": {},
   "source": [
    "![이진탐색](https://user-images.githubusercontent.com/89832134/147863571-400a4cdf-9cee-40f4-bb46-e1894e3feff7.gif)"
   ]
  },
  {
   "cell_type": "markdown",
   "metadata": {},
   "source": [
    "이분 탐색(Binary Search)\n",
    "* 정렬되어 있는(이분 탐색의 주요 조건) 배열에서 데이터를 찾으려 시도할 때, 순차탐색처럼 처음부터 끝까지 하나씩 모든 데이터를 체크하여 값을 찾는 것이 아니라\n",
    "탐색 범위를 절반씩 줄여가며 찾아가는 Search 방법이다.\n",
    "\n",
    "* 이진 탐색(이분 탐색) 알고리즘은 정렬되어 있는 리스트에서 탐색 범위를 절반씩 좁혀가며 데이터를 탐색하는 방법이다.\n",
    "\n",
    "* 이진 탐색은 배열 내부의 데이터가 정렬되어 있어야만 사용할 수 있는 알고리즘이다.\n",
    "\n",
    "* 변수 3개(start, end, mid)를 사용하여 탐색한다. 찾으려는 데이터와 중간점 위치에 있는 데이터를 반복적으로 비교해서 원하는 데이터를 찾는 것이 이진 탐색의 과정이다\n",
    "* 출처: [블로그](https://satisfactoryplace.tistory.com/39), [블로그2](https://velog.io/@kimdukbae/%EC%9D%B4%EB%B6%84-%ED%83%90%EC%83%89-%EC%9D%B4%EC%A7%84-%ED%83%90%EC%83%89-Binary-Search)\n",
    "\n",
    "\n",
    "이진 검색 알고리즘(binary search algorithm)은 오름차순으로 정렬된 리스트에서 특정한 값의 위치를 찾는 알고리즘이다. 처음 중간의 값을 임의의 값으로 선택하여, 그 값과 찾고자 하는 값의 크고 작음을 비교하는 방식을 채택하고 있다. 처음 선택한 중앙값이 만약 찾는 값보다 크면 그 값은 새로운 최댓값이 되며, 작으면 그 값은 새로운 최솟값이 된다. 검색 원리상 정렬된 리스트에만 사용할 수 있다는 단점이 있지만, 검색이 반복될 때마다 목표값을 찾을 확률은 두 배가 되므로 속도가 빠르다는 장점이 있다.\n",
    "* 출처 : [위키백과 - 이진 검색 알고리즘](https://ko.wikipedia.org/wiki/%EC%9D%B4%EC%A7%84_%EA%B2%80%EC%83%89_%EC%95%8C%EA%B3%A0%EB%A6%AC%EC%A6%98)"
   ]
  },
  {
   "cell_type": "code",
   "execution_count": null,
   "metadata": {},
   "outputs": [],
   "source": [
    "def binarySearch(array, value, low, high):\n",
    "    if low > high:\n",
    "        return False\n",
    "    mid = (low+high) / 2\n",
    "    if array[mid] > value:\n",
    "        return binarySearch(array, value, low, mid-1)\n",
    "    elif array[mid] < value:\n",
    "        return binarySearch(array, value, mid+1, high)\n",
    "    else:\n",
    "        return mid"
   ]
  },
  {
   "cell_type": "markdown",
   "metadata": {},
   "source": [
    "##### 📎 최종 제출 코드"
   ]
  },
  {
   "cell_type": "code",
   "execution_count": null,
   "metadata": {},
   "outputs": [],
   "source": [
    "import sys\n",
    "K, N = map(int, sys.stdin.readline().split())\n",
    "lan_list = [int(sys.stdin.readline()) for _ in range(K)]\n",
    "\n",
    "low, high = 1, sum(lan_list)//N\n",
    "\n",
    "while low <= high:\n",
    "    mid = (low + high) // 2\n",
    "\n",
    "    count = 0\n",
    "    for i in lan_list:\n",
    "        count += i // mid\n",
    "\n",
    "    if count >= N:\n",
    "        low = mid + 1\n",
    "    else:\n",
    "        high = mid - 1\n",
    "\n",
    "print(high)"
   ]
  },
  {
   "cell_type": "markdown",
   "metadata": {},
   "source": [
    "##### 📎 풀이"
   ]
  },
  {
   "cell_type": "code",
   "execution_count": null,
   "metadata": {},
   "outputs": [],
   "source": [
    "import sys\n",
    "K, N = map(int, sys.stdin.readline().split())\n",
    "lan_list = [int(sys.stdin.readline()) for _ in range(K)]\n",
    "# print(\"랜선 리스트 : \", lan_list)\n",
    "\n",
    "# 전체 길이에서 랜선을 자르고 남은 길이는 재사용할 수 없기 때문에 sum // N\n",
    "low, high = 1, sum(lan_list)//N\n",
    "# low, high = 1, max(lan_list)\n",
    "\n",
    "while low <= high:\n",
    "    # mid = 어떤 크기로 자를 것인지\n",
    "    mid = (low + high) // 2\n",
    "\n",
    "    # mid의 크기로 랜선을 자른 개수\n",
    "    count = 0\n",
    "    for i in lan_list:\n",
    "        count += i // mid\n",
    "\n",
    "    # 랜선 개수 >= N이면, mid보다 더 큰 단위로 잘라서 개수를 줄여도 된다\n",
    "    if count >= N:\n",
    "        low = mid + 1\n",
    "    # 랜선개수 < N이면, mid보다 더 작은 단위로 잘라서 개수를 늘려야 한다.\n",
    "    else:\n",
    "        high = mid - 1\n",
    "\n",
    "# 최대 길이 출력\n",
    "print(high)"
   ]
  }
 ],
 "metadata": {
  "interpreter": {
   "hash": "d473ce608692a3bf02c1de21d06d5afe9b45f4f9760cc575a6ec607da11a00f4"
  },
  "kernelspec": {
   "display_name": "Python 3.8.8 64-bit ('base': conda)",
   "language": "python",
   "name": "python3"
  },
  "language_info": {
   "codemirror_mode": {
    "name": "ipython",
    "version": 3
   },
   "file_extension": ".py",
   "mimetype": "text/x-python",
   "name": "python",
   "nbconvert_exporter": "python",
   "pygments_lexer": "ipython3",
   "version": "3.8.8"
  },
  "orig_nbformat": 4
 },
 "nbformat": 4,
 "nbformat_minor": 2
}
