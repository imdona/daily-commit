{
 "cells": [
  {
   "cell_type": "markdown",
   "metadata": {},
   "source": [
    "### 백준 1920 [수 찾기]\n",
    "* 이분 탐색"
   ]
  },
  {
   "cell_type": "markdown",
   "metadata": {},
   "source": [
    "##### ✔️ 문제\n",
    "N개의 정수 A[1], A[2], …, A[N]이 주어져 있을 때, 이 안에 X라는 정수가 존재하는지 알아내는 프로그램을 작성하시오.\n",
    "##### ✔️ 입력\n",
    "첫째 줄에 자연수 N(1 ≤ N ≤ 100,000)이 주어진다. 다음 줄에는 N개의 정수 A[1], A[2], …, A[N]이 주어진다. 다음 줄에는 M(1 ≤ M ≤ 100,000)이 주어진다. 다음 줄에는 M개의 수들이 주어지는데, 이 수들이 A안에 존재하는지 알아내면 된다. 모든 정수의 범위는 -231 보다 크거나 같고 231보다 작다.\n",
    "##### ✔️ 출력\n",
    "M개의 줄에 답을 출력한다. 존재하면 1을, 존재하지 않으면 0을 출력한다."
   ]
  },
  {
   "cell_type": "code",
   "execution_count": null,
   "metadata": {},
   "outputs": [],
   "source": [
    "# 예제 입력\n",
    "5\n",
    "4 1 5 2 3\n",
    "5\n",
    "1 3 7 9 5"
   ]
  },
  {
   "cell_type": "code",
   "execution_count": null,
   "metadata": {},
   "outputs": [],
   "source": [
    "# 예제 출력\n",
    "1\n",
    "1\n",
    "0\n",
    "0\n",
    "1\""
   ]
  },
  {
   "cell_type": "markdown",
   "metadata": {},
   "source": [
    "##### 📎 최종 제출 코드"
   ]
  },
  {
   "cell_type": "code",
   "execution_count": null,
   "metadata": {},
   "outputs": [],
   "source": [
    "import sys\n",
    "N = int(sys.stdin.readline())\n",
    "targets = sorted(list(map(int, sys.stdin.readline().split())))\n",
    "M = int(sys.stdin.readline())\n",
    "problems = list(map(int, sys.stdin.readline().split()))\n",
    "\n",
    "def binary_search(element, some_list):\n",
    "    start_index = 0\n",
    "    end_index = len(some_list) - 1\n",
    "\n",
    "    while start_index <= end_index:\n",
    "        midpoint = (start_index + end_index) // 2\n",
    "        if some_list[midpoint] == element:\n",
    "            return 1\n",
    "        elif some_list[midpoint] > element:\n",
    "            end_index = midpoint - 1\n",
    "        else:\n",
    "            start_index = midpoint + 1\n",
    "    return 0\n",
    "\n",
    "for i in problems:\n",
    "    print(binary_search(i, targets))"
   ]
  },
  {
   "cell_type": "markdown",
   "metadata": {},
   "source": [
    "##### 📎 풀이"
   ]
  },
  {
   "cell_type": "code",
   "execution_count": null,
   "metadata": {},
   "outputs": [],
   "source": [
    "# 입력받기 꼭 sys로 안받고 input으로 받아도 되지만, 시간을 조금이라도 줄여보고자 습관을 들이고 있다\n",
    "import sys\n",
    "N = int(sys.stdin.readline())\n",
    "targets = sorted(list(map(int, sys.stdin.readline().split())))\n",
    "M = int(sys.stdin.readline())\n",
    "problems = list(map(int, sys.stdin.readline().split()))\n",
    "# 인풋데이터가 잘 들어오는지 확인\n",
    "print(targets)\n",
    "print(problems)\n",
    "\n",
    "'''\n",
    "이진탐색 사용자함수 만들기 : 어떤 list에 원소가 들어있는지를 확인하고 있으면 1, 없으면 0을 리턴함\n",
    "1. 이진 탐색은 탐색 범위를 반씩 줄여 나가는 알고리즘 -> 탐색범위의 시작과 끝을 나타내는 변수 만들기(인덱스 번호)\n",
    "2. start_index가 end_index보다 커질때까지 while문 반복\n",
    "2-1. 현재 탐색범위에서의 중간값이 element와 같다(리스트안에 있음을 확인) -> return 1 후 종료\n",
    "그렇지않으면, 탐색범위를 줄이는데, element보다 크냐 작으냐에 따라 달라진다.\n",
    "2-2. element가 중간값보다 작으면, 오른쪽 반은 더 이상 볼 필요가 없다 -> end_index를 중간값-1로 줄여준다\n",
    "2-3. element가 중간값보다 크면, 왼쪽 반은 더 이상 볼 필요가 없다. -> start_index를 중간값+1로 늘려준다\n",
    "3. while문이 끝났다 = 리스트에 원소가 없다 -> return 0\n",
    "'''\n",
    "def binary_search(element, some_list):\n",
    "    start_index = 0\n",
    "    end_index = len(some_list) - 1\n",
    "\n",
    "    while start_index <= end_index:\n",
    "        midpoint = (start_index + end_index) // 2\n",
    "        if some_list[midpoint] == element:\n",
    "            return 1\n",
    "        elif some_list[midpoint] > element:\n",
    "            end_index = midpoint - 1\n",
    "        else:\n",
    "            start_index = midpoint + 1\n",
    "    return 0\n",
    "\n",
    "# 확인해야할 리스트인 problems의 원소들을 하나씩 사용자함수에 넣어 비교하고 print한다\n",
    "for i in problems:\n",
    "    print(binary_search(i, targets))"
   ]
  },
  {
   "cell_type": "markdown",
   "metadata": {},
   "source": [
    "##### 💡 다른 사람의 풀이보고 비교 & 연구하기"
   ]
  },
  {
   "cell_type": "code",
   "execution_count": null,
   "metadata": {},
   "outputs": [],
   "source": [
    "from sys import stdin,stdout\n",
    "n = stdin.readline()\n",
    "N = set(stdin.readline().split())\n",
    "m = stdin.readline()\n",
    "M = stdin.readline().split()\n",
    "# 굳이 숫자로 받지 않아도 되고, 타겟 리스트는 중복은 sort를 사용하지 않고 set로 바로 받는 것이 편하다는 아이디어 다음에 사용해 보자!\n",
    "\n",
    "# 아래의 코드는 정말 간단하지만, 리스트 전체를 확인하기 때문에, 이진 탐색보다는 선형 탐색에 가깝다고 할 수 있다.\n",
    "# stdout.write라는 함수를 처음 보았는데, print()와 표현식 문장의 출력과 input()의 프롬프트에 사용되는 함수라고 한다. 새로운 발견!\n",
    "for t in M:\n",
    "    if t in N:\n",
    "        stdout.write('1\\n')\n",
    "    else :\n",
    "        stdout.write('0\\n')"
   ]
  },
  {
   "cell_type": "markdown",
   "metadata": {},
   "source": [
    "❓ [stdout documentation](https://docs.python.org/ko/3/library/sys.html)"
   ]
  },
  {
   "cell_type": "markdown",
   "metadata": {},
   "source": [
    "##### 🔍 이진 탐색"
   ]
  },
  {
   "cell_type": "markdown",
   "metadata": {},
   "source": [
    "* 탐색 : 저장된 정보들 중에서 원하는 값을 찾는 것\n",
    "* **탐색의 대표적인 종류**\n",
    "    * 선형 탐색 알고리즘(linear search algorithm)\n",
    "    * 이진 탐색 알고리즘(binary search algorithm)\n",
    "    * 각각 장단점이 있지만, 리스트의 길이가 길어질수록 이진탐색 알고리즘의 속도가 훨씬 빠르다."
   ]
  },
  {
   "cell_type": "markdown",
   "metadata": {},
   "source": [
    "❓ [선형탐색 알고리즘](https://ko.wikipedia.org/wiki/%EC%88%9C%EC%B0%A8_%EA%B2%80%EC%83%89_%EC%95%8C%EA%B3%A0%EB%A6%AC%EC%A6%98)이란\n",
    "* 순차 검색 알고리즘(sequential search algorithm), 또는 선형 검색 알고리즘(linear search algorithm)이라고 함\n",
    "* 리스트에서 특정한 값을 찾는 알고리즘의 하나로, 리스트에서 찾고자 하는 값을 맨 앞에서부터 끝까지 차례대로 찾아 나간다.\n",
    "* 검색할 리스트의 길이가 길면 비효율적이지만, 검색 방법 중 가장 단순하여 구현이 쉽고 정렬되지 않은 리스트에서도 사용할 수 있다는 장점이 있다."
   ]
  },
  {
   "cell_type": "code",
   "execution_count": null,
   "metadata": {},
   "outputs": [],
   "source": [
    "# 위키백과 코드\n",
    "def sequentialSearch(array, value):\n",
    "    \tfor i in range(len(array)):\n",
    "\t\tif array[i] == value:\n",
    "\t\t\treturn i\n",
    "\treturn False"
   ]
  },
  {
   "cell_type": "markdown",
   "metadata": {},
   "source": [
    "❓ [이진탐색 알고리즘](https://ko.wikipedia.org/wiki/%EC%9D%B4%EC%A7%84_%EA%B2%80%EC%83%89_%EC%95%8C%EA%B3%A0%EB%A6%AC%EC%A6%98)이란\n",
    "* 오름차순으로 정렬된 리스트에서 특정한 값의 위치를 찾는 알고리즘\n",
    "* 처음 중간의 값을 임의의 값으로 선택하여, 그 값과 찾고자 하는 값의 크고 작음을 비교하는 방식을 채택하고 있다.\n",
    "* 처음 선택한 중앙값이 만약 찾는 값보다 크면 그 값은 새로운 최댓값이 되며, 작으면 그 값은 새로운 최솟값이 된다.\n",
    "* 검색 원리상 정렬된 리스트에만 사용할 수 있다는 단점이 있지만, 검색이 반복될 때마다 목표값을 찾을 확률은 두 배가 되므로 속도가 빠르다는 장점이 있다."
   ]
  },
  {
   "cell_type": "code",
   "execution_count": null,
   "metadata": {},
   "outputs": [],
   "source": [
    "# 위키백과 코드\n",
    "def binarySearch(array, value, low, high):\n",
    "    if low > high:\n",
    "        return False\n",
    "    mid = (low+high) / 2\n",
    "    if array[mid] > value:\n",
    "        return binarySearch(array, value, low, mid-1)\n",
    "    elif array[mid] < value:\n",
    "        return binarySearch(array, value, mid+1, high)\n",
    "    else:\n",
    "        return mid"
   ]
  }
 ],
 "metadata": {
  "language_info": {
   "name": "python"
  },
  "orig_nbformat": 4
 },
 "nbformat": 4,
 "nbformat_minor": 2
}
