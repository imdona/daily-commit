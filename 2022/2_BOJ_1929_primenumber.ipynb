{
 "cells": [
  {
   "cell_type": "markdown",
   "metadata": {},
   "source": [
    "### 백준 1929 [소수 구하기]\n",
    "* 수학\n",
    "* 정수론\n",
    "* 소수 판정\n",
    "* 에라토스테네스의 체"
   ]
  },
  {
   "cell_type": "markdown",
   "metadata": {},
   "source": [
    "##### ✔️ 문제\n",
    "M이상 N이하의 소수를 모두 출력하는 프로그램을 작성하시오.\n",
    "##### ✔️ 입력\n",
    "첫째 줄에 자연수 M과 N이 빈 칸을 사이에 두고 주어진다. (1 ≤ M ≤ N ≤ 1,000,000) M이상 N이하의 소수가 하나 이상 있는 입력만 주어진다.\n",
    "##### ✔️ 출력\n",
    "한 줄에 하나씩, 증가하는 순서대로 소수를 출력한다."
   ]
  },
  {
   "cell_type": "code",
   "execution_count": null,
   "metadata": {},
   "outputs": [],
   "source": [
    "# 예제 입력\n",
    "3 16"
   ]
  },
  {
   "cell_type": "code",
   "execution_count": null,
   "metadata": {},
   "outputs": [],
   "source": [
    "# 예제 출력\n",
    "3\n",
    "5\n",
    "7\n",
    "11\n",
    "13\""
   ]
  },
  {
   "cell_type": "markdown",
   "metadata": {},
   "source": [
    "##### 📎 최초 시도 코드"
   ]
  },
  {
   "cell_type": "code",
   "execution_count": null,
   "metadata": {},
   "outputs": [],
   "source": [
    "'''첫번째 풀이 - 시간초과'''\n",
    "M, N = map(int, input().split())\n",
    "prime_num = []\n",
    "for i in range(M, N+1):\n",
    "    condition = True\n",
    "    if i == 1 : continue\n",
    "    for j in range(2, i):\n",
    "        if i % j == 0:\n",
    "            condition = False\n",
    "            break\n",
    "    if condition:\n",
    "        prime_num.append(i)\n",
    "print(*prime_num, sep='\\n')"
   ]
  },
  {
   "cell_type": "code",
   "execution_count": null,
   "metadata": {},
   "outputs": [],
   "source": [
    "'''두번째 풀이 - 혹시나해서 sys로 해봤지만, 동일하게 시간초과. for문을 고쳐야할 것 같다.'''\n",
    "import sys\n",
    "M, N = map(int, sys.stdin.readline().split())\n",
    "prime_num = []\n",
    "for i in range(M, N+1):\n",
    "    condition = True\n",
    "    if i == 1 : continue\n",
    "    for j in range(2, i):\n",
    "        if i % j == 0:\n",
    "            condition = False\n",
    "            break\n",
    "    if condition:\n",
    "        prime_num.append(i)\n",
    "print(*prime_num, sep='\\n')"
   ]
  },
  {
   "cell_type": "markdown",
   "metadata": {},
   "source": [
    "##### 📎 최종 제출 코드"
   ]
  },
  {
   "cell_type": "code",
   "execution_count": null,
   "metadata": {},
   "outputs": [],
   "source": [
    "'''세번째 풀이 - 에라토스테네스의 체 활용하기\n",
    "시간을 줄이기 위해서 루트한 부분까지만 for 반복문'''\n",
    "# 기존코드\n",
    "import sys\n",
    "M, N = map(int, sys.stdin.readline().split())\n",
    "prime_num = []\n",
    "for i in range(M, N+1):\n",
    "    condition = True\n",
    "    if i == 1 : continue\n",
    "    for j in range(2, int(i**0.5) + 1):\n",
    "        if i % j == 0:\n",
    "            condition = False\n",
    "            break\n",
    "    if condition:\n",
    "        prime_num.append(i)\n",
    "print(*prime_num, sep='\\n')"
   ]
  },
  {
   "cell_type": "code",
   "execution_count": null,
   "metadata": {},
   "outputs": [],
   "source": [
    "'''네번째 풀이 - 에라토스테네스의 체 활용하기\n",
    "사용자정의함수 만들어서 풀이하기'''\n",
    "import sys\n",
    "M, N = map(int, sys.stdin.readline().split())\n",
    "\n",
    "def check_prime(num):\n",
    "    if num == 1: return False\n",
    "    else:\n",
    "        for i in range(2, int(num**0.5) + 1):\n",
    "            if num % i == 0:\n",
    "                return False\n",
    "        return True\n",
    "\n",
    "for i in range(M, N + 1):\n",
    "    if check_prime(i):\n",
    "        print(i)"
   ]
  },
  {
   "cell_type": "markdown",
   "metadata": {},
   "source": [
    "##### 📎 NOTE"
   ]
  },
  {
   "cell_type": "code",
   "execution_count": null,
   "metadata": {},
   "outputs": [],
   "source": [
    "'''세번째 풀이 - 에라토스테네스의 체 활용하기\n",
    "시간을 줄이기 위해서 루트한 부분까지만 for 반복문'''\n",
    "# 입력 받기\n",
    "import sys\n",
    "M, N = map(int, sys.stdin.readline().split())\n",
    "# 소수 빈 리스트 생성\n",
    "prime_num = []\n",
    "# M부터 N까지 for문을 회전하면서 하나씩 수가 소수인지 확인\n",
    "for i in range(M, N+1):\n",
    "    condition = True\n",
    "    # 1은 소수가 아님\n",
    "    if i == 1 : continue\n",
    "    # 2이상 부터 이중 for문으로 2부터 해당 수까지 반복문을 돌려 0으로 나누어떨어지는지 확인\n",
    "    # 나누어 떨어지면 소수가 아니므로 바로 break\n",
    "    for j in range(2, int(i**0.5) + 1):\n",
    "        if i % j == 0:\n",
    "            condition = False\n",
    "            break\n",
    "    # 이중 for문을 다 돌고 나오면, 0으로 나누어떨어지는 수가 없다는 의미\n",
    "    # 즉 condition(조건)이 True이므로 소수리스트에 추가\n",
    "    if condition:\n",
    "        prime_num.append(i)\n",
    "# 리스트 unpacking & 구분자로 줄바꿈을 넣고 출력\n",
    "print(*prime_num, sep='\\n')"
   ]
  },
  {
   "cell_type": "code",
   "execution_count": null,
   "metadata": {},
   "outputs": [],
   "source": [
    "'''네번째 풀이 - 에라토스테네스의 체 활용하기\n",
    "사용자정의함수 만들어서 풀이하기'''\n",
    "# 세번째 풀이와 동일한데, 사용자 정의함수를 만들어서 풀이했다는 것만 차이가 있다.\n",
    "# 굳이 소수 리스트를 만들지않고, 바로 확인 후 출력하기때문에 세번째 풀이보다 시간이 더 적게 걸린다.\n",
    "import sys\n",
    "M, N = map(int, sys.stdin.readline().split())\n",
    "\n",
    "def check_prime(num):\n",
    "    if num == 1: return False\n",
    "    else:\n",
    "        for i in range(2, int(num**0.5) + 1):\n",
    "            if num % i == 0:\n",
    "                return False\n",
    "        return True\n",
    "\n",
    "for i in range(M, N + 1):\n",
    "    if check_prime(i):\n",
    "        print(i)"
   ]
  },
  {
   "cell_type": "markdown",
   "metadata": {},
   "source": [
    "##### 🔍 에라토스테네스의 체"
   ]
  },
  {
   "cell_type": "markdown",
   "metadata": {},
   "source": [
    "* [에라토스테네스의 체 위키백과](https://ko.wikipedia.org/wiki/%EC%97%90%EB%9D%BC%ED%86%A0%EC%8A%A4%ED%85%8C%EB%84%A4%EC%8A%A4%EC%9D%98_%EC%B2%B4)   \n",
    "* 수학에서 에라토스테네스의 체는 소수를 찾는 방법   \n",
    "<img width=\"307\" alt=\"Screen Shot 2022-01-03 at 1 21 05 PM\" src=\"https://user-images.githubusercontent.com/89832134/147899536-bc1eb524-b197-490a-9d05-a7f07f1bbf9f.png\">   \n",
    "\n",
    "![prime](https://user-images.githubusercontent.com/89832134/147899557-d4e81660-af8d-4314-bbe7-c7c6f5001ec7.gif)\n",
    "\n",
    "\n",
    "🥕 알고리즘에 활용\n",
    "* 소수 판별 알고리즘의 속도를 높이는 가장 대표적인 방법\n",
    "* 검증하고자 하는 수의 제곱근까지만을 검증해 소수인지 판별하여, 대량의 소수를 한번에 판별할 때 속도가 빨라 유용함\n",
    "\n"
   ]
  },
  {
   "cell_type": "markdown",
   "metadata": {},
   "source": [
    "##### 📎 에라토스테네스의 체를 활용하는 다른 알고리즘 문제 : 소수의 갯수 구하기"
   ]
  },
  {
   "cell_type": "code",
   "execution_count": null,
   "metadata": {},
   "outputs": [],
   "source": [
    "'''에라토스테네스의 체 활용하기 : N까지의 소수의 개수 구하기'''\n",
    "# case 1\n",
    "\n",
    "def solution(N):\n",
    "    # 음수에 대한 예외처리\n",
    "    if N <= 0: raise ValueError(\"Not Allow Zero and Negative Number\")\n",
    "\n",
    "    # 소수 확인 테이블 : True가 N+1개 원소로 담긴 list, 0부터라서 +1을 해준다\n",
    "    primenum_check = [True]*(N+1)\n",
    "\n",
    "    # 0과 1은 소수가 아님 : 0, 1번째 리스트는 False로 바꿔준다\n",
    "    primenum_check[0] = False\n",
    "    primenum_check[1] = False\n",
    "\n",
    "    # 에라토스테네스의 체\n",
    "    for i in range(2, int(N**0.5)+1):\n",
    "        # 먼저 False로 바꿔준 0과 1을 제외하고 확인\n",
    "        if primenum_check[i] == True:\n",
    "            # 배수는 다 False로 바꿔준다\n",
    "            for j in range(2*i, N+1, i):\n",
    "                # print(\"i:\", i,\", j:\", j)\n",
    "                primenum_check[j] = False\n",
    "\n",
    "    # print(primenum_check)\n",
    "    return sum(primenum_check)\n",
    "\n",
    "# test code --------------------------------\n",
    "print(solution(10))"
   ]
  },
  {
   "cell_type": "code",
   "execution_count": null,
   "metadata": {},
   "outputs": [],
   "source": [
    "# case 2 : enumerate 활용하기\n",
    "\n",
    "def solution(N):\n",
    "    pass\n",
    "    if N <= 0:\n",
    "        raise ValueError\n",
    "\n",
    "    # True == 1, False == 0 : case2와 마찬가지로 True인 리스트 만들어주고 1과 0은 False로 바꿔준다\n",
    "    prime_list = [1] * (N + 1)\n",
    "    prime_list[0], prime_list[1] = 0, 0\n",
    "\n",
    "    # enumerate로 번호(소수, 숫자), 원소(1 or 0)를 같이 받는다\n",
    "    for prime_number, v in enumerate(prime_list):\n",
    "        # print(prime_list)\n",
    "        if v: # 소수이면(True(=1)이면)\n",
    "            # (해당소수 + 1)부터 (마지막 수)까지 돌면서 나누어지는지 확인한다\n",
    "            for i in range(prime_number + 1, N + 1):\n",
    "                # print(\"i: \", i)\n",
    "                if i % prime_number == 0: # 소수의 배수이면\n",
    "                    prime_list[i] = 0 # 소수가 아니다 -> (0 == False)로 바꿔준다\n",
    "    # print(\"prime list: \", prime_list)\n",
    "    return sum(prime_list)\n",
    "\n",
    "# test\n",
    "print(solution(10))"
   ]
  }
 ],
 "metadata": {
  "language_info": {
   "name": "python"
  },
  "orig_nbformat": 4
 },
 "nbformat": 4,
 "nbformat_minor": 2
}
