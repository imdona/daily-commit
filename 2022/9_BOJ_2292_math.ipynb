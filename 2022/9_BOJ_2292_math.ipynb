{
 "cells": [
  {
   "cell_type": "markdown",
   "metadata": {},
   "source": [
    "# 백준 2292 [벌집]\n",
    "* 수학"
   ]
  },
  {
   "cell_type": "markdown",
   "metadata": {},
   "source": [
    "##### ✔️ 문제\n",
    "위의 그림과 같이 육각형으로 이루어진 벌집이 있다. 그림에서 보는 바와 같이 중앙의 방 1부터 시작해서 이웃하는 방에 돌아가면서 1씩 증가하는 번호를 주소로 매길 수 있다. 숫자 N이 주어졌을 때, 벌집의 중앙 1에서 N번 방까지 최소 개수의 방을 지나서 갈 때 몇 개의 방을 지나가는지(시작과 끝을 포함하여)를 계산하는 프로그램을 작성하시오. 예를 들면, 13까지는 3개, 58까지는 5개를 지난다.\n",
    "\n",
    "<img width=\"409\" alt=\"Screen Shot 2022-01-16 at 2 51 28 PM\" src=\"https://user-images.githubusercontent.com/89832134/149648953-b1d2b51d-c12c-4759-9bce-f02b9482d786.png\">\n",
    "\n",
    "\n",
    "##### ✔️ 입력\n",
    "첫째 줄에 N(1 ≤ N ≤ 1,000,000,000)이 주어진다.\n",
    "\n",
    "##### ✔️ 출력\n",
    "입력으로 주어진 방까지 최소 개수의 방을 지나서 갈 때 몇 개의 방을 지나는지 출력한다."
   ]
  },
  {
   "cell_type": "markdown",
   "metadata": {},
   "source": [
    "## 풀이"
   ]
  },
  {
   "cell_type": "markdown",
   "metadata": {},
   "source": [
    "![연습장 -152](https://user-images.githubusercontent.com/89832134/149649314-5e473463-fce6-4835-81bb-f4bd55aac398.jpg)"
   ]
  },
  {
   "cell_type": "markdown",
   "metadata": {},
   "source": [
    "### 📎 제출 코드"
   ]
  },
  {
   "cell_type": "code",
   "execution_count": null,
   "metadata": {},
   "outputs": [],
   "source": [
    "N = int(input())\n",
    "if N == 1:\n",
    "    print(1)\n",
    "else:\n",
    "    N -= 1\n",
    "    for i in range(1, 1000000):\n",
    "        N -= (i * 6)\n",
    "        if N <= 0:\n",
    "            print(i+1)\n",
    "            break"
   ]
  },
  {
   "cell_type": "markdown",
   "metadata": {},
   "source": [
    "### 📎 다른 코드"
   ]
  },
  {
   "cell_type": "code",
   "execution_count": null,
   "metadata": {},
   "outputs": [],
   "source": [
    "N = int(input())\n",
    "# 6의 배수를 뺀 횟수 만큼 count를 세어준다\n",
    "count = 1\n",
    "while N > 1: # 입력이 1인 경우에는 바로 while 문을 빠져나감\n",
    "    N -= (6 * count)\n",
    "    count += 1\n",
    "print(count)"
   ]
  },
  {
   "cell_type": "code",
   "execution_count": null,
   "metadata": {},
   "outputs": [],
   "source": [
    "def sol(n):\n",
    "    # 입력값과 비교할 temp 만들기\n",
    "    temp = 1\n",
    "    for i in range(0, n):\n",
    "        # temp가 입력값보다 크거나 같을 때까지 6의 배수를 더해준다\n",
    "        temp = temp + (6*i)\n",
    "        if temp >= n:\n",
    "            print(i+1)\n",
    "            break\n",
    "\n",
    "if __name__ == '__main__':\n",
    "    x = int(input())\n",
    "    answer = sol(x)"
   ]
  }
 ],
 "metadata": {
  "interpreter": {
   "hash": "d473ce608692a3bf02c1de21d06d5afe9b45f4f9760cc575a6ec607da11a00f4"
  },
  "kernelspec": {
   "display_name": "Python 3.8.8 64-bit ('base': conda)",
   "language": "python",
   "name": "python3"
  },
  "language_info": {
   "codemirror_mode": {
    "name": "ipython",
    "version": 3
   },
   "file_extension": ".py",
   "mimetype": "text/x-python",
   "name": "python",
   "nbconvert_exporter": "python",
   "pygments_lexer": "ipython3",
   "version": "3.8.8"
  },
  "orig_nbformat": 4
 },
 "nbformat": 4,
 "nbformat_minor": 2
}
