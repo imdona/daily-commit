{
 "cells": [
  {
   "cell_type": "markdown",
   "metadata": {},
   "source": [
    "# 1. Code"
   ]
  },
  {
   "cell_type": "code",
   "execution_count": 7,
   "metadata": {},
   "outputs": [],
   "source": [
    "from time import sleep\n",
    "\n",
    "\n",
    "class CarOwner:\n",
    "    \"\"\"\n",
    "    자동차 주인을 나타내는 클래스입니다.\n",
    "    자동차 주인은 이름(name)을 가지고 있으며\n",
    "    자동차 주인은 concentrate 메소드를 통해 이름 + ' can not do anything else'를 반환해야합니다.\n",
    "    \"\"\"\n",
    "    def __init__(self, name):\n",
    "        \"\"\"\n",
    "        문제 1.\n",
    "            CarOwner 클래스의 생성자 메소드를 작성해주세요.\n",
    "            매개변수를 수정하거나 추가하지 말아주세요.\n",
    "        \"\"\"\n",
    "        self.name = name\n",
    "\n",
    "\n",
    "    def concentrate(self):\n",
    "        \"\"\"\n",
    "        문제 2.\n",
    "            자동차 주인 이름에 따라\n",
    "            '{자동차주인이름} can not do anything else'문구를 반환해주는 메소드를 작성해주세요.\n",
    "        \"\"\"\n",
    "        return f\"{self.name} can not do anything else\"\n",
    "\n",
    "\n",
    "class Car:\n",
    "    \"\"\"\n",
    "    자동차를 나타내는 클래스입니다.\n",
    "    자동차는 주인(owner)을 가지고 있으며, 주인은 CarOwner를 통해서 생성됩니다.\n",
    "    자동차는 drive 메소드를 통해\n",
    "    자동차 주인이 집중하고 있으며(concentrate), 누가 운전하고 있는지 반환해야합니다.\n",
    "    '{자동차주인이름} is driving now.'\n",
    "    \"\"\"\n",
    "    def __init__(self, owner_name):\n",
    "        \"\"\"\n",
    "        문제 3.\n",
    "            Car 클래스의 생성자 메소드를 작성해주세요.\n",
    "            매개변수를 수정하거나 추가하지 말아주세요\n",
    "        \"\"\"\n",
    "        self.owner = CarOwner(owner_name)\n",
    "\n",
    "\n",
    "    def drive(self):\n",
    "        \"\"\"\n",
    "        문제 4.\n",
    "            자동차 주인이 집중하고 있으며, 자동차 주인이 자동차를 운전하고 있다는 내용을 반환해야합니다.\n",
    "            '{자동차주인이름} can not do anything else\n",
    "            {자동차주인이름} is driving now.'\n",
    "\n",
    "            자동차 주인이 집중하고 있다는 사실을 어떻게 하면 편하게 나타낼 수 있을까요?\n",
    "            문자열에서 줄바꿈을 하고싶은 경우 '\\n'을 사용해주세요.\n",
    "            '\\n'에 대해서 더 공부하고 싶으신 분은 '이스케이프 문자' 라고 검색해보세요\n",
    "        \"\"\"\n",
    "        return self.owner.concentrate() + '\\n' + f\"{self.owner.name} is driving now.\"\n",
    "\n",
    "\n",
    "class SelfDrivingCar(Car):\n",
    "    \"\"\"\n",
    "    문제 5.\n",
    "        이 자동차는 자율주행 자동차입니다!\n",
    "        자동차를 상속받아주세요!\n",
    "    \"\"\"\n",
    "    def drive(self):\n",
    "        \"\"\"\n",
    "        문제 5.\n",
    "            이 자동차는 자동차 주인이 있지만... 자동차 주인이 운전하지 않고 스스로 운전하네요!\n",
    "            drive 메소드를 통해\n",
    "            'Car is driving by itself'를 반환해야합니다.\n",
    "            상속을 받았는데.. drive메소드를 다시 선언해도 괜찮을까요?\n",
    "            메소드 오버라이딩 개념을 다시 생각해보며 코드를 작성해주세요.\n",
    "        \"\"\"\n",
    "        return 'Car is driving by itself'"
   ]
  },
  {
   "cell_type": "code",
   "execution_count": 9,
   "metadata": {},
   "outputs": [],
   "source": [
    "\"\"\"\n",
    "OOP에서 중요한 것은 기능별로 정확한 설계입니다.\n",
    "\n",
    "요구사항:\n",
    "    Person(사람)\n",
    "        사서 또는 이용자에 대한 기본정보를 보여준다.\n",
    "\n",
    "    Librarian(사서)\n",
    "    사서는 Person으로부터 상속을 받야야한다.\n",
    "    사서에 대한 정보(변수): 이름, 나이, 관리하는 책 리스트(private)\n",
    "\n",
    "        주요 기능\n",
    "            사서는 관리하는 책 리스트에 책을 추가하는 함수를 가지고 있다.\n",
    "            사서는 서적을 대출해주는 함수를 가지고 있다.\n",
    "            사서가 관리하는 책의 리스트는 외부에서 접근할 수 없다.\n",
    "            사서는 관리하는 책의 리스트를 반환하는 함수를 가지고 있다.\n",
    "\n",
    "    User(이용자)\n",
    "        이용자는 Person으로부터 상속을 받야야한다.\n",
    "        이용자에 대한 정보(변수): 이름, 나이, 빌린 책 리스트(private)\n",
    "\n",
    "        주요 기능\n",
    "            이용자는 책을 빌리는 함수를 가지고 있다.\n",
    "            이용자는 빌린 책을 반환하는 함수를 가지고 있다.\n",
    "            이용자가 빌린 책의 리스트는 외부에서 접근할 수 없다.\n",
    "            이용자는 빌린 책의 리스트를 반환하는 함수를 가지고 있다.\n",
    "\n",
    "\"\"\"\n",
    "\n",
    "\n",
    "class Person:\n",
    "    def __init__(self, name, age):\n",
    "        self.name = name\n",
    "        self.age = age\n",
    "\n",
    "    def introduce(self):\n",
    "        print('안녕하세요! 제 이름은 {}, {}살 입니다!'.format(self.name, self.age))\n",
    "\n",
    "\n",
    "class Book:\n",
    "    def __init__(self, name, librarian):\n",
    "        self.name = name\n",
    "        self.librarian = librarian\n",
    "\n",
    "\n",
    "class Librarian(Person):\n",
    "    def __init__(self, name, age):\n",
    "        super().__init__(name, age)\n",
    "        self.__book_list = []\n",
    "\n",
    "    def add_book(self, book):   #새책을 받거나, 반납받는 함수\n",
    "        self.__book_list.append(book)\n",
    "        return True\n",
    "\n",
    "\n",
    "    def remove_book(self, book):    #책을 빌려주는 함수\n",
    "        self.__book_list.remove(book)\n",
    "        return True\n",
    "\n",
    "\n",
    "    def get_book_list(self):    #관리중인 책 목록을 반환하는 함수\n",
    "        return self.__book_list\n",
    "\n",
    "\n",
    "class User(Person):\n",
    "    def __init__(self, name, age):\n",
    "        super().__init__(name, age)\n",
    "        self.__book_list = []\n",
    "\n",
    "    def borrow_book(self, book): #책을 대출하는 함수\n",
    "        self.__book_list.append(book)\n",
    "        return True\n",
    "\n",
    "    def return_book(self, book): #책을 반납하는 함수\n",
    "        self.__book_list.remove(book)\n",
    "        return True\n",
    "\n",
    "    def get_borrowed_list(self):    #빌린 책 목록을 반환하는 함수\n",
    "        return self.__book_list"
   ]
  },
  {
   "cell_type": "code",
   "execution_count": null,
   "metadata": {},
   "outputs": [],
   "source": [
    "## 다른 방법 : list를 받을 때, 인스턴스 변수를 바로 books=[] 로 정의해줌으로서 리스트로 받을 수 있다\n",
    "class User(Person):\n",
    "    def __init__(self, name, age, books=[]):\n",
    "        super().__init__(name, age)\n",
    "        self.__books = books"
   ]
  },
  {
   "cell_type": "markdown",
   "metadata": {},
   "source": [
    "# 2. 개념\n"
   ]
  },
  {
   "cell_type": "markdown",
   "metadata": {},
   "source": [
    "### 1. OOP의 기본개념"
   ]
  },
  {
   "cell_type": "markdown",
   "metadata": {},
   "source": [
    "- OOP의 기본 전제는 기능(함수, 변수) **재사용이 가능하도록 설계 및 프로그래밍** 했는지다.\n",
    "- 프로그래밍에서 사용되는 대부분의 개념은 최소비용으로 최대효율을 얻기위해 개발되었다. OOP도 그런 개념의 일부일 뿐이다.\n",
    "- 중요한 것은 용어보다는, 현실에서 발생할 수 있는 **특정 object를 컴퓨터라는 도구에 인식시키는 것**이라 할 수 있다.\n",
    "- 대부분의 분야에서 OOP의 개념을 적용하여 프로그래밍을 수행한다.\n",
    "- 기본개념 : **설계(사람이 이해하는 방식)와 구현할 소스코드(컴퓨터가 이해하는 방식)** 간의 상호이해가 중요하다.\n",
    "    - HW&SW 성능증가(CPU성능 증가, 소프트웨어 다중실행) 덕분에 OOP의 모든 기능을 활용할 필요는 없다.\n",
    "        - OOP의 개념을 **무분별하게 활용하면 유지보수가 어려워질 수도 있기때문에** 설계방향 및 서비스기능에 따라 사용해야 한다.\n",
    "- OOP의 어려운 점 :\n",
    "    - OOP는 하나의 패러다임일 뿐이기 때문에 기존의 프로그래밍 패러다임(Procedural Programming, Functional Programming, ...)들과 우열을 가릴 필요는 없다.\n",
    "    - OOP는 주관성이 높으므로, 보편적으로 활용되는 개념에 대해 배운다.(**주관성이 높다는 뜻은 소프트웨어 서비스 설계방향에 영향을 많이 받는다.**)\n",
    "    - OOP를 제대로 하는 법은 프로그래밍뿐만 아니라 다양한 도메인에서 **재사용 가능한 클래스, 메소드(기능) 설계**가 중요하다.\n"
   ]
  },
  {
   "cell_type": "markdown",
   "metadata": {},
   "source": [
    "#### 📎 OOP 이전에는 어떻게 했을까?\n",
    "![oop_beforeOop](https://user-images.githubusercontent.com/89832134/150312397-28ded45b-40b6-4dc0-9229-003285cd8ee2.png)\n",
    "- OOP 개념이 나오기 전에는, 배열과 함수, 변수를 많이 생성하고 활용하여 최대한 많은 기능을 적은 양의 소스코드파일에 담았다.\n",
    "\n",
    "- 속성과 기능이 증가할 때마다 배열과 함수를 계속 생성해야했기 때문에 소스코드를 관리하는데 있어서 비효율이 발견되었다.\n",
    "\n",
    "- 이에 따라 속성과 기능을 object라는 최소단위로 분리하는 OOP의 개념이 나오기 시작했다.\n",
    "\n",
    "- 프로그래밍에서 OOP의 개념을 항상 활용하지는 않는다.(데이터 분석을 진행하는 경우, 모듈과 라이브러리를 활용한 분석 인사이트가 중요하다.)\n"
   ]
  },
  {
   "cell_type": "markdown",
   "metadata": {},
   "source": [
    "#### 📎 OOP의 필요성\n",
    "* data-driven(데이터기반 의사결정), 컴퓨터하드웨어성능, 데이터양 증가에 따라 OOP활용도 증가하였다.\n",
    "\n",
    "    * 프로그래밍 패러다임 : OOP와 Procedural Programming, functional Programming에 대해 알아본다.\n",
    "\n",
    "    * 함수형은 함수의 사용을 극대화시켜서 코드의 가독성을 높여주는 형태이다. 프로그래밍 코드를 특정 상황에 특정 함수를 사용하기위해 고안된 방법이다.\n",
    "\n",
    "    * 특정 컴퓨터환경과 특정 대용량 개발환경에서 많이 쓰이고 있지만 절대적으로 좋은 프로그래밍은 아니다.\n",
    "\n",
    "<img width=\"533\" alt=\"oop_pp\" src=\"https://user-images.githubusercontent.com/89832134/150312705-2717d734-7767-47b7-ae67-4dc49432b39a.png\">"
   ]
  },
  {
   "cell_type": "markdown",
   "metadata": {},
   "source": [
    "#### 📎 OOP와 일상생활\n",
    "- 일상 생활에서 볼 수 있는 것, **실제로 머릿속에서 떠올릴 수 있는 것**을 프로그래밍하는 것이 OOP의 중요한 점이다.\n",
    "\n",
    "- 기능별로 개체가 효율적으로 **(재사용가능하도록)** 분리되어야 한다. 그래서 설계가 중요하다."
   ]
  },
  {
   "cell_type": "code",
   "execution_count": 12,
   "metadata": {},
   "outputs": [
    {
     "name": "stdout",
     "output_type": "stream",
     "text": [
      "Car Attribute:  (50, 'black', 'CarModel')\n",
      "Car Attribute:  50 black CarModel\n"
     ]
    }
   ],
   "source": [
    "# 절차 프로그래밍(Procedural Programming, 일명 PP)\n",
    "# 조건 또는 기능이 증가할 때마다 함수와 변수 같은 요소가 계속 증가할 수 있으므로 비효율적이다.\n",
    "\n",
    "# 케이스 1 : 함수활용\n",
    "def carAttribute():\n",
    "    speed = 50\n",
    "    color = 'black'\n",
    "    model = 'CarModel'\n",
    "    return speed,color,model\n",
    "\n",
    "# return값을 통해 함수 요소값을 확인할 수 있다.\n",
    "print(\"Car Attribute: \", carAttribute())\n",
    "\n",
    "# 케이스 2 : 변수활용\n",
    "speed = 50\n",
    "color = 'black'\n",
    "model = 'CarModel'\n",
    "\n",
    "# 해당 변수를 각각 명시해주어야 한다.\n",
    "print(\"Car Attribute: \", speed, color, model)"
   ]
  },
  {
   "cell_type": "code",
   "execution_count": 14,
   "metadata": {},
   "outputs": [
    {
     "name": "stdout",
     "output_type": "stream",
     "text": [
      "--------Car Object Create Complete--------\n",
      "Car Speed:  0\n",
      "Car Color:  green\n",
      "Car Model:  testCar\n",
      "Bus color:  black\n",
      "--------Bus Object Create Complete--------\n",
      "Bus color:  black\n",
      "--------Car/Bus Speed 1--------\n",
      "Car Speed by drive:  0\n",
      "Bus Speed by drive:  0\n",
      "--------Car/Bus Speed 2--------\n",
      "Car Speed by drive:  50\n",
      "Bus Speed by drive:  70\n"
     ]
    }
   ],
   "source": [
    "# OOP / 기능에 따라 Car클래스 안에 있는 함수와 변수만 추가해주면 된다.\n",
    "# 아래와 같이 클래스 선언 순서에 관계없이 실행된다.\n",
    "# 절차 프로그래밍과 다르게 기능별로 수행되기 때문이다.\n",
    "class Bus:\n",
    "    def __init__(self, speed, color):\n",
    "        self.speed = speed\n",
    "        self.color = color\n",
    "\n",
    "    def drive_bus(self):\n",
    "        self.speed = 70\n",
    "\n",
    "class Car:\n",
    "    def __init__(self, speed, color, model):\n",
    "        self.speed = speed\n",
    "        self.color = color\n",
    "        self.model = model\n",
    "\n",
    "    def drive(self):\n",
    "        self.speed = 50\n",
    "\n",
    "myCar = Car(0, \"green\", \"testCar\")\n",
    "myBus = Bus(0, 'black')\n",
    "\n",
    "print(\"--------Car Object Create Complete--------\")\n",
    "print(\"Car Speed: \", myCar.speed)\n",
    "print(\"Car Color: \", myCar.color)\n",
    "print(\"Car Model: \", myCar.model)\n",
    "print(\"Bus color: \", myBus.color)\n",
    "\n",
    "print(\"--------Bus Object Create Complete--------\")\n",
    "print(\"Bus color: \", myBus.color)\n",
    "\n",
    "\n",
    "# 운전 중이 아니므로 speed는 0을 출력한다.\n",
    "print(\"--------Car/Bus Speed 1--------\")\n",
    "print(\"Car Speed by drive: \", myCar.speed)\n",
    "print(\"Bus Speed by drive: \", myBus.speed)\n",
    "\n",
    "# Car/Bus object method Call\n",
    "myCar.drive()\n",
    "myBus.drive_bus()\n",
    "\n",
    "# 각각의 개체가 각자의 속도로 움직이고 있다.\n",
    "print(\"--------Car/Bus Speed 2--------\")\n",
    "print(\"Car Speed by drive: \", myCar.speed)\n",
    "print(\"Bus Speed by drive: \", myBus.speed)"
   ]
  },
  {
   "cell_type": "markdown",
   "metadata": {},
   "source": [
    "### 2. OOP의 구성"
   ]
  },
  {
   "cell_type": "markdown",
   "metadata": {},
   "source": [
    "#### 🔍 캡슐화\n",
    "\n",
    "![캡슐화](https://user-images.githubusercontent.com/89832134/150314367-4b3737d6-e394-43fb-adae-c7093bedb03f.png)\n",
    "\n",
    "- 기본개념 : 내부 **속성(변수)과 함수를 하나로 묶어서** 클래스로 선언하는 일반적인 개념\n",
    "    - 캡슐화 형태로 코드를 작성하지 않으면 **특정 기능(함수, 변수)에 직접 접근**하게 되는 상황이 된다.\n",
    "    - 기능이 많아질수록 재사용의 개념을 활용하기가 어려움\n",
    "    - 해당 접근제어 관련해서는 아래 콘텐츠 **파이썬 활용 및 OOP**에서 추가적으로 다룹니다."
   ]
  },
  {
   "cell_type": "code",
   "execution_count": 18,
   "metadata": {},
   "outputs": [
    {
     "name": "stdout",
     "output_type": "stream",
     "text": [
      "init : 10\n",
      "init : 20\n",
      "set : 20\n",
      "printTest : 20\n",
      "\n",
      "\n",
      "init : 30\n",
      "set : 30\n",
      "printTest : 30\n"
     ]
    }
   ],
   "source": [
    "# 캡슐화코드\n",
    "class Encap:\n",
    "    def __init__(self,value):\n",
    "        self.value = value\n",
    "        print('init :', self.value)\n",
    "\n",
    "    def _set(self):\n",
    "        print('set :', self.value)\n",
    "\n",
    "    def printTest(self):\n",
    "        print('printTest :', self.value)\n",
    "\n",
    "    def __printTest2(self):\n",
    "        print('printTest :', self.value)\n",
    "\n",
    "# object 생성\n",
    "e = Encap(10)\n",
    "\n",
    "# object 실행\n",
    "# 케이스1\n",
    "e.__init__(20)\n",
    "e._set()\n",
    "e.printTest()\n",
    "\n",
    "print('\\n')\n",
    "\n",
    "# 케이스2\n",
    "e.__init__(30)\n",
    "e._set()\n",
    "e.printTest()"
   ]
  },
  {
   "cell_type": "code",
   "execution_count": 19,
   "metadata": {},
   "outputs": [
    {
     "ename": "AttributeError",
     "evalue": "'Encap' object has no attribute '__printTest2'",
     "output_type": "error",
     "traceback": [
      "\u001b[0;31m---------------------------------------------------------------------------\u001b[0m",
      "\u001b[0;31mAttributeError\u001b[0m                            Traceback (most recent call last)",
      "\u001b[0;32m<ipython-input-19-7b896eede85a>\u001b[0m in \u001b[0;36m<module>\u001b[0;34m\u001b[0m\n\u001b[1;32m      1\u001b[0m \u001b[0;31m# 캡슐화 한 메소드는 클래스 외부에서 직접 접근이 불가능함\u001b[0m\u001b[0;34m\u001b[0m\u001b[0;34m\u001b[0m\u001b[0;34m\u001b[0m\u001b[0m\n\u001b[0;32m----> 2\u001b[0;31m \u001b[0me\u001b[0m\u001b[0;34m.\u001b[0m\u001b[0m__printTest2\u001b[0m\u001b[0;34m(\u001b[0m\u001b[0;34m)\u001b[0m\u001b[0;34m\u001b[0m\u001b[0;34m\u001b[0m\u001b[0m\n\u001b[0m",
      "\u001b[0;31mAttributeError\u001b[0m: 'Encap' object has no attribute '__printTest2'"
     ]
    }
   ],
   "source": [
    "# 캡슐화 한 메소드는 클래스 외부에서 직접 접근이 불가능함 : AttributeError\n",
    "e.__printTest2()"
   ]
  },
  {
   "cell_type": "markdown",
   "metadata": {},
   "source": [
    "#### 🔍 상속과 포함\n",
    "![inheriance_composition](https://user-images.githubusercontent.com/89832134/150314891-bfcb8578-b12d-4538-8dbe-8f1b226bbba2.png)\n",
    "- object의 종류는 현실 세계에 있는 대부분이기 때문에, 설계될 수 있는 다양한 object가 있다.\n",
    "\n",
    "##### 상속(Inheritance)\n",
    "- \"개는 동물이다.\" 또는 \"선생님은 직장인이다.\"라는 관계로서 설명된다.\n",
    "- 기본개념 : 상위 클래스의 모든 기능(함수, 변수)을 재사용할 수 있다.\n",
    "\n",
    "##### 포함(Composition)\n",
    "- \"개는 몸을 갖고 있다.\" 라는 관계로서 설명된다.\n",
    "- 기본개념 : 다른 클래스의 일부 기능(함수)만을 재사용한다."
   ]
  },
  {
   "cell_type": "code",
   "execution_count": 20,
   "metadata": {},
   "outputs": [
    {
     "name": "stdout",
     "output_type": "stream",
     "text": [
      "Dave studies hard\n",
      "David works hard\n"
     ]
    }
   ],
   "source": [
    "# 상속코드\n",
    "\n",
    "# 클래스 선언\n",
    "class Person:\n",
    "    def __init__(self, name):\n",
    "        self.name = name\n",
    "\n",
    "class Student(Person):      # Person 클래스 상속받음(name 변수를 파라미터로 재사용)\n",
    "    def study(self):\n",
    "        print (self.name + \" studies hard\")\n",
    "\n",
    "class Employee(Person):     # Person 클래스 상속받음(name 변수를 파라미터로 재사용)\n",
    "    def work(self):\n",
    "        print (self.name + \" works hard\")\n",
    "\n",
    "# object 생성\n",
    "s = Student(\"Dave\")\n",
    "e = Employee(\"David\")\n",
    "\n",
    "# object 실행\n",
    "s.study()\n",
    "e.work()"
   ]
  },
  {
   "cell_type": "code",
   "execution_count": 21,
   "metadata": {},
   "outputs": [
    {
     "name": "stdout",
     "output_type": "stream",
     "text": [
      "s.age: Dave\n",
      "s.age: 20\n",
      "s.id: 1\n",
      "\n",
      "\n",
      "s2.age: Jamie\n",
      "s2.age: 25\n",
      "s2.id: 2\n",
      "\n",
      "\n",
      "-- test score result --\n",
      "tom 90\n",
      "Jamie needs supplementary lessons\n"
     ]
    }
   ],
   "source": [
    "# 포함코드\n",
    "\n",
    "# 클래스 선언\n",
    "class Person:\n",
    "    def __init__(self, name, age):\n",
    "        self.name = name\n",
    "        self.age = age\n",
    "\n",
    "    def printPerson(self, name, age):\n",
    "        print(name, age)\n",
    "\n",
    "class Student():\n",
    "    def __init__(self, name, age, id):\n",
    "        self.person = Person(name, age)   # Student가 Person에 포함\n",
    "        Person.__init__(self, name, age)\n",
    "        self.id = id\n",
    "\n",
    "    def composit_test(self, score, person):\n",
    "        if score > 80:\n",
    "            return (self.person.printPerson('tom', 90))\n",
    "        else:\n",
    "            print (self.name + \" needs supplementary lessons\")\n",
    "\n",
    "\n",
    "# object 생성\n",
    "# 한 번 생성된 object는 파라미터가 변하지 않는 이상 출력값 또한 변하지 않는다.\n",
    "s = Student(\"Dave\", 20, 1)\n",
    "\n",
    "# object 실행\n",
    "print(\"s.age:\", s.name)   # result : Dave\n",
    "print(\"s.age:\", s.age)   # result : 20\n",
    "print(\"s.id:\", s.id)   # result : 1\n",
    "print('\\n')\n",
    "\n",
    "# 객체 하나 더 생성하기\n",
    "s2 = Student(\"Jamie\", 25, 2)\n",
    "print(\"s2.age:\", s2.name)   # result : Jamie\n",
    "print(\"s2.age:\", s2.age)   # result : 25\n",
    "print(\"s2.id:\", s2.id)   # result : 2\n",
    "print('\\n')\n",
    "\n",
    "# 점수입력\n",
    "print('-- test score result --')\n",
    "s.composit_test(90,'tom')\n",
    "s2.composit_test(30,'bob')"
   ]
  },
  {
   "cell_type": "code",
   "execution_count": 22,
   "metadata": {},
   "outputs": [
    {
     "name": "stdout",
     "output_type": "stream",
     "text": [
      "This duck has a bill object and a tail object.\n"
     ]
    }
   ],
   "source": [
    "# 포함코드\n",
    "\n",
    "# 클래스 선언\n",
    "class Bill():\n",
    "    def __init__(self, description):\n",
    "        self.description = description\n",
    "\n",
    "\n",
    "class Tail():\n",
    "    def __init__(self, length):\n",
    "        self.length = length\n",
    "\n",
    "\n",
    "class Duck():\n",
    "    def __init__(self, bill, tail):\n",
    "        self.bill = bill\n",
    "        self.tail = tail\n",
    "\n",
    "    def about(self):\n",
    "        print(\n",
    "            f\"This duck has a {self.bill.description} and a {self.tail.length}.\")\n",
    "\n",
    "# object 생성\n",
    "duck = Duck(Bill('bill object'), Tail('tail object'))\n",
    "\n",
    "# object 실행\n",
    "duck.about()"
   ]
  },
  {
   "cell_type": "markdown",
   "metadata": {},
   "source": [
    "#### 🔍 추상화\n",
    "![추상화](https://user-images.githubusercontent.com/89832134/150315410-bcd961ea-973c-4341-831e-fe19b9cc05a9.png)\n",
    "- 기본개념 : **추상화(abstraction)** 는 복잡한 내용에서 **핵심적인 개념 및 기능을 요약하는 것**을 말한다.\n",
    "    - object의 기능에 따라 추상클래스(상위클래스)를 상속받아 개별적으로 클래스(하위클래스)를 생성한다.\n",
    "    - 기본적으로 **추상메소드**를 선언하며 실제 실행되는 기능은 **보여지지 않는다.**\n",
    "    - 실제 실행되는 기능은 선언된 추상클래스를 상속받은 다른 클래스의 메소드에서 확인할 수 있다.\n",
    "    - 추상클래스를 사용하는 이유\n",
    "        - 클래스 또는 함수가 예상했던 것 이상으로 많이 생성되는 경우 **추상클래스**를 생성하여 핵심적인 기능만 생성해놓는다.\n",
    "        - 실제로 동작기능은 추상클래스에서 상속받은 하위클래스의 메소드에서 진행된다.\n",
    "        - 추상클래스의 추상메소드를 활용할 때 장점은 추상클래스를 중심으로 하위클래스의 메소드를 다양하게 생성할 수 있기 때문에, 유지보수를 진행하는 경우 추상클래스만 수정하면 되므로 복잡성을 낮출 수 있다.\n",
    "- [추상 베이스 클래스  python documentation](https://docs.python.org/ko/3/library/abc.html#module-abc)"
   ]
  },
  {
   "cell_type": "code",
   "execution_count": 24,
   "metadata": {},
   "outputs": [
    {
     "name": "stdout",
     "output_type": "stream",
     "text": [
      "Student : \n",
      "체력: 30\n",
      "생각: 10\n",
      "\n",
      "Driver : \n",
      "체력: 10\n",
      "생각: 10\n"
     ]
    }
   ],
   "source": [
    "# 추상화 코드\n",
    "\n",
    "from abc import ABCMeta, abstractmethod # abc : abstract base class\n",
    "\n",
    "# 추상 클래스\n",
    "class People(metaclass=ABCMeta):\n",
    "\n",
    "# 추상 메소드\n",
    "    @abstractmethod # 추상 메소드에는 @abstractmethod를 선언해줘야 함\n",
    "    def charecter(self):\n",
    "        pass        # 추상 메소드는 기능 내 실제 실행내용은 없다.\n",
    "\n",
    "# 상속받는 클래스\n",
    "class Student(People):\n",
    "    def charecter(self, pow, think):\n",
    "        self.pow = pow\n",
    "        self.think = think\n",
    "\n",
    "        print('체력: {0}'.format(self.pow))\n",
    "        print('생각: {0}'.format(self.think))\n",
    "\n",
    "# 상속받는 클래스\n",
    "class Driver(People):\n",
    "    def charecter(self, pow, think):\n",
    "        self.pow = pow\n",
    "        self.think = think\n",
    "\n",
    "        print('체력: {0}'.format(self.pow))\n",
    "        print('생각: {0}'.format(self.think))\n",
    "\n",
    "# Student object 생성\n",
    "peo1 = Student()\n",
    "print('Student : ')\n",
    "\n",
    "# Student object 실행\n",
    "peo1.charecter(30, 10)\n",
    "\n",
    "print()\n",
    "\n",
    "# Driver object 생성\n",
    "peo2 = Driver()\n",
    "print('Driver : ')\n",
    "\n",
    "# Driver object 실행\n",
    "peo2.charecter(10, 10)"
   ]
  },
  {
   "cell_type": "markdown",
   "metadata": {},
   "source": [
    "#### 🔍 다형성\n",
    "- 다형성이란? ([[출처]](https://terms.naver.com/entry.naver?docId=1079437&cid=40942&categoryId=32310)) 같은 종의 생물이지만, 모습이나 고유한 특징이 다양한 성질을 말한다.\n",
    "- OOP에서 다형성은 계층 구조의 상속 관계에서 상속받은 기능 외, 다른 기능을 추가적으로 제공하고자 할 때 사용한다.\n",
    "    - 사용 시 장점\n",
    "        - 프로그램 작성 코드량을 줄여준다.\n",
    "            - 다형성을 잘 쓰면 if/else 문을 많이 줄일 수 있다\n",
    "        - 코드의 가독성을 높혀준다.\n",
    "- 다음의 예제를 통해서 다형성에 대해 더 학습해보자"
   ]
  },
  {
   "cell_type": "code",
   "execution_count": 25,
   "metadata": {},
   "outputs": [
    {
     "name": "stdout",
     "output_type": "stream",
     "text": [
      "100\n",
      "Slime_1 hp: 50\n",
      "Slime is dead!!!\n",
      "Slime_1 hp: 0\n"
     ]
    }
   ],
   "source": [
    "class Slimes:\n",
    "    def __init__(self):\n",
    "        self.hp = 100\n",
    "        self.attack_power = 50\n",
    "    def get_damage(self):\n",
    "        self.hp -= self.attack_power\n",
    "        if self.hp <= 0:\n",
    "            self.hp = 0\n",
    "            print('Slime is dead!!!')\n",
    "\n",
    "\n",
    "class Slime_Yellow(Slimes):\n",
    "    pass\n",
    "\n",
    "\n",
    "class Slime_Blue(Slimes):\n",
    "    def __init__(self):\n",
    "        super().__init__()\n",
    "        self.attack_power = int(self.attack_power * 0.8)\n",
    "    def get_damage(self):\n",
    "        self.hp -= self.attack_power\n",
    "        if self.hp <= 0:\n",
    "            self.hp = 0\n",
    "            print('Blue Slime is dead!!! You get 100 Gold')\n",
    "\n",
    "\n",
    "class Slime_Purple(Slimes):\n",
    "    def __init__(self):\n",
    "        super().__init__()\n",
    "        self.attack_power = int(self.attack_power * 0.5)\n",
    "\n",
    "\n",
    "    def get_damage(self):\n",
    "        self.hp -= self.attack_power\n",
    "        if self.hp <= 0:\n",
    "            self.hp = 0\n",
    "            print('Purple Slime is dead!!!, You get 300 Gold')\n",
    "\n",
    "\n",
    "Slime_1 = Slime_Yellow()\n",
    "# 슬라임 제거하기: hp=0 만들기\n",
    "print(Slime_1.hp)\n",
    "Slime_1.get_damage()\n",
    "print('Slime_1 hp:', Slime_1.hp)\n",
    "Slime_1.get_damage()\n",
    "print('Slime_1 hp:',Slime_1.hp)"
   ]
  },
  {
   "cell_type": "code",
   "execution_count": 26,
   "metadata": {},
   "outputs": [
    {
     "name": "stdout",
     "output_type": "stream",
     "text": [
      "Slime_2 hp: 60\n",
      "Slime_2 hp: 20\n",
      "Blue Slime is dead!!! You get 100 Gold\n",
      "Slime_2 hp: 0\n"
     ]
    }
   ],
   "source": [
    "Slime_2 = Slime_Blue()\n",
    "# 슬라임 제거하기: hp=0 만들기\n",
    "Slime_2.get_damage()\n",
    "print('Slime_2 hp:',Slime_2.hp)\n",
    "Slime_2.get_damage()\n",
    "print('Slime_2 hp:',Slime_2.hp)\n",
    "Slime_2.get_damage()\n",
    "print('Slime_2 hp:',Slime_2.hp)"
   ]
  },
  {
   "cell_type": "code",
   "execution_count": 27,
   "metadata": {},
   "outputs": [
    {
     "name": "stdout",
     "output_type": "stream",
     "text": [
      "Slime_3 hp: 75\n",
      "Slime_3 hp: 50\n",
      "Slime_3 hp: 25\n",
      "Purple Slime is dead!!!, You get 300 Gold\n",
      "Slime_3 hp: 0\n"
     ]
    }
   ],
   "source": [
    "Slime_3 = Slime_Purple()\n",
    "# 슬라임 제거하기: hp=0 만들기\n",
    "Slime_3.get_damage()\n",
    "print('Slime_3 hp:',Slime_3.hp)\n",
    "Slime_3.get_damage()\n",
    "print('Slime_3 hp:',Slime_3.hp)\n",
    "Slime_3.get_damage()\n",
    "print('Slime_3 hp:',Slime_3.hp)\n",
    "Slime_3.get_damage()\n",
    "print('Slime_3 hp:',Slime_3.hp)"
   ]
  },
  {
   "cell_type": "code",
   "execution_count": 28,
   "metadata": {},
   "outputs": [
    {
     "name": "stdout",
     "output_type": "stream",
     "text": [
      "Purple Slime is dead!!!, You get 300 Gold\n"
     ]
    }
   ],
   "source": [
    "# 위 코드는 완벽할까? 아래 코드를 실행해보면 또 300골드를 얻는 것을 볼 수있다\n",
    "Slime_3.get_damage() # Purple Slime is dead!!!, You get 300 Gold"
   ]
  },
  {
   "cell_type": "code",
   "execution_count": 42,
   "metadata": {},
   "outputs": [],
   "source": [
    "# 상태를 저장하는 변수를 만들어서 한 번 죽은 경우 골드를 얻지 못하도록 코드를 수정해보자.\n",
    "class Slimes:\n",
    "    def __init__(self):\n",
    "        self.hp = 100\n",
    "        self.attack_power = 50\n",
    "        self.alive = True\n",
    "\n",
    "\n",
    "    def get_damage(self):\n",
    "        self.hp -= self.attack_power\n",
    "\n",
    "        if self.alive == False:\n",
    "            print('Slime is already dead. You can not get Gold!')\n",
    "\n",
    "        elif self.hp <= 0:\n",
    "            self.hp = 0\n",
    "            self.alive = False\n",
    "            print('Slime is dead!!!')\n",
    "\n",
    "\n",
    "class Slime_Blue(Slimes):\n",
    "    def __init__(self):\n",
    "        super().__init__()\n",
    "        self.attack_power = int(self.attack_power * 0.8)\n",
    "\n",
    "\n",
    "    def get_damage(self):\n",
    "        self.hp -= self.attack_power\n",
    "\n",
    "        if self.alive == False:\n",
    "            print('Slime is already dead. You can not get Gold!')\n",
    "\n",
    "        elif self.hp <= 0:\n",
    "            self.hp = 0\n",
    "            self.alive = False\n",
    "            print('Blue Slime is dead!!! You get 100 Gold')\n",
    "\n",
    "\n",
    "class Slime_Purple(Slimes):\n",
    "    def __init__(self):\n",
    "        super().__init__()\n",
    "        self.attack_power = int(self.attack_power * 0.5)\n",
    "\n",
    "\n",
    "    def get_damage(self):\n",
    "        self.hp -= self.attack_power\n",
    "\n",
    "        if self.alive == False:\n",
    "            print('Slime is already dead. You can not get Gold!')\n",
    "\n",
    "        elif self.hp <= 0:\n",
    "            self.hp = 0\n",
    "            self.alive = False\n",
    "            print('Purple Slime is dead!!!, You get 300 Gold')"
   ]
  },
  {
   "cell_type": "code",
   "execution_count": 46,
   "metadata": {},
   "outputs": [
    {
     "name": "stdout",
     "output_type": "stream",
     "text": [
      "Slime_4 hp: 100\n",
      "Slime_4 hp: 25\n",
      "Purple Slime is dead!!!, You get 300 Gold\n",
      "Slime_4 hp: 0\n",
      "Slime is already dead. You can not get Gold!\n"
     ]
    }
   ],
   "source": [
    "# check\n",
    "Slime_4 = Slime_Purple()\n",
    "print('Slime_4 hp:',Slime_4.hp)\n",
    "\n",
    "# 슬라임 제거하기: hp=0 만들기\n",
    "Slime_4.get_damage()\n",
    "Slime_4.get_damage()\n",
    "Slime_4.get_damage()\n",
    "print('Slime_4 hp:',Slime_4.hp)\n",
    "Slime_4.get_damage()\n",
    "print('Slime_4 hp:',Slime_4.hp)\n",
    "\n",
    "# 확인하기\n",
    "Slime_4.get_damage()"
   ]
  },
  {
   "cell_type": "markdown",
   "metadata": {},
   "source": [
    "🔍 추가 : 헷갈리지 않도록 코드를 작성하자. 연산자를 효율적으로 활용하자.\n",
    "\n",
    "- 연산자 1개(is not) : A는 B가 아니다.\n",
    "\n",
    "- 연산자 2개(not, is) : A가 아닌 것은 None이다."
   ]
  },
  {
   "cell_type": "code",
   "execution_count": 23,
   "metadata": {},
   "outputs": [
    {
     "name": "stdout",
     "output_type": "stream",
     "text": [
      "가독성 좋음\n",
      "가독성 좋지 않음\n"
     ]
    }
   ],
   "source": [
    "# 오해하지 않도록 코드를 작성하자.\n",
    "# foo: 프로그래밍 상에서 임시로 변수이름을 지정해줘야 할 때 주로 쓰이는 변수 이름이다.\n",
    "foo = ''\n",
    "\n",
    "# 가독성 좋음\n",
    "if foo is not None: # 한 번만 해석하면 된다. (A는 B가 아니다.)\n",
    "    print('가독성 좋음')\n",
    "\n",
    "# 가독성 좋지 않음\n",
    "if not foo is None: # 두 번 해석해야된다. (A가 아닌 것은 None이다.)\n",
    "    print('가독성 좋지 않음')"
   ]
  },
  {
   "cell_type": "markdown",
   "metadata": {},
   "source": [
    "### 3. 클래스 설계와 사용\n",
    "- 여기서 주로 배울 것을 클래스 설계이다.\n",
    "- 클래스 설계가 중요한 이유는 **코드 재사용성**이다.\n",
    "\n",
    "💡 생각하는 시간 : 아래처럼 단계별로 **코드설계**를 진행한다.\n",
    "\n",
    "- 코드설계를 진행하는데 앞서, 바로 소스코드를 작성하지 않고 그림과 글을 통해 자신의 방법으로 **코드블록을 구성**해본다"
   ]
  },
  {
   "cell_type": "markdown",
   "metadata": {},
   "source": [
    "##### 📎 1단계\n",
    "\n",
    "- 코드 설계 시 사용할 object부터 적어보자.\n",
    "- Users\n",
    "    - Customers\n",
    "    - Vendors\n",
    "    - Admin\n",
    "- Products\n",
    "- Purchases\n",
    "\n",
    "##### 📎 2단계\n",
    "\n",
    "- 코드 작성 전, 각 object별로 요구되는 속성과 어떤 기능을 위해 생성되었는지 설계한다.\n",
    "- Users\n",
    "    - Attributes(속성)\n",
    "        - 이름\n",
    "        - 사용자가 관리자인지?\n",
    "    - Customers\n",
    "        - Attributes\n",
    "            - 이름\n",
    "            - 구매목록\n",
    "    - Vendors\n",
    "        - Attributes\n",
    "            - 이름\n",
    "            - 상품목록\n",
    "    - Admin\n",
    "        - 이름\n",
    "        - 사용자가 관리자임을 나타내는 구분값\n",
    "- Products\n",
    "    - Attributes\n",
    "        - 이름\n",
    "        - 가격\n",
    "        - 공급업체\n",
    "- Purchases\n",
    "    - Attributes\n",
    "        - 제품\n",
    "        - 고객\n",
    "        - 가격\n",
    "        - 구매완료기간\n",
    "\n",
    "object간 관계에 대해 생각해본다.\n",
    "\n",
    "- 판매자는 1개 이상의 제품을 갖고 있다.\n",
    "- 고객은 1개 이상의 구매를 한다.\n",
    "- 구매는 1개 이상의 제품을 구매하는 것이다."
   ]
  },
  {
   "cell_type": "code",
   "execution_count": 48,
   "metadata": {},
   "outputs": [],
   "source": [
    "# 기본이 될 수 있는 User 클래스 생성\n",
    "\n",
    "class User:\n",
    "    def __init__(self, name, is_admin=False):\n",
    "        self.name = name\n",
    "        self.is_admin = is_admin\n",
    "\n",
    "\n",
    "# User로부터 상속받는 3개의 클래스를 정의\n",
    "\"\"\"\n",
    "부모 클래스에서 정의한 함수와 변수는 자식 클래스에서 정의한 것처럼 사용할 수 있습니다.\n",
    "\n",
    "부모 클래스에서 정의한 함수와 자식 클래스에서 정의한 함수 이름이 같은 경우,\n",
    "부모 클래스의 함수를 호출하려면 두 가지 방법 중 하나를 사용해야 합니다.\n",
    "1) 부모클래스명.함수명()\n",
    "2) super().함수명()\n",
    "\n",
    "즉, super()는 자식클래스에서 부모클래스에 있는 함수를 사용하고 싶고,\n",
    "플러스 해당 함수명이 자식클래스에 중복되어 있을 때 사용할 수 있는 코드입니다.\n",
    "\"\"\"\n",
    "\n",
    "class User:\n",
    "    def __init__(self, name, is_admin=False):\n",
    "        self.name = name\n",
    "        self.is_admin = is_admin\n",
    "\n",
    "\n",
    "class Admin(User):\n",
    "    def __init__(self, name):\n",
    "        super().__init__(name, is_admin=True)\n",
    "\n",
    "# 부모 클래스(User)로부터 상속을 받으려면 클래스를 선언할 때,\n",
    "# 클래스 이름 다음에 있는 소괄호 안에 부모 클래스의 이름을 넣어주면 됩니다.\n",
    "class Customer(User):\n",
    "    def __init__(self, name):\n",
    "        super().__init__(name)\n",
    "        self.purchases = []\n",
    "\n",
    "\n",
    "class Vendor(User):\n",
    "    def __init__(self, name):\n",
    "        super().__init__(name)\n",
    "        self.products = []"
   ]
  },
  {
   "cell_type": "code",
   "execution_count": 49,
   "metadata": {},
   "outputs": [],
   "source": [
    "# 위의 코드에서 제품(Product)과 구매(Purchase) 클래스 생성 코드 추가\n",
    "from datetime import datetime\n",
    "\n",
    "class User:\n",
    "    def __init__(self, name, is_admin=False):\n",
    "        self.name = name\n",
    "        self.is_admin = is_admin\n",
    "\n",
    "\n",
    "class Admin(User):\n",
    "    def __init__(self, name):\n",
    "        super().__init__(name, is_admin=True)\n",
    "\n",
    "\n",
    "class Customer(User):\n",
    "    def __init__(self, name):\n",
    "        super().__init__(name)\n",
    "        self.purchases = []\n",
    "\n",
    "\n",
    "class Vendor(User):\n",
    "    def __init__(self, name):\n",
    "        super().__init__(name)\n",
    "        self.products = []\n",
    "\n",
    "\n",
    "class Product:\n",
    "    def __init__(self, name, price, vendor):\n",
    "        self.name = name\n",
    "        self.price = price\n",
    "        self.vendor = vendor\n",
    "\n",
    "\n",
    "class Purchase:\n",
    "    def __init__(self, product, customer):\n",
    "        self.product = product\n",
    "        self.customer = customer\n",
    "        self.purchase_price = product.price\n",
    "        self.purchase_data = datetime.now()"
   ]
  },
  {
   "cell_type": "code",
   "execution_count": 50,
   "metadata": {},
   "outputs": [],
   "source": [
    "\"\"\"\n",
    "현재 생성된 클래스: User(Admin, Customer, Vendor), Product, Purchase\n",
    "\n",
    "1) 고객(Customer): 제품(Product)을 구매(Purchase)하는 행동\n",
    "    => Customer 클래스에 purchase_product 메소드 추가\n",
    "\n",
    "2) 공급업체(Vendor): 제품(Product)을 생산(Product)하는 행동\n",
    "    => Vendor 클래스에 create_product 메소드 추가\n",
    "\"\"\"\n",
    "\n",
    "from datetime import datetime\n",
    "\n",
    "class User:\n",
    "    def __init__(self, name, is_admin=False):\n",
    "        self.name = name\n",
    "        self.is_admin = is_admin\n",
    "\n",
    "class Admin(User):\n",
    "    def __init__(self, name):\n",
    "        super().__init__(name, is_admin=True)\n",
    "\n",
    "class Customer(User):\n",
    "    def __init__(self, name):\n",
    "        super().__init__(name)\n",
    "        self.purchases = []\n",
    "    # 함수 추가\n",
    "    def purchase_product(self, product):\n",
    "        purchase = Purchase(product, self)\n",
    "        self.purchases.append(purchase)\n",
    "\n",
    "class Vendor(User):\n",
    "    def __init__(self, name):\n",
    "        super().__init__(name)\n",
    "        self.products = []\n",
    "    # 함수 추가\n",
    "    def create_product(self, product_name, product_price):\n",
    "        product = Product(product_name, product_price, self)\n",
    "        self.products.append(product)\n",
    "\n",
    "# 모델링을 위한 추가 소스코드\n",
    "class Product:\n",
    "    def __init__(self, name, price, vendor):\n",
    "        self.name = name\n",
    "        self.price = price\n",
    "        self.vendor = vendor\n",
    "\n",
    "class Purchase:\n",
    "    def __init__(self, product, customer):\n",
    "        self.product = product\n",
    "        self.customer = customer\n",
    "        self.purchase_price = product.price\n",
    "        self.purchase_data = datetime.now()"
   ]
  },
  {
   "cell_type": "markdown",
   "metadata": {},
   "source": [
    "#### 🔍 모듈\n",
    "* 파이썬에서 코드가 저장된 파일을 모듈이라고 한다.\n",
    "\n",
    "    * 모듈을 활용하면 유지보수가 쉬운 프로그램을 작성할 수 있다.\n",
    "    * 즉, 파이썬에서 코드를 작성한 후 파일로 저장하여 다른 코드 파일에서도 해당 파일의 변수, 함수, 클래스를 불러와서 사용할 수 있다.\n",
    "\n",
    "* 모듈 불러오기 방법\n",
    "    * import 모듈명 : 모듈을 불러오는 가장 기초적인 방법\n",
    "    * from 모듈명 import 변수/함수/클래스명\n",
    "    * from 모듈명 import *"
   ]
  },
  {
   "cell_type": "code",
   "execution_count": 51,
   "metadata": {},
   "outputs": [],
   "source": [
    "### test/tmy_function.py\n",
    "def my_divide():\n",
    "    try:\n",
    "        x = input('분자의 숫자를 입력하세요 ~ ')\n",
    "        y = input('분모의 숫자를 입력하세요 ~ ')\n",
    "        return int(x) / int(y)\n",
    "    except:\n",
    "        return '나누기를 할 수 없습니다'\n",
    "\n",
    "writer = 'Lion'"
   ]
  },
  {
   "cell_type": "code",
   "execution_count": null,
   "metadata": {},
   "outputs": [],
   "source": [
    "### test/test_function.py\n",
    "# import 모듈명\n",
    "'''import 모듈명 을 사용할 때, 모듈명.변수, 모듈명.함수(), 모듈명.클래스() 형태로 불러와서 사용가능'''\n",
    "import my_function\n",
    "\n",
    "print(my_function.my_divide())\n",
    "\n",
    "# import 모듈명 as 별명\n",
    "import my_function as mf\n",
    "\n",
    "print(mf.my_divide())\n",
    "\n",
    "# from 모듈명 import 함수명\n",
    "'''해당 방식의 형태로 변수, 함수, 클래스 를 불러오면 모듈명. 없이 바로 변수/함수/클래스를 사용가능'''\n",
    "from my_function import my_divide\n",
    "\n",
    "print(my_divide())\n",
    "\n",
    "# 불러온 변수/함수/클래스 명도 별명을 붙여서 사용할 수 있다.\n",
    "from my_function import my_divide as md\n",
    "\n",
    "print(md())\n",
    "\n",
    "# 모듈 내의 모든 변수, 함수, 클래스를 사용하고자 할 때는 from 모듈명 import * 를 사용한다.\n",
    "from my_function import *\n",
    "\n",
    "print(my_divide())\n",
    "print('writer:', writer)"
   ]
  },
  {
   "cell_type": "markdown",
   "metadata": {},
   "source": [
    "💡 위의 예시는 동일 폴더 내에 있는 모듈(코드)를 불러온 예시이다!\n",
    "\n",
    "➡️ 다른 경로에서 가져오는 방법 참고 : [블로그](https://cuorej.tistory.com/entry/PYTHON-%EC%97%AC%EB%9F%AC-%EA%B2%BD%EB%A1%9C%EC%9D%98-%EB%AA%A8%EB%93%88-import-%ED%95%98%EA%B8%B0-1)"
   ]
  },
  {
   "cell_type": "markdown",
   "metadata": {},
   "source": [
    "### 4. 파이썬 활용 및 OOP"
   ]
  },
  {
   "cell_type": "markdown",
   "metadata": {},
   "source": [
    "#### 📎 데이터 캡슐화와 접근제어\n",
    "![Encapsulation in Python OOP](https://user-images.githubusercontent.com/89832134/150321865-bb0fe055-06f8-493e-835b-6fc318a86e91.jpeg)\n",
    "\n",
    "💡 생각하는 시간 : 캡슐화를 하는 이유\n",
    "\n",
    "- 캡슐화 : object 및 소스코드 **구현에 대한 상세정보를 분리**하는 과정이다.\n",
    "- **모듈화**가 가능해진다.(함수, 메소드, 클래스 등을 활용한 기능 분리.)\n",
    "- 기능이 분리되어있으니 **디버깅**을 하는 경우 편리하다.\n",
    "- 프로그램이 기능별로 분리되어있으니 **소스코드의 목적**을 알기쉽다.\n",
    "- 파이썬은 object 접근제어를 위한 **접근제어자를 제공하지 않기때문에** 변수, 메소드, 함수에 직접 접근할 수 있다.\n",
    "    - 파이썬에서는 상단 표와 같이 **직접 접근을 허용하지 않는 규칙**을 만들었다.\n",
    "    - Notation : 접근 정도를 나타내는 명칭이며 Private -> Protected -> Public 순서로 코드접근이 어렵다.\n",
    "- 파이썬의 변수나 함수를 감춰주는 기능으로서, 외부에서 무분별한 접근을 막기위해 위와 같은 개념이 생겨났다.\n",
    "    - 외부 object가 속성이나 메소드에 대한 접근을 막기 위해 **이중 밑줄 __을 접두사**로 추가할 수 있다.\n",
    "    - **'_클래스이름__메소드이름'** 형태로 이름을 변환시켜, 부모클래스와 서브클래스의 변수나 메소드이름을 구분짓는다."
   ]
  },
  {
   "cell_type": "code",
   "execution_count": 52,
   "metadata": {},
   "outputs": [],
   "source": [
    "class Point:\n",
    "    def __init__(self, x, y):\n",
    "        self.x = x\n",
    "        self.y = y\n",
    "        self.__private_name = \"private 접근\"\n",
    "\n",
    "\n",
    "class Point_sub(Point):\n",
    "  def __init__(self,x, y):\n",
    "    Point.__init__(self,x,y)\n",
    "    self.x = x\n",
    "    self.y = y\n",
    "\n",
    "\n",
    "  def __sub(self):\n",
    "    self.__x = 10\n",
    "    self.__y = 20\n",
    "\n",
    "\n",
    "  def sub(self):\n",
    "    self.__sub()\n",
    "    print(self.__x)\n",
    "    print(self.__y)\n",
    "\n",
    "my_point = Point(1, 2)\n",
    "my_point_sub = Point_sub(10,20)"
   ]
  },
  {
   "cell_type": "code",
   "execution_count": 53,
   "metadata": {},
   "outputs": [
    {
     "ename": "AttributeError",
     "evalue": "'Point' object has no attribute '__private_name'",
     "output_type": "error",
     "traceback": [
      "\u001b[0;31m---------------------------------------------------------------------------\u001b[0m",
      "\u001b[0;31mAttributeError\u001b[0m                            Traceback (most recent call last)",
      "\u001b[0;32m<ipython-input-53-59f060b392e5>\u001b[0m in \u001b[0;36m<module>\u001b[0;34m\u001b[0m\n\u001b[1;32m      1\u001b[0m \u001b[0;31m# case 1 - error case: private 으로 해당코드로 접근할 수 없다\u001b[0m\u001b[0;34m\u001b[0m\u001b[0;34m\u001b[0m\u001b[0;34m\u001b[0m\u001b[0m\n\u001b[0;32m----> 2\u001b[0;31m \u001b[0mprint\u001b[0m\u001b[0;34m(\u001b[0m\u001b[0mmy_point\u001b[0m\u001b[0;34m.\u001b[0m\u001b[0m__private_name\u001b[0m\u001b[0;34m)\u001b[0m\u001b[0;34m\u001b[0m\u001b[0;34m\u001b[0m\u001b[0m\n\u001b[0m",
      "\u001b[0;31mAttributeError\u001b[0m: 'Point' object has no attribute '__private_name'"
     ]
    }
   ],
   "source": [
    "# case 1 - error case: private 으로 해당코드로 접근할 수 없다\n",
    "print(my_point.__private_name)"
   ]
  },
  {
   "cell_type": "code",
   "execution_count": 54,
   "metadata": {},
   "outputs": [
    {
     "name": "stdout",
     "output_type": "stream",
     "text": [
      "private 접근\n"
     ]
    }
   ],
   "source": [
    "# case 2\n",
    "# 클래스 생성자에 있는 private변수에 접근하기위해 '_클래스이름__private변수' 를 활용한다.\n",
    "print(my_point._Point__private_name)"
   ]
  },
  {
   "cell_type": "code",
   "execution_count": 55,
   "metadata": {},
   "outputs": [
    {
     "name": "stdout",
     "output_type": "stream",
     "text": [
      "10\n",
      "20\n"
     ]
    }
   ],
   "source": [
    "# case 3\n",
    "my_point_sub.sub()    # 변환된 이름에 대해 값 출력"
   ]
  },
  {
   "cell_type": "markdown",
   "metadata": {},
   "source": [
    "아래와 같이 클래스이름과 속성에 대해 알고 있으면, 변형된 이름을 사용해 접근가능하다\n",
    "\n",
    "➡️ 따라서, 코드상에서 접근을 강제로 막을 방법은 없다."
   ]
  },
  {
   "cell_type": "code",
   "execution_count": 59,
   "metadata": {},
   "outputs": [],
   "source": [
    "class A(object):\n",
    "    def __init__(self):\n",
    "        self.__X = 3        # self._A__X 로 변환\n",
    "\n",
    "\n",
    "    def __test(self):     # _A__test() 로 변환\n",
    "        print('self.__X' ,self.__X)\n",
    "\n",
    "\n",
    "    def bast(self):\n",
    "        self.__test()\n",
    "\n",
    "class B(A):\n",
    "    def __init__(self):\n",
    "        A.__init__(self)\n",
    "        self.__X = 20       # self._B__X 로 변환\n",
    "\n",
    "\n",
    "    def __test(self):     # _B__test() 로 변환\n",
    "        print(self.__X)\n",
    "\n",
    "\n",
    "    def bast(self):\n",
    "        self.__test()\n",
    "\n",
    "# 객체 생성\n",
    "a = A()"
   ]
  },
  {
   "cell_type": "code",
   "execution_count": 60,
   "metadata": {},
   "outputs": [
    {
     "ename": "AttributeError",
     "evalue": "'A' object has no attribute '__test'",
     "output_type": "error",
     "traceback": [
      "\u001b[0;31m---------------------------------------------------------------------------\u001b[0m",
      "\u001b[0;31mAttributeError\u001b[0m                            Traceback (most recent call last)",
      "\u001b[0;32m<ipython-input-60-3d5d655b3a1d>\u001b[0m in \u001b[0;36m<module>\u001b[0;34m\u001b[0m\n\u001b[1;32m      1\u001b[0m \u001b[0;31m# 오류 발생 코드\u001b[0m\u001b[0;34m\u001b[0m\u001b[0;34m\u001b[0m\u001b[0;34m\u001b[0m\u001b[0m\n\u001b[0;32m----> 2\u001b[0;31m \u001b[0ma\u001b[0m\u001b[0;34m.\u001b[0m\u001b[0m__test\u001b[0m\u001b[0;34m(\u001b[0m\u001b[0;34m)\u001b[0m\u001b[0;34m\u001b[0m\u001b[0;34m\u001b[0m\u001b[0m\n\u001b[0m",
      "\u001b[0;31mAttributeError\u001b[0m: 'A' object has no attribute '__test'"
     ]
    }
   ],
   "source": [
    "# 오류 발생 코드\n",
    "a.__test()"
   ]
  },
  {
   "cell_type": "code",
   "execution_count": 61,
   "metadata": {},
   "outputs": [
    {
     "name": "stdout",
     "output_type": "stream",
     "text": [
      "a ----------------------\n",
      "self.__X 3\n",
      "self.__X 3\n"
     ]
    }
   ],
   "source": [
    "# private 메소드 접근방법\n",
    "# 1) 변형된 이름을 통해 접근가능: '_클래스이름__private메소드'\n",
    "print('a ----------------------')\n",
    "a._A__test()\n",
    "\n",
    "# 2) 우회경로로 접근가능\n",
    "a.bast()"
   ]
  },
  {
   "cell_type": "code",
   "execution_count": 62,
   "metadata": {},
   "outputs": [
    {
     "name": "stdout",
     "output_type": "stream",
     "text": [
      "b ----------------------\n",
      "20\n",
      "20\n"
     ]
    }
   ],
   "source": [
    "# 객체 생성\n",
    "b = B()\n",
    "\n",
    "# private 메소드 접근\n",
    "print('b ----------------------')\n",
    "b._B__test()\n",
    "b.bast()"
   ]
  },
  {
   "cell_type": "code",
   "execution_count": 64,
   "metadata": {},
   "outputs": [
    {
     "ename": "AttributeError",
     "evalue": "'A' object has no attribute '__X'",
     "output_type": "error",
     "traceback": [
      "\u001b[0;31m---------------------------------------------------------------------------\u001b[0m",
      "\u001b[0;31mAttributeError\u001b[0m                            Traceback (most recent call last)",
      "\u001b[0;32m<ipython-input-64-6cf29d780617>\u001b[0m in \u001b[0;36m<module>\u001b[0;34m\u001b[0m\n\u001b[1;32m      1\u001b[0m \u001b[0;31m# 오류 발생 코드\u001b[0m\u001b[0;34m\u001b[0m\u001b[0;34m\u001b[0m\u001b[0;34m\u001b[0m\u001b[0m\n\u001b[0;32m----> 2\u001b[0;31m \u001b[0mprint\u001b[0m\u001b[0;34m(\u001b[0m\u001b[0ma\u001b[0m\u001b[0;34m.\u001b[0m\u001b[0m__X\u001b[0m\u001b[0;34m)\u001b[0m\u001b[0;34m\u001b[0m\u001b[0;34m\u001b[0m\u001b[0m\n\u001b[0m",
      "\u001b[0;31mAttributeError\u001b[0m: 'A' object has no attribute '__X'"
     ]
    }
   ],
   "source": [
    "# 오류 발생 코드\n",
    "print(a.__X)"
   ]
  },
  {
   "cell_type": "code",
   "execution_count": 65,
   "metadata": {},
   "outputs": [
    {
     "name": "stdout",
     "output_type": "stream",
     "text": [
      "X ----------------------\n",
      "3\n",
      "3\n",
      "\n",
      "\n",
      "[부모클래스 A를 사용해 생성한 객체 a의 변수와 메소드]\n",
      "['_A__X', '_A__test', '__class__', '__delattr__', '__dict__', '__dir__', '__doc__', '__eq__', '__format__', '__ge__', '__getattribute__', '__gt__', '__hash__', '__init__', '__init_subclass__', '__le__', '__lt__', '__module__', '__ne__', '__new__', '__reduce__', '__reduce_ex__', '__repr__', '__setattr__', '__sizeof__', '__str__', '__subclasshook__', '__weakref__', 'bast']\n",
      "[부모클래스 B를 사용해 생성한 객체 b의 변수와 메소드]\n",
      "['_A__X', '_A__test', '_B__X', '_B__test', '__class__', '__delattr__', '__dict__', '__dir__', '__doc__', '__eq__', '__format__', '__ge__', '__getattribute__', '__gt__', '__hash__', '__init__', '__init_subclass__', '__le__', '__lt__', '__module__', '__ne__', '__new__', '__reduce__', '__reduce_ex__', '__repr__', '__setattr__', '__sizeof__', '__str__', '__subclasshook__', '__weakref__', 'bast']\n"
     ]
    }
   ],
   "source": [
    "# __X 변수 접근\n",
    "print('X ----------------------')\n",
    "print(a._A__X)\n",
    "print(b._A__X)\n",
    "print('\\n')\n",
    "\n",
    "# 상속을 받았기 때문에 B클래스의 인스턴스에서 A클래스의 함수와 변수도 확인가능하다.\n",
    "# dir(객체): 파이썬 내장메소드로 해당 객체가 어떤 변수와 메소드를 가지고 있는지 나열\n",
    "print('[부모클래스 A를 사용해 생성한 객체 a의 변수와 메소드]')\n",
    "print(dir(a))\n",
    "\n",
    "print('[부모클래스 B를 사용해 생성한 객체 b의 변수와 메소드]')\n",
    "print(dir(b))"
   ]
  },
  {
   "cell_type": "markdown",
   "metadata": {},
   "source": [
    "#### 🔍 자세히보기 : 속성(attribute)충돌\n",
    "\n",
    "* _와 __의 활용에 대해 생각해보자.\n",
    "* 프로그램이 길어지고 다양한 변수를 선언하는 경우 클래스의 속성이 충돌(변수의 중복)할 수 있다."
   ]
  },
  {
   "cell_type": "code",
   "execution_count": 66,
   "metadata": {},
   "outputs": [
    {
     "name": "stdout",
     "output_type": "stream",
     "text": [
      "30\n",
      "40\n",
      "어떤 클래스에서 값을 받아오냐에 따라 값의 정보가 바뀜--\n",
      "50\n",
      "20\n",
      "parent_class value: 30  sub_class value: 30\n"
     ]
    }
   ],
   "source": [
    "# 속성충돌\n",
    "\n",
    "class parent_class:\n",
    "    def __init__(self):\n",
    "        self.value = 30\n",
    "        self._value = 40\n",
    "        self.__value = 50\n",
    "\n",
    "    def get(self):\n",
    "        return self.value\n",
    "\n",
    "class sub_class(parent_class):\n",
    "    def __init__(self):\n",
    "        super().__init__()\n",
    "        self.__value = 20    # 위의 parent_class의 _value와 충돌(값의 중복)발생\n",
    "\n",
    "s = sub_class()\n",
    "print(s.value) # public\n",
    "print(s._value)# protected\n",
    "\n",
    "print('어떤 클래스에서 값을 받아오냐에 따라 값의 정보가 바뀜--')\n",
    "print(s._parent_class__value)\n",
    "print(s._sub_class__value)\n",
    "print('parent_class value:',s.get(),' sub_class value:', s.value)"
   ]
  },
  {
   "cell_type": "markdown",
   "metadata": {},
   "source": [
    "* 위처럼 속성의 충돌(같은 값)이 발생하는 이유는 대체로 프로그램에서 중복되는 속성(attribute)을 활용하는 경우이다.\n",
    "\n",
    "* 속성명을 다르게 해줘도 되지만 파이썬에서 활용할 수 있는 '비공개 속성' 을 활용할 수 있다.\n",
    "\n",
    "* 비공개 속성은 위에서 설명한 '__'를 활용한다."
   ]
  },
  {
   "cell_type": "code",
   "execution_count": 67,
   "metadata": {},
   "outputs": [
    {
     "name": "stdout",
     "output_type": "stream",
     "text": [
      "parent_class value: 10  sub_class value: 20\n"
     ]
    }
   ],
   "source": [
    "# 속성충돌방지(언더바와 접근제어의 개념을 활용하여 같은 변수이름끼리 헷갈리지 않도록 한다.)\n",
    "\n",
    "class parent_class:\n",
    "    def __init__(self):\n",
    "        self.__value = 10   # parent_class는 '__'\n",
    "\n",
    "    def get(self):\n",
    "        return self.__value # parent_class는 '__'\n",
    "\n",
    "class sub_class(parent_class):\n",
    "    def __init__(self):\n",
    "        super().__init__()  # parent_class 호출을 위해 super() 사용\n",
    "        self._value = 20    # sub_class는 '_'\n",
    "\n",
    "\n",
    "s = sub_class()\n",
    "print('parent_class value:',s.get(),' sub_class value:', s._value)"
   ]
  },
  {
   "cell_type": "markdown",
   "metadata": {},
   "source": [
    "#### 📎 메소드 오버라이딩\n",
    "<img width=\"453\" alt=\"메소드오버라이딩\" src=\"https://user-images.githubusercontent.com/89832134/150322881-57b0f057-5420-4030-ab42-f0cdddc8a130.png\">\n",
    "\n",
    "💡 생각하는 시간 : 메소드 오버라이딩은 상속개념을 기반으로 한 개념이다.\n",
    "\n",
    "- 오버라이딩은 **우선시하다**라는 의미로, 상속처럼 부모클래스의 메소드를 재호출하는 것이 아니라 **같은 이름의 메소드를 신규 생성**하는 것이다.\n",
    "- 새로운 이름의 메소드를 기능별로 만들면 되는데 부모클래스의 메소드이름을 그대로 사용하는 이유는 무엇일까?\n",
    "    - **중복되는 기능(메소드)은 기존 부모클래스의 메소드(기능)로 재사용**하고, 다르게 사용하려면 **재정의**하는 개념으로 활용할 수 있다.\n",
    "        - 프로그래밍의 핵심이 되는 **재사용**을 위함이다.\n",
    "        - 메소드 오버라이딩도 다형성 개념의 한 종류이다."
   ]
  },
  {
   "cell_type": "code",
   "execution_count": 68,
   "metadata": {},
   "outputs": [
    {
     "name": "stdout",
     "output_type": "stream",
     "text": [
      "출력1:\n",
      "부모클래스 자전거\n",
      "출력2:\n",
      "자식클래스 재정의: specialized test\n"
     ]
    },
    {
     "data": {
      "text/plain": [
       "'return 자식클래스 재정의: specialized test'"
      ]
     },
     "execution_count": 68,
     "metadata": {},
     "output_type": "execute_result"
    }
   ],
   "source": [
    "class Bicycle():\n",
    "    def exclaim(self):\n",
    "        print(\"부모클래스 자전거\")\n",
    "\n",
    "class Specialized(Bicycle):            # 부모클래스를 상속받음\n",
    "    def exclaim(self, specialized):    # 메소드 오버라이딩(specialized 파라미터 추가, return 추가)\n",
    "        print(\"자식클래스 재정의:\",specialized)\n",
    "        return 'return 자식클래스 재정의: '+specialized\n",
    "\n",
    "\n",
    "a_bike = Bicycle()\n",
    "a_specialized = Specialized()\n",
    "\n",
    "# 출력1 - 부모클래스 메소드\n",
    "print('출력1:')\n",
    "a_bike.exclaim()\n",
    "\n",
    "# 출력2 - 오버라이딩된 자식클래스 메소드(파라미터 추가, return 추가)\n",
    "print('출력2:')\n",
    "a_specialized.exclaim('specialized test')"
   ]
  },
  {
   "cell_type": "code",
   "execution_count": 69,
   "metadata": {},
   "outputs": [
    {
     "name": "stdout",
     "output_type": "stream",
     "text": [
      "출력1:\n",
      "부모클래스 자전거\n",
      "출력2:\n",
      "부모클래스 자전거\n",
      "super를 활용한 부모클래스의 메소드입니다.\n"
     ]
    }
   ],
   "source": [
    "class Bicycle():\n",
    "    def exclaim(self):\n",
    "        print(\"부모클래스 자전거\")\n",
    "\n",
    "\n",
    "class Specialized(Bicycle): # 부모클래스를 상속받음\n",
    "    def exclaim(self):    # 메소드 오버라이딩\n",
    "        super().exclaim() # super는 위의 부모클래스 메소드를 그대로 활용한다.\n",
    "        print('super를 활용한 부모클래스의 메소드입니다.')\n",
    "\n",
    "\n",
    "a_bike = Bicycle()\n",
    "a_specialized = Specialized()\n",
    "\n",
    "# 출력1 - 부모클래스 메소드\n",
    "print('출력1:')\n",
    "a_bike.exclaim()\n",
    "\n",
    "# 출력2 - super : 부모클래스 메소드 그대로 활용\n",
    "print('출력2:')\n",
    "a_specialized.exclaim()"
   ]
  },
  {
   "cell_type": "markdown",
   "metadata": {},
   "source": [
    "#### 📎super 사용하기\n",
    "* 아래 예시에서 Graduate(자식클래스)는 Student(부모클래스)가 가지고 있는 모든 매개변수(파라미터, arguments)를 사용한다.\n",
    "* 상속을 통한 재사용을 하는 경우, 아래와 같이 다른 매개변수(graduation_date)도 신규 생성할 수 있다.\n"
   ]
  },
  {
   "cell_type": "code",
   "execution_count": 70,
   "metadata": {},
   "outputs": [
    {
     "name": "stdout",
     "output_type": "stream",
     "text": [
      "출력1: stu_class\n",
      "출력2: gradu_class\n",
      "출력3: stu\n",
      "출력4: gradu\n",
      "출력5: gradu\n",
      "출력6: 11\n"
     ]
    }
   ],
   "source": [
    "class Student:    # 부모클래스\n",
    "    def __init__(self, name):\n",
    "        self.name = name\n",
    "        print(self.name)\n",
    "\n",
    "\n",
    "class Graduate(Student):    # 부모클래스 상속받음\n",
    "    def __init__(self, name, graduation_date):\n",
    "        super().__init__(name)   # super를 활용하여 부모 메소드를 호출하여 name 매개변수 재사용(super를 사용하면 부모클래스의 상속받는다는 것을 의미함)\n",
    "        self.graduation_date = graduation_date\n",
    "\n",
    "\n",
    "print('출력1: ', end='')\n",
    "a_student = Student('stu_class')\n",
    "print('출력2: ', end='')\n",
    "a_graduate = Graduate('gradu_class',11)\n",
    "\n",
    "print('출력3: ', end='')\n",
    "a_student.__init__('stu')\n",
    "print('출력4: ', end='')\n",
    "a_graduate.__init__('gradu',11)\n",
    "\n",
    "# graduate 인스턴스 생성\n",
    "print('출력5: ', end='')\n",
    "print(a_graduate.name)\n",
    "\n",
    "print('출력6: ', end='')\n",
    "print(a_graduate.graduation_date)"
   ]
  },
  {
   "cell_type": "markdown",
   "metadata": {},
   "source": [
    "##### 🔍 자세히보기\n",
    "리스트 반복의 경우 range와 enumerate 내장함수를 비교하면서 사용해보는게 좋다."
   ]
  },
  {
   "cell_type": "code",
   "execution_count": 71,
   "metadata": {},
   "outputs": [
    {
     "name": "stdout",
     "output_type": "stream",
     "text": [
      "range with len method :  0\n",
      "range with len method :  1\n",
      "range with len method :  2\n",
      "range with len method :  3\n",
      "index method :  1\n"
     ]
    }
   ],
   "source": [
    "# range보다는 enumerate를 사용한다.\n",
    "# range 내장 함수는 정수집합을 반복하는 상황에서 유용하다.\n",
    "\n",
    "# 하지만 리스트에 대해서 특정 인덱스에 따라 반복을 하는 경우, list의 길이를 알아야하고(len함수 써야함), \n",
    "# 인덱스를 사용해 배열원소에 접근해야 한다.(index함수 써야함)\n",
    "\n",
    "# case 1 - range를 통한 반복\n",
    "fla_list = ['A','B','C','D']\n",
    "\n",
    "len_list = len(fla_list)            # len을 통해 리스트 길이 확인\n",
    "index_list = fla_list.index('B')    # index를 통해 배열원소 접근\n",
    "\n",
    "for i in range(0, len_list):\n",
    "    print('range with len method : ',i)\n",
    "\n",
    "print('index method : ',index_list)"
   ]
  },
  {
   "cell_type": "code",
   "execution_count": 72,
   "metadata": {},
   "outputs": [
    {
     "name": "stdout",
     "output_type": "stream",
     "text": [
      "1: A\n",
      "2: B\n",
      "3: C\n",
      "4: D\n"
     ]
    }
   ],
   "source": [
    "# 리스트 반복의 경우 enumerate 내장함수를 사용해보는게 좋다.\n",
    "\n",
    "# case 2 - enumerate 활용\n",
    "fla_list = ['A','B','C','D']\n",
    "enu_list = enumerate(fla_list)\n",
    "# print(enu_list)\n",
    "# print(next(enu_list))\n",
    "# print(next(enu_list))\n",
    "\n",
    "# enumerate는 인덱스와 값을 함께 출력해주기 때문에 상황에 따라 다양하게 활용해볼 수 있다.\n",
    "\n",
    "for i,enu_list in enumerate(fla_list):\n",
    "    print(f'{i+1}: {enu_list}')"
   ]
  },
  {
   "cell_type": "code",
   "execution_count": 74,
   "metadata": {},
   "outputs": [
    {
     "name": "stdout",
     "output_type": "stream",
     "text": [
      "1: A\n",
      "2: B\n",
      "3: C\n",
      "4: D\n"
     ]
    }
   ],
   "source": [
    "# 위의 방법을 range로 해보고 비교해보자.\n",
    "\n",
    "for i in range(0, len(fla_list)):\n",
    "    fla = fla_list[i]\n",
    "    print(f'{i+1}: {fla}')"
   ]
  },
  {
   "cell_type": "markdown",
   "metadata": {},
   "source": [
    "# 3. 추가 개념"
   ]
  },
  {
   "cell_type": "markdown",
   "metadata": {},
   "source": [
    "❓ 함수에서 어떤 변수를 호출하면 아래 3가지 영역의 순서대로 변수가 있는지 확인하는데 그 순서는 어떻게 될까?\n",
    "\n",
    "    - 전역 영역(global scope): 전역 변수를 저장하는 이름 공간\n",
    "    - 내장 영역(built-in scope): 파이썬 자체에서 정의한 이름 공간\n",
    "    - 지역 영역(local scope): 지역 변수를 저장하는 이름 공간\n",
    "\n",
    "➡️ 함수에서 어떤 변수를 호출하면지역 영역(local scope) -> 전역 영역(global scope) -> 내장 영역(built-in scope) 순으로 확인한다!\n",
    "* 이를 스코핑 룰(Scoping rule) 혹은 LGB 룰(Local/Global/Built-in rule)이라고 한다.\n",
    "* 각각의 변수 이름이 다르다면 문제가 되지 않지만 만약 동일한 변수명을 지역 변수와 전역 변수 모두 이용했다면 이것을 이용할 때 스코핑 룰에 따라 변수가 선택된다."
   ]
  },
  {
   "cell_type": "markdown",
   "metadata": {},
   "source": [
    "---"
   ]
  },
  {
   "cell_type": "markdown",
   "metadata": {},
   "source": [
    "🔍 문자열 입력을 받고 첫번째 문자를 대문자로, 나머지문자는 소문자 그대로 표시하는 파이썬 메소드"
   ]
  },
  {
   "cell_type": "code",
   "execution_count": 2,
   "metadata": {},
   "outputs": [
    {
     "name": "stdout",
     "output_type": "stream",
     "text": [
      "Python programming\n"
     ]
    }
   ],
   "source": [
    "str_data = 'python programming'\n",
    "\n",
    "# case 1 : capitalize()\n",
    "cap_str_data = str_data.capitalize()\n",
    "print(cap_str_data)"
   ]
  },
  {
   "cell_type": "code",
   "execution_count": 4,
   "metadata": {},
   "outputs": [
    {
     "data": {
      "text/plain": [
       "'Python programming'"
      ]
     },
     "execution_count": 4,
     "metadata": {},
     "output_type": "execute_result"
    }
   ],
   "source": [
    "str_data = 'python programming'\n",
    "\n",
    "# case 2 : upper, lower\n",
    "def my_capitalize(str):\n",
    "    a = str[0].upper()\n",
    "    b = str[1:].lower()\n",
    "    res = a + b\n",
    "    return res\n",
    "\n",
    "my_capitalize(str_data)"
   ]
  },
  {
   "cell_type": "markdown",
   "metadata": {},
   "source": [
    "---"
   ]
  },
  {
   "cell_type": "markdown",
   "metadata": {},
   "source": [
    "❓ 아래의 문자열에서 '{', '}'가 제거되고 출력될 수 있도록, 적절한 파이썬 메소드는?"
   ]
  },
  {
   "cell_type": "code",
   "execution_count": 5,
   "metadata": {},
   "outputs": [
    {
     "data": {
      "text/plain": [
       "'Hey Jude don\"t be afraid'"
      ]
     },
     "execution_count": 5,
     "metadata": {},
     "output_type": "execute_result"
    }
   ],
   "source": [
    "str_data = '{Hey} {Jude} {don\"t be {{afraid'\n",
    "\n",
    "# case 1: 정규표현식\n",
    "import re\n",
    "str_data = re.sub(\"[{}]\", \"\", str_data)\n",
    "str_data"
   ]
  },
  {
   "cell_type": "code",
   "execution_count": 6,
   "metadata": {},
   "outputs": [
    {
     "name": "stdout",
     "output_type": "stream",
     "text": [
      "Hey Jude don\"t be afraid\n"
     ]
    }
   ],
   "source": [
    "str_data = '{Hey} {Jude} {don\"t be {{afraid'\n",
    "\n",
    "# case 2: replace\n",
    "pre_str_data1 = str_data.replace('{', '')\n",
    "pre_str_data2 = pre_str_data1.replace('}', '')\n",
    "print(pre_str_data2)"
   ]
  },
  {
   "cell_type": "markdown",
   "metadata": {},
   "source": [
    "🔍 re.sub（정규 표현식, 대상 문자열 , 치환 문자）\n",
    "\n",
    "    정규 표현식 - 검색 패턴을 지정\n",
    "    대상 문자열 - 검색 대상이 되는 문자열\n",
    "    치환 문자 - 변경하고 싶은 문자"
   ]
  }
 ],
 "metadata": {
  "interpreter": {
   "hash": "d473ce608692a3bf02c1de21d06d5afe9b45f4f9760cc575a6ec607da11a00f4"
  },
  "kernelspec": {
   "display_name": "Python 3.8.8 64-bit ('base': conda)",
   "language": "python",
   "name": "python3"
  },
  "language_info": {
   "codemirror_mode": {
    "name": "ipython",
    "version": 3
   },
   "file_extension": ".py",
   "mimetype": "text/x-python",
   "name": "python",
   "nbconvert_exporter": "python",
   "pygments_lexer": "ipython3",
   "version": "3.8.8"
  },
  "orig_nbformat": 4
 },
 "nbformat": 4,
 "nbformat_minor": 2
}
