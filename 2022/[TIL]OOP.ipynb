{
 "cells": [
  {
   "cell_type": "markdown",
   "metadata": {},
   "source": [
    "추상클래스의 다중 상속 연습\n",
    "1. 추상클래스의 다중상속은 일반적으로 많이 사용한다.\n",
    "2. 왜냐, 다중 상속받는 부모 추상클래스들이 추상 메소드로만 이루어져있으면 문제가 안생김\n",
    "3. 하지만 부모 추상클래스에 일반메소드가 있으면 마찬가지로 문제가 생길 수 있음!"
   ]
  },
  {
   "cell_type": "code",
   "execution_count": 1,
   "metadata": {},
   "outputs": [
    {
     "name": "stdout",
     "output_type": "stream",
     "text": [
      "이메일 내용입니다:\n",
      "안녕? 오랜만이야 잘 지내니?\n",
      "이메일을 주소 dona@gmail.com에서 salmon@gmail.com로 보냅니다!\n",
      "True\n",
      "True\n",
      "False\n"
     ]
    }
   ],
   "source": [
    "from abc import ABC, abstractmethod\n",
    "\n",
    "class Message(ABC):\n",
    "    @abstractmethod\n",
    "    def print_message(self) -> None:\n",
    "        pass\n",
    "\n",
    "class Sendable(ABC):\n",
    "    @abstractmethod\n",
    "    def send(self, destination: str) -> None:\n",
    "        pass\n",
    "\n",
    "class Email(Message, Sendable):\n",
    "    def __init__(self, content, user_email):\n",
    "        self.content = content\n",
    "        self.user_email = user_email\n",
    "\n",
    "    def print_message(self):\n",
    "        print(f\"이메일 내용입니다:\\n{self.content}\")\n",
    "\n",
    "    def send(self, destination):\n",
    "        print(f\"이메일을 주소 {self.user_email}에서 {destination}로 보냅니다!\")\n",
    "\n",
    "# 출력\n",
    "# 이메일 인스턴스를 생성한다.\n",
    "email = Email(\"안녕? 오랜만이야 잘 지내니?\", \"dona@gmail.com\")\n",
    "\n",
    "# 메시지 내용 출력\n",
    "email.print_message()\n",
    "# 메시지 전송\n",
    "email.send(\"salmon@gmail.com\")\n",
    "\n",
    "# print(dir(email))\n",
    "# print(Email.mro())\n",
    "# print(Email.__base__)\n",
    "print(isinstance(email, Email))\n",
    "print(issubclass(Email, object))\n",
    "print(issubclass(Message, Email))"
   ]
  }
 ],
 "metadata": {
  "interpreter": {
   "hash": "d473ce608692a3bf02c1de21d06d5afe9b45f4f9760cc575a6ec607da11a00f4"
  },
  "kernelspec": {
   "display_name": "Python 3.8.8 64-bit ('base': conda)",
   "language": "python",
   "name": "python3"
  },
  "language_info": {
   "codemirror_mode": {
    "name": "ipython",
    "version": 3
   },
   "file_extension": ".py",
   "mimetype": "text/x-python",
   "name": "python",
   "nbconvert_exporter": "python",
   "pygments_lexer": "ipython3",
   "version": "3.8.8"
  },
  "orig_nbformat": 4
 },
 "nbformat": 4,
 "nbformat_minor": 2
}
