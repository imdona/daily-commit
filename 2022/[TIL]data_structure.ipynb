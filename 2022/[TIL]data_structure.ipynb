{
 "cells": [
  {
   "cell_type": "markdown",
   "metadata": {},
   "source": [
    "![자료구조](https://user-images.githubusercontent.com/89832134/150918213-7142355f-287f-4869-9ec4-65ed812b2b50.png)"
   ]
  },
  {
   "cell_type": "markdown",
   "metadata": {},
   "source": [
    "##### 선형 구조\n",
    "- 배열 (array) : 가장 일반적인 구조\n",
    "- 연결리스트 (Linkedlist) : 각 노드가 데이터와 포인터를 가지고 한 줄로 연결되어 있는 방식으로 데이터를 저장하는 자료 구조\n",
    "- 스택 (stack) : 후입선출(LIFO: Last In First Out)의 자료구조\n",
    "- 큐 (queue) : 선입선출(FIFO: First In First Out)의 자료구조\n",
    "- 덱(deque) : 앞, 뒤 양쪽으로 삽입과 제거가 가능한 자료구조"
   ]
  },
  {
   "cell_type": "markdown",
   "metadata": {},
   "source": [
    "##### 비선형 구조\n",
    "- 하나의 자료 뒤에 여러개의 자료가 존재할 수 있는 것 (데이터 항목 사이의 관계가 1:n 또는 n:m)\n",
    "    - 트리(Tree) : 부모 노드의 밑에 여러 자식의 노드가 연결되어 있고, 자식의 노드가 부모 노드가 되어 다시 각각의 자식 노드가 연결되어 있는 재귀적 형태의 자료구조\n",
    "    - 그래프(Graph) :노드와 그 노드를 연결하는 간선을 하나로 모아 놓은 자료 구조"
   ]
  }
 ],
 "metadata": {
  "interpreter": {
   "hash": "d473ce608692a3bf02c1de21d06d5afe9b45f4f9760cc575a6ec607da11a00f4"
  },
  "kernelspec": {
   "display_name": "Python 3.8.8 64-bit ('base': conda)",
   "language": "python",
   "name": "python3"
  },
  "language_info": {
   "codemirror_mode": {
    "name": "ipython",
    "version": 3
   },
   "file_extension": ".py",
   "mimetype": "text/x-python",
   "name": "python",
   "nbconvert_exporter": "python",
   "pygments_lexer": "ipython3",
   "version": "3.8.8"
  },
  "orig_nbformat": 4
 },
 "nbformat": 4,
 "nbformat_minor": 2
}
