{
 "cells": [
  {
   "cell_type": "markdown",
   "metadata": {},
   "source": [
    "# 1. 코드"
   ]
  },
  {
   "cell_type": "markdown",
   "metadata": {},
   "source": []
  },
  {
   "cell_type": "markdown",
   "metadata": {},
   "source": [
    "# 2. Note"
   ]
  },
  {
   "cell_type": "markdown",
   "metadata": {},
   "source": [
    "### 📎 Data Structure 자료구조란"
   ]
  },
  {
   "cell_type": "markdown",
   "metadata": {},
   "source": [
    "* 현실을 프로그래밍적으로 표현하는 것\n",
    "* 큰 데이터를 효율적으로 관리하는 것\n",
    "* 추상적 자료구조(ADT)\n",
    "    * 스택 : 차곡차곡 쌓는 것 (웹에서 뒤로가기, 작업하다가 ctrl+z)\n",
    "    * 큐 : 줄 서는 것 (이메일 전달, 푸쉬 알림 기능, 쇼핑몰에서 선착순으로 주문 처리)"
   ]
  },
  {
   "cell_type": "markdown",
   "metadata": {},
   "source": [
    "![자료구조](https://user-images.githubusercontent.com/89832134/150918213-7142355f-287f-4869-9ec4-65ed812b2b50.png)"
   ]
  },
  {
   "cell_type": "markdown",
   "metadata": {},
   "source": [
    "- **데이터를 표현하고 관리하고 처리하기 위한 구조**\n",
    ">***데이터***</br>\n",
    "한글로 직역하면 “자료\"이다.</br>\n",
    "이는 현실 세계로부터 수집한 자료의 사실이나 개념의 값을 말한다.\n",
    "- 목적 및 필요성\n",
    "  - 수많은 자료(Data)의 조직화를 통한 효율적 저장, 관리\n",
    "  - 메모리의 효율적 사용\n",
    "- 자료구조를 고민해야하는 이유\n",
    "  - 다양한 자료구조가 존재하지만, **모든 목적에 적합한 단일한 자료구조는 없다.**\n",
    "  - 따라서 **삽입, 삭제, 비교, 교환, 검색 등의 자료의 특성을 고려하여 자료구조를 선택**하면 연산의 횟수를 줄일 수 있고, 메모리 용량과 같은 자원을 최소한으로 사용 가능하다.\n",
    "- 자료구조의 기초 개념 <U>스택과 큐</U>에서 고려해야할 핵심요소\n",
    "  - **삽입(Push)** : 데이터 삽입\n",
    "\n",
    "  - **삭제(Pop)** : 데이터 삭제\n",
    "  - **오버플로(Overflow)** : 특정한 자료구조가 수용할 수 있는 데이터의 크기를 이미 가득 찬 상태에서 삽입 연산을 수행할 때 발생 => 저장공간을 벗어나 데이터가 넘쳐흐를 때 발생\n",
    "  - **언더플로(Underflow)** : 특정한 자료구조에 데이터가 전혀 들어 있지 않은 상태에서 삭제 연산을 수행할 때 발생"
   ]
  },
  {
   "cell_type": "markdown",
   "metadata": {},
   "source": [
    "##### 선형 구조\n",
    "- 배열 (array) : 가장 일반적인 구조\n",
    "- 연결리스트 (Linkedlist) : 각 노드가 데이터와 포인터를 가지고 한 줄로 연결되어 있는 방식으로 데이터를 저장하는 자료 구조\n",
    "- 스택 (stack) : 후입선출(LIFO: Last In First Out)의 자료구조\n",
    "- 큐 (queue) : 선입선출(FIFO: First In First Out)의 자료구조\n",
    "- 덱(deque) : 앞, 뒤 양쪽으로 삽입과 제거가 가능한 자료구조"
   ]
  },
  {
   "cell_type": "markdown",
   "metadata": {},
   "source": [
    "##### 비선형 구조\n",
    "- 하나의 자료 뒤에 여러개의 자료가 존재할 수 있는 것 (데이터 항목 사이의 관계가 1:n 또는 n:m)\n",
    "    - 트리(Tree) : 부모 노드의 밑에 여러 자식의 노드가 연결되어 있고, 자식의 노드가 부모 노드가 되어 다시 각각의 자식 노드가 연결되어 있는 재귀적 형태의 자료구조\n",
    "    - 그래프(Graph) :노드와 그 노드를 연결하는 간선을 하나로 모아 놓은 자료 구조"
   ]
  },
  {
   "cell_type": "markdown",
   "metadata": {},
   "source": [
    "### 0. intro : ADT(Abstract Data Type : 추상자료형)란?"
   ]
  },
  {
   "cell_type": "markdown",
   "metadata": {},
   "source": [
    "추상적 자료형(Abstract Data Type, 줄여서 ADT)은 컴퓨터 과학에서 자료들과 그 자료들에 대한 연산들을 명기한 것이다. 추상적 자료형은 구현 방법을 명시하고 있지 않다는 점에서 자료 구조와 다르다. 비슷한 개념의 추상적 자료 구조는 각 연산의 시간 복잡도를 명기하고 있지만 추상적 자료형에서는 이것조차 명기하지 않는다.\n",
    "\n",
    "추상적 자료형은 인터페이스와 구현을 분리하여 추상화 계층을 둔 것이다. 예를 들어, 전기 밥솥을 추상적 자료형에 비유한다면, 그 속에 들어가는 밥은 자료가 되고, 밥솥에 있는 취사, 예약취사 버튼들과 남은 시간을 표시하는 디스플레이에 어떤 내용들이 표시되어야 하는지를 명기한 것이다. 추상적 자료형에서는 이것들이 어떻게 구성되는지 관심이 없고, 몇 와트의 전기를 소모하는지에 대해서도 관심이 없다.\n",
    "\n",
    "자료에 대한 연산은 자료에 대하여 질의를 던지는 것과 자료를 변경하기 위한 연산으로 나뉜다. 유명한 자료구조인 스택에서 자료를 변경하기 위한 연산은 기본적으로 push와 pop이 있다. 여기에 자료에 대하여 질의를 던지는 연산으로 스택의 크기를 알 수 있는 size 연산, 스택이 가득차거나 비었는지를 알 수 있는 full, empty 연산이 있고, 추가적으로 pop을 하면 제거될 자료를 볼 수 있는 peek 연산 등을 정의할 수 있다. 만약 여기에 각 연산들은 모두 상수 시간 복잡도(즉, O(1))에 일어나야 한다고 명기한다면 이것은 '추상적 자료 구조'가 된다.\n",
    "- [위키백과 추상자료형](https://ko.wikipedia.org/wiki/%EC%B6%94%EC%83%81_%EC%9E%90%EB%A3%8C%ED%98%95)"
   ]
  },
  {
   "cell_type": "markdown",
   "metadata": {},
   "source": [
    "<정리>\n",
    "- 복잡한 자료, 모듈, 시스템 등으로부터 핵심적인 개념 또는 기능을 간추려 내는 것\n",
    "-  컴퓨터 과학에서 자료들과 그 자료들에 대한 연산들을 명기한 것\n",
    "- 추상적 자료형은 구현 방법을 명시하지 않는다.(!= 자료 구조)\n",
    "- 자료구조의 방법이 코드로 정의된 것이 아니라 그 행동양식이 정의된 것\n",
    "- 규칙을 이해하면 직접 ADT 스택, 큐, 연결리스트 자료구조를 만들 수 있다.\n",
    "- ADT는 추상적으로 필요한 기능을 나열한 일종의 명세서(로직)이다.\n",
    "  - ADT는 기본자료형(대표적으로 리스트, 숫자, 문자열)을 활용하여 사용자에 의해 구현된다."
   ]
  },
  {
   "cell_type": "markdown",
   "metadata": {},
   "source": [
    "💡 생각하는 시간 : ADT를 활용하는 이유가 무엇인가.\n",
    "- 프로그래밍을 하면서 데이터처리를 위한 자료형이 존재한다.\n",
    "- 파이썬에서 프로그램밍을 위한 도구들인 **기본자료형(숫자, 문자열, 리스트, 딕셔너리 등)**에 대해 배웠다.\n",
    "- ADT는 추상적으로 필요한 기능을 나열한 일종의 명세서 **(로직)**이다.\n",
    "    - ADT는 기본자료형(대표적으로 리스트, 숫자, 문자열)을 활용하여 **사용자에 의해 구현**된다.\n",
    "\n",
    "💡 생각하는 시간 : **abstract**\n",
    "- 컴퓨터과학을 공부하다보면 abstract 용어가 자주 등장한다.\n",
    "- abstract는 소프트웨어가 발전하면서 프로그램의 크기나 복잡도가 같이 증가하였고 프로그램의 **핵심부분을 간단하게 설명하기** 위해 생겨났다.\n",
    "    - 참고내용 : [추상화(요약)](https://ko.wikipedia.org/wiki/%EC%B6%94%EC%83%81%ED%99%94_(%EC%BB%B4%ED%93%A8%ED%84%B0_%EA%B3%BC%ED%95%99))\n",
    "\n",
    "![ADT](https://user-images.githubusercontent.com/89832134/150908335-0699fee7-aaa3-4d99-bec1-6843a4fd5923.png)"
   ]
  },
  {
   "cell_type": "markdown",
   "metadata": {},
   "source": [
    "### 1. linked-list(연결리스트)"
   ]
  },
  {
   "cell_type": "markdown",
   "metadata": {},
   "source": [
    "🥕 나만의 기본 정리\n",
    "* 데이터를 순서대로 저장해준다.\n",
    "* 요소를 계속 추가할 수 있다(like 동적배열, but 구현방식은 더 복잡함)\n",
    "* 노드 : 하나의 객체로 표현되며, **[해당 노드의 값, 다음 노드 위치(다음 노드에 대한 레퍼런스)]** 로 이루어져있음\n",
    "    * 시작 노드 : head 노드\n",
    "    * 마지막 노드(tail 노드)는 다음 노드위치가 비어져있음\n",
    "    * 연결되어 있는 것처럼 보이지만, 실제 메모리에서는 여기저기 흩어져있을 수 있다."
   ]
  },
  {
   "cell_type": "markdown",
   "metadata": {},
   "source": [
    "<img width=\"688\" alt=\"연결리스트_리스트\" src=\"https://user-images.githubusercontent.com/89832134/150908478-5678553e-3b71-45a7-a84e-20289a9d5c5a.png\">\n",
    "\n",
    "🔍 자세히보기 : 리스트와 연결리스트\n",
    "\n",
    "- 연결리스트는 말 그대로 **리스트들을 '연결'** 해준다.\n",
    "    - 연결은 프로그래밍에서 **참조의 기능**으로 구현되고, 연결리스트는 **리스트의 길이를 별도로 지정해줄 필요없다**.\n",
    "    - 위에서 보는 것처럼 연결리스트는 **별도의 인덱스를 지정할 필요없이** 연결되는 구조이다.\n",
    "\n",
    "![리스트배열연결리스트](https://user-images.githubusercontent.com/89832134/150908494-17098498-d5b2-4adb-af7e-b1042e150fc1.png)\n",
    "\n",
    "📎 **배열**은 요소를 **직접 접근하여 저장하고 인덱스를 활용** 한다.\n",
    "\n",
    "📎 **연결리스트**의 각 요소는 참조하는 **노드**에 저장된다.\n",
    "- 각 노드는 연결리스트의 다음 노드에 대해 **참조(또는 '포인터')** 를 한다.\n",
    "    - **참조기호 : .** 으로 지칭한다.\n",
    "    - **삽입, 할당기호 : =** 로 표현한다.\n",
    "- 연결리스트의 핵심개념은 **연결**이고, 이것은 참조되는 노드의 '**위치바꾸기**'라고 할 수 있다.\n",
    "- 연결리스트도 리스트의 메소드와 같은 기능들을 구현할 수 있다.\n",
    "    - 삽입 / 삭제 / 검색"
   ]
  },
  {
   "cell_type": "code",
   "execution_count": 1,
   "metadata": {},
   "outputs": [],
   "source": [
    "# 연결리스트의 노드를 저장하는 첫 단계\n",
    "\n",
    "class Node:\n",
    "    '''링크드 리스트의 노트 클래스'''\n",
    "    def __init__(self, value, next = None):\n",
    "        self.value = value  # 노드의 값(노드가 저장하는 데이터)을 나타내는 value\n",
    "        self.next = next  # 노드의 다음위치를 가리키는 next의 초기값은 None(다음 노드에 대한 레퍼런스)\n",
    "\n",
    "class linked_list:\n",
    "    def __init__(self, value):\n",
    "        self.head = Node(value) # 초기 클래스에 head 노드 선언\n",
    "\n",
    "    def add_node(value):\n",
    "        print('head.value:', head.value)\n",
    "        print('head.next:', head.next)\n",
    "        node = head           # 첫번째 위치에 해당하는 head를 생성하고, node 변수에 저장해둔다.\n",
    "        while node.next:      # head노드의 다음위치에 노드가 생성될 때까지 반복문 진행한다.\n",
    "            node = node.next  # head노드의 다음위치에 노드가 있는 경우(두번째 노드라고 가정),\n",
    "            print('print in while:', node.next)\n",
    "                            # 두번째 노드부터 node변수에 저장\n",
    "        node.next = Node(value) # 데이터를 노드 다음위치에 저장"
   ]
  },
  {
   "cell_type": "code",
   "execution_count": 3,
   "metadata": {},
   "outputs": [
    {
     "name": "stdout",
     "output_type": "stream",
     "text": [
      "head.value: 5\n",
      "head.next: None\n",
      "--------------------------------\n",
      "5\n",
      "11\n"
     ]
    }
   ],
   "source": [
    "# 연결리스트의 노드값들에 대해서 봐보자.\n",
    "\n",
    "head = Node(5)    # head노드에 값5를 저장\n",
    "linked_list.add_node(11) # 값11을 추가\n",
    "\n",
    "print('--------------------------------')\n",
    "print(head.value) # head노드의 값은 5\n",
    "print(head.next.value) # head노드의 다음위치노드의 값은 11"
   ]
  },
  {
   "cell_type": "markdown",
   "metadata": {},
   "source": [
    "---"
   ]
  },
  {
   "cell_type": "code",
   "execution_count": 5,
   "metadata": {},
   "outputs": [
    {
     "name": "stdout",
     "output_type": "stream",
     "text": [
      "3\n",
      "4\n",
      "5\n",
      "6\n",
      "----------------------------------------------------------------\n",
      "3\n",
      "4\n",
      "5\n",
      "6\n"
     ]
    }
   ],
   "source": [
    "# 연결리스트의 핵심개념은 연결이고, 이것은 참조되는 노드의 '위치바꾸기'라고 할 수 있다.\n",
    "# 리스트를 연결해보자.\n",
    "\n",
    "# 노드들 생성\n",
    "node1 = Node(3)\n",
    "node2 = Node(4)\n",
    "node3 = Node(5)\n",
    "node4 = Node(6)\n",
    "\n",
    "# 노드들을 연결\n",
    "node1.next = node2\n",
    "node2.next = node3\n",
    "node3.next = node4\n",
    "\n",
    "## 연결된 것을 확인\n",
    "# 노드 순서대로 출력\n",
    "node = node1        # 첫번째노드부터 시작한다.\n",
    "while node:         # 노드별로 반복문을 수행\n",
    "    print(node.value)\n",
    "    node = node.next  # 다음노드를 현재노드에 저장하면서 위치를 바꾼다.\n",
    "\n",
    "\n",
    "print('----------------------------------------------------------------')\n",
    "# 노드 순서대로 출력(2) : 같은 출력값\n",
    "iterator = node1\n",
    "\n",
    "while iterator is not None:\n",
    "    print(iterator.value)\n",
    "    iterator = iterator.next"
   ]
  },
  {
   "cell_type": "markdown",
   "metadata": {},
   "source": [
    "---"
   ]
  },
  {
   "cell_type": "markdown",
   "metadata": {},
   "source": [
    "❓ 삭제 구현해보기 [ X ]"
   ]
  },
  {
   "cell_type": "code",
   "execution_count": null,
   "metadata": {},
   "outputs": [],
   "source": [
    "# 연결리스트도 리스트의 메소드와 같은 기능들을 구현할 수 있다. : 삽입 / 삭제 / 검색\n",
    "# 클래스에 연결리스트 구현\n",
    "class Node:\n",
    "    '''링크드 리스트의 노트 클래스'''\n",
    "    def __init(self, value):\n",
    "        self.value = value\n",
    "        self.next = None\n",
    "\n",
    "\n",
    "class linked_list:\n",
    "    '''링크드 리스트 클래스'''\n",
    "    def __init__(self, value):\n",
    "        self.head = None(value)  # Node 클래스 호출\n",
    "\n",
    "\n",
    "    def add_node(self, value):\n",
    "        '''링크드 리스트 삽입 연산 메소드'''\n",
    "        if self.head == None:\n",
    "            # 링크드 리스트가 비어 있는 경우\n",
    "            self.head = Node(value)\n",
    "        else:\n",
    "            # 링크드 리스트가 비어 있지 않은 경우\n",
    "            node = self.head\n",
    "            while node.next:  # node.next가 None이 될때까지 반복\n",
    "                node = node.next\n",
    "            node.next = Node(value)  # init함수의 value\n",
    "\n",
    "\n",
    "    # 연결 리스트의 삭제 구현\n",
    "    def del_node(self, value):\n",
    "        '''링크드 리스트 삭제 연산 메소드'''\n",
    "        # head가 None일 경우\n",
    "        if self.head == None:\n",
    "            # 해당 값에 대한 노드는 없다\n",
    "            # 의미없는 조건에서 함수는 아무것도 반환하지 않는다\n",
    "            return\n",
    "\n",
    "        # head가 삭제해야할 값일 경우\n",
    "        elif self.head.value == value:\n",
    "            # 노드의 위치를 변경시킨다.\n",
    "            # 변경된 노드에 대해서 삭제를 진행한다.\n",
    "            delete = self.head\n",
    "            self.head = self.head.next\n",
    "            return delete.value\n",
    "\n",
    "        # 삭제해야할 값 찾기\n",
    "        else:\n",
    "            node = self.head\n",
    "\n",
    "            while node.next:\n",
    "                if node.next.value == value:\n",
    "                    # 노드의 위치를 변경시킨다.\n",
    "                    # 변경된 노드에 대해서 삭제를 진행한다.\n",
    "                    pass\n",
    "\n",
    "                else:\n",
    "                    # 다음 노드의 위치를 현재 노드에 넣어준다.\n",
    "                    pass\n",
    "\n",
    "\n",
    "    # 연결리스트의 노드출력을 위한 기능\n",
    "    def ord_desc(self):\n",
    "        node = self.head\n",
    "        while node:\n",
    "            print(node.value)\n",
    "            node = node.next"
   ]
  },
  {
   "cell_type": "code",
   "execution_count": null,
   "metadata": {},
   "outputs": [],
   "source": [
    "# 노드출력 테스트\n",
    "linkedlist = linked_list(0)\n",
    "linkedlist.ord_desc()"
   ]
  },
  {
   "cell_type": "code",
   "execution_count": null,
   "metadata": {},
   "outputs": [],
   "source": [
    "# 노드 삽입 테스트\n",
    "for value in range(1,10):\n",
    "    linkedlist.add_node(value)\n",
    "linkedlist.ord_desc()"
   ]
  },
  {
   "cell_type": "code",
   "execution_count": null,
   "metadata": {},
   "outputs": [],
   "source": [
    "# 연결리스트의 head의 주소를 확인함으로써 메모리상에 연결리스트가 존재함을 확인\n",
    "linkedlist.head"
   ]
  },
  {
   "cell_type": "code",
   "execution_count": null,
   "metadata": {},
   "outputs": [],
   "source": [
    "# 노드삭제 테스트 1\n",
    "print('test1 ---------')\n",
    "linkedlist = linked_list(0) # 노드 초기값 설정\n",
    "linkedlist.del_node(0)  # 노드삭제\n",
    "linkedlist.del_node(0)  # 노드삭제\n",
    "linkedlist.ord_desc()\n",
    "\n",
    "# 노드삭제 테스트 2\n",
    "print('test2 ---------')\n",
    "linkedlist = linked_list(0) # 노드 초기값 설정\n",
    "linkedlist.add_node(1)\n",
    "linkedlist.del_node(0)  # 노드삭제\n",
    "linkedlist.ord_desc()\n",
    "\n",
    "# 노드삭제 테스트 3\n",
    "print('test3 ---------')\n",
    "linkedlist = linked_list(0) # 노드 초기값 설정\n",
    "for value in range(1,5):\n",
    "    linkedlist.add_node(value)\n",
    "linkedlist.del_node(3)  # 노드삭제\n",
    "linkedlist.ord_desc()"
   ]
  },
  {
   "cell_type": "markdown",
   "metadata": {},
   "source": [
    "---"
   ]
  },
  {
   "cell_type": "markdown",
   "metadata": {},
   "source": [
    "🔍 자세히보기 : 프로그래밍에서의 '**연결**' 한다는 것.\n",
    "\n",
    "- 노드간의 '**동적**'이라는 개념을 컴퓨터 프로그래밍에서는 '**연결**'이라는 개념으로 접목시켰다.\n",
    "    - 연결하면서 값의 위치가 바뀌고 위치가 바뀌면 값도 바뀌는 것이다.\n",
    "    - 위의 소스코드와 같은 경우는 **주소의 위치를 바꿔주면서 '교체'** 를 해준다.\n",
    "- 기존 방식은 인덱스를 통해 함수로 삽입/삭제/검색이 가능했었지만, \n",
    "연결리스트는 인덱스의 기능을 할 수 있도록 **노드별로 위치를 변경**해줘야하는 다른 점이 있다."
   ]
  },
  {
   "cell_type": "markdown",
   "metadata": {},
   "source": [
    "❓ 연결리스트 검색함수 구현해보기 [ X ]"
   ]
  },
  {
   "cell_type": "code",
   "execution_count": null,
   "metadata": {},
   "outputs": [],
   "source": [
    "# 연결리스트도 리스트의 메소드와 같은 기능들을 구현할 수 있다. : 삽입 / 삭제 / 검색\n",
    "# 클래스에 연결리스트 구현\n",
    "class Node:\n",
    "    '''링크드 리스트의 노트 클래스'''\n",
    "    def __init(self, value):\n",
    "        self.value = value\n",
    "        self.next = None\n",
    "\n",
    "\n",
    "class linked_list:\n",
    "    '''링크드 리스트 클래스'''\n",
    "    def __init__(self, value):\n",
    "        self.head = None(value)\n",
    "\n",
    "\n",
    "    def add_node(self, value):\n",
    "        '''링크드 리스트 삽입 연산 메소드'''\n",
    "        if self.head == None:\n",
    "            # 링크드 리스트가 비어 있는 경우\n",
    "            self.head = Node(value)\n",
    "        else:\n",
    "            # 링크드 리스트가 비어 있지 않은 경우\n",
    "            node = self.head\n",
    "            while node.next:\n",
    "                node = node.next\n",
    "            node.next = Node(value)  # init함수의 value\n",
    "\n",
    "\n",
    "    # 연결 리스트의 삭제 구현\n",
    "    def del_node(self, value):\n",
    "        '''링크드 리스트 삭제 연산 메소드'''\n",
    "        if self.head == None:\n",
    "            # 해당 값에 대한 노드는 없다\n",
    "            # 의미없는 조건에서 함수는 아무것도 반환하지 않는다\n",
    "            pass\n",
    "        elif self.head.value == value:\n",
    "            # 노드의 위치를 변경시킨다.\n",
    "            # 변경된 노드에 대해서 삭제를 진행한다.\n",
    "            pass\n",
    "        else:\n",
    "            node = self.head\n",
    "            while node.next:\n",
    "                if node.next.value == value:\n",
    "                    # 노드의 위치를 변경시킨다.\n",
    "                    # 변경된 노드에 대해서 삭제를 진행한다.\n",
    "                    pass\n",
    "                else:\n",
    "                    # 다음 노드의 위치를 현재 노드에 넣어준다.\n",
    "                    pass\n",
    "\n",
    "\n",
    "    # 연결리스트의 노드출력을 위한 기능\n",
    "    def ord_desc(self):\n",
    "        node = self.head\n",
    "        while node:\n",
    "            print(node.value)\n",
    "            node = node.next\n",
    "    # 연결리스트 검색함수\n",
    "    def search_node(self,value):\n",
    "        node = self.head\n",
    "    # 노드가 있는 경우 아래 작업을 반복한다.\n",
    "        # 노드의 값이 현재 값과 같은 경우\n",
    "            #노드를 반환한다.\n",
    "        # 노드의 값이 다른 경우\n",
    "            # 다른 노드의 위치를 현재 노드에 넣어준다."
   ]
  },
  {
   "cell_type": "code",
   "execution_count": null,
   "metadata": {},
   "outputs": [],
   "source": [
    "linkedlist = linked_list(0) # 연결리스트 초기화\n",
    "\n",
    "# 연결리스트에 노드 다시 추가\n",
    "for value in range(1,11):\n",
    "    linkedlist.add_node(value)\n",
    "linkedlist.ord_desc()"
   ]
  },
  {
   "cell_type": "code",
   "execution_count": null,
   "metadata": {},
   "outputs": [],
   "source": [
    "# 4라는 값을 갖고 있는 노드를 연결리스트에서 검색해보자.\n",
    "\n",
    "node = linkedlist.search_node(4)\n",
    "print(node.value)\n",
    "print(node.next.value)      # 4 다음 값 검색"
   ]
  },
  {
   "cell_type": "markdown",
   "metadata": {},
   "source": [
    "* 위의 head 노드를 삭제하는 것도 head 자체를 바로 삭제하는 것이 아니라, head의 위치를 바꿔주는 것이다.\n",
    "\n",
    "* 기존방식이었던 인덱스를 통해 함수로 삽입/삭제/검색이 가능했었지만, 연결리스트는 인덱스의 기능을 할 수 있도록 노드별로 위치를 변경해줘야하는 다른 점이 있다."
   ]
  },
  {
   "cell_type": "markdown",
   "metadata": {},
   "source": [
    "### 2. Queue(큐)"
   ]
  },
  {
   "cell_type": "markdown",
   "metadata": {},
   "source": [
    "- *Queue : (무엇을 기다리는 사람, 자동차 등의) 줄 , 혹은 줄을 서서 기다리는 것*\n",
    "- <font color='red'>**선입선출(FIFO, First in first out)**</font> 방식의 자료구조\n",
    "- 정해진 한 곳(top)을 통해서 삽입, 삭제가 이루어지는 스택과는 달리 큐는 한쪽 끝에서 **삽입** 작업이, 다른 쪽 끝에서 **삭제** 작업이 양쪽으로 이루어진다.\n",
    ">deque = $double-ended queue$의 줄임말\n",
    "  - 큐에서 양방향으로 데이터를 처리한다는 의미\n",
    "  - double은 자료구조에서 양방향을 의미\n",
    "\n",
    "  - **프론트(front)** : 삭제연산만 수행되는 곳으로 큐의 가장 첫 원소를 말함\n",
    "  - **리어(rear)** : 삽입연산만 이루어지는 곳으로 큐의 가장 끝 원소를 말함\n",
    "  - **인큐(enQueue)** : 큐의 리어에서 이루어지는 **삽입연산**\n",
    "  - **디큐(dnQueue)** : 프론트에서 이루어지는 **삭제연산**\n",
    "- 큐는 들어올 때 rear로 들어오지만 나올때는 front부터 빠진다. 접근방법은 가장 첫 원소와 끝 원소로만 가능하며 가장 먼저 들어온 프론트 원소가 가장 먼저 삭제된다.\n",
    "- 활용 예시\n",
    "  - 우선순위가 같은 작업 예약 (프린터의 인쇄 대기열)\n",
    "  - 은행 업무\n",
    "  - 콜센터 고객 대기시간\n",
    "  - 프로세스 관리\n",
    "  - 너비 우선 탐색(BFS, Breadth-First Search) 구현\n",
    "  - 캐시(Cache) 구현"
   ]
  },
  {
   "cell_type": "markdown",
   "metadata": {},
   "source": [
    "![큐_상세](https://user-images.githubusercontent.com/89832134/150916869-75920e26-4e7e-412b-9017-d1ef7f20464c.png)\n",
    "\n",
    "- **큐**는 항목을 **FIFO** (선입 선출) 순서로 저장하는 자료구조이다.\n",
    "    - 예를 들어 식료품 점의 계산대와 같은 대기열을 생각해보면 된다.\n",
    "    - 줄을 서고 있는 **첫 번째 고객은 가장 먼저 계산을 종료** 하는 것과 같은 개념이다.\n",
    "    - Queue 클래스의 경우, 먼저 **init** 메서드를 정의해야한다.\n",
    "        - 이 메서드에서 front(앞)와 rear(뒤) 인스턴스변수를 초기화 해야한다.\n",
    "    - 큐의 **Time and Space Complexity(시간, 공간 복잡도)**\n",
    "        - Enqueue(대기열에 넣기)\n",
    "            데이터를 큐에 추가하면 (데이터를 큐 rear에 추가) O(1) 시간이 걸린다.\n",
    "        - Dequeue(대기열에서 빼기)\n",
    "            데이터를 큐에서 빼면 (데이터를 큐 front에서 제거) O(1) 시간이 걸린다.\n",
    "            <img width=\"735\" alt=\"큐\" src=\"https://user-images.githubusercontent.com/89832134/150917132-60dfa01f-95d9-4c87-8899-fcfbfb71331e.png\">"
   ]
  },
  {
   "cell_type": "code",
   "execution_count": 6,
   "metadata": {},
   "outputs": [
    {
     "name": "stdout",
     "output_type": "stream",
     "text": [
      "queue: deque(['Eric', 'John', 'Michael', 'Terry', 'Graham'])\n",
      "queue.popleft(): Eric\n",
      "queue.popleft(): John\n",
      "queue: deque(['Michael', 'Terry', 'Graham'])\n"
     ]
    }
   ],
   "source": [
    "# 리스트 메소드를 사용해서 큐를 만들어보기\n",
    "\n",
    "from collections import deque\n",
    "queue = deque([\"Eric\", \"John\", \"Michael\"])\n",
    "queue.append(\"Terry\")\n",
    "queue.append(\"Graham\")\n",
    "\n",
    "print('queue:', queue)\n",
    "print('queue.popleft():',queue.popleft())\n",
    "print('queue.popleft():',queue.popleft())\n",
    "print('queue:', queue)"
   ]
  },
  {
   "cell_type": "code",
   "execution_count": null,
   "metadata": {},
   "outputs": [],
   "source": [
    "# Queue 클래스의 경우, 먼저 init 메서드를 정의해야한다.\n",
    "    # (이 메서드에서 front(앞)와 rear(뒤) 인스턴스변수를 초기화 해야한다.)\n",
    "class Queue:\n",
    "    def __init__(self):\n",
    "        self.front = None\n",
    "        self.rear = None"
   ]
  },
  {
   "cell_type": "markdown",
   "metadata": {},
   "source": [
    "💡 연결리스트를 이용하여 큐와 스택을 구현하는 이유\n",
    "\n",
    "- 여타 언어에서 배열 기반으로 큐를 구현하거나 연결리스트 기반으로 큐를 구현하는 이유는 따로 있다. (궁금한 경우: [[참고링크]](https://blog.naver.com/crm06217/221869226631)) 그렇다면 파이썬에서 리스트 기반으로 큐를 구현하는 대신 연결리스트로 구현하는 이유는 무엇일까?\n",
    "- 연결리스트는 파이썬에 없는 자료구조로, 사용하려면 직접 클래스로 구현하여 사용하여야 한다. 연결리스트를 구현하고 이해하기 위해서는 해당 자료구조를 많이 사용해 보아야 한다. 그렇기 때문에 연결리스트를 기반으로 큐와 스택 자료구조를 구현하는 연습을 해봄으로써 연결리스트를 좀 더 잘 이해하는 것을 목표로 한다."
   ]
  },
  {
   "cell_type": "code",
   "execution_count": 7,
   "metadata": {},
   "outputs": [],
   "source": [
    "# 연결리스트를 이용한 큐 구현\n",
    "class LinkedListNode:\n",
    "    def __init__(self, data):\n",
    "        self.data = data\n",
    "        self.next = None\n",
    "\n",
    "\n",
    "class Queue:\n",
    "    def __init__(self):\n",
    "        self.front = None\n",
    "        self.rear = None\n",
    "\n",
    "\n",
    "    # 대기열에서 넣기(큐에 값을 집어넣는 함수)\n",
    "    def enqueue(self, item):\n",
    "        new_node = LinkedListNode(item)\n",
    "        # 큐가 비어있는지 체크\n",
    "        if self.rear is None:\n",
    "            self.front = new_node\n",
    "            self.rear = new_node\n",
    "        else:\n",
    "            # 새로운 노드를 rear 다음에 삽입\n",
    "            self.rear.next = new_node\n",
    "            # 새로운 노드를 rear 재할당\n",
    "            self.rear = new_node\n",
    "        return new_node.data\n",
    "\n",
    "\n",
    "    # 대기열에서 빼기(큐에서 값을 빼내는 함수)\n",
    "    def dequeue(self):\n",
    "        # 큐가 비어있는지 체크\n",
    "        if self.front is not None:\n",
    "            # front값을 old front에 삽입\n",
    "            old_front = self.front\n",
    "            # old front 다음 값을 front값에 삽입\n",
    "            self.front = old_front.next\n",
    "\n",
    "        # 큐가 비어있는지 체크\n",
    "        if self.front is None:\n",
    "            # rear를 None으로 지정한다.\n",
    "            self.rear = None\n",
    "\n",
    "        return old_front.data\n",
    "\n",
    "\n",
    "    # 연결리스트의 노드출력을 위한 기능\n",
    "    def ord_desc(self):\n",
    "        node = self.front\n",
    "        while node:\n",
    "            print(node.data)\n",
    "            node = node.next"
   ]
  },
  {
   "cell_type": "code",
   "execution_count": 8,
   "metadata": {},
   "outputs": [
    {
     "name": "stdout",
     "output_type": "stream",
     "text": [
      "1,2,3 차례대로 추가하기:\n",
      "1\n",
      "2\n",
      "3\n",
      "대기열에서 빼기:\n",
      "2\n",
      "3\n"
     ]
    }
   ],
   "source": [
    "print('1,2,3 차례대로 추가하기:')\n",
    "q = Queue()\n",
    "q.enqueue(1)\n",
    "q.enqueue(2)\n",
    "q.enqueue(3)\n",
    "q.ord_desc()\n",
    "\n",
    "print('대기열에서 빼기:')\n",
    "q.dequeue()\n",
    "q.ord_desc()"
   ]
  },
  {
   "cell_type": "markdown",
   "metadata": {},
   "source": [
    "🔍 자세히보기 : 실제로 값을 빼거나 삭제시키는 시키는 개념이 아니다.\n",
    "\n",
    "* enqueue에서는 새로운 노드의 저장공간(변수)를 만들어주고, 그 저장공간에 노드를 넣어주는 개념이다.\n",
    "\n",
    "* dequeue는 삭제할 노드를 위해 저장공간(변수)를 만들어주고, 그 저장공간에 삭제노드를 넣어주는 개념이다."
   ]
  },
  {
   "cell_type": "markdown",
   "metadata": {},
   "source": [
    "### 3. Stack(스택)"
   ]
  },
  {
   "cell_type": "markdown",
   "metadata": {},
   "source": [
    "- *stack : 쌓아 올린다*\n",
    "- 스택 자료구조 : 차곡차곡 쌓아 올린 형태의 자료구조 (박스 쌓기)\n",
    "- 같은 구조와 크기의 자료를 **정해진 방향**으로만 쌓을수 있고, **top으로 정한 곳을 통해서만 접근**할 수 있다.\n",
    "  - **`push`** : top을 통해 **삽입**하는 연산\n",
    "  - **`pop`** : top을 통한 **삭제**하는 연산\n",
    "\n",
    "- **후입선출(LIFO, Last-In-First-Out) 구조**: 시간 순서에 따라 자료가 쌓여서 가장 마지막에 삽입된 자료가 가장 먼저 삭제된다는 구조적 특징\n",
    "  - **stack underflow** : 비어있는 스택에서 원소를 추출하려고 할 때\n",
    "  - **stack overflow** : 스택이 넘치는 경우\n",
    "- 활용 예시\n",
    "  - 웹 브라우저 방문기록 (뒤로 가기) : 가장 나중에 열린 페이지부터 다시 보여준다.\n",
    "  - 역순 문자열 만들기 : 가장 나중에 입력된 문자부터 출력한다.\n",
    "  - 실행 취소 (undo) : 가장 나중에 실행된 것부터 실행을 취소한다.\n",
    "  - 후위 표기법 계산\n",
    "  - 수식의 괄호 검사 (연산자 우선순위 표현을 위한 괄호 검사)\n",
    "  - 윈도우 프로그램 : 컴퓨터종료 시, 가장 먼저 운영체제가 구동되고 가장 마지막으로 종료된다."
   ]
  },
  {
   "cell_type": "markdown",
   "metadata": {},
   "source": [
    "- 파이썬의 리스트를 활용하여 스택에 대해 배워본다.\n",
    "    - 파이썬의 리스트는 동적으로 처리된다.\n",
    "    - 스택이 컴퓨터 프로그램에서 활용되는 예시 : 윈도우 프로그램(컴퓨터종료 시, 가장 먼저 운영체제가 구동되고 가장 마지막으로 종료된다.)\n",
    "\n",
    "![stack](https://user-images.githubusercontent.com/89832134/150917303-f841d46b-ad3d-461f-8900-d5234ec04ebf.png)"
   ]
  },
  {
   "cell_type": "code",
   "execution_count": 9,
   "metadata": {},
   "outputs": [
    {
     "name": "stdout",
     "output_type": "stream",
     "text": [
      "[3, 4, 5, 6, 7]\n",
      "[3, 4, 5, 6]\n",
      "[3, 4, 5]\n",
      "[3, 4]\n"
     ]
    }
   ],
   "source": [
    "# 리스트 메소드를 사용해서 스택만들어보기\n",
    "\n",
    "stack = [3, 4, 5]\n",
    "stack.append(6)\n",
    "stack.append(7)\n",
    "print(stack)\n",
    "\n",
    "stack.pop()\n",
    "print(stack)\n",
    "\n",
    "stack.pop()\n",
    "print(stack)\n",
    "\n",
    "stack.pop()\n",
    "print(stack)\n",
    "\n",
    "# 위의 코드처럼 push와 pop을 활용해서 공간에 값이 유동적으로 변한다.(동적처리)"
   ]
  },
  {
   "cell_type": "code",
   "execution_count": 10,
   "metadata": {},
   "outputs": [],
   "source": [
    "# 리스트를 사용하여 스택을 구현하는 방법 알아보기\n",
    "class Stack:\n",
    "    def __init__(self):\n",
    "        self.data = []    # 동적처리(리스트값이 정해져있지 않음, 대괄호만 선언 및 저장)"
   ]
  },
  {
   "cell_type": "markdown",
   "metadata": {},
   "source": [
    "- push 함수는 파이썬의 리스트개념과 리스트메소드(append, pop)를 사용하여 인덱스를 추가한다.\n",
    "- pop 함수는 인덱스의 마지막 노드를 추출한다."
   ]
  },
  {
   "cell_type": "code",
   "execution_count": null,
   "metadata": {},
   "outputs": [],
   "source": [
    "class Stack:\n",
    "    '''스택 클래스'''\n",
    "    def __init__(self):\n",
    "        self.data = []\n",
    "\n",
    "    def push(self, item):\n",
    "        self.data.append(item)\n",
    "\n",
    "    def pop(self):\n",
    "        if len(self.data) > 0:\n",
    "            return self.data.pop()\n",
    "        return \"The stack is empty\""
   ]
  },
  {
   "cell_type": "markdown",
   "metadata": {},
   "source": [
    "🔍 위와 같이 내장함수가 아닌, 연결리스트 개념과 단순 변수를 사용하여 스택을 구현 방법에 대해 알아본다.\n",
    "- 아래 push 함수는 연결리스트의 헤드에 새 노드를 삽입한다.\n",
    "- pop 함수는 연결리스트의 헤드(최상단)에 있는 노드를 추출한다.\n",
    "- 스택의 소스코드도 큐와 동작은 유사하지만, 입출력의 순서는 반대이다."
   ]
  },
  {
   "cell_type": "code",
   "execution_count": 11,
   "metadata": {},
   "outputs": [],
   "source": [
    "# [연결리스트를 이용한 스택 구현]\n",
    "# 아래의 코드는 스택이 내부적으로 어떻게 작동되는지 확인하기 위해 작성되었다.\n",
    "# 파이썬에서 자체적으로 제공하는 리스트의 append, pop 메소드를 활용하면 쉽게 구현될 수 있지만,\n",
    "# 아래처럼 다른 방법으로도 구현하는 코드를 보면서 스택에 대한 이해도를 높일 수 있다.\n",
    "\n",
    "class LinkedListNode:\n",
    "    def __init__(self, data):\n",
    "        self.data = data\n",
    "        self.next = None\n",
    "\n",
    "class Stack:\n",
    "    def __init__(self):\n",
    "        self.top = None\n",
    "\n",
    "    def push(self, data):\n",
    "        # 신규 노드 생성\n",
    "        new_node = LinkedListNode(data)\n",
    "        # 최상단의 노드를 신규 노드 다음 노드로 삽입\n",
    "        new_node.next = self.top\n",
    "        # 신규 노드를 최상단에 삽입\n",
    "        self.top = new_node\n",
    "        return new_node.data\n",
    "\n",
    "    def pop(self):\n",
    "        # 스택이 비어있는지 확인\n",
    "        if self.top is not None:\n",
    "            # 최상단의 노드를 삭제할 노드로 삽입\n",
    "            popped_node = self.top\n",
    "            # 삭제할 노드 다음 노드를 최상단의 노드로 삽입\n",
    "            self.top = popped_node.next\n",
    "            # 삭제할 노드로부터 값 리턴\n",
    "            return popped_node.data\n",
    "\n",
    "    # 연결리스트의 노드출력을 위한 기능\n",
    "    def ord_desc(self):\n",
    "        node = self.top\n",
    "        while node:\n",
    "            print(node.data)\n",
    "            node = node.next"
   ]
  },
  {
   "cell_type": "code",
   "execution_count": 12,
   "metadata": {},
   "outputs": [
    {
     "name": "stdout",
     "output_type": "stream",
     "text": [
      "1,2,3 차례대로 추가하기:\n",
      "3\n",
      "2\n",
      "1\n",
      "대기열에서 빼기:\n",
      "2\n",
      "1\n"
     ]
    }
   ],
   "source": [
    "# 스택에 내부적으로 값을 쌓고 pop하는 과정을 살펴본다.\n",
    "s = Stack()\n",
    "\n",
    "print('1,2,3 차례대로 추가하기:')\n",
    "s = Stack()\n",
    "s.push(1)\n",
    "s.push(2)\n",
    "s.push(3)\n",
    "s.ord_desc()\n",
    "\n",
    "print('대기열에서 빼기:')\n",
    "s.pop()\n",
    "s.ord_desc()"
   ]
  },
  {
   "cell_type": "markdown",
   "metadata": {},
   "source": [
    "![링크드리스트_스택](https://user-images.githubusercontent.com/89832134/150917489-ba391a07-4835-4cb7-aa32-a3238bfdad54.png)"
   ]
  },
  {
   "cell_type": "markdown",
   "metadata": {},
   "source": [
    "### 4. 덱(Deque, Double Ended Queue)"
   ]
  },
  {
   "cell_type": "markdown",
   "metadata": {},
   "source": [
    "- 양방향 큐\n",
    "- 앞, 뒤 모두 삽입과 삭제가 가능한 자료구조 -> 효율적인 출입 연산\n",
    "- 스택(stack)과 큐(queue) 모두 구현 가능\n",
    "- 리스트가 $O(n)$의 시간 복잡도를 제공하는 반면, 덱은 `append, pop` operation에서 <U>**$O(1)$의 시간 복잡도**</U>를 제공하므로 더 효율적이다.\n",
    "- 나머지 부가적인 덱의 길이를 반환하는 연산이나 덱이 비어있는지 확인하는 연산 등은 스택과 큐에 구현되어 있는 연산들과 유사하게 구현된다."
   ]
  }
 ],
 "metadata": {
  "interpreter": {
   "hash": "d473ce608692a3bf02c1de21d06d5afe9b45f4f9760cc575a6ec607da11a00f4"
  },
  "kernelspec": {
   "display_name": "Python 3.8.8 64-bit ('base': conda)",
   "language": "python",
   "name": "python3"
  },
  "language_info": {
   "codemirror_mode": {
    "name": "ipython",
    "version": 3
   },
   "file_extension": ".py",
   "mimetype": "text/x-python",
   "name": "python",
   "nbconvert_exporter": "python",
   "pygments_lexer": "ipython3",
   "version": "3.8.8"
  },
  "orig_nbformat": 4
 },
 "nbformat": 4,
 "nbformat_minor": 2
}
