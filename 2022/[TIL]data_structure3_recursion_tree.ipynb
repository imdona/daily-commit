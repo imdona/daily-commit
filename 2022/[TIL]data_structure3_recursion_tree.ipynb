{
 "cells": [
  {
   "cell_type": "markdown",
   "metadata": {},
   "source": [
    "# 1. 코드"
   ]
  },
  {
   "cell_type": "markdown",
   "metadata": {},
   "source": [
    "### 1. 재귀함수 활용 알고리즘 문제 풀이"
   ]
  },
  {
   "cell_type": "code",
   "execution_count": 26,
   "metadata": {},
   "outputs": [
    {
     "name": "stdout",
     "output_type": "stream",
     "text": [
      "num1: 7, num2: 19, 나머지 : 7\n",
      "num1: 19, num2: 7, 나머지 : 5\n",
      "num1: 7, num2: 5, 나머지 : 2\n",
      "num1: 5, num2: 2, 나머지 : 1\n",
      "num1: 2, num2: 1, 나머지 : 0\n",
      "1\n"
     ]
    }
   ],
   "source": [
    "class counter:\n",
    "    \"\"\"\n",
    "    해당 코드를 수정하지 마세요!\n",
    "    \"\"\"\n",
    "    def __init__(self, function):\n",
    "        self.function = function\n",
    "        self.cnt = 0\n",
    "\n",
    "    def __call__(self, *args, **kwargs):\n",
    "        self.cnt += 1\n",
    "        return self.function(*args, **kwargs)\n",
    "\n",
    "\n",
    "@counter    # 삭제하거나 변경하지 마세요!\n",
    "def oneto100(num):\n",
    "    \"\"\"\n",
    "    # 문제1\n",
    "        다음 문제는 1 ~ num 까지 합을 구하는 문제입니다.\n",
    "        결과값이 제대로 구해지도록 코드를 완성하세요.\n",
    "\n",
    "        아래 예시입력값과 출력값을 참조하며 문제를 해결해봅니다.\n",
    "\n",
    "        예시 1\n",
    "            입력값:\n",
    "                10\n",
    "            출력값:\n",
    "                55\n",
    "\n",
    "        예시 2\n",
    "            입력값:\n",
    "                100\n",
    "            출력값:\n",
    "                5050\n",
    "    \"\"\"\n",
    "    # base case\n",
    "    if num == 1:\n",
    "        return 1\n",
    "\n",
    "    # recursive case\n",
    "    return oneto100(num-1) + num\n",
    "\n",
    "\n",
    "@counter    # 삭제하거나 변경하지 마세요!\n",
    "def factor(num1, num2):\n",
    "    \"\"\"\n",
    "    # 문제2\n",
    "        테스트코드에서 조건을 확인하고 최대공약수를 구하는 재귀코드를 작성해주세요.\n",
    "        아래 예시입력값과 출력값을 참조하며 문제를 해결해봅니다.\n",
    "\n",
    "        예시 1\n",
    "            입력값:\n",
    "                7, 19\n",
    "            출력값:\n",
    "                1\n",
    "\n",
    "        예시 1\n",
    "            입력값:\n",
    "                40, 60\n",
    "            출력값:\n",
    "                20\n",
    "    \"\"\"\n",
    "    # 유클리드 호재법\n",
    "    remain = num1 % num2\n",
    "    # check\n",
    "    print(f\"num1: {num1}, num2: {num2}, 나머지 : {remain}\")\n",
    "\n",
    "    # base case\n",
    "    if remain == 0:\n",
    "        return num2\n",
    "\n",
    "    # recursive case\n",
    "    return factor(num2, remain)\n",
    "\n",
    "# test code\n",
    "if __name__ == \"__main__\":\n",
    "    print(factor(7,19))"
   ]
  },
  {
   "cell_type": "code",
   "execution_count": 29,
   "metadata": {},
   "outputs": [
    {
     "name": "stdout",
     "output_type": "stream",
     "text": [
      "1\n"
     ]
    }
   ],
   "source": [
    "def gcd(num1, num2):\n",
    "    while num2 > 0:\n",
    "        num1, num2 = num2, num1 % num2\n",
    "    return num1\n",
    "\n",
    "print(gcd(7, 19))"
   ]
  },
  {
   "cell_type": "code",
   "execution_count": 27,
   "metadata": {},
   "outputs": [
    {
     "name": "stdout",
     "output_type": "stream",
     "text": [
      "...gnitset\n",
      "setatsedoC\n"
     ]
    }
   ],
   "source": [
    "class counter:\n",
    "    \"\"\"\n",
    "    해당 코드를 수정하지 마세요!\n",
    "    \"\"\"\n",
    "    def __init__(self, function):\n",
    "        self.function = function\n",
    "        self.cnt = 0\n",
    "\n",
    "    def __call__(self, *args, **kwargs):\n",
    "        self.cnt += 1\n",
    "        return self.function(*args, **kwargs)\n",
    "\n",
    "\n",
    "@counter\n",
    "def recursion_advanced(str):\n",
    "    \"\"\"\n",
    "    # 문제\n",
    "        재귀를 활용하여 주어진 문자를 뒤집어주는 프로그래밍을 진행합니다.\n",
    "        문자열에 직접 영향을 주는 reverse와 같은 내장함수를 사용하면 안됩니다.\n",
    "\n",
    "        # 예상 입출력 1\n",
    "            input : 'testing...'\n",
    "            output: '...gnitset'\n",
    "\n",
    "        # 예상 입출력 2\n",
    "            input : 'Codestates'\n",
    "            output: 'setatsedoC'\n",
    "    \"\"\"\n",
    "    n = len(str)\n",
    "\n",
    "    # base case\n",
    "    if n == 1:\n",
    "        return str\n",
    "\n",
    "    # recursive case : 맨 마지막 원소만 + 맨 마지막원소 빼고 전체 다\n",
    "    return str[-1:] + recursion_advanced(str[:-1])\n",
    "\n",
    "if __name__ == \"__main__\":\n",
    "    print(recursion_advanced('testing...'))\n",
    "    print(recursion_advanced('Codestates'))"
   ]
  },
  {
   "cell_type": "markdown",
   "metadata": {},
   "source": [
    "### 2. 연결된 리스트 요소들의 합 구하기"
   ]
  },
  {
   "cell_type": "code",
   "execution_count": 5,
   "metadata": {},
   "outputs": [
    {
     "name": "stdout",
     "output_type": "stream",
     "text": [
      "left sum - result[ 0 ]: 0\n",
      "left sum - result[ 1 ]: 1\n",
      "left sum - result[ 2 ]: 3\n",
      "left sum - result[ 3 ]: 6\n",
      "final sum - result[ 3 ]: 6\n",
      "final sum - result[ 2 ]: 7\n",
      "final sum - result[ 1 ]: 8\n",
      "final sum - result[ 0 ]: 9\n",
      "결과: [9, 8, 7, 6]\n"
     ]
    }
   ],
   "source": [
    "# 입력된 리스트에서 요소들의 합을 큰 순서대로 구해보자(조건 : 모든 요소들의 합이 아니다.)\n",
    "# 리스트의 메소드와 반복문을 활용해야 한다.\n",
    "\n",
    "def remain_sum(numbers):\n",
    "    result = []\n",
    "    init_value = 0\n",
    "\n",
    "    # 왼쪽인덱스부터 합을 구한다.\n",
    "    # 반복문 : 0부터 4까지 result 리스트에 값을 append 한다.(반복인덱스 : 0,1,2,3)\n",
    "    for i in range(0, len(numbers)):\n",
    "        result.append(init_value)\n",
    "        print(\"left sum - result[\",i,\"]:\",result[i])\n",
    "        init_value = init_value + numbers[i]    # append되는 index와 value를 구분해야 된다.\n",
    "\n",
    "    init_value = 0   # 값 초기화(왼쪽에 대한 합을 구했으니, 이제 오른쪽인덱스부터 합구하기)\n",
    "\n",
    "    # 구해진 값을 활용하여 오른쪽인덱스부터 더하면서 최종 리스트값을 구한다.\n",
    "    # 반복문 : 3부터 -1까지 -1줄어들면서 result 리스트에 값을 더한다.(반복인덱스 : 3,2,1,0)\n",
    "    for i in range(len(numbers)-1, 0-1, -1):\n",
    "        result[i] = result[i] + init_value\n",
    "        print(\"final sum - result[\",i,\"]:\",result[i])\n",
    "        init_value = init_value + numbers[i]\n",
    "\n",
    "    return result\n",
    "\n",
    "# numbers = [int(numbers) for numbers in input(\"리스트값을 입력하세요 : \").split(',')]\n",
    "numbers = [1,2,3,4]\n",
    "print(\"결과:\",remain_sum(numbers))"
   ]
  },
  {
   "cell_type": "markdown",
   "metadata": {},
   "source": [
    "# 2. 개념"
   ]
  },
  {
   "cell_type": "markdown",
   "metadata": {},
   "source": [
    "🏆 학습 목표 : 검색, 재귀, 트리"
   ]
  },
  {
   "cell_type": "markdown",
   "metadata": {},
   "source": [
    "### 1) 검색(Searching)"
   ]
  },
  {
   "cell_type": "markdown",
   "metadata": {},
   "source": [
    "- 특정 노드를 추가하거나 삭제를 위해서는 **검색이 우선**되야 한다.\n",
    "- 다양한 **알고리즘을 활용**하는 경우, **최적 알고리즘 경로**를 측정하는데 쓰인다.\n",
    "- 검색하는 컬렉션이 무작위이고 정렬되지 않은 경우, **선형검색**이 기본적인 검색방법이다."
   ]
  },
  {
   "cell_type": "code",
   "execution_count": 6,
   "metadata": {},
   "outputs": [
    {
     "name": "stdout",
     "output_type": "stream",
     "text": [
      "2\n",
      "-1\n"
     ]
    }
   ],
   "source": [
    "# 선형 검색 알고리즘\n",
    "# 하나의 반복문과 리스트의 인덱스, 조건문을 활용하여 특정값을 검색할 때까지 반복한다.\n",
    "\n",
    "def linear_search(arr, target):\n",
    "\n",
    "    # 입력 배열의 각 항목을 반복\n",
    "    for idx in range(len(arr)):\n",
    "        # 현재 인덱스의 항목이 비교 대상과 같은지 확인\n",
    "        if arr[idx] == target:\n",
    "            # 현재 인덱스를 일치 항목으로 반환\n",
    "            return idx\n",
    "\n",
    "    # 전체 배열을 반복할 수 있다면, 비교 대상은 존재하지 않는다.(의미없는 -1 값 반환)\n",
    "    return -1\n",
    "\n",
    "print(linear_search([0,1,2], 2)) # case 1 - true\n",
    "print(linear_search([0,1,2], 3)) # case 2 - false"
   ]
  },
  {
   "cell_type": "markdown",
   "metadata": {},
   "source": [
    "### 2) 재귀(Recursion)"
   ]
  },
  {
   "cell_type": "markdown",
   "metadata": {},
   "source": [
    "* 재귀는 수학적 귀납법과 비슷함\n",
    "* 실체하지 않는 개념(구체적인 방식을 추상화하여) 수학적 모델로 만들고, 그 수학적 모델을 하나씩 차감시켜가면서 호출하는 것만으로 문제가 해결되게 하는 것이 재귀이다."
   ]
  },
  {
   "cell_type": "markdown",
   "metadata": {},
   "source": [
    "📎 재귀의 조건\n",
    "1. **base case(기본 케이스 또는 조건)가 있어야 된다.**\n",
    "    - 알고리즘은 특성상 반복을 중지할 수 있다. 반복을 중지할 수 있는 조건 생각해보기\n",
    "2. **추가 조건과 기본 케이스의 차이를 확인한다.**\n",
    "3. **반드시 자기 자신(함수)를 호출해야 한다.**"
   ]
  },
  {
   "cell_type": "markdown",
   "metadata": {},
   "source": [
    "💡 생각해보기"
   ]
  },
  {
   "cell_type": "markdown",
   "metadata": {},
   "source": [
    "💡 재귀는 가장 주관적이면서 헷갈릴 수 있는 개념이다.\n",
    "\n",
    "- 재귀의 개념은 수학적 사고에 기반하고, 코드를 작성하기 전에 **문제를 해결하는 재호출 로직**을 발견해야 한다. → 수학공부하는 것처럼 직접 손으로 많이 풀어보자.\n",
    "- 재귀 호출은 스택의 개념이 적용되며, 함수의 내부는 스택처럼 관리된다.**(LIFO, 후입선출)**\n",
    "    - 단점 : 재귀를 사용하면 **함수를 반복적으로 호출되**는 상황이 벌어지므로, **메모리를 더 많이 사용**한다.\n",
    "    - **수학적으로 개념이 복잡한 경우**에는 시간과 공간(메모리)복잡도 측면에서 효율이 안 좋더라도 재귀를 사용하여 문제를 해결하는 것이 좋다."
   ]
  },
  {
   "cell_type": "markdown",
   "metadata": {},
   "source": [
    "💡 재귀로 문제를 해결하는 방법\n",
    "- 위 문제를 쉽게 해결할 수있을 때까지 **문제를 더 작은 하위 문제로 나누는 것**을 의미한다.\n",
    "- 재귀적으로 다양한 문제를 해결할 수 있는데, 대표적으로 아래 그림과 같이 하나의 문제를 분할하면서 해결하고 해결 후 하나로 다시 합치는 '**분할정복법**' 이 대표적이다.\n",
    "    - 재귀는 **해결을 위한 특정 기능을 재호출**한다는 측면이고, 분할정복은 **문제를 분할하고 해결하는 구체적인 방법론**이다.\n",
    "    - 분할정복법을 활용하기 위해서는 재귀개념(기능 재호출)이 필요하다.\n",
    "- 재귀에서 중점적으로 생각해야될 부분은 조건에 따른 반복 계산이다."
   ]
  },
  {
   "cell_type": "code",
   "execution_count": 8,
   "metadata": {},
   "outputs": [
    {
     "data": {
      "text/plain": [
       "15"
      ]
     },
     "execution_count": 8,
     "metadata": {},
     "output_type": "execute_result"
    }
   ],
   "source": [
    "my_list = [1, 2, 3, 4, 5]\n",
    "\n",
    "def sum_list(items):\n",
    "    sum = 0\n",
    "    for i in items:\n",
    "        sum = sum + i\n",
    "    return sum\n",
    "\n",
    "sum_list(my_list)"
   ]
  },
  {
   "cell_type": "markdown",
   "metadata": {},
   "source": [
    "- 문제를 두 개의 하위 문제로 분리하여 시작한다.\n",
    "1 + 2 + 3 + 4 + 5\n",
    "\n",
    "(1 + (2 + 3 + 4 + 5))\n",
    "\n",
    "- 문제를 두 개의 하위 문제로 나눌 수 없을 때까지 계속 진행한다.\n",
    "1 + 2 + 3 + 4 + 5\n",
    "\n",
    "(1 + (2 + 3 + 4 + 5))\n",
    "\n",
    "(1 + (2 + (3 + 4 + 5)))\n",
    "\n",
    "(1 + (2 + (3 + (4 + 5))))\n",
    "\n",
    "(1 + (2 + (3 + (4 + (5)))))\n",
    "\n",
    "![1_cxQUnD3J3jMDIQTpsB7PNQ](https://user-images.githubusercontent.com/89832134/151086653-2702d3db-45a7-4aba-9ae3-a8b6137a0ab6.gif)\n",
    "\n"
   ]
  },
  {
   "cell_type": "code",
   "execution_count": null,
   "metadata": {},
   "outputs": [],
   "source": [
    "# 위의 분리된 내용을 의사코드를 활용하여 먼저 로직을 해석해본다.\n",
    "sum_list(items)\n",
    "    if the length of items is 1\n",
    "        return the 1 item in the list\n",
    "    otherwise\n",
    "        return the first item from the list + sum_list(the rest of the items)"
   ]
  },
  {
   "cell_type": "code",
   "execution_count": 9,
   "metadata": {},
   "outputs": [],
   "source": [
    "def sum_list(items):\n",
    "    if len(items) == 1:\n",
    "        return items[0]\n",
    "    else:\n",
    "        return items[0] + sum_list(items[1:])"
   ]
  },
  {
   "cell_type": "code",
   "execution_count": 11,
   "metadata": {},
   "outputs": [
    {
     "data": {
      "text/plain": [
       "4"
      ]
     },
     "execution_count": 11,
     "metadata": {},
     "output_type": "execute_result"
    }
   ],
   "source": [
    "# 재귀의 조건 1) base case(기본 케이스 또는 조건)가 있어야 된다.\n",
    "def sum_list(items):\n",
    "    if len(items) == 1: # Base Case\n",
    "        return items[0]\n",
    "\n",
    "    else:\n",
    "        return items[0] + sum_list(items[1:])\n",
    "\n",
    "# test case\n",
    "sum_list([1,3])\n"
   ]
  },
  {
   "cell_type": "code",
   "execution_count": 12,
   "metadata": {},
   "outputs": [
    {
     "name": "stdout",
     "output_type": "stream",
     "text": [
      "items: [2, 3, 4, 5]\n",
      "items: [3, 4, 5]\n",
      "items: [4, 5]\n",
      "sum_list: 14\n"
     ]
    }
   ],
   "source": [
    "# 재귀의 조건 2) 추가 조건과 기본 케이스의 차이를 확인한다.\n",
    "def sum_list(items):\n",
    "\n",
    "    if len(items) == 1: # Base Case(항목이 1개인 경우가 기본 케이스)\n",
    "        return items[0]\n",
    "\n",
    "    elif len(items)>1:\n",
    "        print(\"items:\",items[0:])\n",
    "        return items[0] + sum_list(items[1:]) # items[:]는 한 항목씩 감소한다.\n",
    "\n",
    "# test case\n",
    "print(\"sum_list:\",sum_list([2,3,4,5]))"
   ]
  },
  {
   "cell_type": "code",
   "execution_count": 13,
   "metadata": {},
   "outputs": [
    {
     "name": "stdout",
     "output_type": "stream",
     "text": [
      "sum_list: 14\n"
     ]
    }
   ],
   "source": [
    "# 재귀의 조건 3) 반드시 자기 자신(함수)를 호출해야 한다.\n",
    "def sum_list(items):\n",
    "    if len(items) == 1: # Base Case\n",
    "        return items[0]\n",
    "\n",
    "    else:\n",
    "        return items[0] + sum_list(items[1:]) # 반복적으로 자기자신을 호출한다.\n",
    "\n",
    "# test case\n",
    "print(\"sum_list:\",sum_list([2,3,4,5]))"
   ]
  },
  {
   "cell_type": "markdown",
   "metadata": {},
   "source": [
    "---"
   ]
  },
  {
   "cell_type": "code",
   "execution_count": 14,
   "metadata": {},
   "outputs": [
    {
     "name": "stdout",
     "output_type": "stream",
     "text": [
      "4\n",
      "10\n"
     ]
    }
   ],
   "source": [
    "def add_two(num): # 매개변수\n",
    "    return num + 2  # 반환값\n",
    "\n",
    "def add_four(num):  # 매개변수\n",
    "    return add_two(add_two(num))  # 반환값으로 매개변수가 있는 함수를 넣는다.\n",
    "\n",
    "print(add_two(2))\n",
    "print(add_four(6))"
   ]
  },
  {
   "cell_type": "markdown",
   "metadata": {},
   "source": [
    "위의 함수에 대한 수행과정\n",
    "\n",
    " 1) add_two(num) 함수 선언\n",
    " 2) add_four(num) 함수 선언\n",
    " 3) print(add_two(2)) 코드 읽기\n",
    " 4) 선언된 add_two 호출\n",
    " 5) return 4 값반환\n",
    " 6) print(add_four(6)) 코드 읽기\n",
    " 7) 선언된 add_four 호출\n",
    " 8) return add_two(add_two(6)) 반환\n",
    " 9) 선언된 add_two(6) 함수 호출\n",
    " 10) return 8 값반환\n",
    " 11) 선언된 add_two(8) 함수 호출\n",
    " 12) return 10 값반환"
   ]
  },
  {
   "cell_type": "markdown",
   "metadata": {},
   "source": [
    "### 3) 트리(Tree)"
   ]
  },
  {
   "cell_type": "markdown",
   "metadata": {},
   "source": [
    "![jm2p1at8cth0gu5dakug](https://user-images.githubusercontent.com/89832134/151083208-8290a9f5-5940-4715-baee-d9e11babdabc.png)\n",
    "\n",
    "![트리전체설명](https://user-images.githubusercontent.com/89832134/151083220-ab23ced5-9740-41ea-8b88-23843604a530.png)"
   ]
  },
  {
   "cell_type": "markdown",
   "metadata": {},
   "source": [
    "#### 🔍 용어정리\n",
    "- 트리\n",
    "    - 노드가 하나 이상의 자식을 가지는 구조\n",
    "    - 노드(Node)와 분기(Branch)를 이용해서, 사이클을 이루지 않도록 구성한 데이터 구조\n",
    "    - 이진 트리 형태 구조는 탐색(검색) 알고리즘 구현을 위해 많이 사용된다\n",
    "- **노드(Node)** : 트리에서 데이터를 저장하는 기본 요소(데이터와 다른 연결된 노드에 대한 Branch 정보를 포함)\n",
    "- **루트 노드(Root Node)** : 트리 **가장 위쪽**에 있는 노드, **트리별 하나**만 있다.\n",
    "    - 루트와 부모는 다르다. 부모노드는 자식노드가 1개 이상 있는 경우에만 존재할 수 있다.\n",
    "- **서브트리** : **자식노드이면서 부모노드역할을 하는 노드가 있는** 트리\n",
    "- **차수** : 노드가 갖고 있는 **최대 자식노드 수**\n",
    "- **리프 노드(Leaf Node)**\n",
    "    - Child Node가 하나도 없는 노드\n",
    "    - 레벨별로 가장 마지막에 있는 노드\n",
    "    - **단말**노드(terminal node), **외부**노드(external node)라고도 한다.\n",
    "    - **리프는 트리별로 여러 개**가 있을 수 있다.\n",
    "- **레벨(Level)**\n",
    "    - 최상위 노드를 Level 0으로 하였을 때, 하위 Branch로 연결된 노드의 깊이를 나타낸다\n",
    "    - 루트 노드에서 **얼마나 멀리 떨어져 있는지 각각 나타낸다**.\n",
    "    - 루트 노드의 레벨은 0에서 아래로 내려갈때마다 1씩 증가한다.\n",
    "- **Depth(높이)**\n",
    "    - 트리에서 Node가 가질 수 있는 최대 Level\n",
    "    - 루트에서 가장 멀리 떨어진 리프 노드까지의 거리이며, **리프 레벨의 최대값**을 높이라고 한다.\n",
    "- **Parent(부모) 노드** : 어떤 노드의 다음 레벨에 연결된 노드\n",
    "- **Child(자식) Node** : 어떤 노드의 상위 레벨에 연결된 노드\n",
    "- **sibling(형제) 노드** : 부모가 같은 두 개의 노드, 동일한 Parent Node를 가진 노드"
   ]
  },
  {
   "cell_type": "markdown",
   "metadata": {},
   "source": [
    "<img width=\"608\" alt=\"Screen Shot 2022-01-26 at 9 36 15 AM\" src=\"https://user-images.githubusercontent.com/89832134/151083104-a9b258d2-1f83-4cd4-a334-b99add90da27.png\">\n",
    "\n",
    "- **Binary Tree(이진 트리)**\n",
    "    - 이진트리 : 노드의 최대 Branch가 2인 트리\n",
    "    - 이진트리는 아래와 같이 각 노드별로, 최대 2개의 서브노드를 갖을 수 있다.(left, right)\n",
    "    - 이진트리는 여러 트리종류 중에서 가장 기본이 되면서 많이 활용되는 트리이다.\n",
    "    - 이진트리는 두가지 조건으로 구성되어 있다.\n",
    "        - **루트노드를 중심으로 두 개의 서브트리**로 나눠진다.\n",
    "        - 나눠진 두 서브트리도 모두 두 개의 서브트리를 갖는다.\n",
    "            - **서브트리의 노드가 반드시 값을 갖고 있을 필요는 없다.**\n",
    "    - 이진트리의 종류\n",
    "        - Complete binary tree(완전 이진 트리)\n",
    "            - 마지막 레벨을 제외하고 모든 레벨이 완전히 채워져있다.\n",
    "            - 노드가 위에서 아래로, **왼쪽에서 오른쪽 순서대로** 채워져있다.\n",
    "        - Full Binary Tree(정 이진 트리) : 노드들의 자식이 하나도 없거나 두 개인 경우로 구성된 트리( = 모든 노드가 0개 또는 2개의 자식 노드를 갖는 트리)\n",
    "        - Perfect Binary Tree(포화 이진 트리) : 완벽한 피라미드 구조\n",
    "            -  모든 내부 노드가 두 개의 자식 노드를 가지며 모든 리프 노드가 동일한 깊이 또는 레벨을 갖는 트리\n",
    "        - 불균형 이진 트리(Unbalanced Binary Tree) : 편향 트리 처럼 밸런스가 맞지 않는 트리\n",
    "        - 균형 이진 트리(Balanced Binary Tree) : 완전 이진 트리처럼 균형이 잡힌 트리, 높이 차이가 2이상이 안나는 트리\n",
    "\n",
    "- 포화 이진 트리 예\n",
    "![binary-tree-example-levels 001](https://user-images.githubusercontent.com/89832134/151085716-777469e8-7f22-41c1-80b0-1ba4d7b2d922.png)"
   ]
  },
  {
   "cell_type": "code",
   "execution_count": null,
   "metadata": {},
   "outputs": [],
   "source": [
    "# 기본코드\n",
    "\n",
    "class BinaryTreeNode:\n",
    "    def __init__(self, value):\n",
    "        self.left = None  # 왼쪽서브노드\n",
    "        self.value = value\n",
    "        self.right = None # 오른쪽서브노드"
   ]
  },
  {
   "cell_type": "markdown",
   "metadata": {},
   "source": [
    "#### 🔍 Binary Search Trees(BST) - 이진검색트리\n",
    "- 이진 트리에 추가 조건(왼쪽 노드는 해당 노드보다 작은 값, 오른쪽 노드는 해당 노드 보다 큰 값을 가지는 조건)을 가지는 트리\n",
    "- 이진탐색트리는 **노드를 정확하게 정렬해야하는** 특정 유형의 이진 트리\n",
    "- 주로 검색에 사용 된다!\n",
    "\n",
    "![binary-search-tree-insertion-animation](https://user-images.githubusercontent.com/89832134/151083489-2bd6d0ea-9665-4a6d-a903-0c2ebd45d56a.gif)\n",
    "\n",
    "<img width=\"608\" alt=\"Screen Shot 2022-01-26 at 9 27 45 AM\" src=\"https://user-images.githubusercontent.com/89832134/151082398-f2ee0f9a-9d89-48d5-b453-3ea3800566d2.png\">"
   ]
  },
  {
   "cell_type": "markdown",
   "metadata": {},
   "source": [
    "##### 📎 특징\n",
    "- BST의 목적은 단순 이진트리보다 빠른 **노드탐색**이다. 때문에 insert node에서 중복을 처리해주는 것이 아닌, 아래 **'값 크기 조건'** 에 맞도록 값을 넣어주는 경우가 이진탐색트리가 되는 것이다.\n",
    "- 만약 아래 **'값 크기 조건'** 을 지키지 않고 값을 삽입하는 경우 **'이진탐색트리'** 의 로직이 아닌 **'단순이진트리'** 의 로직으로 '탐색'이 진행되므로 더 느린 탐색이 진행된다.\n",
    "    - **값 크기 조건** : 오른쪽 서브노드의 값(right child) > 루트(부모)노드의 값(root node) > 왼쪽 서브노드의 값(left child)\n",
    "        - **중복값**을 갖고 있는 노드가 **없어야** 한다.\n",
    "        - 왼쪽 서브 트리 노드들의 값은 루트(부모)노드값보다 작아야 한다.\n",
    "        - 오른쪽 서브 트리 노드들의 값은 루트(부모)노드값보다 커야 한다.\n",
    "    - 위에 대한 규칙이 정해진 이유는 **왼쪽부터 오른쪽으로 검색을 하는 구조**이기 때문이다.\n",
    "        - 왼쪽 -> 오른쪽 개념이 적용되는 이유 : 트리와 같은 자료구조는 기본이 되는 연결리스트를 참조해서 만들어진 개념이기 때문이다.\n",
    "- 특징\n",
    "    - 위의 규칙에서 볼 수 있듯이, 구조가 단순\n",
    "    - 값들이 전순서 관계를 가짐\n",
    "        - 특정 노드의 왼쪽 서브 트리의 값은 특정 노드의 값보다 작다.\n",
    "        - 특정 노드의 오른쪽 서브 트리의 값은 특정 노드의 값보다 크다.\n",
    "    - 중회순회(Inorder Traversal) 방식으로 나열하면 키 값의 크기에 따라 열거됨\n",
    "    - 검색하는 방법 : 루트노드부터 시작하여, 노드의 값보다 작으면 왼쪽 자식 노드로 노드의 값보다 크면 오른쪽 자식 노드로\n",
    "    - **base node/검색할 노드/자식노드 존재여부**에 따라 검색되는 노드의 순서가 달라진다.\n",
    "    - 검색이 일반 이진 트리보다 빠르기 때문에 노드를 삽입하기 쉽다."
   ]
  },
  {
   "cell_type": "markdown",
   "metadata": {},
   "source": [
    "##### 📎 연산\n",
    "1. BST 삽입(insert) 연산 : 검색을 수행하여 이진 검색 트리가 가지는 특징을 위배하지 않게 삽입 노드를 배치한다.\n",
    "    1. 삽입 전, 검색 수행\n",
    "    2. 트리 검색 후, 키와 일치하는 노드가 없으면 마지막 노드에서 키와 노드의 크기를 비교하여 왼쪽이나 오른쪽에 새로운 노드를 삽입한다\n",
    "2. BST 삭제(delete) 연산 : 삭제 노드의 자식 노드의 갯수에 따라 연산이 달라진다.\n",
    "    삭제하려는 노드의 자식 수에 따라\n",
    "    - 자식노드가 없는 노드(리프 노드) 삭제 : 해당 노드를 단순히 삭제한다.\n",
    "    - 자식노드가 1개인 노드 삭제 : 해당 노드를 삭제하고 그 위치에 해당 노드의 자식노드를 대입한다.\n",
    "    - 자식노드가 2개인 노드 삭제 : 삭제하고자 하는 노드의 값을 해당 노드의 왼쪽 서브트리에서 가장 큰값으로 변경하거나, 오른쪽 서브트리에서 가장 작은 값으로 변경한 뒤, 해당 노드(왼쪽서브트리에서 가장 큰 값을 가지는 노드 또는 오른쪽 서브트리에서 가장 작은 값을 가지는 노드)를 삭제한다."
   ]
  },
  {
   "cell_type": "markdown",
   "metadata": {},
   "source": [
    "##### 📎 BTS 연산에 대한 시간복잡도(time complexity)\n",
    "![시간복잡도](https://user-images.githubusercontent.com/89832134/151084726-351bfee5-934f-488f-b2a3-69abba0a26a2.png)\n",
    "1. worst case : $O(n)$, 한쪽으로 쏠린 트리인 편향 트리(degenerated tree)일 때 발생\n",
    "2. average : 완전 이진 트리(complete binary tree)일 때 발생\n",
    "3. BST의 효율을 높이기 위해서는 Unbalanced Binary Tree를 Balanced Binary Tree로 바꿔야함"
   ]
  },
  {
   "cell_type": "markdown",
   "metadata": {},
   "source": [
    "##### 📎 파이썬 코드로 BST 구현하기"
   ]
  },
  {
   "cell_type": "code",
   "execution_count": 15,
   "metadata": {},
   "outputs": [],
   "source": [
    "# 노드 클래스 생성(해당 클래스는 검색알고리즘에 필요한 기본클래스이다.)\n",
    "\n",
    "class node:\n",
    "    def __init__(self, value):\n",
    "        self.value = value\n",
    "        self.left = None\n",
    "        self.right = None"
   ]
  },
  {
   "cell_type": "code",
   "execution_count": 17,
   "metadata": {},
   "outputs": [],
   "source": [
    "# 이진검색트리에 노드삽입 함수추가\n",
    "\n",
    "class binary_search_tree:\n",
    "    def __init__(self, head):\n",
    "        self.head = head\n",
    "\n",
    "    def insert_node(self, value):\n",
    "        '''노드 삽입 메소드'''\n",
    "        self.base_node = self.head\n",
    "\n",
    "        while True:\n",
    "            if value < self.base_node.value:\n",
    "                if self.base_node.left != None:\n",
    "                    self.base_node = self.base_node.left\n",
    "\n",
    "                else:\n",
    "                    self.base_node.left = node(value)\n",
    "                    break\n",
    "\n",
    "            else:\n",
    "                if self.base_node.right != None:\n",
    "                    self.base_node = self.base_node.right\n",
    "\n",
    "                else:\n",
    "                    self.base_node.right = node(value)\n",
    "                    break"
   ]
  },
  {
   "cell_type": "code",
   "execution_count": 18,
   "metadata": {},
   "outputs": [],
   "source": [
    "# 이진검색트리를 위한 기본노드생성\n",
    "\n",
    "head = node(1)  # 루트노드 지정\n",
    "bt = binary_search_tree(head) # binary_search_tree(node(1))"
   ]
  },
  {
   "cell_type": "code",
   "execution_count": 19,
   "metadata": {},
   "outputs": [],
   "source": [
    "# 이진검색트리에 값 삽입 test\n",
    "bt.insert_node(2)"
   ]
  },
  {
   "cell_type": "code",
   "execution_count": 20,
   "metadata": {},
   "outputs": [],
   "source": [
    "# 이진검색트리에 노드 검색 함수추가\n",
    "\n",
    "class binary_search_tree:\n",
    "    def __init__(self, head):\n",
    "        self.head = head\n",
    "\n",
    "    def insert_node(self, value):\n",
    "        '''노드 삽입 메소드'''\n",
    "        self.base_node = self.head\n",
    "\n",
    "        while True:\n",
    "            if value < self.base_node.value:\n",
    "                if self.base_node.left != None:\n",
    "                    self.base_node = self.base_node.left\n",
    "\n",
    "                else:\n",
    "                    self.base_node.left = node(value)\n",
    "                    break\n",
    "\n",
    "            else:\n",
    "                if self.base_node.right != None:\n",
    "                    self.base_node = self.base_node.right\n",
    "\n",
    "                else:\n",
    "                    self.base_node.right = node(value)\n",
    "                    break\n",
    "\n",
    "    def search_node(self, value):\n",
    "        '''노드 검색 메소드'''\n",
    "        self.base_node = self.head\n",
    "\n",
    "        while self.base_node:\n",
    "            if self.base_node.value == value:\n",
    "                return True\n",
    "\n",
    "            elif value < self.base_node.value:\n",
    "                self.base_node = self.base_node.left\n",
    "\n",
    "            else:\n",
    "                self.base_node = self.base_node.right\n",
    "\n",
    "        return False"
   ]
  },
  {
   "cell_type": "code",
   "execution_count": 21,
   "metadata": {},
   "outputs": [],
   "source": [
    "# 노드삽입 test\n",
    "\n",
    "head = node(10)  # 루트노드지정\n",
    "bt = binary_search_tree(head)\n",
    "\n",
    "bt.insert_node(2)\n",
    "bt.insert_node(5)\n",
    "bt.insert_node(0)\n",
    "bt.insert_node(-1)"
   ]
  },
  {
   "cell_type": "code",
   "execution_count": 22,
   "metadata": {},
   "outputs": [
    {
     "data": {
      "text/plain": [
       "False"
      ]
     },
     "execution_count": 22,
     "metadata": {},
     "output_type": "execute_result"
    }
   ],
   "source": [
    "bt.search_node(8)"
   ]
  },
  {
   "cell_type": "code",
   "execution_count": 23,
   "metadata": {},
   "outputs": [
    {
     "data": {
      "text/plain": [
       "True"
      ]
     },
     "execution_count": 23,
     "metadata": {},
     "output_type": "execute_result"
    }
   ],
   "source": [
    "bt.search_node(2)"
   ]
  },
  {
   "cell_type": "markdown",
   "metadata": {},
   "source": [
    "### ❓ 질문에 답해보기"
   ]
  },
  {
   "cell_type": "markdown",
   "metadata": {},
   "source": [
    "1. 재귀\n",
    "    1. 재귀의 동작방식이 기존 프로그래밍 동작방식과 어떻게 다를까요?\n",
    "    2. 재귀방법을 통해 어떻게 데이터활용을 할 수 있을까요?\n",
    "\n",
    "2. 트리구조\n",
    "    1. 트리자료구조의 대표적인 특징은 무엇일까요?\n",
    "        - 주요 용도 : 데이터 검색(탐색)\n",
    "        - 장점 : 탐색 속도 개선에 좋다! 👍\n",
    "        - 이진트리 탐색 시간 복잡도\n",
    "            트리의 높이인 depth를 $h$ 라고 하고, 노드의 개수를 $n$ 개라고 하면, $O(h)$, $O(logn)$\n",
    "        - 단점 : 트리가 균형 잡혀있을 때 시간 복잡도는 $O(logn)$이지만, 아래의 사진(한쪽으로 쏠린 트리인 편향 트리(degenerated tree))처럼 최악의 경우에는 링크드 리스트와 동일한 성능을 보임($O(n)$)\n",
    "        <img width=\"608\" alt=\"Screen Shot 2022-01-26 at 9 45 29 AM\" src=\"https://user-images.githubusercontent.com/89832134/151083924-4a864122-f02f-416d-b4c7-84e09338630e.png\">\n",
    "\n",
    "    2. 트리구조가 알고리즘을 선택하는데 어떤 영향을 줄 수 있을까요?"
   ]
  },
  {
   "cell_type": "markdown",
   "metadata": {},
   "source": [
    "### 📚 Reference\n",
    "- [이진 탐색 트리 위키백과](https://ko.wikipedia.org/wiki/%EC%9D%B4%EC%A7%84_%ED%83%90%EC%83%89_%ED%8A%B8%EB%A6%AC)\n",
    "- [이진 탐색 트리(BST)와 불균형 이진 트리 문제 해결](https://m.blog.naver.com/PostView.nhn?blogId=qbxlvnf11&logNo=221371437794&proxyReferer=https:%2F%2Fwww.google.com%2F)\n",
    "- [잔재미 코딩 트리정리](https://www.fun-coding.org/Chapter10-tree.html)\n",
    "- [트리 gif 출처](https://blog.penjee.com/5-gifs-to-understand-binary-search-tree/#binary-search-tree-insertion-node)\n",
    "- [재귀함수와 포인터 중 더 배우기 힘든 것은? - 포프TV](https://www.youtube.com/watch?v=a4Qy4tSadSI&t=1s)\n",
    "- [[자료구조 알고리즘] Tree의 종류 - 엔지니어대한민국](https://www.youtube.com/watch?v=LnxEBW29DOw)"
   ]
  }
 ],
 "metadata": {
  "interpreter": {
   "hash": "d473ce608692a3bf02c1de21d06d5afe9b45f4f9760cc575a6ec607da11a00f4"
  },
  "kernelspec": {
   "display_name": "Python 3.8.8 64-bit ('base': conda)",
   "language": "python",
   "name": "python3"
  },
  "language_info": {
   "codemirror_mode": {
    "name": "ipython",
    "version": 3
   },
   "file_extension": ".py",
   "mimetype": "text/x-python",
   "name": "python",
   "nbconvert_exporter": "python",
   "pygments_lexer": "ipython3",
   "version": "3.8.8"
  },
  "orig_nbformat": 4
 },
 "nbformat": 4,
 "nbformat_minor": 2
}
