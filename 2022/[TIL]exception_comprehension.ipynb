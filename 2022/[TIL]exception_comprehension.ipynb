{
 "cells": [
  {
   "cell_type": "markdown",
   "metadata": {},
   "source": [
    "# 1. code"
   ]
  },
  {
   "cell_type": "code",
   "execution_count": 2,
   "metadata": {},
   "outputs": [
    {
     "name": "stdout",
     "output_type": "stream",
     "text": [
      "[35, 70]\n"
     ]
    }
   ],
   "source": [
    "'''리스트 컴프리헨션 개념을 적용하여 '1~100까지 7과 5의 공배수' 를 구하기'''\n",
    "# case 1\n",
    "def solution1():\n",
    "    return [i for i in range(1, 101) if i%7 == 0 and i%5 == 0]\n",
    "\n",
    "# test code\n",
    "print(solution1())\n",
    "\n",
    "# case 2 : 7와 5의 공배수(두 개 이상의 자연수의 공통인 배수)니까 한번에 35로 나누어떨어지는지 확인해도 된다.\n",
    "def solution2():\n",
    "    return [i for i in range(1,101) if i % 35 == 0]\n",
    "\n",
    "# test code\n",
    "print(solution2())"
   ]
  },
  {
   "cell_type": "code",
   "execution_count": 6,
   "metadata": {},
   "outputs": [
    {
     "name": "stdout",
     "output_type": "stream",
     "text": [
      "11\n"
     ]
    }
   ],
   "source": [
    "''''리스트의 값 중 최댓값'을 구하기'''\n",
    "# case 1\n",
    "def max_value(num):\n",
    "    result = num[0]  # max값을 임의로 첫번째 원소로 지정한다\n",
    "    # input으로 받은 num 리스트를 돌면서 원소가 max값보다 크면 바꿔준다\n",
    "    for i in num:\n",
    "        if i > result:\n",
    "            result = i\n",
    "    return result\n",
    "\n",
    "print(max_value([4, 8, 5, 11, 7, 2]))\n",
    "\n",
    "\n",
    "# case 1-2 : my best pick\n",
    "def max_value(num):\n",
    "    max = num[0]\n",
    "    # case1과 유사한데 for문의 범위를 처음 max로 지정한 0번 인덱스 원소를 빼고 돌린다(조금 더 효율적)\n",
    "    for i in num[1:]:\n",
    "        if i > max: max = i\n",
    "    return max\n",
    "\n",
    "print(max_value([4, 8, 5, 11, 7, 2]))\n",
    "\n",
    "\n",
    "# case 2\n",
    "def max_value(num):\n",
    "    result = num[0]\n",
    "    # 1 ~ 리스트의 길이까지 for문을 돌리고, list[index]로 비교해준다\n",
    "    for i in range(1,len(num)):\n",
    "        if num[i] > result:\n",
    "            result = num[i]\n",
    "    return result\n",
    "\n",
    "print(max_value([4, 8, 5, 11, 7, 2]))"
   ]
  },
  {
   "cell_type": "code",
   "execution_count": 2,
   "metadata": {},
   "outputs": [
    {
     "name": "stdout",
     "output_type": "stream",
     "text": [
      "9592\n",
      "0.13132867300000584\n"
     ]
    }
   ],
   "source": [
    "'''소수의 개수 구하기(0이하의 경우 ValueError)'''\n",
    "import timeit\n",
    "start_time1 = timeit.default_timer()\n",
    "\n",
    "# case 1\n",
    "def prime_number(N):\n",
    "    prime_num = []\n",
    "    if N <= 0: raise ValueError(\"1이상의 숫자를 입력해주세요\")\n",
    "    for i in range(1, N+1):\n",
    "        condition = True\n",
    "        if i == 1 : continue  # 1은 소수가 아니므로 넘긴다\n",
    "        # 에라토스테네스의 체 활용 : 시간을 줄이기 위함, 2부터 확인\n",
    "        for j in range(2, int(i**0.5) + 1):\n",
    "            # i가 1이 아닌 수로 나누어지면 소수가 아님\n",
    "            if i % j == 0:\n",
    "                condition = False\n",
    "                break\n",
    "        # 모든 과정을 무사히 pass한 녀석들은 소수 리스트안에 append해주겠노라\n",
    "        if condition:\n",
    "            prime_num.append(i)\n",
    "    # 소수 리스트의 길이를 뽑는다\n",
    "    return len(prime_num)\n",
    "\n",
    "# test code : 11은 2, 3, 5, 7, 11로 5개이다\n",
    "print(prime_number(100000))\n",
    "\n",
    "end_time1 = timeit.default_timer()\n",
    "print(end_time1 - start_time1)"
   ]
  },
  {
   "cell_type": "code",
   "execution_count": 4,
   "metadata": {},
   "outputs": [
    {
     "name": "stdout",
     "output_type": "stream",
     "text": [
      "9592\n",
      "0.010333891999991351\n"
     ]
    }
   ],
   "source": [
    "import timeit\n",
    "start_time1 = timeit.default_timer()\n",
    "\n",
    "# case 2\n",
    "def prime_number(N):\n",
    "    pass\n",
    "    if N <= 0: raise ValueError(\"Not Allow Zero and Negative Number\")\n",
    "\n",
    "    # 소수 확인 테이블 : True가 N+1개 원소로 담긴 list\n",
    "    primenum_check = [True]*(N+1)\n",
    "\n",
    "    # 0과 1은 소수가 아님 : 0, 1번째 리스트는 False로 바꿔준다\n",
    "    primenum_check[0] = False\n",
    "    primenum_check[1] = False\n",
    "\n",
    "    # 에라토스테네스의 체\n",
    "    for i in range(2, int((N+1)**0.5)+1):\n",
    "        # 먼저 False로 바꿔준 0과 1을 제외하고 확인\n",
    "        if primenum_check[i] == True:\n",
    "            for j in range(2*i, N+1, i):\n",
    "                primenum_check[j] = False\n",
    "\n",
    "    return sum(primenum_check)\n",
    "\n",
    "# test code : 11은 2, 3, 5, 7, 11로 5개이다\n",
    "print(prime_number(100000))\n",
    "\n",
    "end_time1 = timeit.default_timer()\n",
    "print(end_time1 - start_time1)"
   ]
  },
  {
   "cell_type": "code",
   "execution_count": 28,
   "metadata": {},
   "outputs": [
    {
     "name": "stdout",
     "output_type": "stream",
     "text": [
      "[0, 0, 1, 1, 0, 1, 0, 1, 0, 0, 0, 1]\n",
      "5\n",
      "0.0003826020001724828\n"
     ]
    }
   ],
   "source": [
    "import timeit\n",
    "start_time1 = timeit.default_timer()\n",
    "\n",
    "# case 3\n",
    "def prime_number(N):\n",
    "    pass\n",
    "    if N <= 0:\n",
    "        raise ValueError\n",
    "\n",
    "    # True == 1, False == 0 : case2와 마찬가지로 True인 리스트 만들어주고 1과 0은 False로 바꿔준다\n",
    "    prime_list = [1] * (N + 1)\n",
    "\n",
    "    prime_list[0], prime_list[1] = 0, 0\n",
    "\n",
    "    # enumerate로 번호, 원소를 같이 받는다\n",
    "    for prime_number, v in enumerate(prime_list):\n",
    "        if v: # 소수이면(True(1)이면)\n",
    "            for i in range(prime_number + 1, N + 1):\n",
    "                if i % prime_number == 0: # 소수의 배수이면\n",
    "                    prime_list[i] = 0 # 소수가 아니다\n",
    "    print(prime_list)\n",
    "    return sum(prime_list)\n",
    "\n",
    "# test code : 11은 2, 3, 5, 7, 11로 5개이다\n",
    "print(prime_number(11))\n",
    "\n",
    "end_time1 = timeit.default_timer()\n",
    "print(end_time1 - start_time1)"
   ]
  },
  {
   "cell_type": "code",
   "execution_count": 23,
   "metadata": {},
   "outputs": [
    {
     "data": {
      "text/plain": [
       "(True, True)"
      ]
     },
     "execution_count": 23,
     "metadata": {},
     "output_type": "execute_result"
    }
   ],
   "source": [
    "True == 1, False == 0"
   ]
  },
  {
   "cell_type": "markdown",
   "metadata": {},
   "source": [
    "## 2. 개념 정리"
   ]
  },
  {
   "cell_type": "markdown",
   "metadata": {},
   "source": [
    "### 1. 컴프리헨션(comprehension)"
   ]
  },
  {
   "cell_type": "markdown",
   "metadata": {},
   "source": [
    "컴프리헨션은 실제 프로그래밍에서 **한 줄로 파이썬 기능을 구현할 수 있는 기능**이다.\n",
    "\n",
    "- 코드간소화를 위해서 사용되고 **직관적이며 속도도 빠르다.**\n",
    "- 유의할 점\n",
    "    - 컴프리헨션 내에서 **여러 조건이 중첩되는 경우 가독성이 떨어진다.**\n",
    "    - 조건문에 따라 컴퓨터에서 사용되는 **메모리에 영향을 줄 수 있다.**"
   ]
  },
  {
   "cell_type": "code",
   "execution_count": 45,
   "metadata": {},
   "outputs": [
    {
     "name": "stdout",
     "output_type": "stream",
     "text": [
      "[1, 2, 3, 4, 5, 6, 7, 8, 9, 10, 11, 12, 13, 14, 15, 16, 17, 18, 19, 20, 21, 22, 23, 24, 25, 26, 27, 28, 29, 30, 31, 32, 33, 34, 35, 36, 37, 38, 39, 40, 41, 42, 43, 44, 45, 46, 47, 48, 49]\n"
     ]
    }
   ],
   "source": [
    "# case 1 - 반복문\n",
    "i = []\n",
    "x = 0\n",
    "for x in range(1,50):\n",
    "    i.append(x)\n",
    "print(i)"
   ]
  },
  {
   "cell_type": "code",
   "execution_count": 44,
   "metadata": {},
   "outputs": [
    {
     "data": {
      "text/plain": [
       "[1,\n",
       " 2,\n",
       " 3,\n",
       " 4,\n",
       " 5,\n",
       " 6,\n",
       " 7,\n",
       " 8,\n",
       " 9,\n",
       " 10,\n",
       " 11,\n",
       " 12,\n",
       " 13,\n",
       " 14,\n",
       " 15,\n",
       " 16,\n",
       " 17,\n",
       " 18,\n",
       " 19,\n",
       " 20,\n",
       " 21,\n",
       " 22,\n",
       " 23,\n",
       " 24,\n",
       " 25,\n",
       " 26,\n",
       " 27,\n",
       " 28,\n",
       " 29,\n",
       " 30,\n",
       " 31,\n",
       " 32,\n",
       " 33,\n",
       " 34,\n",
       " 35,\n",
       " 36,\n",
       " 37,\n",
       " 38,\n",
       " 39,\n",
       " 40,\n",
       " 41,\n",
       " 42,\n",
       " 43,\n",
       " 44,\n",
       " 45,\n",
       " 46,\n",
       " 47,\n",
       " 48,\n",
       " 49]"
      ]
     },
     "execution_count": 44,
     "metadata": {},
     "output_type": "execute_result"
    }
   ],
   "source": [
    "# case 2 - 컴프리헨션\n",
    "[i for i in range(1,50)]"
   ]
  },
  {
   "cell_type": "code",
   "execution_count": 47,
   "metadata": {},
   "outputs": [
    {
     "name": "stdout",
     "output_type": "stream",
     "text": [
      "0.08851459400011663\n",
      "0.04626521499994851\n"
     ]
    }
   ],
   "source": [
    "# comprehension과 for반복문 시간비교\n",
    "import timeit\n",
    "start_time1 = timeit.default_timer()\n",
    "\n",
    "lst = []\n",
    "for i in range(1000000):\n",
    "    lst.append(i)\n",
    "\n",
    "end_time1 = timeit.default_timer()\n",
    "print(end_time1 - start_time1)\n",
    "\n",
    "\n",
    "start_time2 = timeit.default_timer()\n",
    "\n",
    "lst = [i for i in range(1000000)]\n",
    "\n",
    "end_time2 = timeit.default_timer()\n",
    "print(end_time2 - start_time2)"
   ]
  },
  {
   "cell_type": "code",
   "execution_count": 49,
   "metadata": {},
   "outputs": [
    {
     "name": "stdout",
     "output_type": "stream",
     "text": [
      "15\n",
      "30\n",
      "45\n"
     ]
    },
    {
     "data": {
      "text/plain": [
       "[15, 30, 45]"
      ]
     },
     "execution_count": 49,
     "metadata": {},
     "output_type": "execute_result"
    }
   ],
   "source": [
    "# case 1 : 3과 5의 공배수 구하기 - for반복문\n",
    "for i in range(1,51):\n",
    "    if i%3 == 0 and i%5 == 0:\n",
    "        print(i)\n",
    "\n",
    "# case 2 : comprehension\n",
    "[i for i in range(1,51) if i%3 == 0 and i%5 == 0]"
   ]
  },
  {
   "cell_type": "code",
   "execution_count": 60,
   "metadata": {},
   "outputs": [
    {
     "name": "stdout",
     "output_type": "stream",
     "text": [
      "[1, 4, 9, 16]\n",
      "[1, 4, 9, 16]\n"
     ]
    }
   ],
   "source": [
    "# case 1 : 제곱수 리스트 만들기 - for반복문\n",
    "numbers = [1, 2, 3, 4]\n",
    "squares = []\n",
    "\n",
    "for n in numbers:\n",
    "    squares.append(n**2)\n",
    "\n",
    "print(squares)\n",
    "\n",
    "# case 2 : comprehension\n",
    "numbers = [1, 2, 3, 4]\n",
    "squares = [n**2 for n in numbers]\n",
    "\n",
    "print(squares)"
   ]
  },
  {
   "cell_type": "code",
   "execution_count": 62,
   "metadata": {},
   "outputs": [
    {
     "name": "stdout",
     "output_type": "stream",
     "text": [
      "[2, 3, 4]\n",
      "[2, 3, 4]\n"
     ]
    }
   ],
   "source": [
    "list_a = [1, 2, 3, 4]\n",
    "list_b = [2, 3, 4, 5]\n",
    "\n",
    "# case 1 : 두 리스트의 같은 값만 도출하기 - for반복문\n",
    "common_num = []\n",
    "\n",
    "for a in list_a:\n",
    "    for b in list_b:\n",
    "        if a == b:\n",
    "            common_num.append(a)\n",
    "\n",
    "print(common_num)\n",
    "\n",
    "# case 2 : comprehension\n",
    "common_num = [a for a in list_a for b in list_b if a == b]\n",
    "\n",
    "print(common_num)"
   ]
  },
  {
   "cell_type": "code",
   "execution_count": 64,
   "metadata": {},
   "outputs": [
    {
     "name": "stdout",
     "output_type": "stream",
     "text": [
      "{'A': 5, 'B': 7, 'C': 9, 'D': 6}\n"
     ]
    }
   ],
   "source": [
    "# 딕셔너리 컴프리헨션\n",
    "\n",
    "test = {'A': 5, 'B': 7, 'C': 9, 'D': 6, 'E': 10}\n",
    "\n",
    "test = {na:test for na, test in test.items() if na != 'E'}\n",
    "print(test)"
   ]
  },
  {
   "cell_type": "code",
   "execution_count": 65,
   "metadata": {},
   "outputs": [
    {
     "name": "stdout",
     "output_type": "stream",
     "text": [
      "{'amy': 'NO PASS', 'jane': 'PASS', 'sophia': 'NO PASS', 'jay': 'PASS'}\n"
     ]
    }
   ],
   "source": [
    "# 아래와 같이 조건을 반복문 대신 조건을 먼저 쓸 수 있다.\n",
    "# 조건을 위해 if를 사용하는 경우 else를 작성해줘야된다.\n",
    "numbers = {'amy': 7, 'jane': 9, 'sophia': 5, 'jay': 10}\n",
    "pas = {name: 'PASS' if numbers > 8 else 'NO PASS' for name, numbers in numbers.items()}\n",
    "print(pas)"
   ]
  },
  {
   "cell_type": "code",
   "execution_count": 66,
   "metadata": {},
   "outputs": [
    {
     "name": "stdout",
     "output_type": "stream",
     "text": [
      "list for loop :  [1, 2, 3, 4, 5, 1, 2, 3, 4, 5, 1, 2, 3, 4, 5, 1, 2, 3, 4, 5, 1, 2, 3, 4, 5]\n",
      "set for loop :  {1, 2, 3, 4, 5}\n"
     ]
    }
   ],
   "source": [
    "# 아래처럼 반복문을 연속으로 작성 가능\n",
    "# set은 특성상 중복값을 제외\n",
    "\n",
    "print('list for loop : ',[n for n in range(1, 5+1) for n in range(1, 5+1)])\n",
    "\n",
    "print('set for loop : ',{n for n in range(1, 5+1) for n in range(1, 5+1)})"
   ]
  },
  {
   "cell_type": "markdown",
   "metadata": {},
   "source": [
    "### 2. 구문 및 예외적인 상황"
   ]
  },
  {
   "cell_type": "code",
   "execution_count": null,
   "metadata": {},
   "outputs": [],
   "source": [
    "'''\n",
    "핵심 정리!\n",
    "try: 하다가 오류 발생하면 잡아낼 부분\n",
    "except 에러명: 잡아낼 에러에 따라 처리할 내용\n",
    "else: try에서 break되지 않으면 마저 될 부분\n",
    "finally: try가 break 되든 말든 결국 될 부분\n",
    "'''"
   ]
  },
  {
   "cell_type": "markdown",
   "metadata": {},
   "source": [
    "* 실제 대규모 서비스에서 공동작업을 진행하는 경우, 예외처리를 하는 것이 중요하다.\n",
    "* 파이썬에서는 루프문에 if 없이도 else 구문을 추가할 수 있다."
   ]
  },
  {
   "cell_type": "markdown",
   "metadata": {},
   "source": [
    "#### 📎 for ~ else"
   ]
  },
  {
   "cell_type": "markdown",
   "metadata": {},
   "source": [
    "\n",
    "* for ~ else문의 장점은 반복문 내에 break를 두는 경우, break로 인해 반복문을 빠져나왔는지, 반복문이 멈추는 조건이 될 때까지 반복한 후 정상적으로 빠져나왔는지 알 수 있다는 점이다.\n",
    "* 즉, else가 반복문 이후에 예외사항을 확인해시켜준다!\n",
    "\n",
    "🥕 코딩을 하다 보면 for문의 중간에 break 되었는지, 되어있지 않는지 판별해야 되는 경우에 for ~ else문을 활용하면 된다. 이때 else의 들여쓰기는 for와 일치해야 한다."
   ]
  },
  {
   "cell_type": "markdown",
   "metadata": {},
   "source": [
    "#### 📎 continue"
   ]
  },
  {
   "cell_type": "markdown",
   "metadata": {},
   "source": [
    "* 특정 조건 하에 continue 아래의 코드는 실행되지 않고 건너뛰고, 다시 반복문을 수행하고자 할 때 사용"
   ]
  },
  {
   "cell_type": "code",
   "execution_count": 2,
   "metadata": {},
   "outputs": [
    {
     "name": "stdout",
     "output_type": "stream",
     "text": [
      "1 2 3 4 \n",
      "6 7 8 9 "
     ]
    }
   ],
   "source": [
    "for i in range(1, 10):\n",
    "    if i == 5:\n",
    "        print()\n",
    "        continue\n",
    "    print(i , end= ' ')"
   ]
  },
  {
   "cell_type": "markdown",
   "metadata": {},
   "source": [
    "#### 📎 try ~ except"
   ]
  },
  {
   "cell_type": "markdown",
   "metadata": {},
   "source": [
    "- 프로그램에 예외가 발생하더라도 프로그램을 중단 시키지 않고 예외에 대한 적절한 처리를 하여 프로그램을 계속 진행 시킬 수 있도록 하는 구문"
   ]
  },
  {
   "cell_type": "code",
   "execution_count": 95,
   "metadata": {},
   "outputs": [
    {
     "ename": "ZeroDivisionError",
     "evalue": "division by zero",
     "output_type": "error",
     "traceback": [
      "\u001b[0;31m---------------------------------------------------------------------------\u001b[0m",
      "\u001b[0;31mZeroDivisionError\u001b[0m                         Traceback (most recent call last)",
      "\u001b[0;32m<ipython-input-95-5a9d09d5e67d>\u001b[0m in \u001b[0;36m<module>\u001b[0;34m\u001b[0m\n\u001b[1;32m      4\u001b[0m     \u001b[0;32mreturn\u001b[0m \u001b[0mint\u001b[0m\u001b[0;34m(\u001b[0m\u001b[0mx\u001b[0m\u001b[0;34m)\u001b[0m\u001b[0;34m/\u001b[0m\u001b[0mint\u001b[0m\u001b[0;34m(\u001b[0m\u001b[0my\u001b[0m\u001b[0;34m)\u001b[0m\u001b[0;34m\u001b[0m\u001b[0;34m\u001b[0m\u001b[0m\n\u001b[1;32m      5\u001b[0m \u001b[0;34m\u001b[0m\u001b[0m\n\u001b[0;32m----> 6\u001b[0;31m \u001b[0mprint\u001b[0m\u001b[0;34m(\u001b[0m\u001b[0mmy_divide\u001b[0m\u001b[0;34m(\u001b[0m\u001b[0;34m)\u001b[0m\u001b[0;34m)\u001b[0m \u001b[0;31m# 분모에 0 입력시 에러가 뜬다\u001b[0m\u001b[0;34m\u001b[0m\u001b[0;34m\u001b[0m\u001b[0m\n\u001b[0m",
      "\u001b[0;32m<ipython-input-95-5a9d09d5e67d>\u001b[0m in \u001b[0;36mmy_divide\u001b[0;34m()\u001b[0m\n\u001b[1;32m      2\u001b[0m     \u001b[0mx\u001b[0m \u001b[0;34m=\u001b[0m \u001b[0minput\u001b[0m\u001b[0;34m(\u001b[0m\u001b[0;34m'분자의 숫자를 입력하세요 ~ '\u001b[0m\u001b[0;34m)\u001b[0m\u001b[0;34m\u001b[0m\u001b[0;34m\u001b[0m\u001b[0m\n\u001b[1;32m      3\u001b[0m     \u001b[0my\u001b[0m \u001b[0;34m=\u001b[0m \u001b[0minput\u001b[0m\u001b[0;34m(\u001b[0m\u001b[0;34m'분모의 숫자를 입력하세요 ~ '\u001b[0m\u001b[0;34m)\u001b[0m\u001b[0;34m\u001b[0m\u001b[0;34m\u001b[0m\u001b[0m\n\u001b[0;32m----> 4\u001b[0;31m     \u001b[0;32mreturn\u001b[0m \u001b[0mint\u001b[0m\u001b[0;34m(\u001b[0m\u001b[0mx\u001b[0m\u001b[0;34m)\u001b[0m\u001b[0;34m/\u001b[0m\u001b[0mint\u001b[0m\u001b[0;34m(\u001b[0m\u001b[0my\u001b[0m\u001b[0;34m)\u001b[0m\u001b[0;34m\u001b[0m\u001b[0;34m\u001b[0m\u001b[0m\n\u001b[0m\u001b[1;32m      5\u001b[0m \u001b[0;34m\u001b[0m\u001b[0m\n\u001b[1;32m      6\u001b[0m \u001b[0mprint\u001b[0m\u001b[0;34m(\u001b[0m\u001b[0mmy_divide\u001b[0m\u001b[0;34m(\u001b[0m\u001b[0;34m)\u001b[0m\u001b[0;34m)\u001b[0m \u001b[0;31m# 분모에 0 입력시 에러가 뜬다\u001b[0m\u001b[0;34m\u001b[0m\u001b[0;34m\u001b[0m\u001b[0m\n",
      "\u001b[0;31mZeroDivisionError\u001b[0m: division by zero"
     ]
    }
   ],
   "source": [
    "def divide():\n",
    "    x = input('분자의 숫자를 입력하세요 ~ ')\n",
    "    y = input('분모의 숫자를 입력하세요 ~ ')\n",
    "    return int(x)/int(y)\n",
    "\n",
    "print(divide()) # 분모에 0 입력시 에러가 뜬다"
   ]
  },
  {
   "cell_type": "code",
   "execution_count": 96,
   "metadata": {},
   "outputs": [
    {
     "name": "stdout",
     "output_type": "stream",
     "text": [
      "나누기를 할 수 없습니다\n"
     ]
    }
   ],
   "source": [
    "def divide():\n",
    "    try:\n",
    "        # 문제가 없을 경우 실행할 코드\n",
    "        x = input('분자의 숫자를 입력하세요 ~ ')\n",
    "        y = input('분모의 숫자를 입력하세요 ~ ')\n",
    "        return int(x)/int(y)\n",
    "    except:\n",
    "        # 문제가 생겼을 경우 실행할 코드\n",
    "        return '나누기를 할 수 없습니다'\n",
    "\n",
    "print(divide())"
   ]
  },
  {
   "cell_type": "markdown",
   "metadata": {},
   "source": [
    "#### 📎 try ~ except ~ finally"
   ]
  },
  {
   "cell_type": "markdown",
   "metadata": {},
   "source": [
    "- **오류 발생 유무와 관계없이 특정 코드를 무조건 실행**시키려면 **try ~ except ~ finally** 구문을 사용하면 된다.\n",
    "    - try / except / raise / finally 구문정리\n",
    "    - try : 처리하고자 하는 부분\n",
    "    - except : try구문 안에서 발생할 것으로 예상되는 예외를 처리\n",
    "    - raise : 예외상황일 때 명시적으로 처리\n",
    "    - finally : 마지막으로 실행하는 코드(예외가 발생하더라도 마지막코드를 수행해야할 때)"
   ]
  },
  {
   "cell_type": "code",
   "execution_count": 100,
   "metadata": {},
   "outputs": [
    {
     "name": "stdout",
     "output_type": "stream",
     "text": [
      "디즈니 랜드에 오신 것을 환영합니다~!\n"
     ]
    },
    {
     "data": {
      "text/plain": [
       "100000"
      ]
     },
     "execution_count": 100,
     "metadata": {},
     "output_type": "execute_result"
    }
   ],
   "source": [
    "# 오류 발생 유무와 관계없이 특정 코드를 무조건 실행시키려면 try ~ except ~ finally 구문을 사용하면 된다.\n",
    "def age_check():\n",
    "    try:\n",
    "        age = int(input(\"나이를 입력해주세요: \"))\n",
    "    except ValueError as e:\n",
    "        print(\"숫자로 나이를 입력해주세요.\")\n",
    "        print(e)\n",
    "    else:\n",
    "        # 3세 미만은 공짜\n",
    "        if age < 3:\n",
    "            fee = 0\n",
    "        # 3세~9세: 50,000\n",
    "        elif age >= 3 and age < 10:\n",
    "            fee = 50000\n",
    "        else:\n",
    "            fee = 100000\n",
    "        return fee\n",
    "    finally:\n",
    "        print(\"환영합니다~!\")\n",
    "\n",
    "\n",
    "age_check()"
   ]
  },
  {
   "cell_type": "markdown",
   "metadata": {},
   "source": [
    "### 3. 의사코드(pseudocode, 슈도코드)"
   ]
  },
  {
   "cell_type": "markdown",
   "metadata": {},
   "source": [
    "- 프로그램을 작성할 때 각 [모듈](https://ko.wikipedia.org/wiki/%EB%AA%A8%EB%93%88_(%ED%94%84%EB%A1%9C%EA%B7%B8%EB%9E%98%EB%B0%8D))이 작동하는 논리를 표현하기 위한 언어를 만함. 특정 [프로그래밍 언어](https://ko.wikipedia.org/wiki/%ED%94%84%EB%A1%9C%EA%B7%B8%EB%9E%98%EB%B0%8D_%EC%96%B8%EC%96%B4)의 문법에 따라 쓰인 것이 아니라, 일반적인 언어로 코드를 흉내 내어 [알고리즘](https://ko.wikipedia.org/wiki/%EC%95%8C%EA%B3%A0%EB%A6%AC%EC%A6%98)을 써놓은 코드를 말한다 - [위키백과](https://ko.wikipedia.org/wiki/%EC%9D%98%EC%82%AC%EC%BD%94%EB%93%9C)\n",
    "- 실행되는 소스코드 작성 전, **자신이 이해할 수 있는 코드를 작성**하는 것\n",
    "- **요구사항이나 알고리즘을 해석**하기 위해 사용된다.\n",
    "- 프로그램의 크기정도, 어려움정도, 협업 정도에 따라 필요유무가 달라짐"
   ]
  }
 ],
 "metadata": {
  "interpreter": {
   "hash": "d473ce608692a3bf02c1de21d06d5afe9b45f4f9760cc575a6ec607da11a00f4"
  },
  "kernelspec": {
   "display_name": "Python 3.8.8 64-bit ('base': conda)",
   "language": "python",
   "name": "python3"
  },
  "language_info": {
   "codemirror_mode": {
    "name": "ipython",
    "version": 3
   },
   "file_extension": ".py",
   "mimetype": "text/x-python",
   "name": "python",
   "nbconvert_exporter": "python",
   "pygments_lexer": "ipython3",
   "version": "3.8.8"
  },
  "orig_nbformat": 4
 },
 "nbformat": 4,
 "nbformat_minor": 2
}
