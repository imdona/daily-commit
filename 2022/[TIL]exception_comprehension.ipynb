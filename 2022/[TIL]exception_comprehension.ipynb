{
 "cells": [
  {
   "cell_type": "markdown",
   "metadata": {},
   "source": [
    "## 1. Code"
   ]
  },
  {
   "cell_type": "markdown",
   "metadata": {},
   "source": [
    "#### 🔍 Problem1"
   ]
  },
  {
   "cell_type": "markdown",
   "metadata": {},
   "source": [
    "파이썬의 기본형태를 이해하고 컴프리헨션을 활용할 줄 알아야 합니다.\n",
    "\n",
    "[요구사항 & 문제]\n",
    "* 반복해서 수학적인 개념이 접목된 프로그래밍 문제를 해결해봅니다.\n",
    "* 프로그래밍에 익숙해지는 과정에는 코드 자체에 대한 맥락을 읽어야 하는 것이 중요합니다.\n",
    "* 리스트 컴프리헨션 개념을 적용하여 '1~100까지 7과 5의 공배수' 를 구하는 코드를 작성하세요. 아래 예시입력값과 출력값을 참조하며 문제를 해결해봅니다.\n",
    "\n",
    "[입력값 & 출력값]\n",
    "* 입력값: 없음\n",
    "* 출력값: [35, 70]"
   ]
  },
  {
   "cell_type": "code",
   "execution_count": 2,
   "metadata": {},
   "outputs": [
    {
     "name": "stdout",
     "output_type": "stream",
     "text": [
      "[35, 70]\n"
     ]
    }
   ],
   "source": [
    "# case 1\n",
    "def part1():\n",
    "    return [i for i in range(1, 101) if i%7 == 0 and i%5 == 0]\n",
    "\n",
    "# test code\n",
    "print(part1())"
   ]
  },
  {
   "cell_type": "code",
   "execution_count": 3,
   "metadata": {},
   "outputs": [
    {
     "name": "stdout",
     "output_type": "stream",
     "text": [
      "[35, 70]\n"
     ]
    }
   ],
   "source": [
    "# case 2 : 7와 5의 공배수(두 개 이상의 자연수의 공통인 배수)니까 한번에 35로 나누어떨어지는지 확인해도 된다.\n",
    "def part1():\n",
    "    return [i for i in range(1,101) if i % 35 == 0]\n",
    "\n",
    "# test code\n",
    "print(part1())"
   ]
  },
  {
   "cell_type": "markdown",
   "metadata": {},
   "source": [
    "#### 🔍 Problem2"
   ]
  },
  {
   "cell_type": "markdown",
   "metadata": {},
   "source": [
    "유기적으로 연결되는 파이썬 코드와 추상적인 숫자에 익숙해집니다.\n",
    "\n",
    "[요구사항 & 문제]\n",
    "* 우리는 지금까지 다양한 코딩을 진행해왔습니다.\n",
    "코딩을 뛰어넘어 생각하는 프로그래밍을 해야 데이터 직군뿐만아니라 직업인으로서\n",
    "문제를 찾고 더 나은 방향을 모색할 수 있습니다.\n",
    "문제를 해결하고 더 나은 방법을 연구해보는 것은 여러분들을 위한 중요한 수행입니다.\n",
    "\n",
    "* '리스트의 값 중 최댓값'을 구하도록 코드를 구현하세요. 파이썬의 내장함수를 사용하지 않고, 반복문과 조건문을 활용합니다. 아래 예시입력값과 출력값을 참조하며 문제를 해결해봅니다.\n",
    "\n",
    "[입력값 & 출력값]\n",
    "* 입력값: [4, 8, 5, 11, 7, 2]\n",
    "* 출력값: 11"
   ]
  },
  {
   "cell_type": "code",
   "execution_count": 6,
   "metadata": {},
   "outputs": [
    {
     "name": "stdout",
     "output_type": "stream",
     "text": [
      "11\n"
     ]
    }
   ],
   "source": [
    "# case 1\n",
    "def part2(num):\n",
    "    result = num[0]  # max값을 임의로 첫번째 원소로 지정한다\n",
    "    # input으로 받은 num 리스트를 돌면서 원소가 max값보다 크면 바꿔준다\n",
    "    for i in num:\n",
    "        if i > result:\n",
    "            result = i\n",
    "    return result\n",
    "\n",
    "print(part2([4, 8, 5, 11, 7, 2]))"
   ]
  },
  {
   "cell_type": "code",
   "execution_count": 7,
   "metadata": {},
   "outputs": [
    {
     "name": "stdout",
     "output_type": "stream",
     "text": [
      "11\n"
     ]
    }
   ],
   "source": [
    "# case 1-2 : my best pick\n",
    "def part2(num):\n",
    "    max = num[0]\n",
    "    # case1과 유사한데 for문의 범위를 처음 max로 지정한 0번 인덱스 원소를 빼고 돌린다(조금 더 효율적)\n",
    "    for i in num[1:]:\n",
    "        if i > max: max = i\n",
    "    return max\n",
    "\n",
    "print(part2([4, 8, 5, 11, 7, 2]))"
   ]
  },
  {
   "cell_type": "code",
   "execution_count": 8,
   "metadata": {},
   "outputs": [
    {
     "name": "stdout",
     "output_type": "stream",
     "text": [
      "11\n"
     ]
    }
   ],
   "source": [
    "# case 2\n",
    "def part2(num):\n",
    "    result = num[0]\n",
    "    # 1 ~ 리스트의 길이까지 for문을 돌리고, list[index]로 비교해준다\n",
    "    for i in range(1,len(num)):\n",
    "        if num[i] > result:\n",
    "            result = num[i]\n",
    "    return result\n",
    "\n",
    "print(part2([4, 8, 5, 11, 7, 2]))"
   ]
  },
  {
   "cell_type": "markdown",
   "metadata": {},
   "source": [
    "#### 🔍 Problem3"
   ]
  },
  {
   "cell_type": "markdown",
   "metadata": {},
   "source": [
    "반복문과 조건문을 활용한 문제를 해결은 계속됩니다.\n",
    "\n",
    "[요구사항 & 문제]\n",
    "* 복합적으로 엮여있는 조건을 하나씩 풀어봅니다.\n",
    "* 추상도가 높고 프로그래밍에 대한 언급이 없을 수록 문제해결은 어려워집니다.\n",
    "* 머신러닝과 딥러닝에서 봤었던 복잡한 수식이 어떻게 코드화되었는지 함께 생각해보면서 아래 문제를 해결합니다.\n",
    "\n",
    "* 1부터 1이상의 입력받은 숫자까지 모든 숫자에 대해 소수가 몇 개 있는지 반환하세요. 0이하의 경우 ValueError를 발생시켜 주세요."
   ]
  },
  {
   "cell_type": "code",
   "execution_count": 30,
   "metadata": {},
   "outputs": [
    {
     "name": "stdout",
     "output_type": "stream",
     "text": [
      "5\n",
      "0.00033446600082243094\n"
     ]
    }
   ],
   "source": [
    "import timeit\n",
    "start_time1 = timeit.default_timer()\n",
    "\n",
    "# case 1\n",
    "def part3(N):\n",
    "    prime_num = []\n",
    "    if N <= 0: raise ValueError(\"1이상의 숫자를 입력해주세요\")\n",
    "    for i in range(1, N+1):\n",
    "        condition = True\n",
    "        if i == 1 : continue  # 1은 소수가 아니므로 넘긴다\n",
    "        # 에라토스테네스의 체 활용 : 시간을 줄이기 위함, 2부터 확인\n",
    "        for j in range(2, int(i**0.5) + 1):\n",
    "            # i가 1이 아닌 수로 나누어지면 소수가 아님\n",
    "            if i % j == 0:\n",
    "                condition = False\n",
    "                break\n",
    "        # 모든 과정을 무사히 pass한 녀석들은 소수 리스트안에 append해주겠노라\n",
    "        if condition:\n",
    "            prime_num.append(i)\n",
    "    # 소수 리스트의 길이를 뽑는다\n",
    "    return len(prime_num)\n",
    "\n",
    "# test code : 11은 2, 3, 5, 7, 11로 5개이다\n",
    "print(part3(11))\n",
    "\n",
    "end_time1 = timeit.default_timer()\n",
    "print(end_time1 - start_time1)"
   ]
  },
  {
   "cell_type": "code",
   "execution_count": 29,
   "metadata": {},
   "outputs": [
    {
     "name": "stdout",
     "output_type": "stream",
     "text": [
      "5\n",
      "0.0002470280005582026\n"
     ]
    }
   ],
   "source": [
    "import timeit\n",
    "start_time1 = timeit.default_timer()\n",
    "\n",
    "# case 2\n",
    "def part3(N):\n",
    "    pass\n",
    "    if N <= 0: raise ValueError(\"Not Allow Zero and Negative Number\")\n",
    "\n",
    "    # 소수 확인 테이블 : True가 N+1개 원소로 담긴 list\n",
    "    primenum_check = [True]*(N+1)\n",
    "\n",
    "    # 0과 1은 소수가 아님 : 0, 1번째 리스트는 False로 바꿔준다\n",
    "    primenum_check[0] = False\n",
    "    primenum_check[1] = False\n",
    "\n",
    "    # 에라토스테네스의 체\n",
    "    for i in range(2, int((N+1)**0.5)+1):\n",
    "        # 먼저 False로 바꿔준 0과 1을 제외하고 확인\n",
    "        if primenum_check[i] == True:\n",
    "            for j in range(2*i, N+1, i):\n",
    "                primenum_check[j] = False\n",
    "\n",
    "    return sum(primenum_check)\n",
    "\n",
    "# test code : 11은 2, 3, 5, 7, 11로 5개이다\n",
    "print(part3(11))\n",
    "\n",
    "end_time1 = timeit.default_timer()\n",
    "print(end_time1 - start_time1)"
   ]
  },
  {
   "cell_type": "code",
   "execution_count": 28,
   "metadata": {},
   "outputs": [
    {
     "name": "stdout",
     "output_type": "stream",
     "text": [
      "[0, 0, 1, 1, 0, 1, 0, 1, 0, 0, 0, 1]\n",
      "5\n",
      "0.0003826020001724828\n"
     ]
    }
   ],
   "source": [
    "import timeit\n",
    "start_time1 = timeit.default_timer()\n",
    "\n",
    "# case 3\n",
    "def part3(N):\n",
    "    pass\n",
    "    if N <= 0:\n",
    "        raise ValueError\n",
    "\n",
    "    # True == 1, False == 0 : case2와 마찬가지로 True인 리스트 만들어주고 1과 0은 False로 바꿔준다\n",
    "    prime_list = [1] * (N + 1)\n",
    "\n",
    "    prime_list[0], prime_list[1] = 0, 0\n",
    "\n",
    "    # enumerate로 번호, 원소를 같이 받는다\n",
    "    for prime_number, v in enumerate(prime_list):\n",
    "        if v: # 소수이면(True(1)이면)\n",
    "            for i in range(prime_number + 1, N + 1):\n",
    "                if i % prime_number == 0: # 소수의 배수이면\n",
    "                    prime_list[i] = 0 # 소수가 아니다\n",
    "    print(prime_list)\n",
    "    return sum(prime_list)\n",
    "\n",
    "# test code : 11은 2, 3, 5, 7, 11로 5개이다\n",
    "print(part3(11))\n",
    "\n",
    "end_time1 = timeit.default_timer()\n",
    "print(end_time1 - start_time1)"
   ]
  },
  {
   "cell_type": "code",
   "execution_count": 23,
   "metadata": {},
   "outputs": [
    {
     "data": {
      "text/plain": [
       "(True, True)"
      ]
     },
     "execution_count": 23,
     "metadata": {},
     "output_type": "execute_result"
    }
   ],
   "source": [
    "True == 1, False == 0"
   ]
  },
  {
   "cell_type": "markdown",
   "metadata": {},
   "source": [
    "## 2. 개념 정리"
   ]
  },
  {
   "cell_type": "markdown",
   "metadata": {},
   "source": [
    "### 1. 컴프리헨션(comprehension)"
   ]
  },
  {
   "cell_type": "markdown",
   "metadata": {},
   "source": [
    "컴프리헨션은 실제 프로그래밍에서 **한 줄로 파이썬 기능을 구현할 수 있는 기능**이다.\n",
    "\n",
    "- 코드간소화를 위해서 사용되고 **직관적이며 속도도 빠르다.**\n",
    "- 컴프리헨션을 활용하는 경우 2가지 유의할 점이 있다.\n",
    "    - 첫번째는 컴프리헨션 내에서 **여러 조건이 중첩되는 경우 가독성이 떨어진다.**\n",
    "    - 두번째는 조건문에 따라 컴퓨터에서 사용되는 **메모리에 영향을 줄 수 있다.**"
   ]
  },
  {
   "cell_type": "code",
   "execution_count": 45,
   "metadata": {},
   "outputs": [
    {
     "name": "stdout",
     "output_type": "stream",
     "text": [
      "[1, 2, 3, 4, 5, 6, 7, 8, 9, 10, 11, 12, 13, 14, 15, 16, 17, 18, 19, 20, 21, 22, 23, 24, 25, 26, 27, 28, 29, 30, 31, 32, 33, 34, 35, 36, 37, 38, 39, 40, 41, 42, 43, 44, 45, 46, 47, 48, 49]\n"
     ]
    }
   ],
   "source": [
    "# case 1 - 반복문\n",
    "i = []\n",
    "x = 0\n",
    "for x in range(1,50):\n",
    "    i.append(x)\n",
    "print(i)"
   ]
  },
  {
   "cell_type": "code",
   "execution_count": 44,
   "metadata": {},
   "outputs": [
    {
     "data": {
      "text/plain": [
       "[1,\n",
       " 2,\n",
       " 3,\n",
       " 4,\n",
       " 5,\n",
       " 6,\n",
       " 7,\n",
       " 8,\n",
       " 9,\n",
       " 10,\n",
       " 11,\n",
       " 12,\n",
       " 13,\n",
       " 14,\n",
       " 15,\n",
       " 16,\n",
       " 17,\n",
       " 18,\n",
       " 19,\n",
       " 20,\n",
       " 21,\n",
       " 22,\n",
       " 23,\n",
       " 24,\n",
       " 25,\n",
       " 26,\n",
       " 27,\n",
       " 28,\n",
       " 29,\n",
       " 30,\n",
       " 31,\n",
       " 32,\n",
       " 33,\n",
       " 34,\n",
       " 35,\n",
       " 36,\n",
       " 37,\n",
       " 38,\n",
       " 39,\n",
       " 40,\n",
       " 41,\n",
       " 42,\n",
       " 43,\n",
       " 44,\n",
       " 45,\n",
       " 46,\n",
       " 47,\n",
       " 48,\n",
       " 49]"
      ]
     },
     "execution_count": 44,
     "metadata": {},
     "output_type": "execute_result"
    }
   ],
   "source": [
    "# case 2 - 컴프리헨션\n",
    "[i for i in range(1,50)]"
   ]
  },
  {
   "cell_type": "code",
   "execution_count": 47,
   "metadata": {},
   "outputs": [
    {
     "name": "stdout",
     "output_type": "stream",
     "text": [
      "0.08851459400011663\n",
      "0.04626521499994851\n"
     ]
    }
   ],
   "source": [
    "# comprehension과 for반복문 시간비교\n",
    "import timeit\n",
    "start_time1 = timeit.default_timer()\n",
    "\n",
    "lst = []\n",
    "for i in range(1000000):\n",
    "    lst.append(i)\n",
    "\n",
    "end_time1 = timeit.default_timer()\n",
    "print(end_time1 - start_time1)\n",
    "\n",
    "\n",
    "start_time2 = timeit.default_timer()\n",
    "\n",
    "lst = [i for i in range(1000000)]\n",
    "\n",
    "end_time2 = timeit.default_timer()\n",
    "print(end_time2 - start_time2)"
   ]
  },
  {
   "cell_type": "code",
   "execution_count": 49,
   "metadata": {},
   "outputs": [
    {
     "name": "stdout",
     "output_type": "stream",
     "text": [
      "15\n",
      "30\n",
      "45\n"
     ]
    },
    {
     "data": {
      "text/plain": [
       "[15, 30, 45]"
      ]
     },
     "execution_count": 49,
     "metadata": {},
     "output_type": "execute_result"
    }
   ],
   "source": [
    "# case 1 : 3과 5의 공배수 구하기 - for반복문\n",
    "for i in range(1,51):\n",
    "    if i%3 == 0 and i%5 == 0:\n",
    "        print(i)\n",
    "\n",
    "# case 2 : comprehension\n",
    "[i for i in range(1,51) if i%3 == 0 and i%5 == 0]"
   ]
  },
  {
   "cell_type": "code",
   "execution_count": 60,
   "metadata": {},
   "outputs": [
    {
     "name": "stdout",
     "output_type": "stream",
     "text": [
      "[1, 4, 9, 16]\n",
      "[1, 4, 9, 16]\n"
     ]
    }
   ],
   "source": [
    "# case 1 : 제곱수 리스트 만들기 - for반복문\n",
    "numbers = [1, 2, 3, 4]\n",
    "squares = []\n",
    "\n",
    "for n in numbers:\n",
    "    squares.append(n**2)\n",
    "\n",
    "print(squares)\n",
    "\n",
    "# case 2 : comprehension\n",
    "numbers = [1, 2, 3, 4]\n",
    "squares = [n**2 for n in numbers]\n",
    "\n",
    "print(squares)"
   ]
  },
  {
   "cell_type": "code",
   "execution_count": 62,
   "metadata": {},
   "outputs": [
    {
     "name": "stdout",
     "output_type": "stream",
     "text": [
      "[2, 3, 4]\n",
      "[2, 3, 4]\n"
     ]
    }
   ],
   "source": [
    "list_a = [1, 2, 3, 4]\n",
    "list_b = [2, 3, 4, 5]\n",
    "\n",
    "# case 1 : 두 리스트의 같은 값만 도출하기 - for반복문\n",
    "common_num = []\n",
    "\n",
    "for a in list_a:\n",
    "    for b in list_b:\n",
    "        if a == b:\n",
    "            common_num.append(a)\n",
    "\n",
    "print(common_num)\n",
    "\n",
    "# case 2 : comprehension\n",
    "common_num = [a for a in list_a for b in list_b if a == b]\n",
    "\n",
    "print(common_num)"
   ]
  },
  {
   "cell_type": "code",
   "execution_count": 64,
   "metadata": {},
   "outputs": [
    {
     "name": "stdout",
     "output_type": "stream",
     "text": [
      "{'A': 5, 'B': 7, 'C': 9, 'D': 6}\n"
     ]
    }
   ],
   "source": [
    "# 딕셔너리 컴프리헨션\n",
    "\n",
    "test = {'A': 5, 'B': 7, 'C': 9, 'D': 6, 'E': 10}\n",
    "\n",
    "test = {na:test for na, test in test.items() if na != 'E'}\n",
    "print(test)"
   ]
  },
  {
   "cell_type": "code",
   "execution_count": 65,
   "metadata": {},
   "outputs": [
    {
     "name": "stdout",
     "output_type": "stream",
     "text": [
      "{'amy': 'NO PASS', 'jane': 'PASS', 'sophia': 'NO PASS', 'jay': 'PASS'}\n"
     ]
    }
   ],
   "source": [
    "# 아래와 같이 조건을 반복문 대신 조건을 먼저 쓸 수 있다.\n",
    "# 조건을 위해 if를 사용하는 경우 else를 작성해줘야된다.\n",
    "numbers = {'amy': 7, 'jane': 9, 'sophia': 5, 'jay': 10}\n",
    "pas = {name: 'PASS' if numbers > 8 else 'NO PASS' for name, numbers in numbers.items()}\n",
    "print(pas)"
   ]
  },
  {
   "cell_type": "code",
   "execution_count": 66,
   "metadata": {},
   "outputs": [
    {
     "name": "stdout",
     "output_type": "stream",
     "text": [
      "list for loop :  [1, 2, 3, 4, 5, 1, 2, 3, 4, 5, 1, 2, 3, 4, 5, 1, 2, 3, 4, 5, 1, 2, 3, 4, 5]\n",
      "set for loop :  {1, 2, 3, 4, 5}\n"
     ]
    }
   ],
   "source": [
    "# 아래처럼 반복문을 연속으로 작성가능하다.\n",
    "# set은 특성상 중복값을 제외한다.\n",
    "\n",
    "print('list for loop : ',[n for n in range(1, 5+1) for n in range(1, 5+1)])\n",
    "\n",
    "print('set for loop : ',{n for n in range(1, 5+1) for n in range(1, 5+1)})"
   ]
  },
  {
   "cell_type": "code",
   "execution_count": 67,
   "metadata": {},
   "outputs": [
    {
     "name": "stdout",
     "output_type": "stream",
     "text": [
      "{'math': 90, 'history': 80, 'english': 95, 'computer engineering': 100}\n",
      "{'math': 90, 'history': 80, 'english': 95, 'computer engineering': 100}\n"
     ]
    }
   ],
   "source": [
    "# 두개의 리스트를 하나의 딕셔너리로 합침. =\n",
    "# 하나는 key, 또 다른 하나는 value로 사용한다\n",
    "subjects = ['math', 'history', 'english', 'computer engineering']\n",
    "scores = [90, 80, 95, 100]\n",
    "score_dict = {key: value for key, value in zip(subjects, scores)}\n",
    "print(score_dict)\n",
    "\n",
    "# 튜플 리스트를 딕셔너리 형태로 변환\n",
    "score_tuples = [('math', 90), ('history', 80), ('english', 95), ('computer engineering', 100)]\n",
    "score_dict = {t[0]: t[1] for t in score_tuples}\n",
    "print(score_dict)"
   ]
  },
  {
   "cell_type": "markdown",
   "metadata": {},
   "source": [
    "### 2. 구문 및 예외적인 상황"
   ]
  },
  {
   "cell_type": "code",
   "execution_count": null,
   "metadata": {},
   "outputs": [],
   "source": [
    "'''\n",
    "핵심 정리!\n",
    "try: 하다가 오류 발생하면 잡아낼 부분\n",
    "except 에러명: 잡아낼 에러에 따라 처리할 내용\n",
    "else: try에서 break되지 않으면 마저 될 부분\n",
    "finally: try가 break 되든 말든 결국 될 부분\n",
    "'''"
   ]
  },
  {
   "cell_type": "markdown",
   "metadata": {},
   "source": [
    "* 실제 대규모 서비스에서 공동작업을 진행하는 경우, 예외처리를 하는 것이 중요하다.\n",
    "* 파이썬에서는 루프문에 if 없이도 else 구문을 추가할 수 있다."
   ]
  },
  {
   "cell_type": "markdown",
   "metadata": {},
   "source": [
    "#### 📎 for ~ else"
   ]
  },
  {
   "cell_type": "markdown",
   "metadata": {},
   "source": [
    "\n",
    "* for ~ else문의 장점은 반복문 내에 break를 두는 경우, break로 인해 반복문을 빠져나왔는지, 반복문이 멈추는 조건이 될 때까지 반복한 후 정상적으로 빠져나왔는지 알 수 있다는 점이다.\n",
    "* 즉, else가 반복문 이후에 예외사항을 확인해시켜준다!\n",
    "\n",
    "🥕 코딩을 하다 보면 for문의 중간에 break 되었는지, 되어있지 않는지 판별해야 되는 경우에 for ~ else문을 활용하면 된다. 이때 else의 들여쓰기는 for와 일치해야 한다."
   ]
  },
  {
   "cell_type": "code",
   "execution_count": 79,
   "metadata": {},
   "outputs": [
    {
     "name": "stdout",
     "output_type": "stream",
     "text": [
      "loop :  0\n",
      "loop :  1\n",
      "loop :  2\n",
      "break가 실행되지 않았습니다.\n"
     ]
    }
   ],
   "source": [
    "# for ~ else 문\n",
    "# else문의 역할: 반복(for)문에서 break가 발생하지 않았을 경우의 동작을 else문에 적어준다.\n",
    "for i in range(3):\n",
    "    print('loop : ', i) # 1) 루프반복수행\n",
    "else :\n",
    "    print('break가 실행되지 않았습니다.') # 2) else 구문 추가수행"
   ]
  },
  {
   "cell_type": "code",
   "execution_count": 81,
   "metadata": {},
   "outputs": [
    {
     "name": "stdout",
     "output_type": "stream",
     "text": [
      "loop :  0\n",
      "loop :  1\n"
     ]
    }
   ],
   "source": [
    "for i in range(3):\n",
    "    print('loop : ', i) # 1) 루프반복수행\n",
    "    if i == 1:\n",
    "        break     # break는 어떤 영향을 줄 것인가?\n",
    "else:\n",
    "    print('break가 실행되지 않았습니다.') # 2) else 구문 추가수행"
   ]
  },
  {
   "cell_type": "code",
   "execution_count": 83,
   "metadata": {},
   "outputs": [
    {
     "name": "stdout",
     "output_type": "stream",
     "text": [
      "Else statement\n"
     ]
    }
   ],
   "source": [
    "# 반복문에 빈 리스트를 넣으면 어떻게 될까?\n",
    "for i in []:\n",
    "    print('loop : ', i) # 1) 루프반복수행\n",
    "else:\n",
    "    print('Else statement') # 2) else 구문 추가수행"
   ]
  },
  {
   "cell_type": "markdown",
   "metadata": {},
   "source": [
    "📎 서로소 판별문제"
   ]
  },
  {
   "cell_type": "code",
   "execution_count": 84,
   "metadata": {},
   "outputs": [
    {
     "name": "stdout",
     "output_type": "stream",
     "text": [
      "testing .... 2\n",
      "testing .... 3\n",
      "서로소입니다.\n",
      "---------------------------------\n",
      "testing .... 2\n",
      "서로소입니다.\n",
      "testing .... 3\n",
      "서로소입니다.\n"
     ]
    }
   ],
   "source": [
    "# 서로소 판별문제\n",
    "# 서로소(coprime): 공약수가 1뿐인 두 정수\n",
    "p_a = 5\n",
    "p_b = 3\n",
    "\n",
    "for i in range(2, min(p_a, p_b) +1):\n",
    "    print('testing ....', i)\n",
    "    if p_a % i == 0 and p_b % i == 0:\n",
    "        print('서로소가 아닙니다.')\n",
    "        break\n",
    "# 공약수가 1뿐인 경우 break 문이 실행되지 못하고 아래 else문이 실행된다.\n",
    "else:\n",
    "    print('서로소입니다.')\n",
    "\n",
    "print('---------------------------------')\n",
    "# 아래 코드를 수행하여 위의 코드 결과를 비교해 보세요.\n",
    "p_a = 5\n",
    "p_b = 3\n",
    "\n",
    "for i in range(2, min(p_a, p_b) +1):\n",
    "    print('testing ....', i)\n",
    "    if p_a % i == 0 and p_b % i == 0:\n",
    "        print('서로소가 아닙니다.')\n",
    "        break\n",
    "    else:\n",
    "        print('서로소입니다.')"
   ]
  },
  {
   "cell_type": "markdown",
   "metadata": {},
   "source": [
    "#### 📎 continue"
   ]
  },
  {
   "cell_type": "markdown",
   "metadata": {},
   "source": [
    "* 특정 조건 하에 continue 아래의 코드는 실행되지 않고 건너뛰고, 다시 반복문을 수행하고자 할 때 사용하는 것이 continue이다."
   ]
  },
  {
   "cell_type": "code",
   "execution_count": 90,
   "metadata": {},
   "outputs": [
    {
     "name": "stdout",
     "output_type": "stream",
     "text": [
      "['햄', '계란', '참치', '당근', '우엉', '단무지']\n"
     ]
    }
   ],
   "source": [
    "# 오이를 싫어하는 사람의 김밥\n",
    "bucket = [\"햄\", \"계란\", \"참치\",\"당근\", \"우엉\", \"오이\", \"단무지\"]\n",
    "gimbab = list()\n",
    "\n",
    "for ingredient in bucket:\n",
    "    if ingredient == \"오이\":\n",
    "        continue\n",
    "    else:\n",
    "        gimbab.append(ingredient)\n",
    "\n",
    "print(gimbab)"
   ]
  },
  {
   "cell_type": "code",
   "execution_count": 93,
   "metadata": {},
   "outputs": [
    {
     "name": "stdout",
     "output_type": "stream",
     "text": [
      "2 3 4 5 6 7 \n",
      "9 10 11 12 13 14 15 16 17 18 19 20 "
     ]
    }
   ],
   "source": [
    "for i in range(2,21):\n",
    "    if i == 8:\n",
    "        print()\n",
    "        continue\n",
    "    print(i , end= ' ')"
   ]
  },
  {
   "cell_type": "markdown",
   "metadata": {},
   "source": [
    "#### 📎 try ~ except"
   ]
  },
  {
   "cell_type": "markdown",
   "metadata": {},
   "source": [
    "- 에러가 발생할 경우 코드는 멈추게 된다. 즉, 그 다음에 작성된 코드가 돌지 않게 되는데 예외상황을 고려하지 않은 코드를 작성하면 프로그램이 멈출 확률이 올라간다.\n",
    "- 프로그램에 예외가 발생하더라도 프로그램을 중단 시키지 않고 예외에 대한 적절한 처리를 하여 프로그램을 계속 진행 시킬 수 있도록 하는 구문이 **try ~ except** 문 입니다"
   ]
  },
  {
   "cell_type": "code",
   "execution_count": 95,
   "metadata": {},
   "outputs": [
    {
     "ename": "ZeroDivisionError",
     "evalue": "division by zero",
     "output_type": "error",
     "traceback": [
      "\u001b[0;31m---------------------------------------------------------------------------\u001b[0m",
      "\u001b[0;31mZeroDivisionError\u001b[0m                         Traceback (most recent call last)",
      "\u001b[0;32m<ipython-input-95-5a9d09d5e67d>\u001b[0m in \u001b[0;36m<module>\u001b[0;34m\u001b[0m\n\u001b[1;32m      4\u001b[0m     \u001b[0;32mreturn\u001b[0m \u001b[0mint\u001b[0m\u001b[0;34m(\u001b[0m\u001b[0mx\u001b[0m\u001b[0;34m)\u001b[0m\u001b[0;34m/\u001b[0m\u001b[0mint\u001b[0m\u001b[0;34m(\u001b[0m\u001b[0my\u001b[0m\u001b[0;34m)\u001b[0m\u001b[0;34m\u001b[0m\u001b[0;34m\u001b[0m\u001b[0m\n\u001b[1;32m      5\u001b[0m \u001b[0;34m\u001b[0m\u001b[0m\n\u001b[0;32m----> 6\u001b[0;31m \u001b[0mprint\u001b[0m\u001b[0;34m(\u001b[0m\u001b[0mmy_divide\u001b[0m\u001b[0;34m(\u001b[0m\u001b[0;34m)\u001b[0m\u001b[0;34m)\u001b[0m \u001b[0;31m# 분모에 0 입력시 에러가 뜬다\u001b[0m\u001b[0;34m\u001b[0m\u001b[0;34m\u001b[0m\u001b[0m\n\u001b[0m",
      "\u001b[0;32m<ipython-input-95-5a9d09d5e67d>\u001b[0m in \u001b[0;36mmy_divide\u001b[0;34m()\u001b[0m\n\u001b[1;32m      2\u001b[0m     \u001b[0mx\u001b[0m \u001b[0;34m=\u001b[0m \u001b[0minput\u001b[0m\u001b[0;34m(\u001b[0m\u001b[0;34m'분자의 숫자를 입력하세요 ~ '\u001b[0m\u001b[0;34m)\u001b[0m\u001b[0;34m\u001b[0m\u001b[0;34m\u001b[0m\u001b[0m\n\u001b[1;32m      3\u001b[0m     \u001b[0my\u001b[0m \u001b[0;34m=\u001b[0m \u001b[0minput\u001b[0m\u001b[0;34m(\u001b[0m\u001b[0;34m'분모의 숫자를 입력하세요 ~ '\u001b[0m\u001b[0;34m)\u001b[0m\u001b[0;34m\u001b[0m\u001b[0;34m\u001b[0m\u001b[0m\n\u001b[0;32m----> 4\u001b[0;31m     \u001b[0;32mreturn\u001b[0m \u001b[0mint\u001b[0m\u001b[0;34m(\u001b[0m\u001b[0mx\u001b[0m\u001b[0;34m)\u001b[0m\u001b[0;34m/\u001b[0m\u001b[0mint\u001b[0m\u001b[0;34m(\u001b[0m\u001b[0my\u001b[0m\u001b[0;34m)\u001b[0m\u001b[0;34m\u001b[0m\u001b[0;34m\u001b[0m\u001b[0m\n\u001b[0m\u001b[1;32m      5\u001b[0m \u001b[0;34m\u001b[0m\u001b[0m\n\u001b[1;32m      6\u001b[0m \u001b[0mprint\u001b[0m\u001b[0;34m(\u001b[0m\u001b[0mmy_divide\u001b[0m\u001b[0;34m(\u001b[0m\u001b[0;34m)\u001b[0m\u001b[0;34m)\u001b[0m \u001b[0;31m# 분모에 0 입력시 에러가 뜬다\u001b[0m\u001b[0;34m\u001b[0m\u001b[0;34m\u001b[0m\u001b[0m\n",
      "\u001b[0;31mZeroDivisionError\u001b[0m: division by zero"
     ]
    }
   ],
   "source": [
    "def my_divide():\n",
    "    x = input('분자의 숫자를 입력하세요 ~ ')\n",
    "    y = input('분모의 숫자를 입력하세요 ~ ')\n",
    "    return int(x)/int(y)\n",
    "\n",
    "print(my_divide()) # 분모에 0 입력시 에러가 뜬다"
   ]
  },
  {
   "cell_type": "code",
   "execution_count": 96,
   "metadata": {},
   "outputs": [
    {
     "name": "stdout",
     "output_type": "stream",
     "text": [
      "나누기를 할 수 없습니다\n"
     ]
    }
   ],
   "source": [
    "def my_divide():\n",
    "    try:\n",
    "        # 문제가 없을 경우 실행할 코드\n",
    "        x = input('분자의 숫자를 입력하세요 ~ ')\n",
    "        y = input('분모의 숫자를 입력하세요 ~ ')\n",
    "        return int(x)/int(y)\n",
    "    except:\n",
    "        # 문제가 생겼을 경우 실행할 코드\n",
    "        return '나누기를 할 수 없습니다'\n",
    "\n",
    "print(my_divide())"
   ]
  },
  {
   "cell_type": "markdown",
   "metadata": {},
   "source": [
    "#### 📎 try ~ except ~ else"
   ]
  },
  {
   "cell_type": "markdown",
   "metadata": {},
   "source": [
    "- for ~ else 문에서는 for문에서 break가 실행되지 않았을 경우 else문이 실행되었다. 이와 유사하게 except문이 실행되지 않았을 경우 else 문이 실행된다.\n",
    "- else구문을 사용하면 예외구분을 위해 try 구문 안에 들어갈 코드를 최소화시켜 가독성이 좋아진다"
   ]
  },
  {
   "cell_type": "code",
   "execution_count": 99,
   "metadata": {},
   "outputs": [
    {
     "data": {
      "text/plain": [
       "100000"
      ]
     },
     "execution_count": 99,
     "metadata": {},
     "output_type": "execute_result"
    }
   ],
   "source": [
    "def disneyland():\n",
    "    try:\n",
    "        age = int(input(\"나이를 입력해주세요: \"))\n",
    "    except:\n",
    "        print(\"숫자로 나이를 입력해주세요.\")\n",
    "    else:\n",
    "        # 3세 미만은 공짜\n",
    "        if age < 3:\n",
    "            fee = 0\n",
    "        # 3세~9세: 50,000\n",
    "        elif age >= 3 and age < 10:\n",
    "            fee = 50000\n",
    "        else:\n",
    "            fee = 100000\n",
    "        return fee\n",
    "\n",
    "\n",
    "disneyland()"
   ]
  },
  {
   "cell_type": "markdown",
   "metadata": {},
   "source": [
    "#### 📎 try ~ except ~ finally"
   ]
  },
  {
   "cell_type": "markdown",
   "metadata": {},
   "source": [
    "- **오류 발생 유무와 관계없이 특정 코드를 무조건 실행**시키려면 **try ~ except ~ finally** 구문을 사용하면 된다.\n",
    "    - try / except / raise / finally 구문정리\n",
    "    - try : 처리하고자 하는 부분\n",
    "    - except : try구문 안에서 발생할 것으로 예상되는 예외를 처리\n",
    "    - raise : 예외상황일 때 명시적으로 처리\n",
    "    - finally : 마지막으로 실행하는 코드(예외가 발생하더라도 마지막코드를 수행해야할 때)"
   ]
  },
  {
   "cell_type": "code",
   "execution_count": 100,
   "metadata": {},
   "outputs": [
    {
     "name": "stdout",
     "output_type": "stream",
     "text": [
      "디즈니 랜드에 오신 것을 환영합니다~!\n"
     ]
    },
    {
     "data": {
      "text/plain": [
       "100000"
      ]
     },
     "execution_count": 100,
     "metadata": {},
     "output_type": "execute_result"
    }
   ],
   "source": [
    "# 오류 발생 유무와 관계없이 특정 코드를 무조건 실행시키려면 try ~ except ~ finally 구문을 사용하면 된다.\n",
    "def disneyland():\n",
    "    try:\n",
    "        age = int(input(\"나이를 입력해주세요: \"))\n",
    "    except ValueError as e:\n",
    "        print(\"숫자로 나이를 입력해주세요.\")\n",
    "        print(e)\n",
    "    else:\n",
    "        # 3세 미만은 공짜\n",
    "        if age < 3:\n",
    "            fee = 0\n",
    "        # 3세~9세: 50,000\n",
    "        elif age >= 3 and age < 10:\n",
    "            fee = 50000\n",
    "        else:\n",
    "            fee = 100000\n",
    "        return fee\n",
    "    finally:\n",
    "        print(\"디즈니 랜드에 오신 것을 환영합니다~!\")\n",
    "\n",
    "\n",
    "disneyland()"
   ]
  },
  {
   "cell_type": "markdown",
   "metadata": {},
   "source": [
    "##### 📎 사용자 예외 처리 - raise 구문"
   ]
  },
  {
   "cell_type": "markdown",
   "metadata": {},
   "source": [
    "코드상의 오류를 확인하는 방법으로 except Exception as e 를 통해 오류에 대한 문구를 출력할 수 있다. 이때 e는 다른 명칭을 사용해도 된다. Exception에 해당하는 부분은 파이썬에서 발생가능한 예외에 대해 Exception 개체로 미리 정의 해 두고 있다. ([링크])\n",
    "\n",
    "- `raise Exception(’안내 문구')`\n",
    "- 안내 문구는 생략가능하다."
   ]
  },
  {
   "cell_type": "code",
   "execution_count": 101,
   "metadata": {},
   "outputs": [
    {
     "ename": "Exception",
     "evalue": "a must be int type",
     "output_type": "error",
     "traceback": [
      "\u001b[0;31m---------------------------------------------------------------------------\u001b[0m",
      "\u001b[0;31mException\u001b[0m                                 Traceback (most recent call last)",
      "\u001b[0;32m<ipython-input-101-ce2255fd9a43>\u001b[0m in \u001b[0;36m<module>\u001b[0;34m\u001b[0m\n\u001b[1;32m      2\u001b[0m \u001b[0;34m\u001b[0m\u001b[0m\n\u001b[1;32m      3\u001b[0m \u001b[0;32mif\u001b[0m \u001b[0mtype\u001b[0m\u001b[0;34m(\u001b[0m\u001b[0ma\u001b[0m\u001b[0;34m)\u001b[0m \u001b[0;34m!=\u001b[0m \u001b[0;34m'int'\u001b[0m\u001b[0;34m:\u001b[0m\u001b[0;34m\u001b[0m\u001b[0;34m\u001b[0m\u001b[0m\n\u001b[0;32m----> 4\u001b[0;31m     \u001b[0;32mraise\u001b[0m \u001b[0mException\u001b[0m\u001b[0;34m(\u001b[0m\u001b[0;34m'a must be int type'\u001b[0m\u001b[0;34m)\u001b[0m \u001b[0;31m# raise Exception\u001b[0m\u001b[0;34m\u001b[0m\u001b[0;34m\u001b[0m\u001b[0m\n\u001b[0m",
      "\u001b[0;31mException\u001b[0m: a must be int type"
     ]
    }
   ],
   "source": [
    "a = '1'\n",
    "\n",
    "if type(a) != 'int':\n",
    "    raise Exception('a must be int type') # raise Exception"
   ]
  },
  {
   "cell_type": "markdown",
   "metadata": {},
   "source": [
    "#### 📎 사용자 예외 처리 - assert 구문"
   ]
  },
  {
   "cell_type": "markdown",
   "metadata": {},
   "source": [
    "\n",
    "\n",
    "- `assert 조건식, 조건식이 False인 경우 출력되는 메시지`\n",
    "- 조건식이 `False`인 경우: `AssertionError` 예외가 발생한다.\n",
    "- 조건식이 `True`인 경우: 어떠한 메시지도 표시하지 않는다.\n",
    "- assert문은 위와 같은 특성때문에 디버깅의 보조 도구로 자주 사용됩니다."
   ]
  },
  {
   "cell_type": "code",
   "execution_count": 105,
   "metadata": {},
   "outputs": [
    {
     "data": {
      "text/plain": [
       "5"
      ]
     },
     "execution_count": 105,
     "metadata": {},
     "output_type": "execute_result"
    }
   ],
   "source": [
    "def add(x, y):\n",
    "    assert isinstance(x, int), 'Expected int'\n",
    "    assert isinstance(y, int), 'Expected int'\n",
    "    return x + y\n",
    "\n",
    "add(2, 3)"
   ]
  },
  {
   "cell_type": "code",
   "execution_count": 106,
   "metadata": {},
   "outputs": [
    {
     "ename": "AssertionError",
     "evalue": "Expected int",
     "output_type": "error",
     "traceback": [
      "\u001b[0;31m---------------------------------------------------------------------------\u001b[0m",
      "\u001b[0;31mAssertionError\u001b[0m                            Traceback (most recent call last)",
      "\u001b[0;32m<ipython-input-106-95cdba94c9ee>\u001b[0m in \u001b[0;36m<module>\u001b[0;34m\u001b[0m\n\u001b[0;32m----> 1\u001b[0;31m \u001b[0madd\u001b[0m\u001b[0;34m(\u001b[0m\u001b[0;34m'2'\u001b[0m\u001b[0;34m,\u001b[0m \u001b[0;34m'3'\u001b[0m\u001b[0;34m)\u001b[0m\u001b[0;34m\u001b[0m\u001b[0;34m\u001b[0m\u001b[0m\n\u001b[0m",
      "\u001b[0;32m<ipython-input-105-17e7dbce33ed>\u001b[0m in \u001b[0;36madd\u001b[0;34m(x, y)\u001b[0m\n\u001b[1;32m      1\u001b[0m \u001b[0;32mdef\u001b[0m \u001b[0madd\u001b[0m\u001b[0;34m(\u001b[0m\u001b[0mx\u001b[0m\u001b[0;34m,\u001b[0m \u001b[0my\u001b[0m\u001b[0;34m)\u001b[0m\u001b[0;34m:\u001b[0m\u001b[0;34m\u001b[0m\u001b[0;34m\u001b[0m\u001b[0m\n\u001b[0;32m----> 2\u001b[0;31m     \u001b[0;32massert\u001b[0m \u001b[0misinstance\u001b[0m\u001b[0;34m(\u001b[0m\u001b[0mx\u001b[0m\u001b[0;34m,\u001b[0m \u001b[0mint\u001b[0m\u001b[0;34m)\u001b[0m\u001b[0;34m,\u001b[0m \u001b[0;34m'Expected int'\u001b[0m\u001b[0;34m\u001b[0m\u001b[0;34m\u001b[0m\u001b[0m\n\u001b[0m\u001b[1;32m      3\u001b[0m     \u001b[0;32massert\u001b[0m \u001b[0misinstance\u001b[0m\u001b[0;34m(\u001b[0m\u001b[0my\u001b[0m\u001b[0;34m,\u001b[0m \u001b[0mint\u001b[0m\u001b[0;34m)\u001b[0m\u001b[0;34m,\u001b[0m \u001b[0;34m'Expected int'\u001b[0m\u001b[0;34m\u001b[0m\u001b[0;34m\u001b[0m\u001b[0m\n\u001b[1;32m      4\u001b[0m     \u001b[0;32mreturn\u001b[0m \u001b[0mx\u001b[0m \u001b[0;34m+\u001b[0m \u001b[0my\u001b[0m\u001b[0;34m\u001b[0m\u001b[0;34m\u001b[0m\u001b[0m\n\u001b[1;32m      5\u001b[0m \u001b[0;34m\u001b[0m\u001b[0m\n",
      "\u001b[0;31mAssertionError\u001b[0m: Expected int"
     ]
    }
   ],
   "source": [
    "add('2', '3')"
   ]
  },
  {
   "cell_type": "markdown",
   "metadata": {},
   "source": [
    "### 3. 지역변수와 전역변수"
   ]
  },
  {
   "cell_type": "markdown",
   "metadata": {},
   "source": [
    "* 코드가 복잡해지거나 기능이 많아지는 경우, 변수사용에 따라 함수 및 클래스의 접근이 달라진다.\n",
    "\n",
    "* 변수이름설정, 변수활용도에 따른 변수설계가 중요하다.\n",
    "\n",
    "    * 지역변수 : 해당 변수가 포함된 함수 안에서만 수정하고, 읽을 수 있다.\n",
    "\n",
    "    * 일반 전역변수 : 하나의 파이썬 파일전체에서 값을 읽을 수 있다. 되도록이면 함수 안에서 사이드이펙트 및 가독성을 위해 값을 수정하지 않도록 한다.\n",
    "\n",
    "    * global 전역변수 : 일반 전역변수와 다른 점은 변수가 생성되는 시점만 다르다.\n",
    "    <img width=\"360\" alt=\"Screen Shot 2022-01-19 at 6 21 15 PM\" src=\"https://user-images.githubusercontent.com/89832134/150101318-35234be0-b598-4d5c-8f55-b9c8cd8aa634.png\">\n",
    "    * 지역변수는 이름이 같더라도, 소속된 함수가 다르면 다른 변수로 취급된다\n",
    "    * 전역변수는 하나의 파이썬파일에 있는 모든 함수에 쓰일 수 있다.\n"
   ]
  },
  {
   "cell_type": "code",
   "execution_count": 75,
   "metadata": {},
   "outputs": [
    {
     "name": "stdout",
     "output_type": "stream",
     "text": [
      "\n",
      "함수 안에서 g_var(전역변수) :  g_var\n",
      "함수 안에서 glo_var(global 전역변수) :  glo_var\n",
      "함수 안에서 lo_var(지역변수) :  lo_var\n"
     ]
    }
   ],
   "source": [
    "# 아래 소스코드를 한 줄씩 실행하면서 지역변수와 전역변수에 대해 파악한다.\n",
    "\n",
    "g_var = 'g_var'   # 함수 밖 전역변수\n",
    "\n",
    "\n",
    "# 값 수정후(수정값)\n",
    "def variables():\n",
    "\n",
    "    global glo_var  # 함수 안 global 전역변수\n",
    "    glo_var = 'glo_var' # global 전역변수에 새로운 값 할당\n",
    "    lo_var = 'lo_var'   # 지역변수\n",
    "\n",
    "    print()\n",
    "    print('함수 안에서 g_var(전역변수) : ', g_var)  # 수정되지 않고 초기값을 출력함\n",
    "    print('함수 안에서 glo_var(global 전역변수) : ', glo_var)  # 함수에서 수정된 후 값을 출력함\n",
    "    print('함수 안에서 lo_var(지역변수) : ', lo_var)    # 특정 함수에서만 출력되는 지역변수\n",
    "\n",
    "variables()"
   ]
  },
  {
   "cell_type": "code",
   "execution_count": 76,
   "metadata": {},
   "outputs": [
    {
     "name": "stdout",
     "output_type": "stream",
     "text": [
      "함수 밖에서 g_var(전역변수) :  g_var\n",
      "함수 밖에서 glo_var(global 전역변수) :  glo_var\n"
     ]
    }
   ],
   "source": [
    "print('함수 밖에서 g_var(전역변수) : ', g_var)\n",
    "print('함수 밖에서 glo_var(global 전역변수) : ', glo_var)"
   ]
  },
  {
   "cell_type": "code",
   "execution_count": 77,
   "metadata": {},
   "outputs": [
    {
     "ename": "NameError",
     "evalue": "name 'lo_var' is not defined",
     "output_type": "error",
     "traceback": [
      "\u001b[0;31m---------------------------------------------------------------------------\u001b[0m",
      "\u001b[0;31mNameError\u001b[0m                                 Traceback (most recent call last)",
      "\u001b[0;32m<ipython-input-77-2aab5e34dc32>\u001b[0m in \u001b[0;36m<module>\u001b[0;34m\u001b[0m\n\u001b[0;32m----> 1\u001b[0;31m \u001b[0mprint\u001b[0m\u001b[0;34m(\u001b[0m\u001b[0;34m'함수 안에서 lo_var(지역변수) : '\u001b[0m\u001b[0;34m,\u001b[0m \u001b[0mlo_var\u001b[0m\u001b[0;34m)\u001b[0m    \u001b[0;31m# 특정 함수에서만 출력되는 지역변수\u001b[0m\u001b[0;34m\u001b[0m\u001b[0;34m\u001b[0m\u001b[0m\n\u001b[0m",
      "\u001b[0;31mNameError\u001b[0m: name 'lo_var' is not defined"
     ]
    }
   ],
   "source": [
    "print('함수 밖에서 lo_var(지역변수) : ', lo_var)    # 특정 함수에서만 출력되는 지역변수이기때문에 밖에서는 에러"
   ]
  },
  {
   "cell_type": "markdown",
   "metadata": {},
   "source": [
    "### 4. 의사코드(pseudocode, 슈도코드)"
   ]
  },
  {
   "cell_type": "markdown",
   "metadata": {},
   "source": [
    "- 프로그램을 작성할 때 각 [모듈](https://ko.wikipedia.org/wiki/%EB%AA%A8%EB%93%88_(%ED%94%84%EB%A1%9C%EA%B7%B8%EB%9E%98%EB%B0%8D))이 작동하는 논리를 표현하기 위한 언어를 만함. 특정 [프로그래밍 언어](https://ko.wikipedia.org/wiki/%ED%94%84%EB%A1%9C%EA%B7%B8%EB%9E%98%EB%B0%8D_%EC%96%B8%EC%96%B4)의 문법에 따라 쓰인 것이 아니라, 일반적인 언어로 코드를 흉내 내어 [알고리즘](https://ko.wikipedia.org/wiki/%EC%95%8C%EA%B3%A0%EB%A6%AC%EC%A6%98)을 써놓은 코드를 말한다 - [위키백과](https://ko.wikipedia.org/wiki/%EC%9D%98%EC%82%AC%EC%BD%94%EB%93%9C)\n",
    "- pseudocode를 통해 실행되는 소스코드 작성 전, **자신이 이해할 수 있는 코드를 작성**하는 연습을 한다.\n",
    "- **요구사항이나 알고리즘을 해석**하기 위해 사용된다.\n",
    "- 프로그램의 크기정도, 어려움정도, 협업 정도에 따라 필요유무가 달라짐"
   ]
  },
  {
   "cell_type": "code",
   "execution_count": 88,
   "metadata": {},
   "outputs": [
    {
     "name": "stdout",
     "output_type": "stream",
     "text": [
      "5\n"
     ]
    }
   ],
   "source": [
    "'''\n",
    "의사코드 예시1\n",
    "print 5 # pseudocode\n",
    "'''\n",
    "\n",
    "print(5) # 실제 실행되는 코드"
   ]
  },
  {
   "cell_type": "code",
   "execution_count": 89,
   "metadata": {},
   "outputs": [
    {
     "name": "stdout",
     "output_type": "stream",
     "text": [
      "숫자 3 => 3으로 나눠짐\n",
      "숫자 5 => 5로 나눠짐\n",
      "숫자 6 => 3으로 나눠짐\n",
      "숫자 9 => 3으로 나눠짐\n",
      "숫자 10 => 5로 나눠짐\n",
      "그외 10 => 숫자 3과 5로 나눠지지 않음\n"
     ]
    }
   ],
   "source": [
    "'''\n",
    "의사코드 예시2\n",
    "\n",
    "function div\n",
    "For반복문 (i = 1부터 i<=10까지, 반복할때마다 i값 1씩 증가)\n",
    "{\n",
    "    If i가 3으로 나눠지는 경우,\n",
    "        print 3으로 나눠진다.\n",
    "    If i is divisible by 5\n",
    "        print 5로 나눠진다.\n",
    "    If print_number, print i.\n",
    "    print 줄바꿈.\n",
    "}\n",
    "'''\n",
    "# 의사코드 예시2에 대한 실제 실행되는 코드\n",
    "\n",
    "def div():\n",
    "    for i in range(1,11):\n",
    "        if i % 3 == 0: # i를 3으로 나눴을 때 나머지가 0인 경우\n",
    "            print('숫자',i, '=>','3으로 나눠짐')\n",
    "        elif i % 5 == 0: # i를 5로 나눴을 때 나머지가 0인 경우\n",
    "            print('숫자',i, '=>','5로 나눠짐')\n",
    "    # if i % 5 == 0: # i를 5로 나눴을 때 나머지가 0인 경우\n",
    "    #   print('숫자',i, '=>','5로 나눠짐')\n",
    "    else:\n",
    "        print('그외',i, '=>','숫자 3과 5로 나눠지지 않음')\n",
    "div()"
   ]
  },
  {
   "cell_type": "markdown",
   "metadata": {},
   "source": [
    "### 5. 문제를 다양하게 해결해보기"
   ]
  },
  {
   "cell_type": "markdown",
   "metadata": {},
   "source": [
    "- 의사코드에 해당하는 부분을 보고 실제 파이썬 코드로 작성해본다.\n",
    "- 소스코드에는 로직, 개별기능을 하는 함수와 변수가 포함되어야 한다.\n",
    "- 주석 및 테스트케이스를 미리 작성한다면 코드 작성 시 효율적일 수 있다."
   ]
  },
  {
   "cell_type": "markdown",
   "metadata": {},
   "source": [
    "##### 📎 문제 : 두 개 뽑아서 더하기"
   ]
  },
  {
   "cell_type": "code",
   "execution_count": 85,
   "metadata": {},
   "outputs": [
    {
     "name": "stdout",
     "output_type": "stream",
     "text": [
      "[2, 3, 4, 5, 6, 7]\n",
      "0.000333 초 걸렸습니다.\n"
     ]
    }
   ],
   "source": [
    "# 첫번째 풀이\n",
    "import timeit\n",
    "start_time = timeit.default_timer() # 시작 시간 체크\n",
    "\n",
    "\n",
    "def solution(numbers):      #1. [2,1,3,4,1]\n",
    "    answer = list()         #2. list create\n",
    "\n",
    "    #print(answer)          # print를 활용한 중간값 확인을 통한 로직확인\n",
    "\n",
    "    for i in range(len(numbers)):               #3. len ([2,1,3,4,1])\n",
    "        for j in range(i+1, len(numbers)):      #4. len([2,1,3,4,1])\n",
    "            if numbers[i] + numbers[j] not in answer:         #5. numbers[0] + numbers[1] not in answer\n",
    "                answer.append(numbers[i] + numbers[j])        #6. answer.append(numbers[0]+numbers[1])\n",
    "\n",
    "    #print(numbers[i],numbers[j])               # print를 활용한 중간값 확인을 통한 로직확인\n",
    "\n",
    "    answer.sort()           #7. 리스트결과 정렬\n",
    "    return answer\n",
    "\n",
    "print(solution([2,1,3,4,1]))\n",
    "end_time = timeit.default_timer()                  # 종료 시간 체크\n",
    "\n",
    "print(\"%f 초 걸렸습니다.\" % (end_time - start_time))  # 코드실행시간 측정"
   ]
  },
  {
   "cell_type": "code",
   "execution_count": 87,
   "metadata": {},
   "outputs": [
    {
     "name": "stdout",
     "output_type": "stream",
     "text": [
      "[2, 3, 4, 5, 6, 7]\n",
      "0.000272 초 걸렸습니다.\n"
     ]
    }
   ],
   "source": [
    "# 두번째 풀이\n",
    "start_time = timeit.default_timer() # 시작 시간 체크\n",
    "def solution(numbers):\n",
    "    answer = set()        # set 활용\n",
    "    for i in range(len(numbers)):\n",
    "        for j in range(i+1, len(numbers)):\n",
    "            answer.add(numbers[i] + numbers[j])     # set의 add활용\n",
    "\n",
    "    answer = list(answer)\n",
    "    answer.sort()\n",
    "    return answer\n",
    "\n",
    "print(solution([2,1,3,4,1]))\n",
    "end_time = timeit.default_timer() # 종료 시간 체크\n",
    "print(\"%f 초 걸렸습니다.\" % (end_time - start_time))"
   ]
  }
 ],
 "metadata": {
  "interpreter": {
   "hash": "d473ce608692a3bf02c1de21d06d5afe9b45f4f9760cc575a6ec607da11a00f4"
  },
  "kernelspec": {
   "display_name": "Python 3.8.8 64-bit ('base': conda)",
   "language": "python",
   "name": "python3"
  },
  "language_info": {
   "codemirror_mode": {
    "name": "ipython",
    "version": 3
   },
   "file_extension": ".py",
   "mimetype": "text/x-python",
   "name": "python",
   "nbconvert_exporter": "python",
   "pygments_lexer": "ipython3",
   "version": "3.8.8"
  },
  "orig_nbformat": 4
 },
 "nbformat": 4,
 "nbformat_minor": 2
}
