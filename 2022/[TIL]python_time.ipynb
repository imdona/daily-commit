{
 "cells": [
  {
   "cell_type": "markdown",
   "metadata": {},
   "source": [
    "### 1) 시간 측정하기"
   ]
  },
  {
   "cell_type": "code",
   "execution_count": 12,
   "metadata": {},
   "outputs": [],
   "source": [
    "# 파이썬에서 시간을 측정하기 위한 함수생성\n",
    "import time\n",
    "\n",
    "from functools import wraps\n",
    "\n",
    "def check_time(function):\n",
    "\t@wraps(function)\n",
    "\tdef measure(*args, **kwargs):\n",
    "\t\tstart_time = time.time()\n",
    "\n",
    "\t\tresult = function(*args, **kwargs)\n",
    "\n",
    "\t\tend_time = time.time()\n",
    "\n",
    "\t\tprint(f\"@check_time: {function.__name__} took {end_time - start_time}\")\n",
    "\t\treturn result\n",
    "\n",
    "\treturn measure"
   ]
  },
  {
   "cell_type": "code",
   "execution_count": 13,
   "metadata": {},
   "outputs": [
    {
     "name": "stdout",
     "output_type": "stream",
     "text": [
      "@check_time: sum_n took 0.003751039505004883\n"
     ]
    }
   ],
   "source": [
    "# case - 1\n",
    "@check_time # 데코레이터 생성하여 활용\n",
    "def sum_n(n):\n",
    "    s = 0\n",
    "    for i in range(1, n+1):\n",
    "        s += i\n",
    "    return s\n",
    "\n",
    "if __name__ == \"__main__\":\n",
    "\tsum_n(100000)"
   ]
  },
  {
   "cell_type": "code",
   "execution_count": 14,
   "metadata": {},
   "outputs": [
    {
     "name": "stdout",
     "output_type": "stream",
     "text": [
      "@check_time: sum_n2 took 1.1920928955078125e-06\n"
     ]
    }
   ],
   "source": [
    "# case - 2\n",
    "@check_time # 데코레이터 생성하여 활용\n",
    "def sum_n2(n):\n",
    "    return n*(n+1)//2\n",
    "\n",
    "if __name__ == \"__main__\":\n",
    "\tsum_n2(100000)"
   ]
  },
  {
   "cell_type": "markdown",
   "metadata": {},
   "source": [
    "🥕 위의 두가지 알고리즘은 같은 문제를 해결하지만 시간에서 열 배의 차이를 보여 주고 있다.\n",
    "- 많은 양의 입력이 들어오면 차이는 점진적 또는 지수적으로 커지게 된다.\n",
    "- 문제를 해결하는데 있어서 다양한 방법이 존재하지만, 가능하면 빠른 알고리즘을 사용하는 이유는 속도 때문이다."
   ]
  },
  {
   "cell_type": "markdown",
   "metadata": {},
   "source": [
    "### 2) SWAP(교환)"
   ]
  },
  {
   "cell_type": "code",
   "execution_count": 8,
   "metadata": {},
   "outputs": [
    {
     "name": "stdout",
     "output_type": "stream",
     "text": [
      "1 3\n"
     ]
    }
   ],
   "source": [
    "# 첫번째 방법\n",
    "a = 3\n",
    "b = 1\n",
    "\n",
    "temp = a\n",
    "a = b\n",
    "b = temp\n",
    "\n",
    "print(a,b)"
   ]
  },
  {
   "cell_type": "code",
   "execution_count": 9,
   "metadata": {},
   "outputs": [
    {
     "name": "stdout",
     "output_type": "stream",
     "text": [
      "1 3\n"
     ]
    }
   ],
   "source": [
    "# 두번째 방법\n",
    "a = 3\n",
    "b = 1\n",
    "\n",
    "a, b = b, a # 파이썬에서는 한 줄로 변경가능\n",
    "\n",
    "print(a,b)"
   ]
  }
 ],
 "metadata": {
  "interpreter": {
   "hash": "d473ce608692a3bf02c1de21d06d5afe9b45f4f9760cc575a6ec607da11a00f4"
  },
  "kernelspec": {
   "display_name": "Python 3.8.8 64-bit ('base': conda)",
   "language": "python",
   "name": "python3"
  },
  "language_info": {
   "codemirror_mode": {
    "name": "ipython",
    "version": 3
   },
   "file_extension": ".py",
   "mimetype": "text/x-python",
   "name": "python",
   "nbconvert_exporter": "python",
   "pygments_lexer": "ipython3",
   "version": "3.8.8"
  },
  "orig_nbformat": 4
 },
 "nbformat": 4,
 "nbformat_minor": 2
}
