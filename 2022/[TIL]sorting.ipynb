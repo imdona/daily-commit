{
 "cells": [
  {
   "cell_type": "markdown",
   "metadata": {},
   "source": [
    "# 1. 코드"
   ]
  },
  {
   "cell_type": "markdown",
   "metadata": {},
   "source": [
    "### 1) 인트로 코딩"
   ]
  },
  {
   "cell_type": "code",
   "execution_count": 1,
   "metadata": {},
   "outputs": [
    {
     "name": "stdout",
     "output_type": "stream",
     "text": [
      "2002,2009,2016,2023,2037,2044,2051,2058,2072,2079,2086,2093,2107,2114,2121,2128,2142,2149,2156,2163,2177,2184,2191,2198,2212,2219,2226,2233,2247,2254,2261,2268,2282,2289,2296,2303,2317,2324,2331,2338,2352,2359,2366,2373,2387,2394,2401,2408,2422,2429,2436,2443,2457,2464,2471,2478,2492,2499,2506,2513,2527,2534,2541,2548,2562,2569,2576,2583,2597,2604,2611,2618,2632,2639,2646,2653,2667,2674,2681,2688,2702,2709,2716,2723,2737,2744,2751,2758,2772,2779,2786,2793,2807,2814,2821,2828,2842,2849,2856,2863,2877,2884,2891,2898,2912,2919,2926,2933,2947,2954,2961,2968,2982,2989,2996,3003,3017,3024,3031,3038,3052,3059,3066,3073,3087,3094,3101,3108,3122,3129,3136,3143,3157,3164,3171,3178,3192,3199\n"
     ]
    }
   ],
   "source": [
    "# 인트로 코딩\n",
    "\n",
    "intro_list=[]     # 리스트 생성\n",
    "for div_number in range(2000, 3201):    # 반복문\n",
    "    if (div_number%7==0) and (div_number%5!=0): # 조건문, and 조건\n",
    "        intro_list.append(str(div_number))      # 리스트 메소드 append 사용, 파이썬 내장함수 str 사용\n",
    "\n",
    "print(','.join(intro_list))   # 리스트 메소드 join 사용"
   ]
  },
  {
   "cell_type": "code",
   "execution_count": 3,
   "metadata": {},
   "outputs": [
    {
     "name": "stdout",
     "output_type": "stream",
     "text": [
      "3 -1 -1 0 -1 -1 -1 -1 -1 -1 -1 -1 -1 2 1 -1 -1 -1 -1 -1 -1 -1 -1 -1 -1 -1 "
     ]
    }
   ],
   "source": [
    "# 입력된 소문자알파벳의 위치를 찾아보자.\n",
    "\n",
    "character = input()\n",
    "for i in range(26):   # 알파벳갯수만큼 반복\n",
    "    word = character.find(chr(i+97))  # chr 메소드 사용\n",
    "    #replace_word = word.replace('-1', 'F')\n",
    "\n",
    "    print(word, end = \" \")   # 아스키코드가 97~122(a~z)인 경우, 영어소문자단어를 나타냄"
   ]
  },
  {
   "cell_type": "code",
   "execution_count": 5,
   "metadata": {},
   "outputs": [
    {
     "name": "stdout",
     "output_type": "stream",
     "text": [
      "===============\n",
      "step 1 : 물을 붇는다.\n",
      "===============\n",
      "step 2 : 대파와 라면을 넣는다.\n",
      "===============\n",
      "step 3 : 면이 익도록  1 번 반복해준다.\n",
      "step 3 : 면이 익도록  2 번 반복해준다.\n",
      "step 3 : 면이 익도록  3 번 반복해준다.\n",
      "step 3 : 면이 익도록  4 번 반복해준다.\n",
      "step 3 : 면이 익도록  5 번 반복해준다.\n",
      "===============\n",
      "step 4 : 계란을 넣는다.\n",
      "===============\n",
      "step 5 : 라면 완성\n",
      "===============\n"
     ]
    }
   ],
   "source": [
    "# 실생활의 알고리즘(라면끓이기) 코드로 작성하자.\n",
    "\n",
    "# 아래 소스코드는 하나의 함수에 모든 기능을 넣었기 때문에 if조건문이 반복된다.\n",
    "# 조건이 적은 경우에는 하나의 함수를 활용하는 것이 좋지만, 조건이 많아지는 경우에는 적절한 함수구분이 필요하다.\n",
    "\n",
    "def making_noodle():\n",
    "\n",
    "    # 0 step\n",
    "    noodle = 0\n",
    "    egg = 0\n",
    "    GreenOnion = 0\n",
    "    pot = 0\n",
    "    water = 0\n",
    "    result_noodle = 1\n",
    "\n",
    "    # 1 step\n",
    "    water = 2\n",
    "    print(\"===============\")\n",
    "    print(\"step 1 : 물을 붇는다.\")\n",
    "\n",
    "    # 2 step\n",
    "    if water == 2:\n",
    "        print(\"===============\")\n",
    "        print('step 2 : 대파와 라면을 넣는다.')\n",
    "        print(\"===============\")\n",
    "        GreenOnion = 1\n",
    "        noodle = 1\n",
    "\n",
    "    # 3 step\n",
    "    if GreenOnion == 1 and noodle == 1:\n",
    "        for result_noodle in range(5):\n",
    "            print(\"step 3 : 면이 익도록 \", result_noodle+1,\"번 반복해준다.\")\n",
    "            result_noodle += 1\n",
    "\n",
    "    # 4 step\n",
    "    if result_noodle == 5:\n",
    "        print(\"===============\")\n",
    "        print(\"step 4 : 계란을 넣는다.\")\n",
    "        egg = 1\n",
    "\n",
    "    # 5 step\n",
    "    if egg == 1 :\n",
    "        print(\"===============\")\n",
    "        print(\"step 5 : 라면 완성\")\n",
    "        print(\"===============\")\n",
    "\n",
    "making_noodle()"
   ]
  },
  {
   "cell_type": "code",
   "execution_count": 7,
   "metadata": {},
   "outputs": [
    {
     "name": "stdout",
     "output_type": "stream",
     "text": [
      "3\n"
     ]
    }
   ],
   "source": [
    "# 다음 예시를 통해 문자열처리 메소드의 효율성을 알아보자.\n",
    "\n",
    "# strip 메소드는 문자의 앞뒤공백을 제거해준다.\n",
    "# split 메소드는 문자열을 특정기준을 통해 리스트형태로 나눠준다.\n",
    "\n",
    "stringtest_strip_split = input().strip().split(' ')\n",
    "if stringtest_strip_split[0] == '':\n",
    "    print(0)\n",
    "else:\n",
    "    print(len(stringtest_strip_split))"
   ]
  },
  {
   "cell_type": "markdown",
   "metadata": {},
   "source": [
    "### 2) 정렬 코드로 구현하기"
   ]
  },
  {
   "cell_type": "markdown",
   "metadata": {},
   "source": [
    "# 2. 개념"
   ]
  },
  {
   "cell_type": "markdown",
   "metadata": {},
   "source": [
    "### 1) 자료구조와 알고리즘"
   ]
  },
  {
   "cell_type": "markdown",
   "metadata": {},
   "source": [
    "자료구조와 알고리즘의 연관성은 배우는데, 구구단을 외우는 것과 유사한 맥락대로 익힌다.\n",
    "\n",
    "- 예를 들어, 숫자와 곱셈의 개념을 알아야지 구구단을 **빠르고 쉽게 수행** 할 수 있다.\n",
    "- **자료구조**는 **숫자**이고, 알고리즘은 **곱셈**이다.\n",
    "- 즉 자료구조는 **기반이 되는 개념**이고, **알고리즘**은 **방법**이다"
   ]
  },
  {
   "cell_type": "markdown",
   "metadata": {},
   "source": [
    "🔍 알고리즘의 활용\n",
    "\n",
    "1. 주로 수학과 연관되어 활용된다.\n",
    "- 팩토리얼 n!의 정의(n은 양의 정수)\n",
    "    - 1에서 시작하여 어떤 범위에 있는 모든 정수를 곱하는 것을 의미한다.\n",
    "    - 0! = 1\n",
    "    - n > 0 이면 n! = n * (n-1)!"
   ]
  },
  {
   "cell_type": "code",
   "execution_count": 11,
   "metadata": {},
   "outputs": [
    {
     "name": "stdout",
     "output_type": "stream",
     "text": [
      "팩토리얼 결과 :  120\n"
     ]
    }
   ],
   "source": [
    "# 팩토리얼 예시코드\n",
    "\n",
    "n = int(input(\"숫자 입력하세요 : \"))\n",
    "def factorial(n) :\n",
    "    if n > 0 :\n",
    "        return n * factorial(n - 1)\n",
    "    else :\n",
    "        return 1\n",
    "\n",
    "print('팩토리얼 결과 : ', factorial(n))"
   ]
  },
  {
   "cell_type": "markdown",
   "metadata": {},
   "source": [
    "- 1부터 n까지의 합구하기"
   ]
  },
  {
   "cell_type": "code",
   "execution_count": 12,
   "metadata": {},
   "outputs": [],
   "source": [
    "# 파이썬에서 시간을 측정하기 위한 함수생성\n",
    "import time\n",
    "\n",
    "from functools import wraps\n",
    "\n",
    "def check_time(function):\n",
    "\t@wraps(function)\n",
    "\tdef measure(*args, **kwargs):\n",
    "\t\tstart_time = time.time()\n",
    "\n",
    "\t\tresult = function(*args, **kwargs)\n",
    "\n",
    "\t\tend_time = time.time()\n",
    "\n",
    "\t\tprint(f\"@check_time: {function.__name__} took {end_time - start_time}\")\n",
    "\t\treturn result\n",
    "\n",
    "\treturn measure"
   ]
  },
  {
   "cell_type": "code",
   "execution_count": 13,
   "metadata": {},
   "outputs": [
    {
     "name": "stdout",
     "output_type": "stream",
     "text": [
      "@check_time: sum_n took 0.003751039505004883\n"
     ]
    }
   ],
   "source": [
    "# case - 1\n",
    "@check_time # 데코레이터 생성하여 활용\n",
    "def sum_n(n):\n",
    "    s = 0\n",
    "    for i in range(1, n+1):\n",
    "        s += i\n",
    "    return s\n",
    "\n",
    "if __name__ == \"__main__\":\n",
    "\tsum_n(100000)"
   ]
  },
  {
   "cell_type": "code",
   "execution_count": 14,
   "metadata": {},
   "outputs": [
    {
     "name": "stdout",
     "output_type": "stream",
     "text": [
      "@check_time: sum_n2 took 1.1920928955078125e-06\n"
     ]
    }
   ],
   "source": [
    "# case - 2\n",
    "@check_time # 데코레이터 생성하여 활용\n",
    "def sum_n2(n):\n",
    "    return n*(n+1)//2\n",
    "\n",
    "if __name__ == \"__main__\":\n",
    "\tsum_n2(100000)"
   ]
  },
  {
   "cell_type": "markdown",
   "metadata": {},
   "source": [
    "🥕 위의 두가지 알고리즘은 같은 문제를 해결하지만 시간에서 열 배의 차이를 보여 주고 있다.\n",
    "- 많은 양의 입력이 들어오면 차이는 점진적 또는 지수적으로 커지게 된다.\n",
    "- 문제를 해결하는데 있어서 다양한 방법이 존재하지만, 가능하면 빠른 알고리즘을 사용하는 이유는 속도 때문이다."
   ]
  },
  {
   "cell_type": "markdown",
   "metadata": {},
   "source": [
    "2. 이진검색을 통해 보는 알고리즘의 원리\n",
    "\n",
    "- 알고리즘을 구현하고 활용하는데 있어서 **단순히 배열/리스트의 인덱스를 하나하나 세면서 탐색하는 방법**부터 **시작**된다.\n",
    "- 탐색조건이 적은 단순한 방법은 쉽지만 복잡하고 데이터양이 많은 경우, 단순반복을 많이 해야되므로 **시간과 메모리**를 많이 소비한다.\n",
    "    - 때문에 **반복문과 조건문, 연산자** 등을 활용하여 효율적 알고리즘이 생성된다.\n",
    "- 이진검색도 **정렬된 선형의 숫자들** 중 특정 숫자를 효율적으로 검색하기위해 나온 방법이다.\n",
    "    - 즉, 모든 알고리즘의 기본 원리는 숫자와 조건을 활용하면서 발전시킨다고 생각하면, 어려운 알고리즘에 대해 배우는 관점이 달라질 수 있다."
   ]
  },
  {
   "cell_type": "markdown",
   "metadata": {},
   "source": [
    "### 2) SWAP(교환)\n",
    "프로그래밍에서 필수적으로 사용되는 개념인 SWAP(교환)에 대해 익힌다."
   ]
  },
  {
   "cell_type": "code",
   "execution_count": 8,
   "metadata": {},
   "outputs": [
    {
     "name": "stdout",
     "output_type": "stream",
     "text": [
      "1 3\n"
     ]
    }
   ],
   "source": [
    "# 첫번째 방법\n",
    "a = 3\n",
    "b = 1\n",
    "\n",
    "temp = a\n",
    "a = b\n",
    "b = temp\n",
    "\n",
    "print(a,b)"
   ]
  },
  {
   "cell_type": "code",
   "execution_count": 9,
   "metadata": {},
   "outputs": [
    {
     "name": "stdout",
     "output_type": "stream",
     "text": [
      "1 3\n"
     ]
    }
   ],
   "source": [
    "# 두번째 방법\n",
    "a = 3\n",
    "b = 1\n",
    "\n",
    "a, b = b, a # 파이썬에서는 한 줄로 변경가능\n",
    "\n",
    "print(a,b)"
   ]
  },
  {
   "cell_type": "markdown",
   "metadata": {},
   "source": [
    "### 3) 선형검색(Linear Search)과 이진검색(Binary search)"
   ]
  },
  {
   "cell_type": "markdown",
   "metadata": {},
   "source": [
    "#### 🔍 선형검색(Linear Search)\n",
    "- 선형 검색은 기본적인 검색 알고리즘으로 **한 번에 하나씩 모두 검색**하는 것이다.\n",
    "- 아래 소스코드처럼 반복문을 활용해 배열의 변수(코드에서는 반복자 $i$)만큼 검색을 진행한다.\n",
    "<img width=\"599\" alt=\"linearSearch\" src=\"https://user-images.githubusercontent.com/89832134/151347652-2fd5a3d2-13ea-4b03-964c-824f7ab14546.png\">\n"
   ]
  },
  {
   "cell_type": "code",
   "execution_count": 17,
   "metadata": {},
   "outputs": [
    {
     "name": "stdout",
     "output_type": "stream",
     "text": [
      "@check_time: linear_search took 1.9073486328125e-06\n",
      "search index :  3\n"
     ]
    }
   ],
   "source": [
    "@check_time\n",
    "def linear_search(linear_arr, search_number):\n",
    "    for i in range(len(linear_arr)):\n",
    "        if linear_arr[i] == search_number:\n",
    "            return i\n",
    "\n",
    "linear_arr = [5,22,87,1,3]\n",
    "search_number = 1\n",
    "print(\"search index : \",linear_search(linear_arr, search_number))"
   ]
  },
  {
   "cell_type": "markdown",
   "metadata": {},
   "source": [
    "#### 🔍 이진검색(Binary search)\n",
    "- **반복을 통해 숫자를 반으로 줄이면서** 검색을 진행하기 때문에 선형보다 **속도가 더 빠르다**. 이진 검색 방법은 데이터가 **이미 정렬된 경우**에만 작동한다. 프로그래밍에서 로그에 대해 이야기 할 때 항상 $log_{2}n$를 의미하는데, 그 이유는 컴퓨터가 **2진수 시스템**에서 작동하기 때문이다.\n",
    "- 리스트를 처음 얻을 때 두 개의 다른 리스트(참조요소)를 설정해야한다.\n",
    "    - **low는 리스트의 첫 번째 항목**을 가리킨다.\n",
    "    - **high는 리스트의 목록의 마지막 항목**을 가리킨다.\n",
    "\n",
    "<img width=\"693\" alt=\"Screen Shot 2022-01-27 at 8 12 39 PM\" src=\"https://user-images.githubusercontent.com/89832134/151347950-4de4daa5-3996-460d-b50c-1e7d8f2c25dc.png\">\n",
    "\n",
    "<img width=\"697\" alt=\"binarySearch3\" src=\"https://user-images.githubusercontent.com/89832134/151347935-c6f5795b-cdb4-428c-b899-ea1ac868803f.png\">"
   ]
  },
  {
   "cell_type": "code",
   "execution_count": 18,
   "metadata": {},
   "outputs": [
    {
     "name": "stdout",
     "output_type": "stream",
     "text": [
      "@check_time: test_binary_search took 1.9073486328125e-06\n",
      "이진검색을 통해 검색된 리스트 인덱스 :  1\n"
     ]
    }
   ],
   "source": [
    "@check_time\n",
    "def test_binary_search(test_list, test_search_item):\n",
    "\n",
    "    low = 0  # 인덱스가 0(리스트의 첫번째 항목)으로 주어진다.\n",
    "    high = len(test_list) - 1  # 인덱스의 마지막 항목(리스트길이 - 1)\n",
    "\n",
    "    while low <= high:\n",
    "        middle = (low + high) // 2   # middle 변수를 생성해서 이진검색속도를 빠르게 한다.\n",
    "        search_value = test_list[middle]\n",
    "\n",
    "        if search_value == test_search_item:\n",
    "            return middle   # 이진검색을 통해 값을 찾는 경우, 검색값의 인덱스를 반환한다.\n",
    "        if search_value > test_search_item:\n",
    "            high = middle - 1\n",
    "        else:\n",
    "            low = middle + 1\n",
    "    return '인덱스를 찾지 못함'   # 이진검색을 통해 값을 찾지 못하는 경우, 별도의 인덱스를 반환하지 않는다.\n",
    "\n",
    "test_list = [6,12,17,23,38,45,77,84]   # 이진검색의 조건에 적합하도록 이미 정렬된 리스트를 활용한다.\n",
    "print('이진검색을 통해 검색된 리스트 인덱스 : ', test_binary_search(test_list, 12))"
   ]
  },
  {
   "cell_type": "markdown",
   "metadata": {},
   "source": [
    "### 4) 정렬\n",
    ": 쉽게 말해서 **숫자 두 개의 크기를 비교**하고 바꿔주는 작업을 **반복하여 조건에 맞게 순서를 맞춰주는 작업**을 말한다.\n",
    "\n",
    "- 정렬을 구성하는 논리적인 개념은 **모든 알고리즘의 기반**"
   ]
  },
  {
   "cell_type": "markdown",
   "metadata": {},
   "source": [
    "### 5) Iterative Sorting(반복 정렬)"
   ]
  },
  {
   "cell_type": "markdown",
   "metadata": {},
   "source": [
    "\n",
    "<img width=\"585\" alt=\"Screen Shot 2022-01-27 at 8 16 10 PM\" src=\"https://user-images.githubusercontent.com/89832134/151348537-8e030fe8-0358-4d8e-9b0f-2a7e9f23bc69.png\">"
   ]
  },
  {
   "cell_type": "markdown",
   "metadata": {},
   "source": [
    "#### 1. Selection Sort(선택정렬)\n",
    ": 최소노드 선택 -> 왼쪽부터 비교 -> 교환"
   ]
  },
  {
   "cell_type": "markdown",
   "metadata": {},
   "source": [
    "<img width=\"423\" alt=\"Screen Shot 2022-01-27 at 8 19 00 PM\" src=\"https://user-images.githubusercontent.com/89832134/151348849-dbd3e522-3b32-44e3-b9fe-24cd58522841.png\">\n",
    "\n",
    "- 방법\n",
    "    - 먼저 **가장 작은 노드**를 선택한다.\n",
    "    - **왼쪽부터 가장 작은 노드와 비교하면서 교환**을 시작한다.\n",
    "    - 교환을 한 번 하고 나면, 교환된 노드를 제외한 나머지 노드들(배열)을 기준으로 하여 가장 작은 노드를 다시 선택하고, 위의 작업을 **반복**한다.\n",
    "\n",
    "- 선택정렬은 가장 작은 노드(최소값)를 선택하고 왼쪽부터 정렬을 하기 위해 알맞은 위치와 교환하는 작업을 반복하는 것이다.\n",
    "- 버블정렬과 달리 **서로 이웃하지 않은 노드를 교환**하므로, 안정적이지 않다.\n",
    "- 선택정렬이 노드값을 비교하는 횟수도 $O(n^2)$번이다.\n",
    "    - 외부루프 : $(n-1)$\n",
    "    - 내부루프(최소값찾기) : $(n-1),(n-2),...,2,1$\n",
    "    - 교환횟수 : $3(n-1)$\n",
    "- 실제 예시(도서관)\n",
    "    - 책을 검색하는 경우, 가장 자연스러운 방법은 왼쪽부터 오른쪽까지 검색하면서 알파벳 제목 순서대로 검색하면서 책을 검색하는 것이다.\n",
    "    (표준 알파벳 \"ABC~\"순서)\n",
    "    - 컴퓨터는 \"가장 우선시 되는\" 알파벳에 대해 \"가장 낮은 숫자\"로 받아들인다. (예를 들어, 알파벳 'C'는 10진수 67이다.)\n",
    "    - 아래그림을 예시로 보면, 오름차순인 경우 \"Animal Farm\"은 \"가장 우선시 되는(숫자가 가장 작은)\" 항목이며 정렬된 컬렉션에서 우선시 된다."
   ]
  },
  {
   "cell_type": "code",
   "execution_count": 24,
   "metadata": {},
   "outputs": [
    {
     "name": "stdout",
     "output_type": "stream",
     "text": [
      "[4, 5, 9, 3, 6, 2, 1, 7, 8]\n"
     ]
    }
   ],
   "source": [
    "# 예시 리스트\n",
    "our_numbers = [5,9,3,6,2,1,7,8,4]\n",
    "\n",
    "# 선택정렬 소스코드\n",
    "\n",
    "def selection_sort(items):\n",
    "\n",
    "    for i in range(0, len(items) - 1):    # 외부 반복문(루프)\n",
    "\n",
    "        cur_index = i\n",
    "        smallest_index = cur_index\n",
    "\n",
    "        for j in range(cur_index + 1, len(items)):  # 내부루프\n",
    "            # 최소값찾는 로직\n",
    "            smallest_index = j\n",
    "\n",
    "        # 로직에 따라 최소값을 찾고, 교환을 위한 작업을 아래와 같이 수행한다.\n",
    "        # items[smallest_index]와 items[cur_index] 값을 Swap(교환) 한다.\n",
    "\n",
    "        # 첫번째 swap 방법\n",
    "        # temp = items[smallest_index]\n",
    "        # items[smallest_index] = items[cur_index]\n",
    "        # items[cur_index]= temp\n",
    "\n",
    "        # 두번째 swap 방법\n",
    "        items[smallest_index], items[cur_index] = items[cur_index], items[smallest_index]\n",
    "\n",
    "    return items\n",
    "\n",
    "# 정렬된 결과값 출력\n",
    "print(selection_sort(our_numbers))"
   ]
  },
  {
   "cell_type": "markdown",
   "metadata": {},
   "source": [
    "#### 2. Insertion Sort(삽입정렬)"
   ]
  },
  {
   "cell_type": "markdown",
   "metadata": {},
   "source": [
    "\n",
    "![insertionpass](https://user-images.githubusercontent.com/89832134/151349531-6ff62b6c-fd7f-4555-8acb-2ad20311f022.png)"
   ]
  },
  {
   "cell_type": "markdown",
   "metadata": {},
   "source": [
    "- 삽입정렬은 **아직 정렬되지 않은 특정 노드**와 **정렬된 노드들의 값을 비교**하고 **값이 더 큰 것의 인덱스보다 작은 인덱스에 삽입**하며 정렬하는 알고리즘이다.\n",
    "    - 선택정렬과 비슷하지만, 값이 가장 작은 원소를 선택하지는 않는다.\n",
    "    - 삽입정렬은 **비교 후 삽입을 동시에 진행**한다는 것이다.\n",
    "    - 삽입정렬은 **소량의 데이터를 정렬하기위한 효율적인** 알고리즘이다.\n",
    "        - 선택과 버블정렬과는 달리, 삽입정렬은 정렬을 진행하면서 비교 및 탐색해야할 정렬 범위가 넓어진다.\n",
    "\n",
    "🔍 자세히보기 : Complexity Analysis(복잡도 분석)\n",
    "\n",
    "- 삽입정렬은 두가지로 시간복잡도를 확인할 수 있습니다.\n",
    "    - 리스트가 이미 정렬된 경우, 리스트의 각 항목을 비교하며 리스트에 정렬된 요소가 있는지 확인합니다.\n",
    "        - 이러한 경우 코드수행시간이 오래걸리지 않으며 시간복잡도가 $O(n)$이 된다.\n",
    "    - 리스트를 오름차순으로 정렬해야되는 경우, **내림차순(반대로 정렬된 경우)**으로 정렬하는 경우 코드수행시간이 가장 오래걸린다.\n",
    "        - 내림차순을 오림차순으로 재정렬하려면 인덱스를 변경시키기 위해 반복문을 오름차순으로 정렬될 때까지 수행해야하기 때문에 시간복잡도가 $O(n^2)$가 된다."
   ]
  },
  {
   "cell_type": "code",
   "execution_count": 25,
   "metadata": {},
   "outputs": [
    {
     "data": {
      "text/plain": [
       "[1, 3, 5, 6]"
      ]
     },
     "execution_count": 25,
     "metadata": {},
     "output_type": "execute_result"
    }
   ],
   "source": [
    "# 삽입정렬 소스코드\n",
    "\n",
    "def ins_sort(unsort_list):\n",
    "\n",
    "    loop_number = len(unsort_list)          # 반복횟수를 위한 길이설정\n",
    "\n",
    "    # 앞쪽에 있는 노드들을 검색하기 위한 반복문\n",
    "    for compare_index in range(loop_number):    # 비교하려는 위치부터 loop_number만큼 반복\n",
    "        compare_value = unsort_list[compare_index]\n",
    "        prev_position = compare_index - 1   # 이전 노드값에 대한 인덱스를 가리킴\n",
    "\n",
    "        # 비교연산 후 삽입을 진행하는 반복문\n",
    "        while prev_position >= 0 and unsort_list[prev_position] > compare_value:\n",
    "            unsort_list[prev_position + 1] = unsort_list[prev_position] # swap을 위한 작업\n",
    "            prev_position = prev_position - 1\n",
    "        unsort_list[prev_position + 1] = compare_value    # 비교된 더 큰 값을 (이전노드+1) 인덱스에 삽입\n",
    "\n",
    "    return unsort_list\n",
    "\n",
    "test_arr = [5,3,1,6]\n",
    "ins_sort(test_arr)"
   ]
  },
  {
   "cell_type": "markdown",
   "metadata": {},
   "source": [
    "#### 3. Bubble Sort(버블정렬)"
   ]
  },
  {
   "cell_type": "markdown",
   "metadata": {},
   "source": [
    "\n",
    "<img width=\"408\" alt=\"버블정렬\" src=\"https://user-images.githubusercontent.com/89832134/151349507-57770a21-a450-4a9a-a75c-e5987eb87e02.png\">\n"
   ]
  },
  {
   "cell_type": "markdown",
   "metadata": {},
   "source": [
    "- **서로 이웃한 두 원소의 크기를 비교한 결과에 따라 교환을 반복**하는 알고리즘(단순 교환 정렬이라고도 함)\n",
    "- 버블 정렬은 가장 간단한 정렬 알고리즘 중 하나이다. 또한 매우 비효율적이다.\n",
    "\n",
    "    1) 컬렉션의 첫 번째 항목과 두 번째 항목을 비교합니다. 첫 번째 항목이 두 번째 항목보다 크면 항목을 교체\n",
    "\n",
    "    2) 이제 두 번째 항목과 세 번째 항목을 비교, 두 번째 항목이 세 번째 항목보다 크면 항목을 교체\n",
    "\n",
    "    3) 오름차순 목록으로 정렬될 때까지 모든 항목에 대해 위의 작업을 반복수행\n",
    "\n",
    "\n",
    "🔍 자세히보기 : Complexity Analysis(복잡도 분석)\n",
    "\n",
    "- **목록이 이미 정렬되어 있어도 목록의 모든 항목을 검사**해야 한다.\n",
    "- 버블정렬의 경우, 배열 전체를 쭉 살펴보는 과정을 무조건 $n$번하기 때문에, (내부 루프 및 외부 루프)가 $O(n^2)$ 시간 복잡도가 걸린다.(따라서, 비효율적이다.)\n",
    "- 버블정렬은 옆에 있는 **이웃노드만 교환하므로 안정적**이다.\n",
    "    - 노드를 비교하는 횟수는 $(n-1)+(n-2)+(n-3)+ ... +1 = n(n-1)/2$와 같다.\n",
    "    - 위의 수식을 코드로 옮기기 위해 아래와 같이 중첩반복문을 사용한다."
   ]
  },
  {
   "cell_type": "code",
   "execution_count": 26,
   "metadata": {},
   "outputs": [
    {
     "name": "stdout",
     "output_type": "stream",
     "text": [
      "[10, 2, 1, 7, 4, 3, 0]\n"
     ]
    }
   ],
   "source": [
    "# 버블정렬 소스코드\n",
    "def bubble_sort(li):\n",
    "    length = len(li) - 1\n",
    "        # 외부 반복문(아래 그림에서 전체 리스트에 대해 정렬이 완료되었는지 검사하고 패스해줌)\n",
    "        # 내부 반복문(아래 그림에서 하나의 리스트의 개별 값을 비교하고 교체시킨다)\n",
    "            # 현재 인덱스의 값과 다음 인덱스의 값 비교\n",
    "                # 비교한 것에 따라 정렬을 위한 인덱스 교환 작업\n",
    "\n",
    "li = [10, 2, 1, 7, 4, 3, 0]\n",
    "bubble_sort(li)\n",
    "print(li)"
   ]
  }
 ],
 "metadata": {
  "interpreter": {
   "hash": "d473ce608692a3bf02c1de21d06d5afe9b45f4f9760cc575a6ec607da11a00f4"
  },
  "kernelspec": {
   "display_name": "Python 3.8.8 64-bit ('base': conda)",
   "language": "python",
   "name": "python3"
  },
  "language_info": {
   "codemirror_mode": {
    "name": "ipython",
    "version": 3
   },
   "file_extension": ".py",
   "mimetype": "text/x-python",
   "name": "python",
   "nbconvert_exporter": "python",
   "pygments_lexer": "ipython3",
   "version": "3.8.8"
  },
  "orig_nbformat": 4
 },
 "nbformat": 4,
 "nbformat_minor": 2
}
