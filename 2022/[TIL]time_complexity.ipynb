{
 "cells": [
  {
   "cell_type": "markdown",
   "metadata": {},
   "source": [
    "# 1. 코드"
   ]
  },
  {
   "cell_type": "markdown",
   "metadata": {},
   "source": [
    "### 1. 시간복잡도(time_complexity) with code"
   ]
  },
  {
   "cell_type": "code",
   "execution_count": null,
   "metadata": {},
   "outputs": [],
   "source": [
    "# 시간복잡도 : O(1)\n",
    "# 이유 : 덧셈 연산 1회만 실시(인풋의 크기가 소요 시간에 영향이 없음)\n",
    "def problem1():\n",
    "    a = 10\n",
    "    b = 30\n",
    "    return(a + b)"
   ]
  },
  {
   "cell_type": "code",
   "execution_count": null,
   "metadata": {},
   "outputs": [],
   "source": [
    "# 시간복잡도 : O(n)\n",
    "# 이유 : 반복문 - 반복되는 횟수가 인풋에 비례함\n",
    "def problem2(li):\n",
    "    sum = 0\n",
    "    for i in li:\n",
    "        sum += li\n",
    "    return sum"
   ]
  },
  {
   "cell_type": "code",
   "execution_count": null,
   "metadata": {},
   "outputs": [],
   "source": [
    "# 시간복잡도 : O(n^2)\n",
    "# 이유 : 이중 반복문이 모두 인풋의 크기에 비례함\n",
    "def problem3(li):\n",
    "    res = []\n",
    "    for i in li:\n",
    "        for j in li:\n",
    "            res.append(i * j)\n",
    "\n",
    "    return res"
   ]
  },
  {
   "cell_type": "code",
   "execution_count": null,
   "metadata": {},
   "outputs": [],
   "source": [
    "# 시간복잡도 : O(n^2)\n",
    "# 이유 : 이중 반복문이라서 O(n^2)이고 append는 O(1)이기때문에 결론은 O(n^2)\n",
    "# (인풋의 길이가 n이라고하면 append가 O(1) * n이지만 결국 O(n^2)이 더 크기때문에 O(n^2)다)\n",
    "def problem4(li):\n",
    "    for i in li:\n",
    "        print(i)\n",
    "\n",
    "    res = []\n",
    "    for i in li:\n",
    "        for j in li:\n",
    "            res.append(i * j)\n",
    "\n",
    "    return res"
   ]
  },
  {
   "cell_type": "code",
   "execution_count": null,
   "metadata": {},
   "outputs": [],
   "source": [
    "# 시간복잡도 : O(1)\n",
    "# 이유 : 인풋의 크기가 소요 시간에 영향이 없이 반복문이 바로 종료됨\n",
    "def problem5(li):\n",
    "    for i in li:\n",
    "        break"
   ]
  },
  {
   "cell_type": "code",
   "execution_count": null,
   "metadata": {},
   "outputs": [],
   "source": [
    "# 시간복잡도 : O(logn)\n",
    "# 이유 : 반복문의 cur이 2배씩 증가하면서 실행이된다\n",
    "def problem6(num):\n",
    "    res = 0\n",
    "    cur = 1\n",
    "    while (cur < num):\n",
    "        res += 1\n",
    "        cur = cur * 2\n",
    "    return res"
   ]
  },
  {
   "cell_type": "markdown",
   "metadata": {},
   "source": [
    "### 2. 이진탐색과 그 시간복잡도 구해보기"
   ]
  },
  {
   "cell_type": "code",
   "execution_count": 29,
   "metadata": {},
   "outputs": [
    {
     "name": "stdout",
     "output_type": "stream",
     "text": [
      "[(0, 7), (1, 7), (2, 3)]\n"
     ]
    }
   ],
   "source": [
    "\"\"\"입력받은 2차원 리스트(input_list)에서 찾고자 하는 값(value_to_search)을 찾아 그 위치를 반환하기\n",
    "    (입력받은 2차원 리스트의 모든 리스트 내부는 정렬되어있음)\n",
    "\n",
    "    input:\n",
    "        input_list: 정렬된 요소들로 구성된 2차원 리스트\n",
    "        value_to_search: 찾고자 하는 값\n",
    "\n",
    "    output:\n",
    "        튜플들의 리스트\n",
    "            튜플:(i번째 리스트, j번째 요소)\n",
    "\"\"\"\n",
    "\n",
    "def binary_search(input_list, value_to_search):\n",
    "    result = []\n",
    "\n",
    "    for index, i in enumerate(input_list):\n",
    "        start_index = 0\n",
    "        end_index = len(i) - 1\n",
    "\n",
    "        while start_index <= end_index:\n",
    "            midpoint = (start_index + end_index) // 2\n",
    "            if i[midpoint] == value_to_search:\n",
    "                result.append((index, midpoint))\n",
    "                break\n",
    "            elif i[midpoint] > value_to_search:\n",
    "                end_index = midpoint - 1\n",
    "            else:\n",
    "                start_index = midpoint + 1\n",
    "\n",
    "    return result\n",
    "\n",
    "input_list = [[1,2,3,4,5,6,7,8], [1,2,3,4,5,6,7,8,9,10], [1,2,4,8,16,32], [1,2,3,4,5,6]]\n",
    "\n",
    "print(binary_search(input_list, 8))"
   ]
  },
  {
   "cell_type": "markdown",
   "metadata": {},
   "source": [
    "🥕 이진탐색은 탐색 범위가 반씩 줄어들기 때문에 O(logn)이다.   \n",
    "헌데, 여기서 input리스트가 리스트 안의 리스트이기때문에 input의 길이인 n만큼 for문이 있다.   \n",
    "따라서 해당 알고리즘의 시간복잡도는 O(nlogn)이다."
   ]
  },
  {
   "cell_type": "markdown",
   "metadata": {},
   "source": [
    "# 2. 개념"
   ]
  },
  {
   "cell_type": "markdown",
   "metadata": {},
   "source": [
    "#### 🔍 **Big O 표기법(notation)**\n",
    "\n",
    "- **알고리즘 효율을 확인**할 수 있다.(결과값을 출력하기 위한 **연산을 얼마나 반복**하였는지)\n",
    "- **데이터 입력값 크기**에 따라 알고리즘 실행 속도의 변화를 설명하는 방법\n",
    "- 알고리즘 계산 복잡도 종류\n",
    "    - **시간 복잡도** : 알고리즘을 활용해 **얼마나 실행시간**이 걸렸는지.\n",
    "    - **공간 복잡도** : 문제해결을 위해 **얼마만큼 메모리 저장 공간**이 필요한지.\n",
    "    - 하드웨어의 성능이 증가하면서 공간 복잡도보다, 소프트웨어의 성능인 **시간 복잡도가 더 중요**\n",
    "- Big O 표기법은 입력값 증가에 중점을 두고 대비하여 실행시간이 얼마나 길어지는지를 설명(빅오표기법만으로 **성능을 예측**할 수는 없다.)\n",
    "\n",
    "#### 📎 **Big O run times 비교**\n",
    "<img width=\"531\" alt=\"빅오\" src=\"https://user-images.githubusercontent.com/89832134/150454326-b3b0d366-907c-48a9-b69b-c2ab49c4a36d.png\">"
   ]
  },
  {
   "cell_type": "markdown",
   "metadata": {},
   "source": [
    "#### 🔍 모듈(Module)\n",
    "파이썬에서 모듈은 상수, 변수, 함수, 클래스를 포함하는 코드가 저장된 파일이다. 모듈의 이름은 확장자(.py)를 제외한 파일 이름이다.\n",
    "\n",
    "* 모듈의 장점은 다음과 같다.\n",
    "    1) 모듈로 나누면 코드 작성과 관리가 쉬워진다.\n",
    "    2) 이미 작성된 코드를 재사용할 수 있다.\n",
    "    3) 공동 작업이 편리해진다.\n",
    "\n",
    "\n",
    "* 모듈 불러오기: import 모듈명\n",
    "    모듈을 임포트한 후에는 '모듈명.변수', '모듈명.함수()', '모듈명.클래스()'와 같은 형식으로 모듈에서 정의한 내용을 사용할 수 있다.\n",
    "\n",
    "* from 모듈명 import 변수명, 함수명, 클래스명\n",
    "    '모듈명.' 없이 변수와 함수, 클래스를 사용하려면 다음과 같이 모듈을 불러오면 된다.\n",
    "\n",
    "* from 모듈명 import *\n",
    "    만약 모듈의 모든 변수, 함수, 클래스를 바로 모듈명 없이 이용하려면 다음와 같이 불러오면 된다.\n"
   ]
  }
 ],
 "metadata": {
  "interpreter": {
   "hash": "d473ce608692a3bf02c1de21d06d5afe9b45f4f9760cc575a6ec607da11a00f4"
  },
  "kernelspec": {
   "display_name": "Python 3.8.8 64-bit ('base': conda)",
   "language": "python",
   "name": "python3"
  },
  "language_info": {
   "codemirror_mode": {
    "name": "ipython",
    "version": 3
   },
   "file_extension": ".py",
   "mimetype": "text/x-python",
   "name": "python",
   "nbconvert_exporter": "python",
   "pygments_lexer": "ipython3",
   "version": "3.8.8"
  },
  "orig_nbformat": 4
 },
 "nbformat": 4,
 "nbformat_minor": 2
}
