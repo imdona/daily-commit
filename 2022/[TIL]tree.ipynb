{
 "cells": [
  {
   "cell_type": "markdown",
   "metadata": {},
   "source": [
    "# 트리(Tree)"
   ]
  },
  {
   "cell_type": "markdown",
   "metadata": {},
   "source": [
    "![jm2p1at8cth0gu5dakug](https://user-images.githubusercontent.com/89832134/151083208-8290a9f5-5940-4715-baee-d9e11babdabc.png)"
   ]
  },
  {
   "cell_type": "markdown",
   "metadata": {},
   "source": [
    "#### 🔍 용어정리\n",
    "- 트리\n",
    "    - 노드가 하나 이상의 자식을 가지는 구조\n",
    "    - 노드(Node)와 분기(Branch)를 이용해서, 사이클을 이루지 않도록 구성한 데이터 구조\n",
    "    - 이진 트리 형태 구조는 탐색(검색) 알고리즘 구현을 위해 많이 사용된다\n",
    "- **노드(Node)** : 트리에서 데이터를 저장하는 기본 요소(데이터와 다른 연결된 노드에 대한 Branch 정보를 포함)\n",
    "- **루트 노드(Root Node)** : 트리 **가장 위쪽**에 있는 노드, **트리별 하나**만 있다.\n",
    "    - 루트와 부모는 다르다. 부모노드는 자식노드가 1개 이상 있는 경우에만 존재할 수 있다.\n",
    "- **서브트리** : **자식노드이면서 부모노드역할을 하는 노드가 있는** 트리\n",
    "- **차수** : 노드가 갖고 있는 **최대 자식노드 수**\n",
    "- **리프 노드(Leaf Node)**\n",
    "    - Child Node가 하나도 없는 노드\n",
    "    - 레벨별로 가장 마지막에 있는 노드\n",
    "    - **단말**노드(terminal node), **외부**노드(external node)라고도 한다.\n",
    "    - **리프는 트리별로 여러 개**가 있을 수 있다.\n",
    "- **레벨(Level)**\n",
    "    - 최상위 노드를 Level 0으로 하였을 때, 하위 Branch로 연결된 노드의 깊이를 나타낸다\n",
    "    - 루트 노드에서 **얼마나 멀리 떨어져 있는지 각각 나타낸다**.\n",
    "    - 루트 노드의 레벨은 0에서 아래로 내려갈때마다 1씩 증가한다.\n",
    "- **Depth(높이)**\n",
    "    - 트리에서 Node가 가질 수 있는 최대 Level\n",
    "    - 루트에서 가장 멀리 떨어진 리프 노드까지의 거리이며, **리프 레벨의 최대값**을 높이라고 한다.\n",
    "- **Parent(부모) 노드** : 어떤 노드의 다음 레벨에 연결된 노드\n",
    "- **Child(자식) Node** : 어떤 노드의 상위 레벨에 연결된 노드\n",
    "- **sibling(형제) 노드** : 부모가 같은 두 개의 노드, 동일한 Parent Node를 가진 노드"
   ]
  },
  {
   "cell_type": "markdown",
   "metadata": {},
   "source": [
    "<img width=\"608\" alt=\"Screen Shot 2022-01-26 at 9 36 15 AM\" src=\"https://user-images.githubusercontent.com/89832134/151083104-a9b258d2-1f83-4cd4-a334-b99add90da27.png\">\n",
    "\n",
    "- **Binary Tree(이진 트리)**\n",
    "    - 이진트리 : 노드의 최대 Branch가 2인 트리\n",
    "    - 이진트리는 아래와 같이 각 노드별로, 최대 2개의 서브노드를 갖을 수 있다.(left, right)\n",
    "    - 이진트리는 여러 트리종류 중에서 가장 기본이 되면서 많이 활용되는 트리이다.\n",
    "    - 이진트리는 두가지 조건으로 구성되어 있다.\n",
    "        - **루트노드를 중심으로 두 개의 서브트리**로 나눠진다.\n",
    "        - 나눠진 두 서브트리도 모두 두 개의 서브트리를 갖는다.\n",
    "            - **서브트리의 노드가 반드시 값을 갖고 있을 필요는 없다.**\n",
    "    - 이진트리의 종류\n",
    "        - Complete binary tree(완전 이진 트리)\n",
    "            - 마지막 레벨을 제외하고 모든 레벨이 완전히 채워져있다.\n",
    "            - 노드가 위에서 아래로, **왼쪽에서 오른쪽 순서대로** 채워져있다.\n",
    "        - Full Binary Tree(정 이진 트리) : 노드들의 자식이 하나도 없거나 두 개인 경우로 구성된 트리( = 모든 노드가 0개 또는 2개의 자식 노드를 갖는 트리)\n",
    "        - Perfect Binary Tree(포화 이진 트리) : 완벽한 피라미드 구조\n",
    "            -  모든 내부 노드가 두 개의 자식 노드를 가지며 모든 리프 노드가 동일한 깊이 또는 레벨을 갖는 트리\n",
    "        - 불균형 이진 트리(Unbalanced Binary Tree) : 편향 트리 처럼 밸런스가 맞지 않는 트리\n",
    "        - 균형 이진 트리(Balanced Binary Tree) : 완전 이진 트리처럼 균형이 잡힌 트리, 높이 차이가 2이상이 안나는 트리"
   ]
  },
  {
   "cell_type": "markdown",
   "metadata": {},
   "source": [
    "## 🔍 Binary Search Trees(BST) - 이진검색트리\n",
    "- 이진 트리에 추가 조건(왼쪽 노드는 해당 노드보다 작은 값, 오른쪽 노드는 해당 노드 보다 큰 값을 가지는 조건)을 가지는 트리\n",
    "- 이진탐색트리는 **노드를 정확하게 정렬해야하는** 특정 유형의 이진 트리\n",
    "- 주로 검색에 사용 된다!\n",
    "\n",
    "![binary-search-tree-insertion-animation](https://user-images.githubusercontent.com/89832134/151083489-2bd6d0ea-9665-4a6d-a903-0c2ebd45d56a.gif)\n",
    "\n",
    "<img width=\"608\" alt=\"Screen Shot 2022-01-26 at 9 27 45 AM\" src=\"https://user-images.githubusercontent.com/89832134/151082398-f2ee0f9a-9d89-48d5-b453-3ea3800566d2.png\">"
   ]
  },
  {
   "cell_type": "markdown",
   "metadata": {},
   "source": [
    "##### 📎 특징\n",
    "- BST의 목적은 단순 이진트리보다 빠른 **노드탐색**이다. 때문에 insert node에서 중복을 처리해주는 것이 아닌, 아래 **'값 크기 조건'** 에 맞도록 값을 넣어주는 경우가 이진탐색트리가 되는 것이다.\n",
    "- 만약 아래 **'값 크기 조건'** 을 지키지 않고 값을 삽입하는 경우 **'이진탐색트리'** 의 로직이 아닌 **'단순이진트리'** 의 로직으로 '탐색'이 진행되므로 더 느린 탐색이 진행된다.\n",
    "    - **값 크기 조건** : 오른쪽 서브노드의 값(right child) > 루트(부모)노드의 값(root node) > 왼쪽 서브노드의 값(left child)\n",
    "        - **중복값**을 갖고 있는 노드가 **없어야** 한다.\n",
    "        - 왼쪽 서브 트리 노드들의 값은 루트(부모)노드값보다 작아야 한다.\n",
    "        - 오른쪽 서브 트리 노드들의 값은 루트(부모)노드값보다 커야 한다.\n",
    "    - 위에 대한 규칙이 정해진 이유는 **왼쪽부터 오른쪽으로 검색을 하는 구조**이기 때문이다.\n",
    "        - 왼쪽 -> 오른쪽 개념이 적용되는 이유 : 트리와 같은 자료구조는 기본이 되는 연결리스트를 참조해서 만들어진 개념이기 때문이다.\n",
    "- 특징\n",
    "    - 위의 규칙에서 볼 수 있듯이, 구조가 단순\n",
    "    - 값들이 전순서 관계를 가짐\n",
    "        - 특정 노드의 왼쪽 서브 트리의 값은 특정 노드의 값보다 작다.\n",
    "        - 특정 노드의 오른쪽 서브 트리의 값은 특정 노드의 값보다 크다.\n",
    "    - 중회순회(Inorder Traversal) 방식으로 나열하면 키 값의 크기에 따라 열거됨\n",
    "    - 검색하는 방법 : 루트노드부터 시작하여, 노드의 값보다 작으면 왼쪽 자식 노드로 노드의 값보다 크면 오른쪽 자식 노드로\n",
    "    - **base node/검색할 노드/자식노드 존재여부**에 따라 검색되는 노드의 순서가 달라진다.\n",
    "    - 검색이 일반 이진 트리보다 빠르기 때문에 노드를 삽입하기 쉽다."
   ]
  },
  {
   "cell_type": "markdown",
   "metadata": {},
   "source": [
    "##### 📎 연산\n",
    "1. BST 삽입(insert) 연산 : 검색을 수행하여 이진 검색 트리가 가지는 특징을 위배하지 않게 삽입 노드를 배치한다.\n",
    "    1. 삽입 전, 검색 수행\n",
    "    2. 트리 검색 후, 키와 일치하는 노드가 없으면 마지막 노드에서 키와 노드의 크기를 비교하여 왼쪽이나 오른쪽에 새로운 노드를 삽입한다\n",
    "2. BST 삭제(delete) 연산 : 삭제 노드의 자식 노드의 갯수에 따라 연산이 달라진다.\n",
    "    삭제하려는 노드의 자식 수에 따라\n",
    "    - 자식노드가 없는 노드(리프 노드) 삭제 : 해당 노드를 단순히 삭제한다.\n",
    "    - 자식노드가 1개인 노드 삭제 : 해당 노드를 삭제하고 그 위치에 해당 노드의 자식노드를 대입한다.\n",
    "    - 자식노드가 2개인 노드 삭제 : 삭제하고자 하는 노드의 값을 해당 노드의 왼쪽 서브트리에서 가장 큰값으로 변경하거나, 오른쪽 서브트리에서 가장 작은 값으로 변경한 뒤, 해당 노드(왼쪽서브트리에서 가장 큰 값을 가지는 노드 또는 오른쪽 서브트리에서 가장 작은 값을 가지는 노드)를 삭제한다."
   ]
  },
  {
   "cell_type": "markdown",
   "metadata": {},
   "source": [
    "##### 📎 BTS 연산에 대한 시간복잡도(time complexity)\n",
    "![시간복잡도](https://user-images.githubusercontent.com/89832134/151084726-351bfee5-934f-488f-b2a3-69abba0a26a2.png)\n",
    "1. worst case : $O(n)$, 한쪽으로 쏠린 트리인 편향 트리(degenerated tree)일 때 발생\n",
    "2. average : 완전 이진 트리(complete binary tree)일 때 발생\n",
    "3. BST의 효율을 높이기 위해서는 Unbalanced Binary Tree를 Balanced Binary Tree로 바꿔야함"
   ]
  },
  {
   "cell_type": "markdown",
   "metadata": {},
   "source": [
    "##### 📎 파이썬 코드로 BST 구현하기"
   ]
  },
  {
   "cell_type": "code",
   "execution_count": 15,
   "metadata": {},
   "outputs": [],
   "source": [
    "# 노드 클래스 생성(해당 클래스는 검색알고리즘에 필요한 기본클래스이다.)\n",
    "\n",
    "class node:\n",
    "    def __init__(self, value):\n",
    "        self.value = value\n",
    "        self.left = None\n",
    "        self.right = None"
   ]
  },
  {
   "cell_type": "code",
   "execution_count": 17,
   "metadata": {},
   "outputs": [],
   "source": [
    "# 이진검색트리에 노드삽입 함수추가\n",
    "\n",
    "class binary_search_tree:\n",
    "    def __init__(self, head):\n",
    "        self.head = head\n",
    "\n",
    "    def insert_node(self, value):\n",
    "        '''노드 삽입 메소드'''\n",
    "        self.base_node = self.head\n",
    "\n",
    "        while True:\n",
    "            if value < self.base_node.value:\n",
    "                if self.base_node.left != None:\n",
    "                    self.base_node = self.base_node.left\n",
    "\n",
    "                else:\n",
    "                    self.base_node.left = node(value)\n",
    "                    break\n",
    "\n",
    "            else:\n",
    "                if self.base_node.right != None:\n",
    "                    self.base_node = self.base_node.right\n",
    "\n",
    "                else:\n",
    "                    self.base_node.right = node(value)\n",
    "                    break"
   ]
  },
  {
   "cell_type": "code",
   "execution_count": 18,
   "metadata": {},
   "outputs": [],
   "source": [
    "# 이진검색트리를 위한 기본노드생성\n",
    "\n",
    "head = node(1)  # 루트노드 지정\n",
    "bt = binary_search_tree(head) # binary_search_tree(node(1))"
   ]
  },
  {
   "cell_type": "code",
   "execution_count": 19,
   "metadata": {},
   "outputs": [],
   "source": [
    "# 이진검색트리에 값 삽입 test\n",
    "bt.insert_node(2)"
   ]
  },
  {
   "cell_type": "code",
   "execution_count": 20,
   "metadata": {},
   "outputs": [],
   "source": [
    "# 이진검색트리에 노드 검색 함수추가\n",
    "\n",
    "class binary_search_tree:\n",
    "    def __init__(self, head):\n",
    "        self.head = head\n",
    "\n",
    "    def insert_node(self, value):\n",
    "        '''노드 삽입 메소드'''\n",
    "        self.base_node = self.head\n",
    "\n",
    "        while True:\n",
    "            if value < self.base_node.value:\n",
    "                if self.base_node.left != None:\n",
    "                    self.base_node = self.base_node.left\n",
    "\n",
    "                else:\n",
    "                    self.base_node.left = node(value)\n",
    "                    break\n",
    "\n",
    "            else:\n",
    "                if self.base_node.right != None:\n",
    "                    self.base_node = self.base_node.right\n",
    "\n",
    "                else:\n",
    "                    self.base_node.right = node(value)\n",
    "                    break\n",
    "\n",
    "    def search_node(self, value):\n",
    "        '''노드 검색 메소드'''\n",
    "        self.base_node = self.head\n",
    "\n",
    "        while self.base_node:\n",
    "            if self.base_node.value == value:\n",
    "                return True\n",
    "\n",
    "            elif value < self.base_node.value:\n",
    "                self.base_node = self.base_node.left\n",
    "\n",
    "            else:\n",
    "                self.base_node = self.base_node.right\n",
    "\n",
    "        return False"
   ]
  },
  {
   "cell_type": "code",
   "execution_count": 21,
   "metadata": {},
   "outputs": [],
   "source": [
    "# 노드삽입 test\n",
    "\n",
    "head = node(10)  # 루트노드지정\n",
    "bt = binary_search_tree(head)\n",
    "\n",
    "bt.insert_node(2)\n",
    "bt.insert_node(5)\n",
    "bt.insert_node(0)\n",
    "bt.insert_node(-1)"
   ]
  },
  {
   "cell_type": "code",
   "execution_count": 22,
   "metadata": {},
   "outputs": [
    {
     "data": {
      "text/plain": [
       "False"
      ]
     },
     "execution_count": 22,
     "metadata": {},
     "output_type": "execute_result"
    }
   ],
   "source": [
    "bt.search_node(8)"
   ]
  },
  {
   "cell_type": "code",
   "execution_count": 23,
   "metadata": {},
   "outputs": [
    {
     "data": {
      "text/plain": [
       "True"
      ]
     },
     "execution_count": 23,
     "metadata": {},
     "output_type": "execute_result"
    }
   ],
   "source": [
    "bt.search_node(2)"
   ]
  },
  {
   "cell_type": "markdown",
   "metadata": {},
   "source": [
    "### 📚 Reference\n",
    "- [이진 탐색 트리 위키백과](https://ko.wikipedia.org/wiki/%EC%9D%B4%EC%A7%84_%ED%83%90%EC%83%89_%ED%8A%B8%EB%A6%AC)\n",
    "- [이진 탐색 트리(BST)와 불균형 이진 트리 문제 해결](https://m.blog.naver.com/PostView.nhn?blogId=qbxlvnf11&logNo=221371437794&proxyReferer=https:%2F%2Fwww.google.com%2F)\n",
    "- [잔재미 코딩 트리정리](https://www.fun-coding.org/Chapter10-tree.html)\n",
    "- [트리 gif 출처](https://blog.penjee.com/5-gifs-to-understand-binary-search-tree/#binary-search-tree-insertion-node)\n",
    "- [재귀함수와 포인터 중 더 배우기 힘든 것은? - 포프TV](https://www.youtube.com/watch?v=a4Qy4tSadSI&t=1s)\n",
    "- [[자료구조 알고리즘] Tree의 종류 - 엔지니어대한민국](https://www.youtube.com/watch?v=LnxEBW29DOw)"
   ]
  }
 ],
 "metadata": {
  "interpreter": {
   "hash": "d473ce608692a3bf02c1de21d06d5afe9b45f4f9760cc575a6ec607da11a00f4"
  },
  "kernelspec": {
   "display_name": "Python 3.8.8 64-bit ('base': conda)",
   "language": "python",
   "name": "python3"
  },
  "language_info": {
   "codemirror_mode": {
    "name": "ipython",
    "version": 3
   },
   "file_extension": ".py",
   "mimetype": "text/x-python",
   "name": "python",
   "nbconvert_exporter": "python",
   "pygments_lexer": "ipython3",
   "version": "3.8.8"
  },
  "orig_nbformat": 4
 },
 "nbformat": 4,
 "nbformat_minor": 2
}
