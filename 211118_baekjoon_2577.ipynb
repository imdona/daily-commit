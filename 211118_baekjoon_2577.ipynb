{
  "cells": [
    {
      "cell_type": "markdown",
      "metadata": {},
      "source": [
        "백준 2577 [숫자의 개수]\n",
        "세 개의 자연수 A, B, C가 주어질 때 A × B × C를 계산한 결과에 \n",
        "0부터 9까지 각각의 숫자가 몇 번씩 쓰였는지를 구하는 프로그램을 작성하시오.\n",
        "첫째 줄에 A, 둘째 줄에 B, 셋째 줄에 C가 주어진다. \n",
        "A, B, C는 모두 100보다 크거나 같고, 1,000보다 작은 자연수이다."
      ]
    },
    {
      "cell_type": "code",
      "execution_count": null,
      "metadata": {},
      "outputs": [],
      "source": [
        "A = int(input())\n",
        "B = int(input())\n",
        "C = int(input())\n",
        "\n",
        "# for문을 돌리기 위해 세수의 곱을 str타입의 원소가 들어있는 list로 바꿔준다\n",
        "num_list = list(str(A * B * C)) \n",
        "# 0부터 9까지의 숫자가 list에 포함된 횟수를 출력\n",
        "for i in range(10):\n",
        "    print(num_list.count(str(i)))"
      ]
    }
  ],
  "metadata": {
    "colab": {
      "authorship_tag": "ABX9TyMpGGAqMtLS2syx+B5AJUmb",
      "collapsed_sections": [],
      "include_colab_link": true,
      "name": "211118_baekjoon_.py",
      "provenance": []
    },
    "kernelspec": {
      "display_name": "Python 3",
      "name": "python3"
    },
    "language_info": {
      "name": "python"
    }
  },
  "nbformat": 4,
  "nbformat_minor": 0
}
