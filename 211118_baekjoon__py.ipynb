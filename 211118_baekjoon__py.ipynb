{
  "nbformat": 4,
  "nbformat_minor": 0,
  "metadata": {
    "colab": {
      "name": "211118_baekjoon_.py",
      "provenance": [],
      "collapsed_sections": [],
      "authorship_tag": "ABX9TyMpGGAqMtLS2syx+B5AJUmb",
      "include_colab_link": true
    },
    "kernelspec": {
      "name": "python3",
      "display_name": "Python 3"
    },
    "language_info": {
      "name": "python"
    }
  },
  "cells": [
    {
      "cell_type": "markdown",
      "metadata": {
        "id": "view-in-github",
        "colab_type": "text"
      },
      "source": [
        "<a href=\"https://colab.research.google.com/github/imdona/daily-commit/blob/main/211118_baekjoon__py.ipynb\" target=\"_parent\"><img src=\"https://colab.research.google.com/assets/colab-badge.svg\" alt=\"Open In Colab\"/></a>"
      ]
    },
    {
      "cell_type": "code",
      "metadata": {
        "id": "ys9WXl5LeGAp"
      },
      "source": [
        "\"\"\"\bwait plz\"\"\""
      ],
      "execution_count": null,
      "outputs": []
    }
  ]
}