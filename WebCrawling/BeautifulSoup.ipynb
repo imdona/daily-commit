{
 "cells": [
  {
   "cell_type": "markdown",
   "id": "af462bcf",
   "metadata": {},
   "source": [
    "## 블로그에 개념 정리 완료\n",
    "[내 블로그 [web crawling] python requests & Beautiful Soup를 활용하여 원하는 정보 추출하기](https://imdona.tistory.com/39)"
   ]
  },
  {
   "cell_type": "markdown",
   "id": "d4db1e29",
   "metadata": {},
   "source": [
    "### 웹 사이트와 크롤링\n",
    "\n",
    "웹 페이지의 기본 기술을 익혔다면 이제 웹 크롤링 기술로 들어가보자.\n",
    "웹 사이트 내에 있는 정보를 추출하는 행위를 웹 크롤링이라고 부른다.\n",
    "웹 크롤링은 인터넷 콘텐츠를 색인화하는 과정을 의미하는데\n",
    "특정한 웹 사이트에 접속해서 원하는 정보를 추출하고 이를 바탕으로 분석할 데이타를 확보할 수 있다.\n",
    "\n",
    "우리가 앞으로 하게 될 웹 크롤링은 크게 두 가지 단계를 거친다.\n",
    "\n",
    "1.\t원하는 웹 페이지의 html문서를 싹 긁어온다.  - requests\n",
    "2.\thtml 문서에서 원하는 것을 골라서 정보를 추출한다.  - Beautiful Soup\n"
   ]
  },
  {
   "cell_type": "markdown",
   "id": "535d53d0",
   "metadata": {},
   "source": [
    "### 사이트 정보 가져오기 - requests\n",
    "\n",
    "* import requests 로 requests 라이브러리를 불러온다\n",
    "* requests.get() 함수로 원하는 사이트에 접속한다."
   ]
  },
  {
   "cell_type": "code",
   "execution_count": 3,
   "id": "c028034c",
   "metadata": {},
   "outputs": [],
   "source": [
    "import requests"
   ]
  },
  {
   "cell_type": "code",
   "execution_count": 4,
   "id": "082a6984",
   "metadata": {},
   "outputs": [
    {
     "data": {
      "text/plain": [
       "<Response [200]>"
      ]
     },
     "execution_count": 4,
     "metadata": {},
     "output_type": "execute_result"
    }
   ],
   "source": [
    "requests.get(\"http://www.google.com\")"
   ]
  },
  {
   "cell_type": "code",
   "execution_count": 7,
   "id": "36e3c305",
   "metadata": {},
   "outputs": [
    {
     "data": {
      "text/plain": [
       "'<!doctype html><html itemscope=\"\" itemtype=\"http://schema.org/WebPage\" lang=\"ko\"><head><meta content'"
      ]
     },
     "execution_count": 7,
     "metadata": {},
     "output_type": "execute_result"
    }
   ],
   "source": [
    "response = requests.get(\"http://www.google.com\")\n",
    "# response.text  # html 문서임\n",
    "response.text[0:100]"
   ]
  },
  {
   "cell_type": "markdown",
   "id": "cbad0d0b",
   "metadata": {},
   "source": [
    "### 사이트 정보 추출하기 - Beautiful Soup\n",
    "\n",
    "앞에서 HTML 코드를 받아왔다.  \n",
    "이제 HTML 코드 구문을 요소별로 구분하고 처리해야 하는데, 이런 작업을 파싱(parsing)이라 한다.  \n",
    "request.text를 이용해 가져온 텍스트형태의 html 데이타를 손쉽게 파싱할 수 있도록 해주는 라이브러리가  \n",
    "바로 Beautiful Soup이다."
   ]
  },
  {
   "cell_type": "code",
   "execution_count": 1,
   "id": "924c78c0",
   "metadata": {},
   "outputs": [],
   "source": [
    "from bs4 import BeautifulSoup"
   ]
  },
  {
   "cell_type": "code",
   "execution_count": 19,
   "id": "fffc38fb",
   "metadata": {},
   "outputs": [
    {
     "name": "stdout",
     "output_type": "stream",
     "text": [
      "<!DOCTYPE html>\n",
      "<html itemscope=\"\" itemtype=\"http://schema.org/WebPage\" lang=\"ko\">\n",
      " <head>\n",
      "  <meta content=\"text/html; charset=utf-8\" http-equiv=\"Content-Type\"/>\n",
      "  <meta content=\"/images/branding/googleg/1x/googleg_standard_color_128dp.png\" itemprop=\"image\"/>\n",
      "  <title>\n",
      "   Google\n",
      "  </title>\n",
      "  <script nonce=\"tVOfNqt2iOlMhER8aQ9iEQ==\">\n",
      "   (function(){window.google={kEI:'QK1DYoHzL7iFr7wP6qq06AY',kEXPI:'0,1302530,56879,6058,207,4804,926,1390,383,246,5,1354,4013,1238,1122515,1197705,696,380090,16114,17444,11240,17572,4859,1361,9291,3023,4751,12834,4020,978,13228,3847,4192,6430,22113,628,2855,2226,889,704,1279,2742,149,1103,840,2197,4100,4120,2023,1733,43,521,14670,3228,2844,7,17450,16320,1850,2615,13142,3,346,230,6459,149,13975,4,1528,656,1648,7039,25073,2658,7357,30,13628,4437,9358,7428,5818,2539,4094,4052,3,3541,1,16807,25347,2,14022,1931,4318,1271,744,5852,9865,598,1160,5679,1021,2380,2718,18297,2,6,7719,4568,6255,6720,16701,830,422,5835,14968,1538,2794,19,4658,340,1073,1394,445,2,2,1,1509,4886,4910,1194,7978,3306,843,152,1407,10,1,436,8047,108,113,5011,5,1453,323,475,1,12,450,2,937,1048,593,5214,2215,421,3788,7341,2798,605,2,6,526,369,315,1450,2,1,2747,376,429,1,2273,88,301,2,647,336,242,1168,914,786,541,4229,264,672,501,416,843,957,749,607,54,748,33,67,1673,494,1963,87,2,176,394,1985,306,107,87,1357,463,1295,721,414,216,1166,535,3,1863,4,5452451,101,597,501,118,5995478,2801216,882,444,3,1877,1,2562,1,748,141,795,563,1,4265,1,1,2,1331,4142,2609,155,17,13,72,139,4,2,20,2,169,13,19,46,5,39,96,548,29,2,2,1,2,1,2,2,7,4,1,2,2,2,2,2,2,353,513,186,1,1,158,3,2,2,2,2,2,4,2,3,3,269,1601,141,1002,185,16,79,2,21,1,8,2,2,10,3,102,2,1,2,7,1,23951534,4038575,3,3112,3,450,1964,2935,159,1358,4726,3,2664,4590,7,231,2126,48,7,375,843,113,767401',kBL:'zIb2'};google.sn='webhp';google.kHL='ko';})();(function(){\n",
      "var f=this||self;var h,k=[];function l(a){for(var b;a&&(!a.getAttribute||!(b=a.getAttribute(\"eid\")));)a=a.parentNode;return b||h}function m(a){for(var b=null;a&&(!a.getAttribute||!(b=a.getAttribute(\"leid\")));)a=a.parentNode;return b}\n",
      "function n(a,b,c,d,g){var e=\"\";c||-1!==b.search(\"&ei=\")||(e=\"&ei=\"+l(d),-1===b.search(\"&lei=\")&&(d=m(d))&&(e+=\"&lei=\"+d));d=\"\";!c&&f._cshid&&-1===b.search(\"&cshid=\")&&\"slh\"!==a&&(d=\"&cshid=\"+f._cshid);c=c||\"/\"+(g||\"gen_204\")+\"?atyp=i&ct=\"+a+\"&cad=\"+b+e+\"&zx=\"+Date.now()+d;/^http:/i.test(c)&&\"https:\"===window.location.protocol&&(google.ml&&google.ml(Error(\"a\"),!1,{src:c,glmm:1}),c=\"\");return c};h=google.kEI;google.getEI=l;google.getLEI=m;google.ml=function(){return null};google.log=function(a,b,c,d,g){if(c=n(a,b,c,d,g)){a=new Image;var e=k.length;k[e]=a;a.onerror=a.onload=a.onabort=function(){delete k[e]};a.src=c}};google.logUrl=n;}).call(this);(function(){\n",
      "google.y={};google.sy=[];google.x=function(a,b){if(a)var c=a.id;else{do c=Math.random();while(google.y[c])}google.y[c]=[a,b];return!1};google.sx=function(a){google.sy.push(a)};google.lm=[];google.plm=function(a){google.lm.push.apply(google.lm,a)};google.lq=[];google.load=function(a,b,c){google.lq.push([[a],b,c])};google.loadAll=function(a,b){google.lq.push([a,b])};google.bx=!1;google.lx=function(){};}).call(this);google.f={};(function(){\n",
      "document.documentElement.addEventListener(\"submit\",function(b){var a;if(a=b.target){var c=a.getAttribute(\"data-submitfalse\");a=\"1\"===c||\"q\"===c&&!a.elements.q.value?!0:!1}else a=!1;a&&(b.preventDefault(),b.stopPropagation())},!0);document.documentElement.addEventListener(\"click\",function(b){var a;a:{for(a=b.target;a&&a!==document.documentElement;a=a.parentElement)if(\"A\"===a.tagName){a=\"1\"===a.getAttribute(\"data-nohref\");break a}a=!1}a&&b.preventDefault()},!0);}).call(this);\n",
      "  </script>\n",
      "  <style>\n",
      "   #gbar,#guser{font-size:13px;padding-top:1px !important;}#gbar{height:22px}#guser{padding-bottom:7px !important;text-align:right}.gbh,.gbd{border-top:1px solid #c9d7f1;font-size:1px}.gbh{height:0;position:absolute;top:24px;width:100%}@media all{.gb1{height:22px;margin-right:.5em;vertical-align:top}#gbar{float:left}}a.gb1,a.gb4{text-decoration:underline !important}a.gb1,a.gb4{color:#00c !important}.gbi .gb4{color:#dd8e27 !important}.gbf .gb4{color:#900 !important}\n",
      "  </style>\n",
      "  <style>\n",
      "   body,td,a,p,.h{font-family:&#44404;&#47548;,&#46027;&#50880;,arial,sans-serif}.ko{font-size:9pt}body{margin:0;overflow-y:scroll}#gog{padding:3px 8px 0}td{line-height:.8em}.gac_m td{line-height:17px}form{margin-bottom:20px}.h{color:#1558d6}em{font-weight:bold;font-style:normal}.lst{height:25px;width:496px}.gsfi,.lst{font:18px arial,sans-serif}.gsfs{font:17px arial,sans-serif}.ds{display:inline-box;display:inline-block;margin:3px 0 4px;margin-left:4px}input{font-family:inherit}body{background:#fff;color:#000}a{color:#4b11a8;text-decoration:none}a:hover,a:active{text-decoration:underline}.fl a{color:#1558d6}a:visited{color:#4b11a8}.sblc{padding-top:5px}.sblc a{display:block;margin:2px 0;margin-left:13px;font-size:11px}.lsbb{background:#f8f9fa;border:solid 1px;border-color:#dadce0 #70757a #70757a #dadce0;height:30px}.lsbb{display:block}#WqQANb a{display:inline-block;margin:0 12px}.lsb{background:url(/images/nav_logo229.png) 0 -261px repeat-x;border:none;color:#000;cursor:pointer;height:30px;margin:0;outline:0;font:15px arial,sans-serif;vertical-align:top}.lsb:active{background:#dadce0}.lst:focus{outline:none}.tiah{width:458px}\n",
      "  </style>\n",
      "  <script nonce=\"tVOfNqt2iOlMhER8aQ9iEQ==\">\n",
      "   (function(){window.google.erd={jsr:1,bv:1555,de:true};\n",
      "var f=this||self;var g,h=null!=(g=f.mei)?g:1,m,n=null!=(m=f.sdo)?m:!0,p=0,q,r=google.erd,u=r.jsr;google.ml=function(a,b,d,k,c){c=void 0===c?2:c;b&&(q=a&&a.message);if(google.dl)return google.dl(a,c,d),null;if(0>u){window.console&&console.error(a,d);if(-2===u)throw a;b=!1}else b=!a||!a.message||\"Error loading script\"===a.message||p>=h&&!k?!1:!0;if(!b)return null;p++;d=d||{};var e=c;c=encodeURIComponent;b=\"/gen_204?atyp=i&ei=\"+c(google.kEI);google.kEXPI&&(b+=\"&jexpid=\"+c(google.kEXPI));b+=\"&srcpg=\"+c(google.sn)+\"&jsr=\"+c(r.jsr)+\"&bver=\"+c(r.bv)+(\"&jsel=\"+e);e=a.lineNumber;void 0!==e&&(b+=\"&line=\"+\n",
      "e);var l=a.fileName;l&&(b+=\"&script=\"+c(l),e&&l===window.location.href&&(e=document.documentElement.outerHTML.split(\"\\n\")[e],b+=\"&cad=\"+c(e?e.substring(0,300):\"No script found.\")));for(var t in d)b+=\"&\",b+=c(t),b+=\"=\",b+=c(d[t]);b=b+\"&emsg=\"+c(a.name+\": \"+a.message);b=b+\"&jsst=\"+c(a.stack||\"N/A\");12288<=b.length&&(b=b.substr(0,12288));a=b;k||google.log(0,\"\",a);return a};window.onerror=function(a,b,d,k,c){q!==a&&(a=c instanceof Error?c:Error(a),void 0===d||\"lineNumber\"in a||(a.lineNumber=d),void 0===b||\"fileName\"in a||(a.fileName=b),google.ml(a,!1,void 0,!1,\"SyntaxError\"===a.name||\"SyntaxError\"===a.message.substring(0,11)?2:0));q=null;n&&p>=h&&(window.onerror=null)};})();\n",
      "  </script>\n",
      " </head>\n",
      " <body bgcolor=\"#fff\">\n",
      "  <script nonce=\"tVOfNqt2iOlMhER8aQ9iEQ==\">\n",
      "   (function(){var src='/images/nav_logo229.png';var iesg=false;document.body.onload = function(){window.n && window.n();if (document.images){new Image().src=src;}\n",
      "if (!iesg){document.f&&document.f.q.focus();document.gbqf&&document.gbqf.q.focus();}\n",
      "}\n",
      "})();\n",
      "  </script>\n",
      "  <div id=\"mngb\">\n",
      "   <div id=\"gbar\">\n",
      "    <nobr>\n",
      "     <b class=\"gb1\">\n",
      "      검색\n",
      "     </b>\n",
      "     <a class=\"gb1\" href=\"http://www.google.co.kr/imghp?hl=ko&amp;tab=wi\">\n",
      "      이미지\n",
      "     </a>\n",
      "     <a class=\"gb1\" href=\"http://maps.google.co.kr/maps?hl=ko&amp;tab=wl\">\n",
      "      지도\n",
      "     </a>\n",
      "     <a class=\"gb1\" href=\"https://play.google.com/?hl=ko&amp;tab=w8\">\n",
      "      Play\n",
      "     </a>\n",
      "     <a class=\"gb1\" href=\"http://www.youtube.com/?gl=KR&amp;tab=w1\">\n",
      "      YouTube\n",
      "     </a>\n",
      "     <a class=\"gb1\" href=\"https://news.google.com/?tab=wn\">\n",
      "      뉴스\n",
      "     </a>\n",
      "     <a class=\"gb1\" href=\"https://mail.google.com/mail/?tab=wm\">\n",
      "      Gmail\n",
      "     </a>\n",
      "     <a class=\"gb1\" href=\"https://drive.google.com/?tab=wo\">\n",
      "      드라이브\n",
      "     </a>\n",
      "     <a class=\"gb1\" href=\"https://www.google.co.kr/intl/ko/about/products?tab=wh\" style=\"text-decoration:none\">\n",
      "      <u>\n",
      "       더보기\n",
      "      </u>\n",
      "      »\n",
      "     </a>\n",
      "    </nobr>\n",
      "   </div>\n",
      "   <div id=\"guser\" width=\"100%\">\n",
      "    <nobr>\n",
      "     <span class=\"gbi\" id=\"gbn\">\n",
      "     </span>\n",
      "     <span class=\"gbf\" id=\"gbf\">\n",
      "     </span>\n",
      "     <span id=\"gbe\">\n",
      "     </span>\n",
      "     <a class=\"gb4\" href=\"http://www.google.co.kr/history/optout?hl=ko\">\n",
      "      웹 기록\n",
      "     </a>\n",
      "     |\n",
      "     <a class=\"gb4\" href=\"/preferences?hl=ko\">\n",
      "      설정\n",
      "     </a>\n",
      "     |\n",
      "     <a class=\"gb4\" href=\"https://accounts.google.com/ServiceLogin?hl=ko&amp;passive=true&amp;continue=http://www.google.com/&amp;ec=GAZAAQ\" id=\"gb_70\" target=\"_top\">\n",
      "      로그인\n",
      "     </a>\n",
      "    </nobr>\n",
      "   </div>\n",
      "   <div class=\"gbh\" style=\"left:0\">\n",
      "   </div>\n",
      "   <div class=\"gbh\" style=\"right:0\">\n",
      "   </div>\n",
      "  </div>\n",
      "  <center>\n",
      "   <br clear=\"all\" id=\"lgpd\"/>\n",
      "   <div id=\"lga\">\n",
      "    <img alt=\"Google\" height=\"92\" id=\"hplogo\" src=\"/images/branding/googlelogo/1x/googlelogo_white_background_color_272x92dp.png\" style=\"padding:28px 0 14px\" width=\"272\"/>\n",
      "    <br/>\n",
      "    <br/>\n",
      "   </div>\n",
      "   <form action=\"/search\" name=\"f\">\n",
      "    <table cellpadding=\"0\" cellspacing=\"0\">\n",
      "     <tr valign=\"top\">\n",
      "      <td width=\"25%\">\n",
      "      </td>\n",
      "      <td align=\"center\" nowrap=\"\">\n",
      "       <input name=\"ie\" type=\"hidden\" value=\"ISO-8859-1\"/>\n",
      "       <input name=\"hl\" type=\"hidden\" value=\"ko\"/>\n",
      "       <input name=\"source\" type=\"hidden\" value=\"hp\"/>\n",
      "       <input name=\"biw\" type=\"hidden\"/>\n",
      "       <input name=\"bih\" type=\"hidden\"/>\n",
      "       <div class=\"ds\" style=\"height:32px;margin:4px 0\">\n",
      "        <div style=\"position:relative;zoom:1\">\n",
      "         <input autocomplete=\"off\" class=\"lst tiah\" maxlength=\"2048\" name=\"q\" size=\"57\" style=\"margin:0;padding:5px 8px 0 6px;vertical-align:top;color:#000;padding-right:38px\" title=\"Google 검색\" value=\"\"/>\n",
      "         <img alt=\"\" data-script-url=\"/textinputassistant/11/ko_tia.js\" height=\"23\" id=\"tsuid1\" src=\"/textinputassistant/tia.png\" style=\"position:absolute;cursor:pointer;right:5px;top:4px;z-index:300\" width=\"27\"/>\n",
      "         <script nonce=\"tVOfNqt2iOlMhER8aQ9iEQ==\">\n",
      "          (function(){var id='tsuid1';document.getElementById(id).onclick = function(){var s = document.createElement('script');s.src = this.getAttribute('data-script-url');(document.getElementById('xjsc')||document.body).appendChild(s);};})();\n",
      "         </script>\n",
      "        </div>\n",
      "       </div>\n",
      "       <br style=\"line-height:0\"/>\n",
      "       <span class=\"ds\">\n",
      "        <span class=\"lsbb\">\n",
      "         <input class=\"lsb\" name=\"btnG\" type=\"submit\" value=\"Google 검색\"/>\n",
      "        </span>\n",
      "       </span>\n",
      "       <span class=\"ds\">\n",
      "        <span class=\"lsbb\">\n",
      "         <input class=\"lsb\" id=\"tsuid2\" name=\"btnI\" type=\"submit\" value=\"I’m Feeling Lucky\"/>\n",
      "         <script nonce=\"tVOfNqt2iOlMhER8aQ9iEQ==\">\n",
      "          (function(){var id='tsuid2';document.getElementById(id).onclick = function(){if (this.form.q.value){this.checked = 1;if (this.form.iflsig)this.form.iflsig.disabled = false;}\n",
      "else top.location='/doodles/';};})();\n",
      "         </script>\n",
      "         <input name=\"iflsig\" type=\"hidden\" value=\"AHkkrS4AAAAAYkO7UGoy5SU7PvwBnrfVBIxpnRZHX7nY\"/>\n",
      "        </span>\n",
      "       </span>\n",
      "      </td>\n",
      "      <td align=\"left\" class=\"fl sblc\" nowrap=\"\" width=\"25%\">\n",
      "       <a href=\"/advanced_search?hl=ko&amp;authuser=0\">\n",
      "        고급검색\n",
      "       </a>\n",
      "      </td>\n",
      "     </tr>\n",
      "    </table>\n",
      "    <input id=\"gbv\" name=\"gbv\" type=\"hidden\" value=\"1\"/>\n",
      "    <script nonce=\"tVOfNqt2iOlMhER8aQ9iEQ==\">\n",
      "     (function(){\n",
      "var a,b=\"1\";if(document&&document.getElementById)if(\"undefined\"!=typeof XMLHttpRequest)b=\"2\";else if(\"undefined\"!=typeof ActiveXObject){var c,d,e=[\"MSXML2.XMLHTTP.6.0\",\"MSXML2.XMLHTTP.3.0\",\"MSXML2.XMLHTTP\",\"Microsoft.XMLHTTP\"];for(c=0;d=e[c++];)try{new ActiveXObject(d),b=\"2\"}catch(h){}}a=b;if(\"2\"==a&&-1==location.search.indexOf(\"&gbv=2\")){var f=google.gbvu,g=document.getElementById(\"gbv\");g&&(g.value=a);f&&window.setTimeout(function(){location.href=f},0)};}).call(this);\n",
      "    </script>\n",
      "   </form>\n",
      "   <div id=\"gac_scont\">\n",
      "   </div>\n",
      "   <div style=\"font-size:83%;min-height:3.5em\">\n",
      "    <br/>\n",
      "   </div>\n",
      "   <span id=\"footer\">\n",
      "    <div style=\"font-size:10pt\">\n",
      "     <div id=\"WqQANb\" style=\"margin:19px auto;text-align:center\">\n",
      "      <a href=\"/intl/ko/ads/\">\n",
      "       광고 프로그램\n",
      "      </a>\n",
      "      <a href=\"http://www.google.co.kr/intl/ko/services/\">\n",
      "       비즈니스 솔루션\n",
      "      </a>\n",
      "      <a href=\"/intl/ko/about.html\">\n",
      "       Google 정보\n",
      "      </a>\n",
      "      <a href=\"http://www.google.com/setprefdomain?prefdom=KR&amp;prev=http://www.google.co.kr/&amp;sig=K_urwkW2qIBPCA6fu6eq7NxGvIOJQ%3D\">\n",
      "       Google.co.kr\n",
      "      </a>\n",
      "     </div>\n",
      "    </div>\n",
      "    <p style=\"font-size:8pt;color:#70757a\">\n",
      "     © 2022 -\n",
      "     <a href=\"/intl/ko/policies/privacy/\">\n",
      "      개인정보처리방침\n",
      "     </a>\n",
      "     -\n",
      "     <a href=\"/intl/ko/policies/terms/\">\n",
      "      약관\n",
      "     </a>\n",
      "    </p>\n",
      "   </span>\n",
      "  </center>\n",
      "  <script nonce=\"tVOfNqt2iOlMhER8aQ9iEQ==\">\n",
      "   (function(){window.google.cdo={height:757,width:1440};(function(){\n",
      "var a=window.innerWidth,b=window.innerHeight;if(!a||!b){var c=window.document,d=\"CSS1Compat\"==c.compatMode?c.documentElement:c.body;a=d.clientWidth;b=d.clientHeight}a&&b&&(a!=google.cdo.width||b!=google.cdo.height)&&google.log(\"\",\"\",\"/client_204?&atyp=i&biw=\"+a+\"&bih=\"+b+\"&ei=\"+google.kEI);}).call(this);})();\n",
      "  </script>\n",
      "  <script nonce=\"tVOfNqt2iOlMhER8aQ9iEQ==\">\n",
      "   (function(){google.xjs={ck:'',cs:'',excm:[]};})();\n",
      "  </script>\n",
      "  <script nonce=\"tVOfNqt2iOlMhER8aQ9iEQ==\">\n",
      "   (function(){var u='/xjs/_/js/k\\x3dxjs.hp.en.DfcTcxDpFPQ.O/am\\x3dAOAJAIAEIAE/d\\x3d1/ed\\x3d1/esmo\\x3d1/rs\\x3dACT90oFVykrUMoYPNQlALJe1Q1uz821frg/m\\x3dsb_he,d';\n",
      "var d=this||self,e=function(a){return a};var g;var l=function(a,b){this.g=b===h?a:\"\"};l.prototype.toString=function(){return this.g+\"\"};var h={};\n",
      "function n(){var a=u;google.lx=function(){p(a);google.lx=function(){}};google.bx||google.lx()}\n",
      "function p(a){google.timers&&google.timers.load&&google.tick&&google.tick(\"load\",\"xjsls\");var b=document;var c=\"SCRIPT\";\"application/xhtml+xml\"===b.contentType&&(c=c.toLowerCase());c=b.createElement(c);if(void 0===g){b=null;var k=d.trustedTypes;if(k&&k.createPolicy){try{b=k.createPolicy(\"goog#html\",{createHTML:e,createScript:e,createScriptURL:e})}catch(q){d.console&&d.console.error(q.message)}g=b}else g=b}a=(b=g)?b.createScriptURL(a):a;a=new l(a,h);c.src=a instanceof l&&a.constructor===l?a.g:\"type_error:TrustedResourceUrl\";var f,m;(f=(a=null==(m=(f=(c.ownerDocument&&c.ownerDocument.defaultView||window).document).querySelector)?void 0:m.call(f,\"script[nonce]\"))?a.nonce||a.getAttribute(\"nonce\")||\"\":\"\")&&c.setAttribute(\"nonce\",f);document.body.appendChild(c);google.psa=!0};google.xjsu=u;setTimeout(function(){n()},0);})();function _DumpException(e){throw e;}\n",
      "function _F_installCss(c){}\n",
      "(function(){google.jl={attn:false,blt:'none',chnk:0,dw:false,dwu:true,emtn:0,end:0,ine:false,injs:'none',injt:0,lls:'default',pdt:0,rep:0,snet:true,strt:0,ubm:false,uwp:true};})();(function(){var pmc='{\\x22d\\x22:{},\\x22sb_he\\x22:{\\x22agen\\x22:true,\\x22cgen\\x22:true,\\x22client\\x22:\\x22heirloom-hp\\x22,\\x22dh\\x22:true,\\x22dhqt\\x22:true,\\x22ds\\x22:\\x22\\x22,\\x22ffql\\x22:\\x22ko\\x22,\\x22fl\\x22:true,\\x22host\\x22:\\x22google.com\\x22,\\x22isbh\\x22:28,\\x22jsonp\\x22:true,\\x22msgs\\x22:{\\x22cibl\\x22:\\x22&#44160;&#49353;&#50612; &#51648;&#50864;&#44592;\\x22,\\x22dym\\x22:\\x22&#51060;&#44163;&#51012; &#52286;&#51004;&#49512;&#45208;&#50836;?\\x22,\\x22lcky\\x22:\\x22I&#8217;m Feeling Lucky\\x22,\\x22lml\\x22:\\x22&#51088;&#49464;&#55176; &#50508;&#50500;&#48372;&#44592;\\x22,\\x22oskt\\x22:\\x22&#51077;&#47141; &#46020;&#44396;\\x22,\\x22psrc\\x22:\\x22&#44160;&#49353;&#50612;&#44032; \\\\u003Ca href\\x3d\\\\\\x22/history\\\\\\x22\\\\u003E&#50937; &#44592;&#47197;\\\\u003C/a\\\\u003E&#50640;&#49436; &#49325;&#51228;&#46104;&#50632;&#49845;&#45768;&#45796;.\\x22,\\x22psrl\\x22:\\x22&#49325;&#51228;\\x22,\\x22sbit\\x22:\\x22&#51060;&#48120;&#51648;&#47196; &#44160;&#49353;\\x22,\\x22srch\\x22:\\x22Google &#44160;&#49353;\\x22},\\x22ovr\\x22:{},\\x22pq\\x22:\\x22\\x22,\\x22refpd\\x22:true,\\x22rfs\\x22:[],\\x22sbas\\x22:\\x220 3px 8px 0 rgba(0,0,0,0.2),0 0 0 1px rgba(0,0,0,0.08)\\x22,\\x22sbpl\\x22:16,\\x22sbpr\\x22:16,\\x22scd\\x22:10,\\x22stok\\x22:\\x22r8i2GeV7RuR6U_qky81qZ-jmwBM\\x22,\\x22uhde\\x22:false}}';google.pmc=JSON.parse(pmc);})();\n",
      "  </script>\n",
      " </body>\n",
      "</html>\n"
     ]
    }
   ],
   "source": [
    "url = \"http://www.google.com\"\n",
    "\n",
    "response = requests.get(url)\n",
    "\n",
    "if response.status_code == 200:\n",
    "    # 응답받은 text를 html로 파싱\n",
    "    html = response.text\n",
    "    soup = BeautifulSoup(html, 'html.parser')\n",
    "    # print(soup)\n",
    "    print(soup.prettify())\n",
    "else:\n",
    "    print('잘못된 요청입니다. 다시 확인 바람미데이!')"
   ]
  },
  {
   "cell_type": "code",
   "execution_count": 24,
   "id": "881a3185",
   "metadata": {},
   "outputs": [
    {
     "name": "stdout",
     "output_type": "stream",
     "text": [
      "문제가 없으면 이 부분 출력됩니다. 15199\n"
     ]
    }
   ],
   "source": [
    "url = \"http://www.google.com\"\n",
    "response = requests.get(url)\n",
    "\n",
    "# 위의 if 제어문과 같은 효과\n",
    "response.raise_for_status()  # 200번대 코드가 아니면 코드가 멈춤\n",
    "print(\"문제가 없으면 이 부분 출력됩니다.\", len(response.text))"
   ]
  },
  {
   "cell_type": "code",
   "execution_count": 26,
   "id": "616a71de",
   "metadata": {},
   "outputs": [],
   "source": [
    "# 파일 생성\n",
    "# with open('파일명', '옵션', 인코딩) as f\n",
    "# 경로를 지정하지않으면 해당 디렉토리에 생성\n",
    "with open('mypage.html', 'w', encoding ='utf-8') as f:\n",
    "    f.write(response.text)"
   ]
  },
  {
   "cell_type": "markdown",
   "id": "fdc25069",
   "metadata": {},
   "source": [
    "`위 결과를 보면 Beautiful Soup 라이브러리를 통해 HTML 구조를 갖는 파일이 잘 파싱된 것을 확인할 수 있다  \n",
    " 이제 파싱한 결과에서 Beautiful Soup의 find() 함수를 이용해서 우리가 원하는 태그의 내용을 추출해보자\n",
    "`"
   ]
  },
  {
   "cell_type": "markdown",
   "id": "03433dfa",
   "metadata": {},
   "source": [
    "### find, find_all"
   ]
  },
  {
   "cell_type": "code",
   "execution_count": 28,
   "id": "5e72409e",
   "metadata": {},
   "outputs": [
    {
     "name": "stdout",
     "output_type": "stream",
     "text": [
      "<html>\n",
      " <body>\n",
      "  <div id=\"wrap\">\n",
      "   <ul>\n",
      "    <li>\n",
      "     <a href=\"https://www.naver.com/\">\n",
      "      NAVER\n",
      "     </a>\n",
      "    </li>\n",
      "    <li>\n",
      "     <a href=\"https://www.daum.net/\">\n",
      "      DAUM\n",
      "     </a>\n",
      "    </li>\n",
      "    <li>\n",
      "     <a href=\"https://www.google.com/\">\n",
      "      GOOGLE\n",
      "     </a>\n",
      "    </li>\n",
      "   </ul>\n",
      "  </div>\n",
      " </body>\n",
      "</html>\n",
      "\n"
     ]
    }
   ],
   "source": [
    "# test ... html\n",
    "html = \"\"\"\n",
    "<html>\n",
    "    <body>\n",
    "        <div id=\"wrap\">\n",
    "            <ul>\n",
    "                <li><a href=\"https://www.naver.com/\">NAVER</a></li>\n",
    "                <li><a href=\"https://www.daum.net/\">DAUM</a></li>\n",
    "                <li><a href=\"https://www.google.com/\">GOOGLE</a></li>\n",
    "            </ul>\n",
    "        </div>\n",
    "    </body>\n",
    "</html>\n",
    "\"\"\"\n",
    "\n",
    "soup = BeautifulSoup(html, \"html.parser\")\n",
    "print(soup.prettify())"
   ]
  },
  {
   "cell_type": "code",
   "execution_count": 34,
   "id": "8692e552",
   "metadata": {},
   "outputs": [
    {
     "name": "stdout",
     "output_type": "stream",
     "text": [
      "find :  <a href=\"https://www.naver.com/\">NAVER</a> <class 'bs4.element.Tag'>\n",
      "find_all :  [<a href=\"https://www.naver.com/\">NAVER</a>, <a href=\"https://www.daum.net/\">DAUM</a>, <a href=\"https://www.google.com/\">GOOGLE</a>] <class 'bs4.element.ResultSet'>\n"
     ]
    }
   ],
   "source": [
    "'''\n",
    "find : 단일노드 반환(1개)\n",
    "find_all : list 반환(복수개)\n",
    "'''\n",
    "\n",
    "# html 코드 안에서 a태그를 찾아서 반환...\n",
    "print(\"find : \", soup.find('a'), type(soup.find('a')))\n",
    "print(\"find_all : \", soup.find_all('a'), type(soup.find_all('a')))"
   ]
  },
  {
   "cell_type": "code",
   "execution_count": 39,
   "id": "d3db27c1",
   "metadata": {},
   "outputs": [
    {
     "name": "stdout",
     "output_type": "stream",
     "text": [
      "NAVER\n",
      "NAVER\n"
     ]
    }
   ],
   "source": [
    "# 같은 코드\n",
    "print(soup.find('a').get_text())\n",
    "print(soup.find('a').text)"
   ]
  },
  {
   "cell_type": "code",
   "execution_count": 43,
   "id": "ddf742be",
   "metadata": {},
   "outputs": [
    {
     "name": "stdout",
     "output_type": "stream",
     "text": [
      "NAVER\n",
      "NAVER\n",
      "DAUM\n",
      "DAUM\n",
      "GOOGLE\n",
      "GOOGLE\n"
     ]
    }
   ],
   "source": [
    "# 여러개의 값이 있을 때 : for 반복문과 함께 활용\n",
    "names = soup.find_all('a')\n",
    "for name in names:\n",
    "    print(name.text)\n",
    "    print(name.get_text())"
   ]
  },
  {
   "cell_type": "code",
   "execution_count": 45,
   "id": "4784330f",
   "metadata": {},
   "outputs": [
    {
     "name": "stdout",
     "output_type": "stream",
     "text": [
      "GOOGLE\n"
     ]
    }
   ],
   "source": [
    "# GOO로 시작하는 사이트를 리턴받아서 출력\n",
    "'''string.startswith() : 특정문자열로 시작하는지 확인'''\n",
    "names = soup.find_all('a')\n",
    "for name in names:\n",
    "    if name.text.startswith('GOO'):\n",
    "        print(name.text)"
   ]
  },
  {
   "cell_type": "code",
   "execution_count": 47,
   "id": "e695c648",
   "metadata": {},
   "outputs": [],
   "source": [
    "# test ... html 수정\n",
    "html = \"\"\"\n",
    "<html>\n",
    "    <body>\n",
    "        <div id=\"wrap\">\n",
    "            <ul>\n",
    "                <li><a href=\"https://www.naver.com/\">NAVER</a></li>\n",
    "                <li><a href=\"https://www.daum.net/\">DAUM</a></li>\n",
    "                <li><a href=\"https://www.google.com/\" id=\"final\">GOOGLE</a></li>\n",
    "            </ul>\n",
    "        </div>\n",
    "    </body>\n",
    "</html>\n",
    "\"\"\"\n",
    "\n",
    "soup = BeautifulSoup(html, \"html.parser\")\n",
    "# print(soup.prettify())"
   ]
  },
  {
   "cell_type": "code",
   "execution_count": 49,
   "id": "8c6cec55",
   "metadata": {},
   "outputs": [
    {
     "data": {
      "text/plain": [
       "<a href=\"https://www.google.com/\" id=\"final\">GOOGLE</a>"
      ]
     },
     "execution_count": 49,
     "metadata": {},
     "output_type": "execute_result"
    }
   ],
   "source": [
    "# 태그의 속성을 찾는 방법\n",
    "name = soup.find('a', attrs = {'id':'final'})\n",
    "name"
   ]
  },
  {
   "cell_type": "markdown",
   "id": "7b038411",
   "metadata": {},
   "source": [
    "### copy selector를 사용한 select_one, select"
   ]
  },
  {
   "cell_type": "code",
   "execution_count": 73,
   "id": "0c8feae3",
   "metadata": {},
   "outputs": [
    {
     "name": "stdout",
     "output_type": "stream",
     "text": [
      "파이썬\n"
     ]
    }
   ],
   "source": [
    "url = \"https://kin.naver.com/search/list.naver?query=파이썬\"\n",
    "\n",
    "response = requests.get(url)\n",
    "\n",
    "if response.status_code == 200:\n",
    "    html = response.text\n",
    "    soup = BeautifulSoup(html, \"html.parser\")\n",
    "    title = soup.select_one(\"#s_content > div.section > ul > li:nth-child(2) > dl > dt > a\")\n",
    "    print(title.find('b').text)\n",
    "\n",
    "else:\n",
    "    print(response.status_code)\n",
    "    print(\"다시 시도해주세욥!!!!!!!!\")"
   ]
  },
  {
   "cell_type": "code",
   "execution_count": 62,
   "id": "94afca55",
   "metadata": {},
   "outputs": [
    {
     "name": "stdout",
     "output_type": "stream",
     "text": [
      "파이썬 알려주실 분있나요?\n"
     ]
    }
   ],
   "source": [
    "# 검사 -> 원하는 태그 선택 -> 우클릭 -> copy -> copy selector\n",
    "#s_content > div.section > ul > li:nth-child(2) > dl > dt > a\n",
    "title = soup.select_one(\"#s_content > div.section > ul > li:nth-child(2) > dl > dt > a\")\n",
    "print(title.text)"
   ]
  },
  {
   "cell_type": "code",
   "execution_count": 68,
   "id": "1bd6df30",
   "metadata": {},
   "outputs": [
    {
     "name": "stdout",
     "output_type": "stream",
     "text": [
      "파이썬 저장\n",
      "파이썬 알려주실 분있나요?\n",
      "파이썬 질문\n",
      "파이썬머신러닝 공부가 필요합니다.\n",
      "파이썬 셀레니움\n",
      "파이썬이나 C언어 배우는 방법\n",
      "파이썬에서는 i = 3 이런 게 에러가 나나요?\n",
      "파이썬 csv파일 불러오기\n",
      "파이썬은 자료형 어떻게 표현하나요?\n",
      "파이썬 줄바꿈\n"
     ]
    }
   ],
   "source": [
    "# case 1\n",
    "titles = soup.find_all('a', attrs = {'class':'_nclicks:kin.txt _searchListTitleAnchor'})\n",
    "\n",
    "for title in titles:\n",
    "    print(title.text)"
   ]
  },
  {
   "cell_type": "code",
   "execution_count": 70,
   "id": "f7317649",
   "metadata": {},
   "outputs": [
    {
     "name": "stdout",
     "output_type": "stream",
     "text": [
      "파이썬 저장\n",
      "파이썬 알려주실 분있나요?\n",
      "파이썬 질문\n",
      "파이썬머신러닝 공부가 필요합니다.\n",
      "파이썬 셀레니움\n",
      "파이썬이나 C언어 배우는 방법\n",
      "파이썬에서는 i = 3 이런 게 에러가 나나요?\n",
      "파이썬 csv파일 불러오기\n",
      "파이썬은 자료형 어떻게 표현하나요?\n",
      "파이썬 줄바꿈\n"
     ]
    }
   ],
   "source": [
    "# case 2\n",
    "title = soup.find_all('dt')\n",
    "result = []\n",
    "for tl in title:\n",
    "    result.append(tl.find('a').text)\n",
    "print(*result, sep = \"\\n\")"
   ]
  },
  {
   "cell_type": "code",
   "execution_count": 72,
   "id": "5581cfad",
   "metadata": {},
   "outputs": [
    {
     "name": "stdout",
     "output_type": "stream",
     "text": [
      "파이썬 저장\n",
      "파이썬 알려주실 분있나요?\n",
      "파이썬 질문\n",
      "파이썬머신러닝 공부가 필요합니다.\n",
      "파이썬 셀레니움\n",
      "파이썬이나 C언어 배우는 방법\n",
      "파이썬에서는 i = 3 이런 게 에러가 나나요?\n",
      "파이썬 csv파일 불러오기\n",
      "파이썬은 자료형 어떻게 표현하나요?\n",
      "파이썬 줄바꿈\n"
     ]
    }
   ],
   "source": [
    "# case 3\n",
    "titles = soup.select(\"li>dl>dt>a\")\n",
    "for title in titles:\n",
    "    print(title.text)"
   ]
  },
  {
   "cell_type": "markdown",
   "id": "fa252968",
   "metadata": {},
   "source": [
    "#### 순위 데이타 가져오기\n",
    "\n",
    "인터넷 사용자들이 방문하는 웹 사이트의 방문 정보등 웹 트래픽을 분석해서 웹 사이트의 순위를 제공하는\n",
    "웹 사이트가 있다.\n",
    "아마존 계열사인 알렉사(Alexa Internet.Inc)의 경우 전 세계적으로 혹은 나라별로 웹 사이트의 순위 정보를 제공한다.\n",
    "나라별로 제공하는 웹 사이트 순위에서 한국을 선택하면 한국 사용자들의 방문 정보를 바탕으로 웹 사이트\n",
    "순위 정보를 제공한다.\n",
    "* 올해 5월에 서비스 종료 예정...\n",
    "\n",
    "https://www.alexa.com/topsItes/countries/KR"
   ]
  },
  {
   "cell_type": "code",
   "execution_count": 1,
   "id": "b5ebf783",
   "metadata": {},
   "outputs": [],
   "source": [
    "import requests\n",
    "from bs4 import BeautifulSoup"
   ]
  },
  {
   "cell_type": "code",
   "execution_count": 2,
   "id": "2aa8643a",
   "metadata": {},
   "outputs": [
    {
     "data": {
      "text/plain": [
       "[<a href=\"https://support.alexa.com/hc/en-us/articles/200444340\" target=\"_blank\">this explanation</a>,\n",
       " <a href=\"/siteinfo/google.com\">Google.com</a>,\n",
       " <a href=\"/siteinfo/naver.com\">Naver.com</a>,\n",
       " <a href=\"/siteinfo/youtube.com\">Youtube.com</a>,\n",
       " <a href=\"/siteinfo/tistory.com\">Tistory.com</a>,\n",
       " <a href=\"/siteinfo/daum.net\">Daum.net</a>,\n",
       " <a href=\"/siteinfo/kakao.com\">Kakao.com</a>,\n",
       " <a href=\"/siteinfo/instagram.com\">Instagram.com</a>,\n",
       " <a href=\"/siteinfo/facebook.com\">Facebook.com</a>,\n",
       " <a href=\"/siteinfo/namu.wiki\">Namu.wiki</a>,\n",
       " <a href=\"/siteinfo/coupang.com\">Coupang.com</a>,\n",
       " <a href=\"/siteinfo/google.co.kr\">Google.co.kr</a>,\n",
       " <a href=\"/siteinfo/dcinside.com\">Dcinside.com</a>,\n",
       " <a href=\"/siteinfo/fmkorea.com\">Fmkorea.com</a>,\n",
       " <a href=\"/siteinfo/twitter.com\">Twitter.com</a>,\n",
       " <a href=\"/siteinfo/amazon.com\">Amazon.com</a>,\n",
       " <a href=\"/siteinfo/nicovideo.jp\">Nicovideo.jp</a>,\n",
       " <a href=\"/siteinfo/wikipedia.org\">Wikipedia.org</a>,\n",
       " <a href=\"/siteinfo/github.com\">Github.com</a>,\n",
       " <a href=\"/siteinfo/nate.com\">Nate.com</a>,\n",
       " <a href=\"/siteinfo/ruliweb.com\">Ruliweb.com</a>,\n",
       " <a href=\"/siteinfo/chosun.com\">Chosun.com</a>,\n",
       " <a href=\"/siteinfo/gmarket.co.kr\">Gmarket.co.kr</a>,\n",
       " <a href=\"/siteinfo/saramin.co.kr\">Saramin.co.kr</a>,\n",
       " <a href=\"/siteinfo/yna.co.kr\">Yna.co.kr</a>,\n",
       " <a href=\"/siteinfo/zoom.us\">Zoom.us</a>,\n",
       " <a href=\"/siteinfo/notion.so\">Notion.so</a>,\n",
       " <a href=\"/siteinfo/inven.co.kr\">Inven.co.kr</a>,\n",
       " <a href=\"/siteinfo/cafe24.com\">Cafe24.com</a>,\n",
       " <a href=\"/siteinfo/netflix.com\">Netflix.com</a>,\n",
       " <a href=\"/siteinfo/twitch.tv\">Twitch.tv</a>,\n",
       " <a href=\"/siteinfo/11st.co.kr\">11st.co.kr</a>,\n",
       " <a href=\"/siteinfo/linkedin.com\">Linkedin.com</a>,\n",
       " <a href=\"/siteinfo/aliexpress.com\">Aliexpress.com</a>,\n",
       " <a href=\"/siteinfo/danawa.com\">Danawa.com</a>,\n",
       " <a href=\"/siteinfo/brunch.co.kr\">Brunch.co.kr</a>,\n",
       " <a href=\"/siteinfo/mk.co.kr\">Mk.co.kr</a>,\n",
       " <a href=\"/siteinfo/donga.com\">Donga.com</a>,\n",
       " <a href=\"/siteinfo/apple.com\">Apple.com</a>,\n",
       " <a href=\"/siteinfo/afreecatv.com\">Afreecatv.com</a>,\n",
       " <a href=\"/siteinfo/auction.co.kr\">Auction.co.kr</a>,\n",
       " <a href=\"/siteinfo/rakuten.co.jp\">Rakuten.co.jp</a>,\n",
       " <a href=\"/siteinfo/hankyung.com\">Hankyung.com</a>,\n",
       " <a href=\"/siteinfo/jobkorea.co.kr\">Jobkorea.co.kr</a>,\n",
       " <a href=\"/siteinfo/microsoft.com\">Microsoft.com</a>,\n",
       " <a href=\"/siteinfo/clien.net\">Clien.net</a>,\n",
       " <a href=\"/siteinfo/ppomppu.co.kr\">Ppomppu.co.kr</a>,\n",
       " <a href=\"/siteinfo/theqoo.net\">Theqoo.net</a>,\n",
       " <a href=\"/siteinfo/joongang.co.kr\">Joongang.co.kr</a>,\n",
       " <a href=\"/siteinfo/kakaku.com\">Kakaku.com</a>,\n",
       " <a href=\"/siteinfo/arca.live\">Arca.live</a>]"
      ]
     },
     "execution_count": 2,
     "metadata": {},
     "output_type": "execute_result"
    }
   ],
   "source": [
    "url = \"https://www.alexa.com/topsItes/countries/KR\"\n",
    "\n",
    "rank = requests.get(url).text\n",
    "soup = BeautifulSoup(rank, 'html.parser')\n",
    "# soup = BeautifulSoup(rank, 'lxml')\n",
    "\n",
    "ranks = soup.select('p a')\n",
    "ranks"
   ]
  },
  {
   "cell_type": "code",
   "execution_count": 3,
   "id": "007fdb56",
   "metadata": {},
   "outputs": [
    {
     "name": "stdout",
     "output_type": "stream",
     "text": [
      "1. Google.com\n",
      "2. Naver.com\n",
      "3. Youtube.com\n",
      "4. Tistory.com\n",
      "5. Daum.net\n"
     ]
    }
   ],
   "source": [
    "# 순위 5위까지의 랭킹 사이트 이름만\n",
    "for i in range(1, 6):\n",
    "    print(f\"{i}. {ranks[i].text}\")"
   ]
  },
  {
   "cell_type": "code",
   "execution_count": 4,
   "id": "6a420f11",
   "metadata": {},
   "outputs": [
    {
     "data": {
      "text/html": [
       "<div>\n",
       "<style scoped>\n",
       "    .dataframe tbody tr th:only-of-type {\n",
       "        vertical-align: middle;\n",
       "    }\n",
       "\n",
       "    .dataframe tbody tr th {\n",
       "        vertical-align: top;\n",
       "    }\n",
       "\n",
       "    .dataframe thead th {\n",
       "        text-align: right;\n",
       "    }\n",
       "</style>\n",
       "<table border=\"1\" class=\"dataframe\">\n",
       "  <thead>\n",
       "    <tr style=\"text-align: right;\">\n",
       "      <th></th>\n",
       "      <th>Website</th>\n",
       "    </tr>\n",
       "  </thead>\n",
       "  <tbody>\n",
       "    <tr>\n",
       "      <th>1</th>\n",
       "      <td>[Google.com]</td>\n",
       "    </tr>\n",
       "    <tr>\n",
       "      <th>2</th>\n",
       "      <td>[Naver.com]</td>\n",
       "    </tr>\n",
       "    <tr>\n",
       "      <th>3</th>\n",
       "      <td>[Youtube.com]</td>\n",
       "    </tr>\n",
       "    <tr>\n",
       "      <th>4</th>\n",
       "      <td>[Tistory.com]</td>\n",
       "    </tr>\n",
       "    <tr>\n",
       "      <th>5</th>\n",
       "      <td>[Daum.net]</td>\n",
       "    </tr>\n",
       "  </tbody>\n",
       "</table>\n",
       "</div>"
      ],
      "text/plain": [
       "         Website\n",
       "1   [Google.com]\n",
       "2    [Naver.com]\n",
       "3  [Youtube.com]\n",
       "4  [Tistory.com]\n",
       "5     [Daum.net]"
      ]
     },
     "execution_count": 4,
     "metadata": {},
     "output_type": "execute_result"
    }
   ],
   "source": [
    "# DataFrame으로 변환하기\n",
    "import pandas as pd\n",
    "\n",
    "rank_dic = {'Website':ranks}\n",
    "df = pd.DataFrame(rank_dic, columns = [\"Website\"])\n",
    "df.drop(0, inplace = True)\n",
    "df.head(5)"
   ]
  }
 ],
 "metadata": {
  "kernelspec": {
   "display_name": "Python 3 (ipykernel)",
   "language": "python",
   "name": "python3"
  },
  "language_info": {
   "codemirror_mode": {
    "name": "ipython",
    "version": 3
   },
   "file_extension": ".py",
   "mimetype": "text/x-python",
   "name": "python",
   "nbconvert_exporter": "python",
   "pygments_lexer": "ipython3",
   "version": "3.9.7"
  }
 },
 "nbformat": 4,
 "nbformat_minor": 5
}
