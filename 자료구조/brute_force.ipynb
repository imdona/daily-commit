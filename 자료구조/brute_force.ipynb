{
 "cells": [
  {
   "cell_type": "markdown",
   "metadata": {},
   "source": [
    "# Brute-force search"
   ]
  },
  {
   "cell_type": "markdown",
   "metadata": {},
   "source": [
    "* 무차별 대입 검색\n",
    "* 의미 그대로, 무차별적으로 가능한 모든 경우의 수를 다 시도해 보는 알고리즘\n",
    "* 가장 순진한 알고리즘 접근법\n",
    "* 예를 들어, 비밀번호 4자리 자물쇠가 있다고 하면, 0000부터 9999까지 전체를 다 확인하는 것!\n",
    "* 위키백과 : [brute force search](https://en.wikipedia.org/wiki/Brute-force_search)\n",
    "<img width=\"691\" alt=\"bruteforceimage\" src=\"https://user-images.githubusercontent.com/89832134/148353334-19bf3a39-d472-4cd4-bb48-c3f29eaf9d11.png\">\n",
    "* 이미지 출처 : [medium](https://medium.com/self-training-data-science-enthusiast/brute-force-algorithm-and-greedy-algorithm-13195d48e9bf)\n",
    "\n",
    "\n",
    "#### 👍장점\n",
    "- 직관적이고 명확하다\n",
    "- 답을 확실하게 찾을 수 있다\n",
    "\n",
    "#### 😵‍💫 단점\n",
    "- 모든 경우를 보기 때문에 **비효율적**임 ➡️ 인풋이 커질수록 비효율의 댓가가 커진다!!!! 🔥🔥🔥   \n",
    "➡️ 비효율적인데 왜 알아야하지 ❓ **효율적인 알고리즘을 찾기 위한 고민의 출발점**이 바로 Brute Force! 그래서 이해해야 합니다!👀"
   ]
  },
  {
   "cell_type": "markdown",
   "metadata": {},
   "source": [
    "## 💻 Example with Code"
   ]
  },
  {
   "cell_type": "markdown",
   "metadata": {},
   "source": [
    "#### 1. 카드 뭉치 최대 조합\n",
    "카드 두 뭉치가 있습니다.\n",
    "\n",
    "왼쪽 뭉치에서 카드를 하나 뽑고 오른쪽 뭉치에서 카드를 하나 뽑아서, 두 수의 곱이 가장 크게 만들고 싶은데요. 어떻게 하면 가장 큰 곱을 구할 수 있을까요?\n",
    "\n",
    "함수 max_product는 리스트 left_cards와 리스트 right_cards를 파라미터로 받습니다.\n",
    "\n",
    "left_cards는 왼쪽 카드 뭉치의 숫자들, right_cards는 오른쪽 카드 뭉치 숫자들이 담겨 있고, max_product는 left_cards에서 카드 하나와 right_cards에서 카드 하나를 뽑아서 곱했을 때 그 값이 최대가 되는 값을 리턴합니다."
   ]
  },
  {
   "cell_type": "code",
   "execution_count": null,
   "metadata": {},
   "outputs": [],
   "source": [
    "# 입력 예시\n",
    "print(max_product([1, 6, 5], [4, 2, 3]))\n",
    "print(max_product([1, -9, 3, 4], [2, 8, 3, 1]))\n",
    "print(max_product([-1, -7, 3], [-4, 3, 6]))\n",
    "\n",
    "# 출력 예시\n",
    "24\n",
    "32\n",
    "28"
   ]
  },
  {
   "cell_type": "code",
   "execution_count": null,
   "metadata": {},
   "outputs": [],
   "source": [
    "def max_product(left_cards, right_cards):\n",
    "    combination_list = []\n",
    "    # 가능한 모든 조합을 보기 위한 중첩 반복문\n",
    "    for left in left_cards:\n",
    "        for right in right_cards:\n",
    "            combination_list.append(left * right)\n",
    "    return max(combination_list) # 조합 중 최대값"
   ]
  },
  {
   "cell_type": "markdown",
   "metadata": {},
   "source": [
    "#### 2. 가까운 매장 찾기\n",
    "스다벅스는 줄어든 매출 때문에 지점 하나를 닫아야 하는 위기에 처해 있습니다. 어떤 지점을 닫는 게 회사에 타격이 적을지 고민이 되는데요. 서로 가까이 붙어 있는 매장이 있으면, 그 중 하나는 없어져도 괜찮지 않을까 싶습니다.\n",
    "\n",
    "사장님은 비서 태호에게, 직선 거리가 가장 가까운 두 매장을 찾아서 보고하라는 임무를 주셨습니다.\n",
    "\n",
    "입력값은 매장들 좌표 위치를 튜플 리스트로 받습니다.\n",
    "\n",
    "출력은 리스트 안에서 가장 가까운 두 매장을 [(x1, y1), (x2, y2)] 형식으로 출력합니다."
   ]
  },
  {
   "cell_type": "code",
   "execution_count": null,
   "metadata": {},
   "outputs": [],
   "source": [
    "# 입력 예시\n",
    "test_coordinates = [(2, 3), (12, 30), (40, 50), (5, 1), (12, 10), (3, 4)]\n",
    "\n",
    "# 출력 예시\n",
    "[(2, 3), (3, 4)]"
   ]
  },
  {
   "cell_type": "code",
   "execution_count": null,
   "metadata": {},
   "outputs": [],
   "source": [
    "# 제곱근 사용을 위한 sqrt 함수\n",
    "from math import sqrt\n",
    "\n",
    "# 두 매장의 직선 거리를 계산해 주는 함수\n",
    "def distance(store1, store2):\n",
    "    return sqrt((store1[0] - store2[0]) ** 2 + (store1[1] - store2[1]) ** 2)\n",
    "\n",
    "# 가장 가까운 두 매장을 찾아주는 함수\n",
    "def closest_pair(coordinates):\n",
    "    result = []\n",
    "    min_distance = distance(coordinates[0], coordinates[1])\n",
    "    for i in coordinates:\n",
    "        for j in coordinates:\n",
    "            # print(distance(i, j))\n",
    "            if distance(i, j) != 0 and min_distance > distance(i, j):\n",
    "                min_distance = distance(i, j)\n",
    "                result = [i, j]\n",
    "    return result"
   ]
  },
  {
   "cell_type": "markdown",
   "metadata": {},
   "source": [
    "#### 3. 백준 14719번\n",
    "2차원 세계에 블록이 쌓여있다. 비가 오면 블록 사이에 빗물이 고인다.\n",
    "비는 충분히 많이 온다. 고이는 빗물의 총량은 얼마일까?\n",
    "<img width=\"343\" alt=\"스크린샷 2022-01-06 오후 5 39 33\" src=\"https://user-images.githubusercontent.com/89832134/148354324-7b3a0c50-524a-4bee-ae26-6e4b9e6cf411.png\">\n",
    "\n",
    "**📎입력**   \n",
    "첫 번째 줄에는 2차원 세계의 세로 길이 H과 2차원 세계의 가로 길이 W가 주어진다. (1 ≤ H, W ≤ 500)\n",
    "\n",
    "두 번째 줄에는 블록이 쌓인 높이를 의미하는 0이상 H이하의 정수가 2차원 세계의 맨 왼쪽 위치부터 차례대로 W개 주어진다.\n",
    "\n",
    "따라서 블록 내부의 빈 공간이 생길 수 없다. 또 2차원 세계의 바닥은 항상 막혀있다고 가정하여도 좋다.\n",
    "\n",
    "**📎출력**   \n",
    "2차원 세계에서는 한 칸의 용량은 1이다. 고이는 빗물의 총량을 출력하여라.\n",
    "\n",
    "빗물이 전혀 고이지 않을 경우 0을 출력하여라.\n",
    "\n",
    "* 백준 14719 [빗물] [바로가기](https://www.acmicpc.net/problem/14719)"
   ]
  },
  {
   "cell_type": "code",
   "execution_count": null,
   "metadata": {},
   "outputs": [],
   "source": [
    "# 입력 예시\n",
    "4 4\n",
    "3 0 1 4\n",
    "\n",
    "# 출력 예시\n",
    "5"
   ]
  },
  {
   "cell_type": "code",
   "execution_count": null,
   "metadata": {},
   "outputs": [],
   "source": [
    "H, W = map(int, input().split())\n",
    "buildings = list(map(int, input().split()))\n",
    "\n",
    "def trapping_rain(buildings):\n",
    "    # 총 담기는 빗물의 양을 변수에 저장\n",
    "    total_height = 0\n",
    "\n",
    "    # 리스트의 각 인덱스을 돌면서 해당 칸에 담기는 빗물의 양을 구한다\n",
    "    # 0번 인덱스와 제일 마지막 인덱스는 빼고 반복문을 돈다\n",
    "    for i in range(1, len(buildings) - 1):\n",
    "        # 물이 안차기때문에 현재 인덱스를 기준으로 양쪽에 가장 높은 건물의 위치를 구한다\n",
    "        max_left = max(buildings[:i]) #  현재 인덱스의 왼쪽에서 가장 높은 건물의 높이\n",
    "        max_right = max(buildings[i:]) # 현재 인덱스의 오른쪽에서 가장 높은 건물의 높이\n",
    "\n",
    "        # 현재 인덱스에 빗물이 담길 수 있는 높이 : 그 중 더 낮은 건물의 높이\n",
    "        upper_bound = min(max_left, max_right)\n",
    "\n",
    "        # 현재 인덱스에 담기는 빗물의 양을 계산\n",
    "        # 상한 높이에서 현재 인덱스에 있는 건물의 높이를 빼서 물의 높이를 구하고 total에 더해준다\n",
    "        # 만약 upper_bound가 현재 인덱스 건물보다 높지 않다면, 현재 인덱스에 담기는 빗물은 0\n",
    "        total_height += max(0, upper_bound - buildings[i])\n",
    "\n",
    "    return total_height\n",
    "\n",
    "print(trapping_rain(buildings))"
   ]
  }
 ],
 "metadata": {
  "language_info": {
   "name": "python"
  },
  "orig_nbformat": 4
 },
 "nbformat": 4,
 "nbformat_minor": 2
}
